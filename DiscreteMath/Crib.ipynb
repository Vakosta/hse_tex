{
 "cells": [
  {
   "cell_type": "markdown",
   "metadata": {},
   "source": [
    "# Шпаргалка по дискретной математике"
   ]
  },
  {
   "cell_type": "markdown",
   "metadata": {},
   "source": [
    "## Комбинаторика\n",
    "\n",
    "### Основные формулы\n",
    "1. $C_n^k = |\\mathcal{P}_k(\\underline{n})| = \\frac{n!}{k! \\cdot (n - k)!}$\n",
    "1. $|B_1 \\cup B_2| = |B_1| + |B_2| - |B_1 \\cap B_2|$ — (формула включения-исключения)\n",
    "1. $C_{n+1}^{k+1} = C_n^{k+1} + C_n^k$ — (тождество Паскаля)\n",
    "1. $\\sum_{i=1}^nC_n^k = 2^n$\n",
    "1. $(1 + x)^n = \\sum_{k=0}^nC_n^k \\cdot x^k$"
   ]
  }
 ],
 "metadata": {
  "kernelspec": {
   "display_name": "Python 3",
   "language": "python",
   "name": "python3"
  },
  "language_info": {
   "codemirror_mode": {
    "name": "ipython",
    "version": 3
   },
   "file_extension": ".py",
   "mimetype": "text/x-python",
   "name": "python",
   "nbconvert_exporter": "python",
   "pygments_lexer": "ipython3",
   "version": "3.7.4"
  }
 },
 "nbformat": 4,
 "nbformat_minor": 2
}
