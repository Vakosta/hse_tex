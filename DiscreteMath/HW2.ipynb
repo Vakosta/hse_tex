{
 "cells": [
  {
   "cell_type": "markdown",
   "metadata": {},
   "source": [
    "## Домашняя работа №2 по дискретной математике.\n",
    "### Выполнил Анненков Владислав."
   ]
  },
  {
   "cell_type": "markdown",
   "metadata": {},
   "source": [
    "## Задание №1\n",
    "\n",
    "$S \\subseteq A \\times B$.<br>\n",
    "1. Тотальность: $\\forall x \\in A \\exists y \\in B : (x, y) \\in S$;\n",
    "1. Сюрьективность: $\\forall y \\in A \\exists x \\in B : (x, y) \\in S$;\n",
    "1. Функциональность: $(x, y_1) \\in S \\wedge (x, y_2) \\in S \\Rightarrow y_1 = y_2$;\n",
    "1. Инъективность: $(x_1, y) \\in S \\wedge (x_2, y) \\in S \\Rightarrow x_1 = x_2$.\n",
    "\n",
    "---\n",
    "\n",
    "Отношение $P \\subseteq A \\times B : A, B \\subseteq \\mathbb{R}$.\n",
    "\n",
    "__а)__ Не функциональное, инъективное, не тотальное, сюръективное (для $\\mathbb{R}$).<br>\n",
    "Почти одно и то же, что и в пункте __(б)__, но мы будто меняем множества местами.<br>\n",
    "Делаю по аналогии с пунктом __(б)__.<br>\n",
    "__Пример такого отношения:__ $P : y \\in B, x = cos(y)$.<br>\n",
    "\n",
    "\n",
    "---\n",
    "\n",
    "__б)__ Функциональное, не инъективное, тотальное (для $\\mathbb{R}$), не сюръективное.<br>\n",
    "Это какая-то не инъективная и не сюрьективная функция,<br>\n",
    "потому что функция обладает свойствами тотальности и функциональности.<br>\n",
    "Тогда, достаточно сделать так, чтобы __не для каждого__ $y$ существовал $x$, тогда функция<br>\n",
    "не будет являться ни инъективной, ни сюрьективной.\n",
    "\n",
    "__Пример такого отношения:__ $P : x \\in A, y = sin(x)$.<br>\n",
    "Тогда большое количество элементов из множества $B$ не задействовано, когда<br>\n",
    "из множества $A$ задействованы все элементы."
   ]
  },
  {
   "cell_type": "markdown",
   "metadata": {},
   "source": [
    "## Задание №2\n",
    "\n",
    "Пусть $f : A \\rightarrow B$ и $g : B \\rightarrow C$. Доказать, что если $g \\circ f$ инъекция, то $f$ тоже инъекция.\n",
    "\n",
    "_В процессе решения..._"
   ]
  },
  {
   "cell_type": "markdown",
   "metadata": {},
   "source": [
    "## Задание №4\n",
    "\n",
    "Привести примеры элементов множеств:\n",
    "\n",
    "__а)__ $\\mathbb{Q}^{\\underline{3}} = \\{ f : \\{0, 1, 2 \\} \\rightarrow \\mathbb{Q} \\}$:<br>\n",
    "1. $(\\frac{2}{5}, \\frac{3}{2}, \\frac{1}{2})$;<br>\n",
    "1. $(\\frac{3}{7}, \\frac{6}{7}, \\frac{7}{9})$;<br>\n",
    "1. $(\\frac{245}{333}, \\frac{123}{321}, \\frac{1}{2})$.\n",
    "\n",
    "То есть, тройки элементов множества $\\mathbb{Q}$.\n",
    "\n",
    "---\n",
    "\n",
    "__б)__ $\\mathbb{R}^\\mathbb{Q}$:<br>\n",
    "$(\\ldots, \\frac{1}{3} \\rightarrow 123.(3), \\ldots, \\frac{2}{5} \\rightarrow 123.(35), \\ldots, \\frac{1}{2} \\rightarrow 123.(23), \\ldots)$. (это один из элементов такого множества)<br>\n",
    "\n",
    "То есть, элементы из множества $\\mathbb{Q}$ в множество $\\mathbb{R}$.\n",
    "\n",
    "---\n",
    "\n",
    "__в)__ $\\mathbb{R}^{\\mathbb{R} \\times \\mathbb{Z}}$:<br>\n",
    "$(\\ldots, (123.(3), 1) \\rightarrow 123.(3), \\ldots, (123.(35), 123) \\rightarrow 32.(353), \\ldots)$. (это один из элементов такого множества)<br>\n",
    "\n",
    "То есть, элементы из множества $\\mathbb{R} \\times \\mathbb{Z}$ в множество $\\mathbb{R}$."
   ]
  },
  {
   "cell_type": "markdown",
   "metadata": {},
   "source": [
    "## Задание №5\n",
    "На семинаре были доказаны следующие утверждения:<br>\n",
    "1. $\\mathbb{N} \\sim \\mathbb{Z} \\sim \\mathbb{Q} \\sim \\mathbb{R}$<br>\n",
    "1. $\\mathbb{N} \\times \\mathbb{N} \\sim \\mathbb{N}$<br>\n",
    "1. $\\mathbb{N}^n \\sim \\mathbb{N}$<br>\n",
    "1. $x \\times y \\sim z$, где $x, y, z$ это какие-то множества $\\mathbb{N}, \\mathbb{Z}, \\mathbb{Q}, \\mathbb{R}$.\n",
    "\n",
    "---\n",
    "\n",
    "Применяя, если нужно, теорему Кантора-Берштейна-Шрёдера, доказать, что:\n",
    "\n",
    "__а)__ $\\mathbb{N}^{\\mathbb{N} \\times \\mathbb{Q}} \\times \\mathbb{N} \\sim \\mathbb{R}^{\\mathbb{Q}}$<br>\n",
    "Обозначим первое множество за $A$, второе за $B$.<br>\n",
    "$A = \\{ ((f : (\\mathbb{N}, \\mathbb{Q}) \\rightarrow \\mathbb{N}), \\mathbb{Q}) \\}$<br>\n",
    "$B = \\{ f : \\mathbb{Q} \\rightarrow \\mathbb{R} \\}$\n",
    "\n",
    "$\\mathbf{B \\lesssim A}$, т.к.:<br>\n",
    "$\\mathbb{R} \\sim \\mathbb{N} \\Rightarrow A \\sim \\{ ((f : (\\mathbb{N}, \\mathbb{Q}) \\rightarrow \\mathbb{R}), \\mathbb{Q}) \\}$<br>\n",
    "Тогда строим соответствие: $\\{ f : x \\rightarrow y \\} \\rightarrow \\{ ((f : (\\mathbb{N}, x) \\rightarrow y), \\mathbb{Q}) \\} : x \\in \\mathbb{Q}, y \\in \\mathbb{R}$.\n",
    "\n",
    "$\\mathbf{A \\lesssim B}$, т.к.:<br>\n",
    "$\\mathbb{N} \\times \\mathbb{Q} \\sim \\mathbb{N} \\Rightarrow \\mathbb{N}^{\\mathbb{N} \\times \\mathbb{Q}} = \\mathbb{N}^\\mathbb{N}$;<br>\n",
    "$A \\sim \\{ ((f : \\mathbb{N} \\rightarrow \\mathbb{N}), \\mathbb{Q}) \\}$;<br>\n",
    "$\\mathbb{N}^\\mathbb{N} = \\{ f : \\mathbb{N} \\rightarrow \\mathbb{N} \\} \\Rightarrow \\{ f : \\mathbb{N} \\rightarrow \\mathbb{N} \\} \\sim \\mathbb{N}$, т.к. можно построить соответствие $\\{ f : x \\rightarrow x \\} \\rightarrow x : x \\in \\mathbb{N} \\Rightarrow \\underline{\\mathbb{N}^\\mathbb{N} \\sim \\mathbb{N}}$;<br>\n",
    "$A \\sim \\{ (\\mathbb{N}, \\mathbb{Q}) \\}$;<br>\n",
    "$\\mathbb{N} \\subset \\mathbb{R}$, тогда можно построить соответствие $\\{ (x, y) \\} \\rightarrow \\{ f : y \\rightarrow x \\} : x \\in \\mathbb{N}, y \\in \\mathbb{Q}$.\n",
    "\n",
    "---\n",
    "\n",
    "__б)__ $\\underline{5}^\\mathbb{N} \\sim \\underline{3}^\\mathbb{N}$<br>\n",
    "Обозначим первое множество за $A$, второе за $B$.<br>\n",
    "$A$ — множество бесконечных последовательностей из элементов множества $\\{ 0, 1, 2, 3, 4 \\}$.<br>\n",
    "$B$ — множество бесконечных последовательностей из элементов множества $\\{ 0, 1, 2 \\}$.\n",
    "\n",
    "Очевидно, что бесконечная последовательность элементов $\\{ 0, 1, 2 \\} \\lesssim$ бесконечной последовательности элементов $\\{ 0, 1, 2, 3, 4 \\}$,<br>\n",
    "то есть $\\mathbf{B \\lesssim A}$.\n",
    "\n",
    "Переведём каждый __элемент элементов__ множества $A$ в какую-то последовательность элементов из множества $\\underline{3}$.<br>\n",
    "\n",
    "Например:\n",
    "1. $0 = 00$;\n",
    "1. $1 = 01$;\n",
    "1. $2 = 10$;\n",
    "1. $3 = 02$;\n",
    "1. $4 = 22$.\n",
    "\n",
    "Тогда мы можем провести однозначное соответствие элементам множества $A$ элементы множества $B$;<br>\n",
    "$\\mathbf{A \\lesssim B}$.\n",
    "\n",
    "---\n",
    "\n",
    "_В процессе решения..._"
   ]
  }
 ],
 "metadata": {
  "kernelspec": {
   "display_name": "Python 3",
   "language": "python",
   "name": "python3"
  },
  "language_info": {
   "codemirror_mode": {
    "name": "ipython",
    "version": 3
   },
   "file_extension": ".py",
   "mimetype": "text/x-python",
   "name": "python",
   "nbconvert_exporter": "python",
   "pygments_lexer": "ipython3",
   "version": "3.7.4"
  }
 },
 "nbformat": 4,
 "nbformat_minor": 2
}
