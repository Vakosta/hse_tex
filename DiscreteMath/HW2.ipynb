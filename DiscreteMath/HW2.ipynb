{
 "cells": [
  {
   "cell_type": "markdown",
   "metadata": {},
   "source": [
    "## Домашняя работа №2 по дискретной математике.\n",
    "### Выполнил Анненков Владислав."
   ]
  },
  {
   "cell_type": "markdown",
   "metadata": {},
   "source": [
    "## Задание №1\n",
    "\n",
    "Отношение $P \\subseteq \\mathbb{R} \\times \\mathbb{R}$.\n",
    "\n",
    "__а)__ Не функциональное, инъективное, не тотальное, сюръективное (для $\\mathbb{R}$).<br>\n",
    "...\n",
    "\n",
    "__б)__ Функциональное, не инъективное, тотальное (для $\\mathbb{R}$), не сюръективное.<br>\n",
    "..."
   ]
  },
  {
   "cell_type": "markdown",
   "metadata": {},
   "source": [
    "## Задание №2\n",
    "\n",
    "Пусть $f : A \\rightarrow B$ и $g : B \\rightarrow C$. Доказать, что если $g \\circ f$ инъекция, то $f$ тоже инъекция."
   ]
  },
  {
   "cell_type": "markdown",
   "metadata": {},
   "source": [
    "## Задание №4\n",
    "\n",
    "Привести примеры элементов множеств:\n",
    "\n",
    "__а)__ $\\mathbb{Q}^{\\underline{3}}$:<br>\n",
    "$0 \\rightarrow 12.5$;<br>\n",
    "$1 \\rightarrow 432.25$;<br>\n",
    "$2 \\rightarrow 0$.<br>\n",
    "То есть, элементы из множества $\\{ 0, 1, 2 \\}$ в множество $\\mathbb{Q}$.\n",
    "\n",
    "__б)__ $\\mathbb{R}^\\mathbb{Q}$:<br>\n",
    "$12.5 \\rightarrow \\pi$;<br>\n",
    "$432.25 \\rightarrow 432.567(9)$;<br>\n",
    "$0 \\rightarrow 0$.<br>\n",
    "То есть, элементы из множества $\\mathbb{Q}$ в множество $\\mathbb{R}$.\n",
    "\n",
    "__в)__ $\\mathbb{R}^{\\mathbb{R} \\times \\mathbb{Z}}$:<br>\n",
    "$12.5 \\rightarrow \\pi$;<br>\n",
    "$432.25442 \\rightarrow 432.567(9)$;<br>\n",
    "$\\pi \\rightarrow 0$.<br>\n",
    "То есть, элементы из множества $\\mathbb{R}$ в множество $\\mathbb{R}$, т.к. $\\mathbb{Z} \\subseteq \\mathbb{R}$."
   ]
  }
 ],
 "metadata": {
  "kernelspec": {
   "display_name": "Python 3",
   "language": "python",
   "name": "python3"
  },
  "language_info": {
   "codemirror_mode": {
    "name": "ipython",
    "version": 3
   },
   "file_extension": ".py",
   "mimetype": "text/x-python",
   "name": "python",
   "nbconvert_exporter": "python",
   "pygments_lexer": "ipython3",
   "version": "3.7.4"
  }
 },
 "nbformat": 4,
 "nbformat_minor": 2
}
