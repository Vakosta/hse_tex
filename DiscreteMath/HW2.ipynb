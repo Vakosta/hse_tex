{
 "cells": [
  {
   "cell_type": "markdown",
   "metadata": {},
   "source": [
    "## Домашняя работа №2 по дискретной математике.\n",
    "### Выполнил Анненков Владислав."
   ]
  },
  {
   "cell_type": "markdown",
   "metadata": {},
   "source": [
    "## Задание №1\n",
    "\n",
    "Отношение $P \\subseteq \\mathbb{R} \\times \\mathbb{R}$.\n",
    "\n",
    "__а)__ Не функциональное, инъективное, не тотальное, сюръективное (для $\\mathbb{R}$).<br>\n",
    "...\n",
    "\n",
    "__б)__ Функциональное, не инъективное, тотальное (для $\\mathbb{R}$), не сюръективное.<br>\n",
    "..."
   ]
  },
  {
   "cell_type": "markdown",
   "metadata": {},
   "source": [
    "## Задание №2\n",
    "\n",
    "Пусть $f : A \\rightarrow B$ и $g : B \\rightarrow C$. Доказать, что если $g \\circ f$ инъекция, то $f$ тоже инъекция."
   ]
  }
 ],
 "metadata": {
  "kernelspec": {
   "display_name": "Python 3",
   "language": "python",
   "name": "python3"
  },
  "language_info": {
   "codemirror_mode": {
    "name": "ipython",
    "version": 3
   },
   "file_extension": ".py",
   "mimetype": "text/x-python",
   "name": "python",
   "nbconvert_exporter": "python",
   "pygments_lexer": "ipython3",
   "version": "3.7.4"
  }
 },
 "nbformat": 4,
 "nbformat_minor": 2
}
