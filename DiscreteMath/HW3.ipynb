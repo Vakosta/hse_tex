{
 "cells": [
  {
   "cell_type": "markdown",
   "metadata": {},
   "source": [
    "# Домашняя работа №3 по дискретной математике\n",
    "## Выполнил Анненков Владислав"
   ]
  },
  {
   "cell_type": "markdown",
   "metadata": {},
   "source": [
    "### Задача №2\n",
    "Сколько есть способов разложить 7 _различных_ монет по 3 _различным_ карманам?\n",
    "\n",
    "Возможные варианты:\n",
    "1. $1 \\cdot C_7^7 = $\n",
    "1. $2 \\cdot C_7^6 \\cdot C_7^1$\n",
    "1. $2 \\cdot C_7^5 \\cdot C_7^2$\n",
    "1. $1 \\cdot C_7^5 \\cdot C_7^1 \\cdot C_7^1$\n",
    "1. $2 \\cdot C_7^4 \\cdot C_7^3$\n",
    "1. $2 \\cdot C_7^4 \\cdot C_7^2 \\cdot C_7^1$\n",
    "1. $2 \\cdot C_7^3 \\cdot C_7^4$\n",
    "1. $2 \\cdot C_7^3 \\cdot C_7^3 \\cdot C_7^1$\n",
    "1. $1 \\cdot C_7^3 \\cdot C_7^2 \\cdot C_7^2$\n",
    "1. $2 \\cdot C_7^2 \\cdot C_7^5$\n",
    "1. $2 \\cdot C_7^2 \\cdot C_7^4 \\cdot C_7^1$\n",
    "1. $2 \\cdot C_7^2 \\cdot C_7^3 \\cdot C_7^2$\n",
    "1. $2 \\cdot C_7^1 \\cdot C_7^6$\n",
    "1. $2 \\cdot C_7^1 \\cdot C_7^5 \\cdot C_7^1$\n",
    "1. $2 \\cdot C_7^1 \\cdot C_7^4 \\cdot C_7^2$\n",
    "1. $1 \\cdot C_7^1 \\cdot C_7^3 \\cdot C_7^3$"
   ]
  },
  {
   "cell_type": "code",
   "execution_count": 29,
   "metadata": {},
   "outputs": [],
   "source": [
    "import math\n",
    "\n",
    "\n",
    "def count_c(k, n=7):\n",
    "    v = math.factorial(n) // (math.factorial(k) * math.factorial(n - k))\n",
    "    # result += v\n",
    "\n",
    "    return v"
   ]
  },
  {
   "cell_type": "code",
   "execution_count": 30,
   "metadata": {},
   "outputs": [
    {
     "name": "stdout",
     "output_type": "stream",
     "text": [
      "1. 1\n",
      "2. 98\n",
      "3. 882\n",
      "4. 1029\n",
      "5. 2450\n",
      "6. 10290\n",
      "7. 2450\n",
      "8. 17150\n",
      "9. 15435\n",
      "10. 882\n",
      "11. 10290\n",
      "12. 30870\n",
      "13. 98\n",
      "14. 2058\n",
      "15. 10290\n",
      "16. 8575\n"
     ]
    }
   ],
   "source": [
    "# result = 0\n",
    "\n",
    "print('1. {}'.format(1 * count_c(7)))\n",
    "print('2. {}'.format(2 * count_c(6) * count_c(1)))\n",
    "print('3. {}'.format(2 * count_c(5) * count_c(2)))\n",
    "print('4. {}'.format(1 * count_c(5) * count_c(1) * count_c(1)))\n",
    "print('5. {}'.format(2 * count_c(4) * count_c(3)))\n",
    "print('6. {}'.format(2 * count_c(4) * count_c(2) * count_c(1)))\n",
    "print('7. {}'.format(2 * count_c(3) * count_c(4)))\n",
    "print('8. {}'.format(2 * count_c(3) * count_c(3) * count_c(1)))\n",
    "print('9. {}'.format(1 * count_c(3) * count_c(2) * count_c(2)))\n",
    "print('10. {}'.format(2 * count_c(2) * count_c(5)))\n",
    "print('11. {}'.format(2 * count_c(2) * count_c(4) * count_c(1)))\n",
    "print('12. {}'.format(2 * count_c(2) * count_c(3) * count_c(2)))\n",
    "print('13. {}'.format(2 * count_c(1) * count_c(6)))\n",
    "print('14. {}'.format(2 * count_c(1) * count_c(5) * count_c(1)))\n",
    "print('15. {}'.format(2 * count_c(1) * count_c(4) * count_c(2)))\n",
    "print('16. {}'.format(1 * count_c(1) * count_c(3) * count_c(3)))"
   ]
  },
  {
   "cell_type": "code",
   "execution_count": 31,
   "metadata": {},
   "outputs": [
    {
     "data": {
      "text/plain": [
       "112848"
      ]
     },
     "execution_count": 31,
     "metadata": {},
     "output_type": "execute_result"
    }
   ],
   "source": [
    "1 + 98 + 882 + 1029 + 2450 + 10290 + 2450 + 17150 + 15435 + 882 + 10290 + 30870 + 98 + 2058 + 10290 + 8575"
   ]
  }
 ],
 "metadata": {
  "kernelspec": {
   "display_name": "Python 3",
   "language": "python",
   "name": "python3"
  },
  "language_info": {
   "codemirror_mode": {
    "name": "ipython",
    "version": 3
   },
   "file_extension": ".py",
   "mimetype": "text/x-python",
   "name": "python",
   "nbconvert_exporter": "python",
   "pygments_lexer": "ipython3",
   "version": "3.7.4"
  }
 },
 "nbformat": 4,
 "nbformat_minor": 2
}
