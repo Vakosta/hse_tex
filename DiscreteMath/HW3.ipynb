{
 "cells": [
  {
   "cell_type": "markdown",
   "metadata": {},
   "source": [
    "# Домашняя работа №3 по дискретной математике\n",
    "## Выполнил Анненков Владислав"
   ]
  },
  {
   "cell_type": "code",
   "execution_count": 32,
   "metadata": {},
   "outputs": [],
   "source": [
    "import math\n",
    "\n",
    "\n",
    "def count_C(k, n):\n",
    "    return math.factorial(n) // (math.factorial(k) * math.factorial(n - k))"
   ]
  },
  {
   "cell_type": "markdown",
   "metadata": {},
   "source": [
    "### Задача №2\n",
    "Сколько есть способов разложить 7 _различных_ монет по 3 _различным_ карманам?\n",
    "\n",
    "Рассмотрим 9 элементов: 7 монет и 2 \"разделения\" между тремя карманами.<br>\n",
    "Тогда остаётся рассмотреть различные комбинации этих 9 элементов:<br>\n",
    "$C_9^2 = C_9^7 = |\\mathcal{P}_2(\\underline{9})| = 36$.\n",
    "\n",
    "__Ответ:__ 36 способов."
   ]
  },
  {
   "cell_type": "code",
   "execution_count": 38,
   "metadata": {},
   "outputs": [
    {
     "data": {
      "text/plain": [
       "(36, 36)"
      ]
     },
     "execution_count": 38,
     "metadata": {},
     "output_type": "execute_result"
    }
   ],
   "source": [
    "count_C(k=2, n=9), count_C(k=7, n=9)"
   ]
  }
 ],
 "metadata": {
  "kernelspec": {
   "display_name": "Python 3",
   "language": "python",
   "name": "python3"
  },
  "language_info": {
   "codemirror_mode": {
    "name": "ipython",
    "version": 3
   },
   "file_extension": ".py",
   "mimetype": "text/x-python",
   "name": "python",
   "nbconvert_exporter": "python",
   "pygments_lexer": "ipython3",
   "version": "3.7.4"
  }
 },
 "nbformat": 4,
 "nbformat_minor": 2
}
