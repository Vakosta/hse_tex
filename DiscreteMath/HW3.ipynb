{
 "cells": [
  {
   "cell_type": "markdown",
   "metadata": {},
   "source": [
    "# Домашняя работа №3 по дискретной математике\n",
    "## Выполнил Анненков Владислав"
   ]
  },
  {
   "cell_type": "markdown",
   "metadata": {},
   "source": [
    "#### Объявлю функции Python для наглядного счёта:"
   ]
  },
  {
   "cell_type": "code",
   "execution_count": 56,
   "metadata": {},
   "outputs": [],
   "source": [
    "import math\n",
    "\n",
    "\n",
    "def C(k, n):\n",
    "    return math.factorial(n) // (math.factorial(k) * math.factorial(n - k))\n",
    "\n",
    "\n",
    "def p_list(n):\n",
    "    i = 2\n",
    "    primfac = []\n",
    "    while i * i <= n:\n",
    "        while n % i == 0:\n",
    "            primfac.append(i)\n",
    "            n = n // i\n",
    "        i = i + 1\n",
    "    if n > 1:\n",
    "        primfac.append(n)\n",
    "    return primfac"
   ]
  },
  {
   "cell_type": "markdown",
   "metadata": {},
   "source": [
    "### Задача №1\n",
    "Сколько различных натуральных делителей у числа 1224?\n",
    "\n",
    "Сначала разложим число на простые множители: $1224 = 2^3 \\cdot 3^2 \\cdot 17$,<br>\n",
    "тогда все делители такого числа будут иметь вид $2^x \\cdot 3^y \\cdot 17^z : x \\in \\{ 0, 1, 2, 3 \\}, y \\in \\{ 0, 1, 2 \\}, z \\in \\{ 0, 1 \\}$.\n",
    "\n",
    "Количество различных комбинаций $x, y, z$ — искомое количество натуральных делителей.<br>\n",
    "$4 \\cdot 3 \\cdot 2 = 24$ делителя\n",
    "\n",
    "__Ответ:__ 24 делителя."
   ]
  },
  {
   "cell_type": "code",
   "execution_count": 57,
   "metadata": {},
   "outputs": [
    {
     "data": {
      "text/plain": [
       "[2, 2, 2, 3, 3, 17]"
      ]
     },
     "execution_count": 57,
     "metadata": {},
     "output_type": "execute_result"
    }
   ],
   "source": [
    "p_list(1224)"
   ]
  },
  {
   "cell_type": "markdown",
   "metadata": {},
   "source": [
    "### Задача №2\n",
    "Сколько есть способов разложить 7 _различных_ монет по 3 _различным_ карманам?\n",
    "\n",
    "Рассмотрим 9 элементов: 7 монет и 2 \"разделения\" между тремя карманами.<br>\n",
    "Тогда остаётся рассмотреть различные комбинации этих 9 элементов:<br>\n",
    "$C_9^2 = C_9^7 = |\\mathcal{P}_2(\\underline{9})| = 36$\n",
    "\n",
    "__Ответ:__ 36 способов."
   ]
  },
  {
   "cell_type": "code",
   "execution_count": 40,
   "metadata": {},
   "outputs": [
    {
     "data": {
      "text/plain": [
       "(36, 36)"
      ]
     },
     "execution_count": 40,
     "metadata": {},
     "output_type": "execute_result"
    }
   ],
   "source": [
    "C(k=2, n=9), C(k=7, n=9)"
   ]
  },
  {
   "cell_type": "markdown",
   "metadata": {},
   "source": [
    "### Задача №3\n",
    "Рассмотрим слово $\\alpha = cbcad$.<br>\n",
    "Сколько слов длины от 1 до 5, составленных из букв латинского алфавита (и необязательно осмысленных), стояли бы прежде $\\alpha$ в словаре?\n",
    "\n",
    "В английском алфавите 26 букв.<br>\n",
    "Тогда $\\underline{2 + 2 \\cdot (C_{26}^1 + C_{26}^2 + C_{26}^3 + C_{26}^4) = 35804}$ — количество вариантов,<br>\n",
    "которые начинаются с букв $a$ и $b$.\n",
    "\n",
    "Рекурсивно рассмотрим варианты, которые начинаются с буквы $c$, но стоят раньше в словаре:<br>\n",
    "$\\underline{1 + 1 \\cdot (C_{26}^1 + C_{26}^2 + C_{26}^3) = 2952}$ — количество слов вида $cxyyy \\lt \\alpha : x \\in \\{ a \\}, y \\in \\{ a, b, \\ldots, y, z \\}$.\n",
    "\n",
    "Продолжаем логическую цепочку по аналогии:<br>\n",
    "$\\underline{2 + 2 \\cdot (C_{26}^1 + C_{26}^2) = 54}$ — количество слов вида $cbxyy \\lt \\alpha : x \\in \\{ a, b \\}, y \\in \\{ a, b, \\ldots, y, z \\}$;<br>\n",
    "$\\underline{3}$ — количество слов вида $cbcax \\lt \\alpha : x \\in \\{ a, b, c \\}$.\n",
    "\n",
    "Посчитаем общее количество: $\\underline{35804 + 2952 + 54 + 3 = 38813}$\n",
    "\n",
    "__Ответ:__ 38813 слов."
   ]
  },
  {
   "cell_type": "code",
   "execution_count": 48,
   "metadata": {},
   "outputs": [
    {
     "name": "stdout",
     "output_type": "stream",
     "text": [
      "1: 35804\n",
      "2: 2952\n",
      "3: 54\n",
      "4: 0\n",
      "5: 3\n"
     ]
    }
   ],
   "source": [
    "print('1:', 2 + 2 * (C(1, 26) + C(2, 26) + C(3, 26) + C(4, 26)))\n",
    "print('2:', 1 + 1 * (C(1, 26) + C(2, 26) + C(3, 26)))\n",
    "print('3:', 2 + 2 * (C(1, 26)))\n",
    "print('4:', 0)\n",
    "print('5:', 3)"
   ]
  },
  {
   "cell_type": "code",
   "execution_count": 47,
   "metadata": {},
   "outputs": [
    {
     "name": "stdout",
     "output_type": "stream",
     "text": [
      "Ответ: 38813\n"
     ]
    }
   ],
   "source": [
    "print('Ответ:', 35804 + 2952 + 54 + 3)"
   ]
  }
 ],
 "metadata": {
  "kernelspec": {
   "display_name": "Python 3",
   "language": "python",
   "name": "python3"
  },
  "language_info": {
   "codemirror_mode": {
    "name": "ipython",
    "version": 3
   },
   "file_extension": ".py",
   "mimetype": "text/x-python",
   "name": "python",
   "nbconvert_exporter": "python",
   "pygments_lexer": "ipython3",
   "version": "3.7.4"
  }
 },
 "nbformat": 4,
 "nbformat_minor": 2
}
