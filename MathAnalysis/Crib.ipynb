{
 "cells": [
  {
   "cell_type": "markdown",
   "metadata": {},
   "source": [
    "# Шпаргалка по математическому анализу"
   ]
  },
  {
   "cell_type": "markdown",
   "metadata": {},
   "source": [
    "## Неопределённые интегралы\n",
    "\n",
    "### Формулы\n",
    "1. $\\int_{a}^{b} f(x) \\,dx = \\int f(g(u)) \\cdot g(u)' \\,du$ — метод подстановки переменной"
   ]
  },
  {
   "cell_type": "markdown",
   "metadata": {},
   "source": [
    "## Определённые интегралы\n",
    "\n",
    "### Свойства\n",
    "1. $\\int_{a}^{b} f(x) \\,dx = F(b) - F(a)$ — _формула Ньютона-Лейбница_\n",
    "1. $\\int_{a}^{b} f(x) \\,dx = -\\int_{b}^{a} f(x) \\,dx$\n",
    "1. $\\int_{a}^{c} f(x) \\,dx = \\int_{a}^{b} f(x) \\,dx + \\int_{b}^{c} f(x) \\,dx$\n",
    "1. $\\int_{a}^{c} \\lambda f(x) \\,dx = \\lambda \\int_{a}^{c} f(x) \\,dx$"
   ]
  },
  {
   "cell_type": "markdown",
   "metadata": {},
   "source": [
    "## Степенные ряды\n",
    "\n",
    "### Необходимый признак\n",
    "Если $\\Sigma^\\infty_{n = 1}$ сходится, то $a_n \\rightarrow 0 \\;\\; (n \\rightarrow \\infty)$\n",
    "\n",
    "---\n",
    "\n",
    "### Интегральный признак\n",
    "$[1, +\\infty) \\; f(x) \\downarrow 0, x \\rightarrow +\\infty$<br>\n",
    "$f(1) + f(2) + \\ldots = \\Sigma^\\infty_{n = 1}f(n)$\n",
    "\n",
    "$\\int_{1}^{\\infty} f(x) \\,dx$. Утверждение: $\\Sigma^\\infty_{n = 1}f(n)$ — сходится $\\Leftrightarrow \\int_{1}^{\\infty} f(x) \\,dx$ — сходится.\n",
    "\n",
    "Ряд Дирихле: $\\Sigma^\\infty_{n = 1} \\frac{1}{n^\\alpha}$ — сходится $\\alpha \\gt 1$, расходится $\\alpha \\leq 1$.\n",
    "\n",
    "---\n",
    "\n",
    "### Признак сравнения\n",
    "(1) $\\Sigma^\\infty_{n = 1} a_n$; (2) $\\Sigma^\\infty_{n = 1} b_n$. $\\;\\;\\;0 \\leq a_n \\leq b_n, \\;\\;\\; n = 1, 2, \\ldots$.\n",
    "\n",
    "Если ряд (2) сходится, то ряд (1) тоже сходится.<br>\n",
    "Если ряд (1) расходится, то ряд (2) тоже расходится.\n",
    "\n",
    "---\n",
    "\n",
    "### Признак сравнения в предельной форме\n",
    "(1) $\\Sigma^\\infty_{n = 1} a_n$; (2) $\\Sigma^\\infty_{n = 1} b_n$. $\\;\\;\\;a_n \\gt 0; \\; b_n \\gt 0$.\n",
    "\n",
    "Если $a_n \\sim b_n, n \\rightarrow \\infty$, то (1) сходится $\\Leftrightarrow$ (2) сходится.\n",
    "\n",
    "---\n",
    "\n",
    "### Признак д'Аламбера\n",
    "__Примечение:__ Полезно применять, когда общий член ряда задаётся дробью с большим количеством сомножителей в числителе и знаменателе.\n",
    "\n",
    "$\\Sigma^\\infty_{n = 1} a_n, a \\gt 0$\n",
    "\n",
    "$\\lim_{n \\to \\infty} \\frac{a_{n + 1}}{a_n} = q$:<br>\n",
    "$0 \\leq q \\lt 1$ — ряд сходится;<br>\n",
    "$q \\gt 1$ — ряд расходится;<br>\n",
    "$q = 1$ — (?).\n",
    "\n",
    "---\n",
    "\n",
    "### Радикальный признак Коши\n",
    "__Примечание:__ Для уничтожения степеней (схож с признаком д'Аламбера).\n",
    "\n",
    "$\\Sigma^\\infty_{n = 1} a_n, a \\geq 0$\n",
    "\n",
    "$\\lim_{n \\to \\infty} \\sqrt{a_n} = q$<br>\n",
    "$0 \\leq q \\lt 1$ — ряд сходится;<br>\n",
    "$q \\gt 1$ — ряд расходится;<br>\n",
    "$q = 1$ — (?).\n",
    "\n",
    "---\n",
    "\n",
    "Ряд $\\Sigma^\\infty_{n = 1} a_n$ абсолютно сходится, если $\\Sigma^\\infty_{n = 1} \\left|a_n\\right| \\lt +\\infty$.<br>\n",
    "__Теорема:__ Если ряд сходится абсолютно, то он сходится.<br>\n",
    "__Дополнение:__ Если ряд $\\Sigma^\\infty_{n = 1} a_n$ сходится, но $\\Sigma^\\infty_{n = 1} \\left|a_n\\right| = +\\infty$, то ряд сходится условно.\n",
    "\n",
    "---\n",
    "\n",
    "### Признак Лейбница\n",
    "__Примечание:__ ...\n",
    "\n",
    "Если последовательность $a_n \\downarrow 0, x \\rightarrow \\infty$, то знакопеременный (знакочередующийся) ряд $a_1 - a_2 + a_3 - a_4 + \\ldots + (-1)^{n + 1} a_n + \\ldots = \\Sigma^\\infty_{n = 1} (-1)^{n + 1} a_n$ сходится."
   ]
  },
  {
   "cell_type": "markdown",
   "metadata": {},
   "source": [
    "Д/з:\n",
    "\n",
    "1. с.292 №11 (п. 1, 2, 5)\n",
    "1. с.302 №2 (п. 3, 4, 6)\n",
    "1. с.303 №4 (п. 1-7)\n",
    "1. с.306 №18 (п. 1, 3, 8) — пр дирихле и абеля\n",
    "1. с.307 №21 (п. 5-8)"
   ]
  }
 ],
 "metadata": {
  "kernelspec": {
   "display_name": "Python 3",
   "language": "python",
   "name": "python3"
  },
  "language_info": {
   "codemirror_mode": {
    "name": "ipython",
    "version": 3
   },
   "file_extension": ".py",
   "mimetype": "text/x-python",
   "name": "python",
   "nbconvert_exporter": "python",
   "pygments_lexer": "ipython3",
   "version": "3.7.4"
  }
 },
 "nbformat": 4,
 "nbformat_minor": 2
}
