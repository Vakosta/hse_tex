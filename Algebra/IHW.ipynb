{
 "cells": [
  {
   "cell_type": "markdown",
   "metadata": {},
   "source": [
    "## Задание 1\n",
    "\n",
    "$G = \\langle a \\rangle$ порядка $850$.\n",
    "\n",
    "__а)__<br>\n",
    "Воспользуемся теоремой Лагранжа, где: $ord(a^k) = \\frac{n}{НОД(n, k)}$.<br>\n",
    "В группе $G = \\langle a \\rangle$ элементы $a^0, a^1, \\ldots, a^{849}$ — их и будем рассматривать.<br>\n",
    "В общем случае уравнение выглядит так: $(a^k)^{225} = 1 \\Rightarrow (a^{225})^k = 1$<br>\n",
    "Используем это в формуле:<br>\n",
    "$k = \\frac{n}{НОД(n, 225)} = \\frac{850}{НОД(850, 225)} = \\frac{850}{25} = 34$, где $k$ — порядок элемента 225 степени.<br>\n",
    "Добавим $\\alpha$ для получения всех возможных единиц:<br>\n",
    "$k = 34\\alpha, \\alpha \\in Z$, при этом $k < 850$.\n",
    "\n",
    "Общее количество таких $k = \\frac{850}{34} = 25 \\Rightarrow k \\in \\{0, \\ldots, 24\\}$.\n",
    "\n",
    "__б)__<br>\n",
    "По теореме Лагранжа $ord(g) | ord(G), g \\in G$, но 225 не делит нацело 850. Таких элементов нет."
   ]
  },
  {
   "cell_type": "markdown",
   "metadata": {},
   "source": [
    "## Задание 2\n",
    "Определим порядки каждой группы.\n",
    "\n",
    "$D_4$ — группа диэдра<br>\n",
    "$S_4$ — группа подстановок<br>\n",
    "$Z_6$ — группа целых по модулю 6\n",
    "\n",
    "$D_4 = \\{ ... \\}$<br>\n",
    "$S_4 = \\{ ... \\}$<br>\n",
    "$Z_6 = \\{ ... \\}$"
   ]
  }
 ],
 "metadata": {
  "kernelspec": {
   "display_name": "Python 3",
   "language": "python",
   "name": "python3"
  },
  "language_info": {
   "codemirror_mode": {
    "name": "ipython",
    "version": 3
   },
   "file_extension": ".py",
   "mimetype": "text/x-python",
   "name": "python",
   "nbconvert_exporter": "python",
   "pygments_lexer": "ipython3",
   "version": "3.7.4"
  }
 },
 "nbformat": 4,
 "nbformat_minor": 2
}
