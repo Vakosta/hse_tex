{
 "cells": [
  {
   "cell_type": "markdown",
   "metadata": {},
   "source": [
    "## Задание 1\n",
    "\n",
    "$G = \\langle a \\rangle$ порядка $850$.\n",
    "\n",
    "__а)__<br/>\n",
    "$g^{225x} = g^{850k}$<br/>\n",
    "$225x = 850k$<br/>\n",
    "$17x = 45k$<br/>\n",
    "$x = \\frac{45k}{17}$\n",
    "\n",
    "__б)__<br/>\n",
    "..."
   ]
  },
  {
   "cell_type": "code",
   "execution_count": 6,
   "metadata": {
    "scrolled": false
   },
   "outputs": [
    {
     "name": "stdout",
     "output_type": "stream",
     "text": [
      "0 0\n",
      "17 45\n",
      "34 90\n",
      "51 135\n",
      "68 180\n",
      "85 225\n"
     ]
    }
   ],
   "source": [
    "for k in range(0, 100):\n",
    "    x = 45 * k\n",
    "    if (45 * k) % 17 == 0:\n",
    "        x //= 17\n",
    "        print(k, x)"
   ]
  },
  {
   "cell_type": "markdown",
   "metadata": {},
   "source": [
    "## Задание 2\n",
    "$D_4$ - группа диэдра<br/>\n",
    "$S_4$ - группа подстановок<br/>\n",
    "$Z_6$ - группа целых по модулю 6\n",
    "\n",
    "$D_4 = \\{ ... \\}$<br/>\n",
    "$S_4 = \\{ ... \\}$<br/>\n",
    "$Z_6 = \\{ ... \\}$"
   ]
  }
 ],
 "metadata": {
  "kernelspec": {
   "display_name": "Python 3",
   "language": "python",
   "name": "python3"
  },
  "language_info": {
   "codemirror_mode": {
    "name": "ipython",
    "version": 3
   },
   "file_extension": ".py",
   "mimetype": "text/x-python",
   "name": "python",
   "nbconvert_exporter": "python",
   "pygments_lexer": "ipython3",
   "version": "3.7.4"
  }
 },
 "nbformat": 4,
 "nbformat_minor": 2
}
