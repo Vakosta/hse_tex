{
 "cells": [
  {
   "cell_type": "markdown",
   "metadata": {},
   "source": [
    "## Задание 1\n",
    "\n",
    "$G = \\langle a \\rangle$ порядка $850$.\n",
    "\n",
    "__а)__\\\n",
    "$g^{225x} = g^{850k}$\\\n",
    "$225x = 850k$\\\n",
    "$17x = 45k$\\\n",
    "$x = \\frac{45k}{17}$\n",
    "\n",
    "__б)__\\\n",
    "..."
   ]
  },
  {
   "cell_type": "code",
   "execution_count": 12,
   "metadata": {
    "scrolled": false
   },
   "outputs": [
    {
     "name": "stdout",
     "output_type": "stream",
     "text": [
      "0 0\n",
      "34 9\n",
      "68 18\n",
      "102 27\n",
      "136 36\n",
      "170 45\n",
      "204 54\n",
      "238 63\n",
      "272 72\n",
      "306 81\n",
      "340 90\n",
      "374 99\n",
      "408 108\n",
      "442 117\n",
      "476 126\n",
      "510 135\n",
      "544 144\n",
      "578 153\n",
      "612 162\n",
      "646 171\n",
      "680 180\n",
      "714 189\n",
      "748 198\n",
      "782 207\n",
      "816 216\n"
     ]
    }
   ],
   "source": [
    "for k in range(0, 850):\n",
    "    x = 225 * k\n",
    "    if (225 * k) % 850 == 0:\n",
    "        x //= 850\n",
    "        print(k, x)"
   ]
  },
  {
   "cell_type": "markdown",
   "metadata": {},
   "source": [
    "## Задание 2\n",
    "$D_4$ - группа диэдра\\\n",
    "$S_4$ - группа подстановок\\\n",
    "$Z_6$ - группа целых по модулю 6\n",
    "\n",
    "$D_4 = \\{ ... \\}$\\\n",
    "$S_4 = \\{ ... \\}$\\\n",
    "$Z_6 = \\{ ... \\}$"
   ]
  }
 ],
 "metadata": {
  "kernelspec": {
   "display_name": "Python 3",
   "language": "python",
   "name": "python3"
  },
  "language_info": {
   "codemirror_mode": {
    "name": "ipython",
    "version": 3
   },
   "file_extension": ".py",
   "mimetype": "text/x-python",
   "name": "python",
   "nbconvert_exporter": "python",
   "pygments_lexer": "ipython3",
   "version": "3.7.4"
  }
 },
 "nbformat": 4,
 "nbformat_minor": 2
}
