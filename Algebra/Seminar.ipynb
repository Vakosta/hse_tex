{
 "cells": [
  {
   "cell_type": "markdown",
   "metadata": {},
   "source": [
    "# Семинар 12.03.2020"
   ]
  },
  {
   "cell_type": "markdown",
   "metadata": {},
   "source": [
    "## №3\n",
    "Найти размерность S суммы и размерность d пересечения линейных подпространств $L_1(a_1, a_2, a_3)$ и $L_2(b_1, b_2, b_3)$.\n",
    "\n",
    "$a_1 = (1, 1, 1, 1), a_2 = (1, -1, 1, -1), a_3 = (1, 3, 1, 3)$<br>\n",
    "$b_1 = (1, 2, 0, 2), b_2 = (1, 2, 1, 2), b_3 = (3, 1, 3, 1)$\n",
    "\n",
    "$L_1 + L_2 = \\{ x + y : x \\in L_1, y \\in L_2 \\}$ — являются линейными подпространствами.<br>\n",
    "$L_1 \\cap L_2$ — являются линейными подпространствами.<br>\n",
    "$L_1 \\cup L_2$ — в общем случае не являются линейными подпространствами.\n",
    "\n",
    "__Утверждение:__ $dim(L_1 + L_2) = dim L_1 + dim L_2 - dim(L_1 \\cap L_2)$\n",
    "\n",
    "Если $L_1 \\cap L_2 = \\{ 0 \\} \\Rightarrow L_1 \\oplus L_2$ — прямая сумма.\n",
    "\n",
    "__1 шаг:__ Упрощаем $L_1$ и $L_2$.<br>\n",
    "$L_1 = \\begin{pmatrix}\n",
    "          1 & 1 & 1 & 1\\\\\n",
    "          1 & -1 & 1 & -1\\\\\n",
    "          1 & 3 & 1 & 3\n",
    "      \\end{pmatrix} \\sim\n",
    "      \\begin{pmatrix}\n",
    "          1 & 1 & 1 & 1\\\\\n",
    "          0 & -2 & 0 & -2\\\\\n",
    "          0 & 2 & 0 & 2\n",
    "      \\end{pmatrix} \\Rightarrow dim L_1 = 2, L_1 = \\langle a_1, a_2 \\rangle$<br>\n",
    "$L_2 = \\begin{pmatrix}\n",
    "          1 & 2 & 0 & 2\\\\\n",
    "          1 & 2 & 1 & 2\\\\\n",
    "          3 & 1 & 3 & 1\n",
    "      \\end{pmatrix} \\sim\n",
    "      \\begin{pmatrix}\n",
    "          1 & 2 & 0 & 2\\\\\n",
    "          0 & 0 & 1 & 0\\\\\n",
    "          0 & -5 & 3 & -5\n",
    "      \\end{pmatrix} \\Rightarrow dim L_2 = 3, L_2 = \\langle b_1, b_2, b_3 \\rangle$\n",
    "\n",
    "__2 шаг:__ Ищем размерность $L_1 + L_2 = L(a_1, a_2, b_1, b_2, b_3)$.<br>\n",
    "$\\begin{pmatrix}\n",
    "    1 & 1 & 1 & 1\\\\\n",
    "    1 & -1 & 1 & -1\\\\\n",
    "    1 & 2 & 0 & 2\\\\\n",
    "    1 & 2 & 1 & 2\\\\\n",
    "    3 & 1 & 3 & 1\n",
    "\\end{pmatrix} \\sim\n",
    "\\begin{pmatrix}\n",
    "    1 & 1 & 1 & 1\\\\\n",
    "    0 & -2 & 0 & -2\\\\\n",
    "    0 & 1 & -1 & 1\\\\\n",
    "    0 & 1 & 0 & 1\\\\\n",
    "    0 & -2 & 0 & -2\n",
    "\\end{pmatrix} \\sim\n",
    "\\begin{pmatrix}\n",
    "    1 & 1 & 1 & 1\\\\\n",
    "    0 & 1 & 0 & 1\\\\\n",
    "    0 & 0 & 1 & 0\\\\\n",
    "\\end{pmatrix} \\Rightarrow dim(L_1 + L_2) = 3$.\n",
    "\n",
    "__3 шаг.__<br>\n",
    "$dim(L_1 \\cap L_2) = dim L_1 + dim L_2 - dim(L_1 + L_2) = 2 + 3 - 3 = 2$.\n",
    "\n",
    "__Ответ:__ $S = 3, d = 2$."
   ]
  },
  {
   "cell_type": "markdown",
   "metadata": {},
   "source": [
    "## №4\n",
    "Найти базисы суммы и пересечения линейных подпространств $L_1(a_1, a_2, a_3)$ и $L_2(b_1, b_2, b_3)$.\n",
    "\n",
    "$a_1 = (1, 2, 1), a_2 = (1, 1, -1), a_3 = (1, 3, 3)$<br>\n",
    "$b_1 = (2, 3, -1), b_2 = (1, 2, 2), b_3 = (1, 1, -3)$\n",
    "\n",
    "$dim(L_1 + L_2) = dim L_1 + dim L_2 - dim(L_1 \\cap L_2)$\n",
    "\n",
    "$L_1 :$"
   ]
  }
 ],
 "metadata": {
  "kernelspec": {
   "display_name": "Python 3",
   "language": "python",
   "name": "python3"
  },
  "language_info": {
   "codemirror_mode": {
    "name": "ipython",
    "version": 3
   },
   "file_extension": ".py",
   "mimetype": "text/x-python",
   "name": "python",
   "nbconvert_exporter": "python",
   "pygments_lexer": "ipython3",
   "version": "3.7.4"
  }
 },
 "nbformat": 4,
 "nbformat_minor": 2
}
