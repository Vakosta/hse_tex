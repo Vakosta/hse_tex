{
 "cells": [
  {
   "cell_type": "code",
   "execution_count": 1,
   "metadata": {},
   "outputs": [],
   "source": [
    "import sympy as sp\n",
    "x, y, l = sp.symbols('x y lambda')"
   ]
  },
  {
   "cell_type": "markdown",
   "metadata": {},
   "source": [
    "## Задача №1505\n",
    "\n",
    "Нашёл собственные значения с помощью кода Python ниже (для скорости и точности).\n",
    "\n",
    "### Матрица №1\n",
    "\n",
    "Собственные значения: $\\lambda_1 = 3, \\lambda_2 = 6$.\n",
    "\n",
    "\n",
    "Для $\\lambda = 3 : \\begin{pmatrix}\n",
    "    2 & -1 & -1\\\\\n",
    "    -1 & 2 & -1\\\\\n",
    "    -1 & -1 & 2\n",
    "\\end{pmatrix} \\sim\n",
    "\\begin{pmatrix}\n",
    "    2 & -1 & -1\\\\\n",
    "    0 & 1.5 & -1.5\\\\\n",
    "    0 & -1 & 2\n",
    "\\end{pmatrix} \\sim\n",
    "\\begin{pmatrix}\n",
    "    2 & -1 & -1\\\\\n",
    "    0 & 1.5 & -1.5\\\\\n",
    "    0 & 0 & 1\n",
    "\\end{pmatrix} \\Rightarrow\\\\\n",
    "x_1 = 0.5x_2 + 0.5x_3\\\\\n",
    "x_2 = x_3\\\\\n",
    "x_3 = x_3\\\\\n",
    "X =\n",
    "x_2\\begin{pmatrix}\n",
    "    1\\\\\n",
    "    0\\\\\n",
    "    0\n",
    "\\end{pmatrix} + x_3\n",
    "\\begin{pmatrix}\n",
    "    1\\\\\n",
    "    2\\\\\n",
    "    2\n",
    "\\end{pmatrix}$\n",
    "\n",
    "---\n",
    "\n",
    "Для $\\lambda = 6 : \\begin{pmatrix}\n",
    "    -1 & -1 & -1\\\\\n",
    "    -1 & -1 & -1\\\\\n",
    "    -1 & -1 & -1\n",
    "\\end{pmatrix} \\sim\n",
    "\\begin{pmatrix}\n",
    "    1 & 1 & 1\n",
    "\\end{pmatrix} \\Rightarrow\\\\\n",
    "x_1 = - x_2 - x_3\\\\\n",
    "X =\n",
    "x_2\\begin{pmatrix}\n",
    "    -1\\\\\n",
    "    1\\\\\n",
    "    0\n",
    "\\end{pmatrix} + x_3\n",
    "\\begin{pmatrix}\n",
    "    -1\\\\\n",
    "    0\\\\\n",
    "    1\n",
    "\\end{pmatrix}$\n",
    "\n",
    "Инвар. подпространства:\n",
    "1. $V, \\{ 0 \\}$;\n",
    "1. $L(y_1, y_2)$;\n",
    "1. $L(y_3, y_4)$;\n",
    "1. $\\forall x = c_1 y_1 + c_2 y_2$;\n",
    "1. $\\forall x = c_3 y_3 + c_4 y_4$.\n",
    "\n",
    "### Матрица №2\n",
    "\n",
    "Собственные значения: $\\lambda_1 = -7, \\lambda_2 = 7$.\n",
    "\n",
    "\n",
    "Для $\\lambda = -7 : \\begin{pmatrix}\n",
    "    1 & 2 & 3\\\\\n",
    "    2 & 4 & 6\\\\\n",
    "    3 & 6 & 9\n",
    "\\end{pmatrix} \\sim\n",
    "\\begin{pmatrix}\n",
    "    1 & 2 & 3\n",
    "\\end{pmatrix} \\Rightarrow\\\\\n",
    "x_1 = - 2x_2 - 3x_3\\\\\n",
    "X =\n",
    "x_2\\begin{pmatrix}\n",
    "    -2\\\\\n",
    "    1\\\\\n",
    "    0\n",
    "\\end{pmatrix} + x_3\n",
    "\\begin{pmatrix}\n",
    "    -3\\\\\n",
    "    0\\\\\n",
    "    1\n",
    "\\end{pmatrix}$\n",
    "\n",
    "---\n",
    "\n",
    "Для $\\lambda = 7 : \\begin{pmatrix}\n",
    "    -13 & 2 & 3\\\\\n",
    "    2 & -10 & 6\\\\\n",
    "    3 & 6 & -5\n",
    "\\end{pmatrix} \\sim\n",
    "\\begin{pmatrix}\n",
    "    -13 & 2 & 3\n",
    "\\end{pmatrix} \\Rightarrow\\\\\n",
    "x_1 = \\frac{2}{13}x_2 + \\frac{3}{13}x_3\\\\\n",
    "X =\n",
    "x_2\\begin{pmatrix}\n",
    "    \\frac{2}{13}\\\\\n",
    "    1\\\\\n",
    "    0\n",
    "\\end{pmatrix} + x_3\n",
    "\\begin{pmatrix}\n",
    "    \\frac{3}{13}\\\\\n",
    "    0\\\\\n",
    "    1\n",
    "\\end{pmatrix}$\n",
    "\n",
    "Инвар. подпространства:\n",
    "1. $V, \\{ 0 \\}$;\n",
    "1. $L(y'_1, y'_2)$;\n",
    "1. $L(y'_3, y'_4)$;\n",
    "1. $\\forall x = c'_1 y'_1 + c'_2 y'_2$;\n",
    "1. $\\forall x = c'_3 y'_3 + c'_4 y'_4$.\n",
    "\n",
    "---\n",
    "\n",
    "__Общие__ инвар. подпространства (не подходящие — подчёркнуты):\n",
    "1. $\\underline{V}, \\{ 0 \\}$;\n",
    "1. $\\underline{L(y_1, y_2)}$;\n",
    "1. $\\underline{L(y_3, y_4)}$;\n",
    "1. $\\underline{L(y'_1, y'_2)}$;\n",
    "1. $\\underline{L(y'_3, y'_4)}$;\n",
    "1. $\\forall x = c_1 y_1 + c_2 y_2 = c'_1 y'_1 + c'_2 y'_2$;\n",
    "1. $\\forall x = c_1 y_1 + c_2 y_2 = c'_3 y'_3 + c'_4 y'_4$;\n",
    "1. $\\forall x = c_3 y_3 + c_4 y_4 = c'_1 y'_1 + c'_2 y'_2$;\n",
    "1. $\\forall x = c_3 y_3 + c_4 y_4 = c'_3 y'_3 + c'_4 y'_4$."
   ]
  },
  {
   "cell_type": "markdown",
   "metadata": {},
   "source": [
    "#### Поиск собственных значений:"
   ]
  },
  {
   "cell_type": "code",
   "execution_count": 2,
   "metadata": {},
   "outputs": [
    {
     "name": "stdout",
     "output_type": "stream",
     "text": [
      "Собственные значения матр. №1: [3, 6]\n",
      "Собственные значения матр. №2: [-7, 7]\n"
     ]
    }
   ],
   "source": [
    "A = sp.Matrix([\n",
    "    [5, -1, -1],\n",
    "    [-1, 5, -1],\n",
    "    [-1, -1, 5]\n",
    "])\n",
    "B = sp.Matrix([\n",
    "    [-6, 2, 3],\n",
    "    [2, -3, 6],\n",
    "    [3, 6, 2]\n",
    "])\n",
    "\n",
    "A = A - sp.eye(3) * l\n",
    "B = B - sp.eye(3) * l\n",
    "\n",
    "print('Собственные значения матр. №1:', sp.solve(A.det()))\n",
    "print('Собственные значения матр. №2:', sp.solve(B.det()))"
   ]
  },
  {
   "cell_type": "markdown",
   "metadata": {},
   "source": [
    "#### Для матрицы №1:"
   ]
  },
  {
   "cell_type": "code",
   "execution_count": 3,
   "metadata": {},
   "outputs": [
    {
     "name": "stdout",
     "output_type": "stream",
     "text": [
      "Для lambda = 3\n"
     ]
    },
    {
     "data": {
      "text/latex": [
       "$\\displaystyle \\left[\\begin{matrix}2 & -1 & -1\\\\-1 & 2 & -1\\\\-1 & -1 & 2\\end{matrix}\\right]$"
      ],
      "text/plain": [
       "Matrix([\n",
       "[ 2, -1, -1],\n",
       "[-1,  2, -1],\n",
       "[-1, -1,  2]])"
      ]
     },
     "metadata": {},
     "output_type": "display_data"
    },
    {
     "name": "stdout",
     "output_type": "stream",
     "text": [
      "\n",
      "Для lambda = 6\n"
     ]
    },
    {
     "data": {
      "text/latex": [
       "$\\displaystyle \\left[\\begin{matrix}-1 & -1 & -1\\\\-1 & -1 & -1\\\\-1 & -1 & -1\\end{matrix}\\right]$"
      ],
      "text/plain": [
       "Matrix([\n",
       "[-1, -1, -1],\n",
       "[-1, -1, -1],\n",
       "[-1, -1, -1]])"
      ]
     },
     "metadata": {},
     "output_type": "display_data"
    }
   ],
   "source": [
    "print('Для lambda = 3')\n",
    "display(A.subs(l, 3))\n",
    "\n",
    "print()\n",
    "\n",
    "print('Для lambda = 6')\n",
    "display(A.subs(l, 6))"
   ]
  },
  {
   "cell_type": "markdown",
   "metadata": {},
   "source": [
    "#### Для матрицы №2:"
   ]
  },
  {
   "cell_type": "code",
   "execution_count": 4,
   "metadata": {},
   "outputs": [
    {
     "name": "stdout",
     "output_type": "stream",
     "text": [
      "Для lambda = -7\n"
     ]
    },
    {
     "data": {
      "text/latex": [
       "$\\displaystyle \\left[\\begin{matrix}1 & 2 & 3\\\\2 & 4 & 6\\\\3 & 6 & 9\\end{matrix}\\right]$"
      ],
      "text/plain": [
       "Matrix([\n",
       "[1, 2, 3],\n",
       "[2, 4, 6],\n",
       "[3, 6, 9]])"
      ]
     },
     "metadata": {},
     "output_type": "display_data"
    },
    {
     "name": "stdout",
     "output_type": "stream",
     "text": [
      "\n",
      "Для lambda = 7\n"
     ]
    },
    {
     "data": {
      "text/latex": [
       "$\\displaystyle \\left[\\begin{matrix}-13 & 2 & 3\\\\2 & -10 & 6\\\\3 & 6 & -5\\end{matrix}\\right]$"
      ],
      "text/plain": [
       "Matrix([\n",
       "[-13,   2,  3],\n",
       "[  2, -10,  6],\n",
       "[  3,   6, -5]])"
      ]
     },
     "metadata": {},
     "output_type": "display_data"
    }
   ],
   "source": [
    "print('Для lambda = -7')\n",
    "display(B.subs(l, -7))\n",
    "\n",
    "print()\n",
    "\n",
    "print('Для lambda = 7')\n",
    "display(B.subs(l, 7))"
   ]
  }
 ],
 "metadata": {
  "kernelspec": {
   "display_name": "Python 3",
   "language": "python",
   "name": "python3"
  },
  "language_info": {
   "codemirror_mode": {
    "name": "ipython",
    "version": 3
   },
   "file_extension": ".py",
   "mimetype": "text/x-python",
   "name": "python",
   "nbconvert_exporter": "python",
   "pygments_lexer": "ipython3",
   "version": "3.7.4"
  }
 },
 "nbformat": 4,
 "nbformat_minor": 2
}
