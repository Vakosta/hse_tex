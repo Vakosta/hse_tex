{
 "cells": [
  {
   "cell_type": "code",
   "execution_count": 1,
   "metadata": {},
   "outputs": [],
   "source": [
    "import sympy as sp"
   ]
  },
  {
   "cell_type": "markdown",
   "metadata": {},
   "source": [
    "# Индивидуальное домашнее задание №4 по алгебре\n",
    "## Выполнил Анненков Владислав"
   ]
  },
  {
   "cell_type": "markdown",
   "metadata": {},
   "source": [
    "## Задание 2\n",
    "Применить алгоритм нахождения жордановой нормальной формы для матрицы<br>\n",
    "$A = \\begin{pmatrix}\n",
    "    -2 & 1 & 0 & 0\\\\\n",
    "    -18 & 7 & 1 & 0\\\\\n",
    "    242 & -39 & 13 & 0\\\\\n",
    "    540 & -80 & 10 & 6\n",
    "\\end{pmatrix}$\n",
    "\n",
    "Первым действием ищем собственные значения для матрицы.<br>\n",
    "$\\begin{vmatrix}\n",
    "    -2 - \\lambda & 1 & 0 & 0\\\\\n",
    "    -18 & 7 - \\lambda & 1 & 0\\\\\n",
    "    242 & -39 & 13 - \\lambda & 0\\\\\n",
    "    540 & -80 & 10 & 6 - \\lambda\n",
    "\\end{vmatrix} =$<br>\n",
    "$= (6 - \\lambda) (-1 ((-2 - \\lambda) (-39) - 242) + (13 - \\lambda) ((-2 - \\lambda) (7 - \\lambda) + 18)) =$<br>\n",
    "$= \\lambda^4 - 24\\lambda^3 + 216\\lambda^2 - 864\\lambda + 1296 = (\\lambda - 6)^4$\n",
    "\n",
    "Далее ищем собственные векторы для $\\lambda = 6$.<br>\n",
    "$\\begin{pmatrix}\n",
    "    -2 - 6 & 1 & 0 & 0\\\\\n",
    "    -18 & 7 - 6 & 1 & 0\\\\\n",
    "    242 & -39 & 13 - 6 & 0\\\\\n",
    "    540 & -80 & 10 & 6 - 6\n",
    "\\end{pmatrix} =\n",
    "\\begin{pmatrix}\n",
    "    -8 & 1 & 0 & 0\\\\\n",
    "    -18 & 1 & 1 & 0\\\\\n",
    "    242 & -39 & 7 & 0\\\\\n",
    "    540 & -80 & 10 & 0\n",
    "\\end{pmatrix} =\n",
    "\\begin{pmatrix}\n",
    "    -8 & 1 & 0 & 0\\\\\n",
    "    -10 & 0 & 1 & 0\\\\\n",
    "    -70 & 0 & 7 & 0\\\\\n",
    "    -100 & 0 & 10 & 0\n",
    "\\end{pmatrix} =\n",
    "\\begin{pmatrix}\n",
    "    -8 & 1 & 0 & 0\\\\\n",
    "    -10 & 0 & 1 & 0\\\\\n",
    "    0 & 0 & 0 & 0\\\\\n",
    "    0 & 0 & 0 & 0\n",
    "\\end{pmatrix}$\n",
    "\n",
    "$x_1 = x_1$<br>\n",
    "$x_2 = 8x_1$<br>\n",
    "$x_3 = 10x_1$<br>\n",
    "$x_4 = x_4$\n",
    "\n",
    "$y_1 = \\begin{pmatrix}\n",
    "    1\\\\\n",
    "    8\\\\\n",
    "    10\\\\\n",
    "    1\n",
    "\\end{pmatrix},\n",
    "y_2 = \\begin{pmatrix}\n",
    "    0\\\\\n",
    "    0\\\\\n",
    "    0\\\\\n",
    "    1\n",
    "\\end{pmatrix}$\n",
    "\n",
    "Мы имеем алгебраическую кратность = 4 и геометрическую кратность = 2. Значит, жорданова матрица имеет размерность 4, а количество жордановых клеток — 2.<br>\n",
    "Может быть два варианта — либо жордановы клетки размерности 3 и 1, либо 2 и 2, но точно мы сказать не можем.\n",
    "\n",
    "Определим число $q$, то есть минимальную степень, при которой $(A - \\lambda E)^q = (A - \\lambda E)^{q + 1}$.<br>\n",
    "$\\begin{pmatrix}\n",
    "    -8 & 1 & 0 & 0\\\\\n",
    "    -18 & 1 & 1 & 0\\\\\n",
    "    242 & -39 & 7 & 0\\\\\n",
    "    540 & -80 & 10 & 0\n",
    "\\end{pmatrix}^2 =\n",
    "\\begin{pmatrix}\n",
    "    46 & -7 & 1 & 0\\\\\n",
    "    368 & -56 & 8 & 0\\\\\n",
    "    460 & -70 & 10 & 0\\\\\n",
    "    -460 & 70 & -10 & 0\n",
    "\\end{pmatrix};$<br>\n",
    "$\\begin{pmatrix}\n",
    "    -8 & 1 & 0 & 0\\\\\n",
    "    -18 & 1 & 1 & 0\\\\\n",
    "    242 & -39 & 7 & 0\\\\\n",
    "    540 & -80 & 10 & 0\n",
    "\\end{pmatrix}^3 =\n",
    "0$\n",
    "\n",
    "Следовательно, $q = 3$. Значит, жорданова матрица имеет две клетки размера 3 и 1 со значением 6 на диагонали:<br>\n",
    "$\\begin{pmatrix}\n",
    "    6 & 1 & 0 & 0\\\\\n",
    "    0 & 6 & 1 & 0\\\\\n",
    "    0 & 0 & 6 & 0\\\\\n",
    "    0 & 0 & 0 & 6\n",
    "\\end{pmatrix}$"
   ]
  },
  {
   "cell_type": "markdown",
   "metadata": {},
   "source": [
    "---\n",
    "## Задание 5\n",
    "Найти расстояние от вектора $\\alpha = (-1, -3, 4, 1)$ до подпространства $L$, заданного системой уравнений. Найти косинус угла между ними.\n",
    "\n",
    "Система из трёх уравнений:<br>\n",
    "1. $9x_2 - 9x_3 + 3x_4 = 0$<br>\n",
    "1. $-8x_1 + 10x_2 - x_3 + 2x_4 = 0$<br>\n",
    "1. $-6x_1 + x_3 -6x_4 = 0$\n",
    "\n",
    "---\n",
    "\n",
    "_В процессе решения..._"
   ]
  },
  {
   "cell_type": "code",
   "execution_count": 2,
   "metadata": {},
   "outputs": [],
   "source": [
    "# Скалярное произведение двух векторов\n",
    "def sm(a, b):\n",
    "    s = 0\n",
    "    for i in range(len(a)):\n",
    "        s += a[i] * b[i]\n",
    "\n",
    "    return s\n",
    "\n",
    "\n",
    "# Длина вектора\n",
    "def l(a):\n",
    "    s = 0\n",
    "    for i in a:\n",
    "        s += i**2\n",
    "\n",
    "    return sp.sqrt(s)"
   ]
  },
  {
   "cell_type": "code",
   "execution_count": 3,
   "metadata": {},
   "outputs": [],
   "source": [
    "x, yi, a = sp.symbols('x y alpha')\n",
    "\n",
    "a = sp.Matrix((-1, -3, 4, 1))\n",
    "a1 = sp.Matrix((0, 9, -9, 3))\n",
    "a2 = sp.Matrix((-8, 10, -1, 2))\n",
    "a3 = sp.Matrix((-6, 0, 1, -6))\n",
    "\n",
    "A = sp.Matrix([\n",
    "    [sm(a1, a1), sm(a1, a2), sm(a1, a3)],\n",
    "    [sm(a2, a1), sm(a2, a2), sm(a2, a3)],\n",
    "    [sm(a3, a1), sm(a3, a2), sm(a3, a3)]\n",
    "])\n",
    "b = sp.Matrix([sm(a, a1), sm(a, a2), sm(a, a3)])"
   ]
  },
  {
   "cell_type": "code",
   "execution_count": 4,
   "metadata": {},
   "outputs": [
    {
     "data": {
      "text/latex": [
       "$\\displaystyle \\left\\{\\left( - \\frac{35594}{64473}, \\  \\frac{5534}{21491}, \\  - \\frac{5864}{21491}\\right)\\right\\}$"
      ],
      "text/plain": [
       "{(-35594/64473, 5534/21491, -5864/21491)}"
      ]
     },
     "execution_count": 4,
     "metadata": {},
     "output_type": "execute_result"
    }
   ],
   "source": [
    "solves = sp.linsolve((A, b))\n",
    "solves"
   ]
  },
  {
   "cell_type": "code",
   "execution_count": 5,
   "metadata": {},
   "outputs": [
    {
     "data": {
      "text/latex": [
       "$\\displaystyle \\left[\\begin{matrix}- \\frac{9088}{21491}\\\\- \\frac{51442}{21491}\\\\\\frac{95384}{21491}\\\\\\frac{10658}{21491}\\end{matrix}\\right]$"
      ],
      "text/plain": [
       "Matrix([\n",
       "[ -9088/21491],\n",
       "[-51442/21491],\n",
       "[ 95384/21491],\n",
       "[ 10658/21491]])"
      ]
     },
     "execution_count": 5,
     "metadata": {},
     "output_type": "execute_result"
    }
   ],
   "source": [
    "s_list = list(solves)[0]\n",
    "\n",
    "y = s_list[0] * a1 + s_list[1] * a2 + s_list[2] * a3\n",
    "y"
   ]
  },
  {
   "cell_type": "code",
   "execution_count": 6,
   "metadata": {},
   "outputs": [
    {
     "data": {
      "text/latex": [
       "$\\displaystyle \\left[\\begin{matrix}- \\frac{12403}{21491}\\\\- \\frac{13031}{21491}\\\\- \\frac{9420}{21491}\\\\\\frac{10833}{21491}\\end{matrix}\\right]$"
      ],
      "text/plain": [
       "Matrix([\n",
       "[-12403/21491],\n",
       "[-13031/21491],\n",
       "[ -9420/21491],\n",
       "[ 10833/21491]])"
      ]
     },
     "execution_count": 6,
     "metadata": {},
     "output_type": "execute_result"
    }
   ],
   "source": [
    "z = a - y\n",
    "z"
   ]
  },
  {
   "cell_type": "code",
   "execution_count": 7,
   "metadata": {},
   "outputs": [
    {
     "data": {
      "text/latex": [
       "$\\displaystyle \\frac{157 \\sqrt{21491}}{21491}$"
      ],
      "text/plain": [
       "157*sqrt(21491)/21491"
      ]
     },
     "execution_count": 7,
     "metadata": {},
     "output_type": "execute_result"
    }
   ],
   "source": [
    "l(z)"
   ]
  },
  {
   "cell_type": "code",
   "execution_count": 8,
   "metadata": {},
   "outputs": [
    {
     "data": {
      "text/latex": [
       "$\\displaystyle \\frac{2 \\sqrt{8955428646}}{193419}$"
      ],
      "text/plain": [
       "2*sqrt(8955428646)/193419"
      ]
     },
     "execution_count": 8,
     "metadata": {},
     "output_type": "execute_result"
    }
   ],
   "source": [
    "# Косинус угла между подпространством и вектором\n",
    "sm(a, y) / (l(a) * l(y))"
   ]
  },
  {
   "cell_type": "markdown",
   "metadata": {},
   "source": [
    "---\n",
    "## Задание 7\n",
    "Найти расстояние между линейными многообразиями $\\{ t_1v_1 + t_2v_2 + x_1 \\}$ и $\\{ t_1w_1 + t_2w_2 + x_2 \\}$.\n",
    "\n",
    "$v_1 = (3, 3, 0, -3, -3)$<br>\n",
    "$v_2 = (4, -4, 0, -4, 4)$<br>\n",
    "$w_1 = (5, 5, 0, 5, 5)$<br>\n",
    "$w_2 = (3, -3, 0, 3, -3)$<br>\n",
    "$x_1 = (10, -25, 64, 43, 63)$<br>\n",
    "$x_2 = (-51, -82, -5, -89, -72)$\n",
    "\n",
    "Задачу можно свести к поиску расстояния от точки (вектора) до линейного многообразия. Для этого возьму какую-то точку во втором многообразии.\n",
    "\n",
    "За столбцы со свободными значениями отвечают векторы $x_1$ и $x_2$. Поэтому вектор $x_2$ можно взять в качестве точки, принадлежащей линейному многообразию $L_2$.\n",
    "\n",
    "Далее действуем по алгоритму поиска расстояния между точкой и линейным многообразием. Для этого нам потребуются матрицы $C$ и $\\widetilde{C}$.<br>\n",
    "$$C = \\begin{pmatrix}\n",
    "    3 & 4\\\\\n",
    "    3 & -4\\\\\n",
    "    0 & 0\\\\\n",
    "    -3 & -4\\\\\n",
    "    -3 & 4\n",
    "\\end{pmatrix}$$\n",
    "\n",
    "Для матрицы $\\widetilde{C}$ требуется вычислить $x - x_0$, где $x$ это $x_2$, а $x_0$ это $x_1$.<br>\n",
    "$$x_2 - x_1 = \\begin{pmatrix}\n",
    "    -61\\\\\n",
    "    -57\\\\\n",
    "    -69\\\\\n",
    "    -132\\\\\n",
    "    -135\n",
    "\\end{pmatrix} \\Rightarrow \\widetilde{C} = \\begin{pmatrix}\n",
    "    3 & 4 & -61\\\\\n",
    "    3 & -4 & -57\\\\\n",
    "    0 & 0 & -69\\\\\n",
    "    -3 & -4 & -132\\\\\n",
    "    -3 & 4 & -135\n",
    "\\end{pmatrix}$$\n",
    "\n",
    "$p^2(x_2, L_1) = \\frac{\\widetilde{C}^T \\widetilde{C}}{C^T C} = \\frac{83635}{2}$<br>\n",
    "$p(x_2, L_1) = \\sqrt{\\frac{83635}{2}}$\n",
    "\n",
    "__Ответ:__ $\\sqrt{\\frac{83635}{2}}$."
   ]
  },
  {
   "cell_type": "code",
   "execution_count": 9,
   "metadata": {},
   "outputs": [],
   "source": [
    "l1, l2, l3, l4 = sp.symbols('lambda_1 lambda_2 lambda_3 lambda_4')\n",
    "\n",
    "v1 = sp.Matrix((3, 3, 0, -3, -3)).transpose()\n",
    "v2 = sp.Matrix((4, -4, 0, -4, 4)).transpose()\n",
    "w1 = sp.Matrix((5, 5, 0, 5, 5)).transpose()\n",
    "w2 = sp.Matrix((3, -3, 0, 3, -3)).transpose()\n",
    "x1 = sp.Matrix((10, -25, 64, 43, 63)).transpose()\n",
    "x2 = sp.Matrix((-51, -82, -5, -89, -72)).transpose()"
   ]
  },
  {
   "cell_type": "code",
   "execution_count": 10,
   "metadata": {},
   "outputs": [
    {
     "data": {
      "text/latex": [
       "$\\displaystyle \\left[\\begin{matrix}3 \\lambda_{1} & 4 \\lambda_{2} & 10\\\\3 \\lambda_{1} & - 4 \\lambda_{2} & -25\\\\0 & 0 & 64\\\\- 3 \\lambda_{1} & - 4 \\lambda_{2} & 43\\\\- 3 \\lambda_{1} & 4 \\lambda_{2} & 63\\end{matrix}\\right]$"
      ],
      "text/plain": [
       "Matrix([\n",
       "[ 3*lambda_1,  4*lambda_2,  10],\n",
       "[ 3*lambda_1, -4*lambda_2, -25],\n",
       "[          0,           0,  64],\n",
       "[-3*lambda_1, -4*lambda_2,  43],\n",
       "[-3*lambda_1,  4*lambda_2,  63]])"
      ]
     },
     "execution_count": 10,
     "metadata": {},
     "output_type": "execute_result"
    }
   ],
   "source": [
    "L1 = sp.Matrix([l1 * v1, l2 * v2, x1])\n",
    "L1.transpose()"
   ]
  },
  {
   "cell_type": "code",
   "execution_count": 11,
   "metadata": {},
   "outputs": [
    {
     "data": {
      "text/latex": [
       "$\\displaystyle \\left[\\begin{matrix}5 \\lambda_{3} & 3 \\lambda_{4} & -51\\\\5 \\lambda_{3} & - 3 \\lambda_{4} & -82\\\\0 & 0 & -5\\\\5 \\lambda_{3} & 3 \\lambda_{4} & -89\\\\5 \\lambda_{3} & - 3 \\lambda_{4} & -72\\end{matrix}\\right]$"
      ],
      "text/plain": [
       "Matrix([\n",
       "[5*lambda_3,  3*lambda_4, -51],\n",
       "[5*lambda_3, -3*lambda_4, -82],\n",
       "[         0,           0,  -5],\n",
       "[5*lambda_3,  3*lambda_4, -89],\n",
       "[5*lambda_3, -3*lambda_4, -72]])"
      ]
     },
     "execution_count": 11,
     "metadata": {},
     "output_type": "execute_result"
    }
   ],
   "source": [
    "L2 = sp.Matrix([l3 * w1, l4 * w2, x2])\n",
    "L2.transpose()"
   ]
  },
  {
   "cell_type": "code",
   "execution_count": 12,
   "metadata": {},
   "outputs": [
    {
     "data": {
      "text/latex": [
       "$\\displaystyle \\left[\\begin{matrix}3 & 4\\\\3 & -4\\\\0 & 0\\\\-3 & -4\\\\-3 & 4\\end{matrix}\\right]$"
      ],
      "text/plain": [
       "Matrix([\n",
       "[ 3,  4],\n",
       "[ 3, -4],\n",
       "[ 0,  0],\n",
       "[-3, -4],\n",
       "[-3,  4]])"
      ]
     },
     "execution_count": 12,
     "metadata": {},
     "output_type": "execute_result"
    }
   ],
   "source": [
    "C = sp.Matrix([L1[0, :].subs(l1, 1), L1[1, :].subs(l2, 1)]).transpose()\n",
    "C"
   ]
  },
  {
   "cell_type": "code",
   "execution_count": 13,
   "metadata": {},
   "outputs": [
    {
     "data": {
      "text/latex": [
       "$\\displaystyle \\left[\\begin{matrix}3 & 4 & -61\\\\3 & -4 & -57\\\\0 & 0 & -69\\\\-3 & -4 & -132\\\\-3 & 4 & -135\\end{matrix}\\right]$"
      ],
      "text/plain": [
       "Matrix([\n",
       "[ 3,  4,  -61],\n",
       "[ 3, -4,  -57],\n",
       "[ 0,  0,  -69],\n",
       "[-3, -4, -132],\n",
       "[-3,  4, -135]])"
      ]
     },
     "execution_count": 13,
     "metadata": {},
     "output_type": "execute_result"
    }
   ],
   "source": [
    "Ct = sp.Matrix([L1[0, :].subs(l1, 1), L1[1, :].subs(l2, 1),\n",
    "                x2 - L1[2, :]]).transpose()\n",
    "Ct"
   ]
  },
  {
   "cell_type": "code",
   "execution_count": 14,
   "metadata": {},
   "outputs": [
    {
     "data": {
      "text/latex": [
       "$\\displaystyle \\frac{83635}{2}$"
      ],
      "text/plain": [
       "83635/2"
      ]
     },
     "execution_count": 14,
     "metadata": {},
     "output_type": "execute_result"
    }
   ],
   "source": [
    "((Ct.transpose() * Ct).det() / (C.transpose() * C).det())"
   ]
  },
  {
   "cell_type": "markdown",
   "metadata": {},
   "source": [
    "---\n",
    "## Задание 9\n",
    "Можно ли матрицу оператора, заданного матрицей $А$ в некотором ортонормированном базисе, привести ортогональным преобразованием к диагональному виду? Если да, то указать преобразование и диагональный вид.<br>\n",
    "$A = \\begin{pmatrix}\n",
    "    \\frac{5}{9} & \\frac{20}{9} & -\\frac{4}{9}\\\\\n",
    "    \\frac{20}{9} & -\\frac{1}{9} & -\\frac{16}{9}\\\\\n",
    "    -\\frac{4}{9} & -\\frac{16}{9} & -\\frac{13}{9}\n",
    "\\end{pmatrix}$\n",
    "\n",
    "Найдём собственные значения.<br>\n",
    "$\\begin{vmatrix}\n",
    "    \\frac{5}{9} - \\lambda & \\frac{20}{9} & -\\frac{4}{9}\\\\\n",
    "    \\frac{20}{9} & -\\frac{1}{9} - \\lambda & -\\frac{16}{9}\\\\\n",
    "    -\\frac{4}{9} & -\\frac{16}{9} & -\\frac{13}{9} - \\lambda\n",
    "\\end{vmatrix} =$<br>\n",
    "$= (\\frac{5}{9} - \\lambda) ((-\\frac{1}{9} - \\lambda) (-\\frac{13}{9} - \\lambda) - \\frac{16}{9} \\cdot \\frac{16}{9}) - \\frac{20}{9} (-\\frac{20}{9} \\cdot (\\frac{13}{9} + \\lambda) - \\frac{4}{9} \\cdot \\frac{16}{9}) - \\frac{4}{9} (-\\frac{20}{9} \\cdot \\frac{16}{9} - \\frac{4}{9} \\cdot (\\frac{1}{9} + \\lambda)) =$<br>\n",
    "$-\\lambda^3 - \\lambda^2 + 9\\lambda + 9 = (\\lambda - 3) (\\lambda + 3) (\\lambda + 1)$\n",
    "\n",
    "Получилось 3 собственных значения. Каждое собственное значение алгебраической кратности 1. Геометрическая кратность не может быть больше алгебраической, геометрическая кратность также не может быть 0. Таким образом, геометрические кратности у каждого собств. значения тоже равны 1. Алг. кратность = геом. кратности у каждого собств. значения. При таком условии жорданова матрица имеет диагональный вид:<br>\n",
    "$J = \\begin{pmatrix}\n",
    "    -3 & 0 & 0\\\\\n",
    "    0 & 3 & 0\\\\\n",
    "    0 & 0 & -1\n",
    "\\end{pmatrix}$\n",
    "\n",
    "$J$ — это диагональный вид исходной матрицы.\n",
    "\n",
    "---\n",
    "\n",
    "_В процессе решения..._"
   ]
  }
 ],
 "metadata": {
  "kernelspec": {
   "display_name": "Python 3",
   "language": "python",
   "name": "python3"
  },
  "language_info": {
   "codemirror_mode": {
    "name": "ipython",
    "version": 3
   },
   "file_extension": ".py",
   "mimetype": "text/x-python",
   "name": "python",
   "nbconvert_exporter": "python",
   "pygments_lexer": "ipython3",
   "version": "3.7.4"
  }
 },
 "nbformat": 4,
 "nbformat_minor": 2
}
