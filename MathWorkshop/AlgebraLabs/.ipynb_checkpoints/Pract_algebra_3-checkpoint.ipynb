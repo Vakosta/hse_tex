{
 "cells": [
  {
   "cell_type": "markdown",
   "metadata": {},
   "source": [
    "# Занятие 3\n",
    "# Алгебра\n",
    "## Решение систем линейных алгебраических уравнений (СЛАУ)"
   ]
  },
  {
   "cell_type": "markdown",
   "metadata": {},
   "source": [
    "https://docs.sympy.org/latest/modules/solvers/solveset.html#sympy.solvers.solveset.linsolve"
   ]
  },
  {
   "cell_type": "markdown",
   "metadata": {},
   "source": [
    "sympy.solvers.solveset.linsolve(system, *symbols)\n",
    "\n",
    "Это решатель СЛАУ из N уравнений от M переменных, в том числе неоопределенных и переопределенных. Возможное число решений ноль, одно или бесконечное множество. В случае несовместной СЛАУ ответ - пустое множество или выдается сообщение об ошибке ValueError, а бесконечное число решений описывается параметрически выражениями от переменных СЛАУ.\n",
    "Входные данные могут быть представлены тремя способами.\n",
    "1.\tВ виде расширенной матрицы СЛАУ. \n",
    "2.\tВ виде списка из уравнений\n",
    "3.\tВ матричном виде, т.е. в виде (A,b), где А – матрица левой части, b – столбец свободных членов\n",
    "\n",
    "Рассмотрим СЛАУ\n",
    "$$\n",
    "\\left\\{\n",
    "\\begin{matrix}\n",
    "2x+3y-z=5\\\\\n",
    "3x-2y+z=2\\\\\n",
    "x+y-z=0\n",
    "\\end{matrix}\n",
    "\\right.\n",
    "$$\n",
    "\n",
    "### Способ 1.\n",
    "Перечислять переменные необязательно"
   ]
  },
  {
   "cell_type": "code",
   "execution_count": 27,
   "metadata": {},
   "outputs": [],
   "source": [
    "import sympy\n",
    "from sympy import *"
   ]
  },
  {
   "cell_type": "code",
   "execution_count": 28,
   "metadata": {},
   "outputs": [
    {
     "data": {
      "text/latex": [
       "$\\displaystyle \\left\\{\\left( 1, \\  2, \\  3\\right)\\right\\}$"
      ],
      "text/plain": [
       "{(1, 2, 3)}"
      ]
     },
     "execution_count": 28,
     "metadata": {},
     "output_type": "execute_result"
    }
   ],
   "source": [
    "Ab=Matrix([[2,3,-1,5],[3,-2,1,2],[1,1,-1,0]])\n",
    "linsolve(Ab)"
   ]
  },
  {
   "cell_type": "markdown",
   "metadata": {},
   "source": [
    "### Способ 2.\n",
    "Обязательно указывать имена переменных"
   ]
  },
  {
   "cell_type": "code",
   "execution_count": 29,
   "metadata": {},
   "outputs": [
    {
     "data": {
      "text/latex": [
       "$\\displaystyle \\left\\{\\left( 1, \\  2, \\  3\\right)\\right\\}$"
      ],
      "text/plain": [
       "{(1, 2, 3)}"
      ]
     },
     "execution_count": 29,
     "metadata": {},
     "output_type": "execute_result"
    }
   ],
   "source": [
    "x,y,z=symbols('x y z')\n",
    "System_eq=[2*x+3*y-z-5,3*x-2*y+z-2,x+y-z]\n",
    "linsolve(System_eq,x,y,z)"
   ]
  },
  {
   "cell_type": "markdown",
   "metadata": {},
   "source": [
    "### Способ 3.\n",
    "Перечислять переменные необязательно"
   ]
  },
  {
   "cell_type": "code",
   "execution_count": 30,
   "metadata": {},
   "outputs": [
    {
     "data": {
      "text/latex": [
       "$\\displaystyle \\left\\{\\left( 1, \\  2, \\  3\\right)\\right\\}$"
      ],
      "text/plain": [
       "{(1, 2, 3)}"
      ]
     },
     "execution_count": 30,
     "metadata": {},
     "output_type": "execute_result"
    }
   ],
   "source": [
    "A=Matrix([[2,3,-1],[3,-2,1],[1,1,-1]])\n",
    "b=Matrix([[5],[2],[0]])\n",
    "linsolve((A,b))"
   ]
  },
  {
   "cell_type": "markdown",
   "metadata": {},
   "source": [
    "### Рассмотрим несовместную СЛАУ\n",
    "$$\n",
    "\\left\\{\n",
    "\\begin{matrix}\n",
    "2x+3y-z=5\\\\\n",
    "3x-2y+z=2\\\\\n",
    "5x+y=0\n",
    "\\end{matrix}\n",
    "\\right.\n",
    "$$"
   ]
  },
  {
   "cell_type": "code",
   "execution_count": 31,
   "metadata": {},
   "outputs": [
    {
     "data": {
      "text/latex": [
       "$\\displaystyle \\emptyset$"
      ],
      "text/plain": [
       "EmptySet()"
      ]
     },
     "execution_count": 31,
     "metadata": {},
     "output_type": "execute_result"
    }
   ],
   "source": [
    "A=Matrix([[2,3,-1],[3,-2,1],[5,1,0]])\n",
    "b=Matrix([[5],[2],[0]])\n",
    "linsolve((A,b))"
   ]
  },
  {
   "cell_type": "markdown",
   "metadata": {},
   "source": [
    "### Рассмотрим недоопределенную СЛАУ\n",
    "$$\n",
    "\\left\\{\n",
    "\\begin{matrix}\n",
    "2x+3y-z=5\\\\\n",
    "3x-2y+z=2\\\\\n",
    "5x+y=7\n",
    "\\end{matrix}\n",
    "\\right.\n",
    "$$"
   ]
  },
  {
   "cell_type": "code",
   "execution_count": 32,
   "metadata": {},
   "outputs": [
    {
     "data": {
      "text/latex": [
       "$\\displaystyle \\left\\{\\left( \\frac{16}{13} - \\frac{\\tau_{0}}{13}, \\  \\frac{5 \\tau_{0}}{13} + \\frac{11}{13}, \\  \\tau_{0}\\right)\\right\\}$"
      ],
      "text/plain": [
       "{(16/13 - tau0/13, 5*tau0/13 + 11/13, tau0)}"
      ]
     },
     "execution_count": 32,
     "metadata": {},
     "output_type": "execute_result"
    }
   ],
   "source": [
    "A=Matrix([[2,3,-1],[3,-2,1],[5,1,0]])\n",
    "b=Matrix([[5],[2],[7]])\n",
    "linsolve((A,b))"
   ]
  },
  {
   "cell_type": "markdown",
   "metadata": {},
   "source": [
    "#### Комментарий: linsolve сам придумал имя независимой переменной"
   ]
  },
  {
   "cell_type": "code",
   "execution_count": 33,
   "metadata": {},
   "outputs": [
    {
     "data": {
      "text/latex": [
       "$\\displaystyle \\left\\{\\left( \\frac{16}{13} - \\frac{z}{13}, \\  \\frac{5 z}{13} + \\frac{11}{13}, \\  z\\right)\\right\\}$"
      ],
      "text/plain": [
       "{(16/13 - z/13, 5*z/13 + 11/13, z)}"
      ]
     },
     "execution_count": 33,
     "metadata": {},
     "output_type": "execute_result"
    }
   ],
   "source": [
    "linsolve((A,b),x,y,z)"
   ]
  },
  {
   "cell_type": "markdown",
   "metadata": {},
   "source": [
    "#### Комментарий: linsolve выбрал имя независимой переменной из списка своих аргументов"
   ]
  },
  {
   "cell_type": "markdown",
   "metadata": {},
   "source": [
    "## Приведение СЛАУ к матричному виду\n",
    "sympy.solvers.solveset.linear_eq_to_matrix(equations, *symbols)\n",
    "\n"
   ]
  },
  {
   "cell_type": "code",
   "execution_count": 38,
   "metadata": {},
   "outputs": [
    {
     "data": {
      "text/plain": [
       "(Matrix([\n",
       " [c,  0, 1],\n",
       " [0,  1, 1],\n",
       " [1, -1, 0]]), Matrix([\n",
       " [c + 1],\n",
       " [    0],\n",
       " [    0]]))"
      ]
     },
     "execution_count": 38,
     "metadata": {},
     "output_type": "execute_result"
    }
   ],
   "source": [
    "c=Symbol('c')\n",
    "eqns = [c*x + z - 1 - c, y + z, x - y]\n",
    "A, b = linear_eq_to_matrix(eqns, [x, y, z])\n",
    "A,b"
   ]
  },
  {
   "cell_type": "code",
   "execution_count": 39,
   "metadata": {},
   "outputs": [
    {
     "data": {
      "text/latex": [
       "$\\displaystyle \\left\\{\\left( \\frac{c + 1}{c - 1}, \\  \\frac{c + 1}{c - 1}, \\  - \\frac{c + 1}{c - 1}\\right)\\right\\}$"
      ],
      "text/plain": [
       "{((c + 1)/(c - 1), (c + 1)/(c - 1), -(c + 1)/(c - 1))}"
      ]
     },
     "execution_count": 39,
     "metadata": {},
     "output_type": "execute_result"
    }
   ],
   "source": [
    "linsolve((A,b))"
   ]
  },
  {
   "cell_type": "markdown",
   "metadata": {},
   "source": [
    "## Множества в sympy\n",
    "https://docs.sympy.org/latest/_modules/sympy/sets/sets.html#FiniteSet\n",
    "    \n",
    "Множество - неупорядоченный набор элементов\n",
    "\n",
    "В sympy конечное множество называется FiniteSet\n",
    "\n"
   ]
  },
  {
   "cell_type": "markdown",
   "metadata": {},
   "source": [
    "## Проверка правильности рассчетов:\n",
    "\n",
    "Пусть получено решение СЛАУ АХ=b."
   ]
  },
  {
   "cell_type": "code",
   "execution_count": 52,
   "metadata": {},
   "outputs": [
    {
     "data": {
      "text/latex": [
       "$\\displaystyle \\left[\\begin{matrix}c & 0 & 1\\\\0 & 1 & 1\\\\1 & -1 & 0\\end{matrix}\\right]$"
      ],
      "text/plain": [
       "Matrix([\n",
       "[c,  0, 1],\n",
       "[0,  1, 1],\n",
       "[1, -1, 0]])"
      ]
     },
     "metadata": {},
     "output_type": "display_data"
    },
    {
     "data": {
      "text/latex": [
       "$\\displaystyle \\left[\\begin{matrix}c + 1\\\\0\\\\0\\end{matrix}\\right]$"
      ],
      "text/plain": [
       "Matrix([\n",
       "[c + 1],\n",
       "[    0],\n",
       "[    0]])"
      ]
     },
     "metadata": {},
     "output_type": "display_data"
    },
    {
     "data": {
      "text/latex": [
       "$\\displaystyle \\left\\{\\left( \\frac{c + 1}{c - 1}, \\  \\frac{c + 1}{c - 1}, \\  - \\frac{c + 1}{c - 1}\\right)\\right\\}$"
      ],
      "text/plain": [
       "{((c + 1)/(c - 1), (c + 1)/(c - 1), -(c + 1)/(c - 1))}"
      ]
     },
     "metadata": {},
     "output_type": "display_data"
    }
   ],
   "source": [
    "X0=linsolve((A,b))\n",
    "display(A)\n",
    "display(b)\n",
    "display(X0)"
   ]
  },
  {
   "cell_type": "markdown",
   "metadata": {},
   "source": [
    "Проверим его, вычисляя АХ-b и сравнивая полученное значение с нулем.\n",
    "\n",
    "Вначале превратим  FiniteSet X0 в вектор-столбец X00,\n",
    "для этого сначала преобразуем множество в список, список в матрицу, а затем транспонируем матрицу."
   ]
  },
  {
   "cell_type": "code",
   "execution_count": 53,
   "metadata": {},
   "outputs": [
    {
     "data": {
      "text/latex": [
       "$\\displaystyle \\left[\\begin{matrix}\\frac{c + 1}{c - 1}\\\\\\frac{c + 1}{c - 1}\\\\- \\frac{c + 1}{c - 1}\\end{matrix}\\right]$"
      ],
      "text/plain": [
       "Matrix([\n",
       "[ (c + 1)/(c - 1)],\n",
       "[ (c + 1)/(c - 1)],\n",
       "[-(c + 1)/(c - 1)]])"
      ]
     },
     "execution_count": 53,
     "metadata": {},
     "output_type": "execute_result"
    }
   ],
   "source": [
    "X00=Matrix([elem for elem in X0]).transpose()\n",
    "mylist"
   ]
  },
  {
   "cell_type": "code",
   "execution_count": 54,
   "metadata": {},
   "outputs": [
    {
     "data": {
      "text/latex": [
       "$\\displaystyle \\left[\\begin{matrix}- c + \\frac{c \\left(c + 1\\right)}{c - 1} - 1 - \\frac{c + 1}{c - 1}\\\\0\\\\0\\end{matrix}\\right]$"
      ],
      "text/plain": [
       "Matrix([\n",
       "[-c + c*(c + 1)/(c - 1) - 1 - (c + 1)/(c - 1)],\n",
       "[                                           0],\n",
       "[                                           0]])"
      ]
     },
     "execution_count": 54,
     "metadata": {},
     "output_type": "execute_result"
    }
   ],
   "source": [
    "A*X00-b"
   ]
  },
  {
   "cell_type": "markdown",
   "metadata": {},
   "source": [
    "Возможно, первый элемент вектора после упрощения выражения будет равен 0, проверим:"
   ]
  },
  {
   "cell_type": "code",
   "execution_count": 57,
   "metadata": {},
   "outputs": [
    {
     "data": {
      "text/latex": [
       "$\\displaystyle \\left[\\begin{matrix}0\\\\0\\\\0\\end{matrix}\\right]$"
      ],
      "text/plain": [
       "Matrix([\n",
       "[0],\n",
       "[0],\n",
       "[0]])"
      ]
     },
     "execution_count": 57,
     "metadata": {},
     "output_type": "execute_result"
    }
   ],
   "source": [
    "simplify(A*X00-b)"
   ]
  },
  {
   "cell_type": "code",
   "execution_count": null,
   "metadata": {},
   "outputs": [],
   "source": [
    "#### Подставим в исходную СЛАУ значение 1 параметра с:"
   ]
  },
  {
   "cell_type": "code",
   "execution_count": null,
   "metadata": {},
   "outputs": [],
   "source": [
    "A=A.subs(c,1)\n",
    "b=b.subs(c,1)\n",
    "X0=linsolve((A,b),x,y,z)\n",
    "X0"
   ]
  }
 ],
 "metadata": {
  "kernelspec": {
   "display_name": "Python 3",
   "language": "python",
   "name": "python3"
  },
  "language_info": {
   "codemirror_mode": {
    "name": "ipython",
    "version": 3
   },
   "file_extension": ".py",
   "mimetype": "text/x-python",
   "name": "python",
   "nbconvert_exporter": "python",
   "pygments_lexer": "ipython3",
   "version": "3.7.4"
  }
 },
 "nbformat": 4,
 "nbformat_minor": 2
}
