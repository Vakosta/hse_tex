{
 "cells": [
  {
   "cell_type": "markdown",
   "metadata": {},
   "source": [
    "# Занятие 1\n",
    "# Алгебра"
   ]
  },
  {
   "cell_type": "markdown",
   "metadata": {},
   "source": [
    "## Знакомство со списками и матрицами"
   ]
  },
  {
   "cell_type": "markdown",
   "metadata": {},
   "source": [
    "### Списки"
   ]
  },
  {
   "cell_type": "code",
   "execution_count": 42,
   "metadata": {},
   "outputs": [],
   "source": [
    "from sympy import init_printing\n",
    "init_printing(use_unicode=False, wrap_line=False, no_global=True)"
   ]
  },
  {
   "cell_type": "code",
   "execution_count": 43,
   "metadata": {},
   "outputs": [
    {
     "data": {
      "image/png": "[encoded data removed]",
      "text/latex": [
       "$$\\left [ 1, \\quad 2, \\quad 3, \\quad 4\\right ]$$"
      ],
      "text/plain": [
       "[1, 2, 3, 4]"
      ]
     },
     "execution_count": 43,
     "metadata": {},
     "output_type": "execute_result"
    }
   ],
   "source": [
    "[1,2,3,4]"
   ]
  },
  {
   "cell_type": "code",
   "execution_count": 44,
   "metadata": {},
   "outputs": [
    {
     "data": {
      "image/png": "[encoded data removed]",
      "text/latex": [
       "$$\\left [ 3, \\quad 2, \\quad 1, \\quad 3, \\quad 2, \\quad 1, \\quad 3, \\quad 2, \\quad 1\\right ]$$"
      ],
      "text/plain": [
       "[3, 2, 1, 3, 2, 1, 3, 2, 1]"
      ]
     },
     "execution_count": 44,
     "metadata": {},
     "output_type": "execute_result"
    }
   ],
   "source": [
    "# периодическое продолжение списка\n",
    "[3,2,1]*3"
   ]
  },
  {
   "cell_type": "code",
   "execution_count": 45,
   "metadata": {},
   "outputs": [
    {
     "data": {
      "image/png": "[encoded data removed]",
      "text/latex": [
       "$$\\left [ 3, \\quad 2, \\quad 5, \\quad 6, \\quad 9\\right ]$$"
      ],
      "text/plain": [
       "[3, 2, 5, 6, 9]"
      ]
     },
     "execution_count": 45,
     "metadata": {},
     "output_type": "execute_result"
    }
   ],
   "source": [
    "#сложение списков\n",
    "[3,2,5]+[6,9]"
   ]
  },
  {
   "cell_type": "code",
   "execution_count": 46,
   "metadata": {},
   "outputs": [
    {
     "data": {
      "image/png": "[encoded data removed]",
      "text/latex": [
       "$$\\left [ \\left [ 3, \\quad 2\\right ], \\quad \\left [ 5, \\quad 7\\right ], \\quad \\left [ 6, \\quad 9\\right ]\\right ]$$"
      ],
      "text/plain": [
       "[[3, 2], [5, 7], [6, 9]]"
      ]
     },
     "execution_count": 46,
     "metadata": {},
     "output_type": "execute_result"
    }
   ],
   "source": [
    "#двумерные списки\n",
    "[[3,2],[5,7],[6,9]]"
   ]
  },
  {
   "cell_type": "code",
   "execution_count": 47,
   "metadata": {},
   "outputs": [
    {
     "data": {
      "image/png": "[encoded data removed]",
      "text/latex": [
       "$$\\left [ \\left [ 3, \\quad 2\\right ], \\quad \\left [ 5, \\quad 7\\right ], \\quad \\left [ 6, \\quad 9\\right ], \\quad \\left [ 3, \\quad 2\\right ], \\quad \\left [ 5, \\quad 7\\right ], \\quad \\left [ 6, \\quad 9\\right ]\\right ]$$"
      ],
      "text/plain": [
       "[[3, 2], [5, 7], [6, 9], [3, 2], [5, 7], [6, 9]]"
      ]
     },
     "execution_count": 47,
     "metadata": {},
     "output_type": "execute_result"
    }
   ],
   "source": [
    "#переменные\n",
    "A=[[3,2],[5,7],[6,9]]\n",
    "2*A"
   ]
  },
  {
   "cell_type": "code",
   "execution_count": 48,
   "metadata": {},
   "outputs": [
    {
     "data": {
      "image/png": "[encoded data removed]",
      "text/latex": [
       "$$\\left [ \\left [ 3, \\quad 2\\right ], \\quad \\left [ 5, \\quad 7\\right ], \\quad \\left [ 6, \\quad 9\\right ], \\quad \\left [ 3, \\quad 2\\right ], \\quad \\left [ 5, \\quad 7\\right ], \\quad \\left [ 6, \\quad 9\\right ]\\right ]$$"
      ],
      "text/plain": [
       "[[3, 2], [5, 7], [6, 9], [3, 2], [5, 7], [6, 9]]"
      ]
     },
     "execution_count": 48,
     "metadata": {},
     "output_type": "execute_result"
    }
   ],
   "source": [
    "A*2"
   ]
  },
  {
   "cell_type": "code",
   "execution_count": 49,
   "metadata": {},
   "outputs": [
    {
     "data": {
      "image/png": "[encoded data removed]",
      "text/latex": [
       "$$\\left [ 3, \\quad 2, \\quad 3, \\quad 2\\right ]$$"
      ],
      "text/plain": [
       "[3, 2, 3, 2]"
      ]
     },
     "execution_count": 49,
     "metadata": {},
     "output_type": "execute_result"
    }
   ],
   "source": [
    "2* A[0]"
   ]
  },
  {
   "cell_type": "code",
   "execution_count": 50,
   "metadata": {},
   "outputs": [
    {
     "data": {
      "image/png": "[encoded data removed]",
      "text/latex": [
       "$$3$$"
      ],
      "text/plain": [
       "3"
      ]
     },
     "execution_count": 50,
     "metadata": {},
     "output_type": "execute_result"
    }
   ],
   "source": [
    "A[0][0]"
   ]
  },
  {
   "cell_type": "code",
   "execution_count": 51,
   "metadata": {},
   "outputs": [
    {
     "data": {
      "image/png": "[encoded data removed]",
      "text/latex": [
       "$$\\left [ 3, \\quad 2\\right ]$$"
      ],
      "text/plain": [
       "[3, 2]"
      ]
     },
     "execution_count": 51,
     "metadata": {},
     "output_type": "execute_result"
    }
   ],
   "source": [
    "A[0]"
   ]
  },
  {
   "cell_type": "code",
   "execution_count": 52,
   "metadata": {},
   "outputs": [
    {
     "data": {
      "image/png": "[encoded data removed]",
      "text/latex": [
       "$$\\left [ 6, \\quad 9\\right ]$$"
      ],
      "text/plain": [
       "[6, 9]"
      ]
     },
     "execution_count": 52,
     "metadata": {},
     "output_type": "execute_result"
    }
   ],
   "source": [
    "A[2]"
   ]
  },
  {
   "cell_type": "code",
   "execution_count": 53,
   "metadata": {},
   "outputs": [
    {
     "data": {
      "image/png": "[encoded data removed]",
      "text/latex": [
       "$$9$$"
      ],
      "text/plain": [
       "9"
      ]
     },
     "execution_count": 53,
     "metadata": {},
     "output_type": "execute_result"
    }
   ],
   "source": [
    "(A[2])[1]"
   ]
  },
  {
   "cell_type": "code",
   "execution_count": 54,
   "metadata": {},
   "outputs": [
    {
     "data": {
      "image/png": "[encoded data removed]",
      "text/latex": [
       "$$\\left [ 6, \\quad 9\\right ]$$"
      ],
      "text/plain": [
       "[6, 9]"
      ]
     },
     "execution_count": 54,
     "metadata": {},
     "output_type": "execute_result"
    }
   ],
   "source": [
    "max(A)"
   ]
  },
  {
   "cell_type": "code",
   "execution_count": 55,
   "metadata": {},
   "outputs": [
    {
     "data": {
      "image/png": "[encoded data removed]",
      "text/latex": [
       "$$6$$"
      ],
      "text/plain": [
       "6"
      ]
     },
     "execution_count": 55,
     "metadata": {},
     "output_type": "execute_result"
    }
   ],
   "source": [
    "min(A[2])"
   ]
  },
  {
   "cell_type": "code",
   "execution_count": 56,
   "metadata": {},
   "outputs": [
    {
     "data": {
      "image/png": "[encoded data removed]",
      "text/latex": [
       "$$3$$"
      ],
      "text/plain": [
       "3"
      ]
     },
     "execution_count": 56,
     "metadata": {},
     "output_type": "execute_result"
    }
   ],
   "source": [
    "len(A)"
   ]
  },
  {
   "cell_type": "code",
   "execution_count": 57,
   "metadata": {},
   "outputs": [
    {
     "data": {
      "image/png": "[encoded data removed]",
      "text/latex": [
       "$$2$$"
      ],
      "text/plain": [
       "2"
      ]
     },
     "execution_count": 57,
     "metadata": {},
     "output_type": "execute_result"
    }
   ],
   "source": [
    "len(A[0])"
   ]
  },
  {
   "cell_type": "code",
   "execution_count": 58,
   "metadata": {},
   "outputs": [
    {
     "data": {
      "image/png": "[encoded data removed]",
      "text/latex": [
       "$$\\left [ \\left [ 3, \\quad 2\\right ], \\quad \\left [ 5, \\quad 0\\right ], \\quad \\left [ 6, \\quad 9\\right ]\\right ]$$"
      ],
      "text/plain": [
       "[[3, 2], [5, 0], [6, 9]]"
      ]
     },
     "execution_count": 58,
     "metadata": {},
     "output_type": "execute_result"
    }
   ],
   "source": [
    "#изменение элемента списка\n",
    "for i in range(2):\n",
    "    if A[i][i]>5:\n",
    "        A[i][i]=0\n",
    "A        "
   ]
  },
  {
   "cell_type": "markdown",
   "metadata": {},
   "source": [
    "## Символьные преобразования и матрицы"
   ]
  },
  {
   "cell_type": "code",
   "execution_count": 59,
   "metadata": {},
   "outputs": [],
   "source": [
    "#https://www.sympy.org/en/index.html\n",
    "# sympy - модуль для символьных преобразований\n",
    "# Symbol - \n",
    "import sympy\n",
    "from sympy import Symbol"
   ]
  },
  {
   "cell_type": "code",
   "execution_count": 60,
   "metadata": {},
   "outputs": [
    {
     "data": {
      "image/png": "[encoded data removed]",
      "text/latex": [
       "$$M^{2}$$"
      ],
      "text/plain": [
       " 2\n",
       "M "
      ]
     },
     "execution_count": 60,
     "metadata": {},
     "output_type": "execute_result"
    }
   ],
   "source": [
    "M=Symbol('M')\n",
    "M**2"
   ]
  },
  {
   "cell_type": "code",
   "execution_count": 61,
   "metadata": {},
   "outputs": [
    {
     "data": {
      "text/plain": [
       "False"
      ]
     },
     "execution_count": 61,
     "metadata": {},
     "output_type": "execute_result"
    }
   ],
   "source": [
    "from sympy import symbols\n",
    "X,b,a=symbols('X b a')\n",
    "a*X==b"
   ]
  },
  {
   "cell_type": "code",
   "execution_count": 62,
   "metadata": {},
   "outputs": [
    {
     "data": {
      "image/png": "[encoded data removed]",
      "text/latex": [
       "$$\\left [ \\left [ a, \\quad 2 a, \\quad a^{2}\\right ], \\quad b, \\quad a, \\quad \\left [ \\left [ a, \\quad 2 a, \\quad a^{2}\\right ]\\right ]\\right ]$$"
      ],
      "text/plain": [
       "           2                    2   \n",
       "[[a, 2*a, a ], b, a, [[a, 2*a, a ]]]"
      ]
     },
     "execution_count": 62,
     "metadata": {},
     "output_type": "execute_result"
    }
   ],
   "source": [
    "A3=[a,2*a,a**2]\n",
    "A4=[A3,b,a,[A3]]\n",
    "A4"
   ]
  },
  {
   "cell_type": "code",
   "execution_count": 63,
   "metadata": {},
   "outputs": [
    {
     "data": {
      "image/png": "[encoded data removed]",
      "text/latex": [
       "$$9$$"
      ],
      "text/plain": [
       "9"
      ]
     },
     "execution_count": 63,
     "metadata": {},
     "output_type": "execute_result"
    }
   ],
   "source": [
    "A4[3][0][2].subs(a,3)"
   ]
  },
  {
   "cell_type": "code",
   "execution_count": 64,
   "metadata": {},
   "outputs": [
    {
     "data": {
      "image/png": "[encoded data removed]",
      "text/latex": [
       "$$b$$"
      ],
      "text/plain": [
       "b"
      ]
     },
     "execution_count": 64,
     "metadata": {},
     "output_type": "execute_result"
    }
   ],
   "source": [
    "A4[2].subs(a,b)"
   ]
  },
  {
   "cell_type": "code",
   "execution_count": 65,
   "metadata": {},
   "outputs": [
    {
     "data": {
      "image/png": "[encoded data removed]",
      "text/latex": [
       "$$a^{6} + \\left(a - b\\right)^{3} - 5$$"
      ],
      "text/plain": [
       " 6          3    \n",
       "a  + (a - b)  - 5"
      ]
     },
     "execution_count": 65,
     "metadata": {},
     "output_type": "execute_result"
    }
   ],
   "source": [
    "(a**3-5*b+X).subs([(a,a**2),(b,1),(X,(a-b)**3)])"
   ]
  },
  {
   "cell_type": "code",
   "execution_count": 66,
   "metadata": {},
   "outputs": [],
   "source": [
    "from sympy import Matrix"
   ]
  },
  {
   "cell_type": "code",
   "execution_count": 67,
   "metadata": {},
   "outputs": [
    {
     "data": {
      "text/latex": [
       "$$\\left ( \\left[\\begin{matrix}a\\\\2 a\\\\a^{2}\\end{matrix}\\right], \\quad \\left [ a, \\quad 2 a, \\quad a^{2}\\right ]\\right )$$"
      ],
      "text/plain": [
       " [ a ]               \n",
       " [   ]               \n",
       " [2*a]            2  \n",
       "([   ], [a, 2*a, a ])\n",
       " [ 2 ]               \n",
       " [a  ]               "
      ]
     },
     "execution_count": 67,
     "metadata": {},
     "output_type": "execute_result"
    }
   ],
   "source": [
    "A1=Matrix(A3)\n",
    "A1,A3"
   ]
  },
  {
   "cell_type": "code",
   "execution_count": 68,
   "metadata": {},
   "outputs": [
    {
     "data": {
      "text/latex": [
       "$$\\left[\\begin{matrix}a\\\\2 a\\\\a^{2}\\end{matrix}\\right]$$"
      ],
      "text/plain": [
       "[ a ]\n",
       "[   ]\n",
       "[2*a]\n",
       "[   ]\n",
       "[ 2 ]\n",
       "[a  ]"
      ]
     },
     "execution_count": 68,
     "metadata": {},
     "output_type": "execute_result"
    }
   ],
   "source": [
    "A1"
   ]
  },
  {
   "cell_type": "code",
   "execution_count": 69,
   "metadata": {},
   "outputs": [
    {
     "data": {
      "text/latex": [
       "$$\\left[\\begin{matrix}2 a\\\\4 a\\\\2 a^{2}\\end{matrix}\\right]$$"
      ],
      "text/plain": [
       "[2*a ]\n",
       "[    ]\n",
       "[4*a ]\n",
       "[    ]\n",
       "[   2]\n",
       "[2*a ]"
      ]
     },
     "execution_count": 69,
     "metadata": {},
     "output_type": "execute_result"
    }
   ],
   "source": [
    "2*A1"
   ]
  },
  {
   "cell_type": "code",
   "execution_count": 70,
   "metadata": {},
   "outputs": [
    {
     "data": {
      "image/png": "[encoded data removed]",
      "text/latex": [
       "$$\\left [ a, \\quad 2 a, \\quad a^{2}, \\quad a, \\quad 2 a, \\quad a^{2}\\right ]$$"
      ],
      "text/plain": [
       "          2           2 \n",
       "[a, 2*a, a , a, 2*a, a ]"
      ]
     },
     "execution_count": 70,
     "metadata": {},
     "output_type": "execute_result"
    }
   ],
   "source": [
    "2*A3"
   ]
  },
  {
   "cell_type": "code",
   "execution_count": 71,
   "metadata": {},
   "outputs": [
    {
     "data": {
      "text/latex": [
       "$$\\left[\\begin{matrix}a & 2 a & a^{2}\\end{matrix}\\right]$$"
      ],
      "text/plain": [
       "[         2]\n",
       "[a  2*a  a ]"
      ]
     },
     "execution_count": 71,
     "metadata": {},
     "output_type": "execute_result"
    }
   ],
   "source": [
    "#транспонирование матриц\n",
    "A1_T=A1.transpose()\n",
    "A1_T"
   ]
  },
  {
   "cell_type": "code",
   "execution_count": 72,
   "metadata": {},
   "outputs": [
    {
     "data": {
      "text/latex": [
       "$$\\left[\\begin{matrix}a^{2} & 2 a^{2} & a^{3}\\\\2 a^{2} & 4 a^{2} & 2 a^{3}\\\\a^{3} & 2 a^{3} & a^{4}\\end{matrix}\\right]$$"
      ],
      "text/plain": [
       "[  2      2    3 ]\n",
       "[ a    2*a    a  ]\n",
       "[                ]\n",
       "[   2     2     3]\n",
       "[2*a   4*a   2*a ]\n",
       "[                ]\n",
       "[  3      3    4 ]\n",
       "[ a    2*a    a  ]"
      ]
     },
     "execution_count": 72,
     "metadata": {},
     "output_type": "execute_result"
    }
   ],
   "source": [
    "#умножение матриц\n",
    "A3_3=A1*A1_T\n",
    "A3_3"
   ]
  },
  {
   "cell_type": "code",
   "execution_count": 73,
   "metadata": {},
   "outputs": [
    {
     "data": {
      "text/latex": [
       "$$\\left[\\begin{matrix}a^{2} + 1 & 2 a^{2} & a^{3}\\\\2 a^{2} & 4 a^{2} + 1 & 2 a^{3}\\\\a^{3} & 2 a^{3} & a^{4} + 1\\end{matrix}\\right]$$"
      ],
      "text/plain": [
       "[ 2           2       3  ]\n",
       "[a  + 1    2*a       a   ]\n",
       "[                        ]\n",
       "[    2      2          3 ]\n",
       "[ 2*a    4*a  + 1   2*a  ]\n",
       "[                        ]\n",
       "[   3         3     4    ]\n",
       "[  a       2*a     a  + 1]"
      ]
     },
     "execution_count": 73,
     "metadata": {},
     "output_type": "execute_result"
    }
   ],
   "source": [
    "#сложение матриц\n",
    "from sympy import eye\n",
    "A3_3+eye(3)"
   ]
  },
  {
   "cell_type": "code",
   "execution_count": 74,
   "metadata": {},
   "outputs": [
    {
     "data": {
      "text/latex": [
       "$$\\left[\\begin{matrix}a^{6} + 5 a^{4} & 2 a^{6} + 10 a^{4} & a^{7} + 5 a^{5}\\\\2 a^{6} + 10 a^{4} & 4 a^{6} + 20 a^{4} & 2 a^{7} + 10 a^{5}\\\\a^{7} + 5 a^{5} & 2 a^{7} + 10 a^{5} & a^{8} + 5 a^{6}\\end{matrix}\\right]$$"
      ],
      "text/plain": [
       "[  6      4       6       4    7      5  ]\n",
       "[ a  + 5*a     2*a  + 10*a    a  + 5*a   ]\n",
       "[                                        ]\n",
       "[   6       4     6       4     7       5]\n",
       "[2*a  + 10*a   4*a  + 20*a   2*a  + 10*a ]\n",
       "[                                        ]\n",
       "[  7      5       7       5    8      6  ]\n",
       "[ a  + 5*a     2*a  + 10*a    a  + 5*a   ]"
      ]
     },
     "execution_count": 74,
     "metadata": {},
     "output_type": "execute_result"
    }
   ],
   "source": [
    "#возведение квадратной матрицы в степень\n",
    "A3_3**2"
   ]
  },
  {
   "cell_type": "code",
   "execution_count": 75,
   "metadata": {},
   "outputs": [
    {
     "data": {
      "image/png": "[encoded data removed]",
      "text/latex": [
       "$$0$$"
      ],
      "text/plain": [
       "0"
      ]
     },
     "execution_count": 75,
     "metadata": {},
     "output_type": "execute_result"
    }
   ],
   "source": [
    "#вычисление определителя\n",
    "A3_3.det()"
   ]
  },
  {
   "cell_type": "code",
   "execution_count": 76,
   "metadata": {},
   "outputs": [
    {
     "data": {
      "text/latex": [
       "$$\\left[\\begin{matrix}3\\\\6\\\\9\\end{matrix}\\right]$$"
      ],
      "text/plain": [
       "[3]\n",
       "[ ]\n",
       "[6]\n",
       "[ ]\n",
       "[9]"
      ]
     },
     "execution_count": 76,
     "metadata": {},
     "output_type": "execute_result"
    }
   ],
   "source": [
    "#подстановка\n",
    "A1.subs(a,3)"
   ]
  },
  {
   "cell_type": "code",
   "execution_count": 77,
   "metadata": {},
   "outputs": [
    {
     "data": {
      "text/latex": [
       "$$\\left[\\begin{matrix}b + c\\\\2 b + 2 c\\\\b^{2} + c^{2}\\end{matrix}\\right]$$"
      ],
      "text/plain": [
       "[  b + c  ]\n",
       "[         ]\n",
       "[2*b + 2*c]\n",
       "[         ]\n",
       "[  2    2 ]\n",
       "[ b  + c  ]"
      ]
     },
     "execution_count": 77,
     "metadata": {},
     "output_type": "execute_result"
    }
   ],
   "source": [
    "Ab=A1.subs(a,b)\n",
    "c=Symbol('c')\n",
    "Ac=A1.subs(a,c)\n",
    "Abc=Ab+Ac\n",
    "Abc"
   ]
  },
  {
   "cell_type": "code",
   "execution_count": 78,
   "metadata": {},
   "outputs": [
    {
     "data": {
      "text/latex": [
       "$$\\left[\\begin{matrix}2 a^{2}\\\\4 a^{2}\\\\2 a^{3}\\end{matrix}\\right]$$"
      ],
      "text/plain": [
       "[   2]\n",
       "[2*a ]\n",
       "[    ]\n",
       "[   2]\n",
       "[4*a ]\n",
       "[    ]\n",
       "[   3]\n",
       "[2*a ]"
      ]
     },
     "execution_count": 78,
     "metadata": {},
     "output_type": "execute_result"
    }
   ],
   "source": [
    "#срезы\n",
    "A3_3[:,1]"
   ]
  },
  {
   "cell_type": "code",
   "execution_count": 79,
   "metadata": {},
   "outputs": [
    {
     "data": {
      "text/latex": [
       "$$\\left[\\begin{matrix}2 a^{2} & 4 a^{2} & 2 a^{3}\\end{matrix}\\right]$$"
      ],
      "text/plain": [
       "[   2     2     3]\n",
       "[2*a   4*a   2*a ]"
      ]
     },
     "execution_count": 79,
     "metadata": {},
     "output_type": "execute_result"
    }
   ],
   "source": [
    "A3_3[1,:]"
   ]
  },
  {
   "cell_type": "code",
   "execution_count": 80,
   "metadata": {},
   "outputs": [
    {
     "data": {
      "image/png": "[encoded data removed]",
      "text/latex": [
       "$$a^{4}$$"
      ],
      "text/plain": [
       " 4\n",
       "a "
      ]
     },
     "execution_count": 80,
     "metadata": {},
     "output_type": "execute_result"
    }
   ],
   "source": [
    "A3_3[2,2]"
   ]
  },
  {
   "cell_type": "code",
   "execution_count": 81,
   "metadata": {},
   "outputs": [
    {
     "data": {
      "image/png": "[encoded data removed]",
      "text/latex": [
       "$$a^{3} \\left(c + 1\\right) + a^{2} + \\left(a + c\\right)^{2}$$"
      ],
      "text/plain": [
       " 3            2          2\n",
       "a *(c + 1) + a  + (a + c) "
      ]
     },
     "execution_count": 81,
     "metadata": {},
     "output_type": "execute_result"
    }
   ],
   "source": [
    "(a**3+a**2+c*a**3+(a+c)**2).collect(a)"
   ]
  },
  {
   "cell_type": "code",
   "execution_count": 83,
   "metadata": {},
   "outputs": [
    {
     "data": {
      "image/png": "[encoded data removed]",
      "text/latex": [
       "$$a^{3} \\left(c + 1\\right) + 2 a^{2} + 2 a c + c^{2}$$"
      ],
      "text/plain": [
       " 3              2            2\n",
       "a *(c + 1) + 2*a  + 2*a*c + c "
      ]
     },
     "execution_count": 83,
     "metadata": {},
     "output_type": "execute_result"
    }
   ],
   "source": [
    "from sympy import expand\n",
    "(expand(a**3+a**2+c*a**3+(a+c)**2)).collect(a)"
   ]
  },
  {
   "cell_type": "code",
   "execution_count": null,
   "metadata": {},
   "outputs": [],
   "source": []
  }
 ],
 "metadata": {
  "kernelspec": {
   "display_name": "Python 3",
   "language": "python",
   "name": "python3"
  },
  "language_info": {
   "codemirror_mode": {
    "name": "ipython",
    "version": 3
   },
   "file_extension": ".py",
   "mimetype": "text/x-python",
   "name": "python",
   "nbconvert_exporter": "python",
   "pygments_lexer": "ipython3",
   "version": "3.7.4"
  }
 },
 "nbformat": 4,
 "nbformat_minor": 2
}
