{
 "cells": [
  {
   "cell_type": "code",
   "execution_count": 1,
   "metadata": {},
   "outputs": [],
   "source": [
    "import matplotlib.pyplot as plt\n",
    "from sympy import *\n",
    "from IPython.display import display,Latex"
   ]
  },
  {
   "cell_type": "markdown",
   "metadata": {},
   "source": [
    "# Занятие 16\n",
    "# Алгебра\n",
    "\n",
    "## Линейные операторы на плоскости и в пространстве\n",
    "\n",
    "Линейный оператор осуществляет линейное отображение линейного пространства на линейное пространство:\n",
    "$$\n",
    "A:\\ Ax=y,\\quad x\\in X, y \\in Y,\n",
    "$$\n",
    "при этом\n",
    "$$\n",
    "A(a_1x'+a_2x'')=a_1Ax'+a_2Ax''=a_1y'+a_2y'',\n",
    "$$\n",
    "где $a_1$ и $a_2$ - числа, $x'$ и $x''$ - элементы линейного пространства $X$, $y'$ и $y''$ - элементы линейного пространства $Y$.\n",
    "\n",
    "$X$ и $Y$ могут быть разными или совпадать.\n",
    "\n",
    "$x'$ и $x''$ - прообразы при линейном отображении $A$.\n",
    "\n",
    "$y'$ и $y''$ - образы $x'$ и $x''$ при линейном отображении $A$.\n",
    "\n",
    "Множество образов всех векторов пространства $X$ при линейном отображении $A$ называется образом линенйого оператора.\n",
    "\n",
    "Ввиду линейности оператора его образ полностью определяется образами базисных векторов $(e_1,e_2,...,e_n)$ пространства $X$, поскольку любой вектор $x$ пространства $X$ можно представить в виде $x=x_1e_1+x_2e_2+...+x_ne_n$,\n",
    "откуда из линейности оператора следует  $Ax=A(x_1e_1+x_2e_2+...+x_ne_n)=x_1Ae_1+x_2Ae_2+...+x_nAe_n$.\n",
    "\n",
    "Раскладывая векторы $Ae_k$, $k=1,2,..,n$ по базису $f_1,f_2,...,f_m$ пространства $Y$, получим\n",
    "$Ae_k=a_{1k}f_1+a_{2k}f_2+...+a_{mk}f_m$, поэтому\n",
    "$$\n",
    "Ax=x_1Ae_1+...+x_nAe_n=x_1(a_{11}f_1+a_{21}f_2+...+a_{m1}f_m)+...+x_n(a_{1n}f_1+a_{2n}f_2+...+a_{mn}f_m).\n",
    "$$\n",
    "Сгруппируем слагаемые по базисным векторам $f_1,f_2,...,f_m$:\n",
    "$$\n",
    "Ax=(x_1a_{11}+...+x_na_{1n})f_1+(x_1a_{21}+...+x_na_{2n})f_2+...+(x_1a_{m1}+...+x_na_{mn})f_m\n",
    "$$\n",
    "Таким образом, координаты $y_1,y_2,...,y_m$ образа $Ax$ вектора $x$ выражаются через координаты $x_1$, $x_2$,...+$x_n$ вектора $x$ в базисе $(e_1,e_2,...,e_n)$ пространства $X$ и координаты $a_{ij}$ образов базисных векторов $f_1,f_2,...,f_m$ пространства $Y$ при линейном отображении $A$:\n",
    "$$\n",
    "y_j=x_1a_{j1}+x_2a_{j2}+...+x_na_{jn},\\quad j=1,...m,\n",
    "$$\n",
    "в матричной форме это запишется как $y=Ax$, где $A$ - матрица с элементами $a_{ij}$ - $i$-я координата $j$-го базисного вектора $e_j$, т.е. матрица $A$ состоит из векторов - столбцов образов базисных векторов.\n",
    "\n",
    "### Пример 1.\n",
    "\n",
    "Построим матрицу оператора А, поворачивающего вектор на угол $\\alpha$ против часовой стрелки. Такой оператор переводит вектор $(1,0)$ в вектор $(\\cos\\alpha,\\sin\\alpha)$, $(0,1)$ в $(-\\sin\\alpha,\\cos\\alpha)$, поэтому матрица $A$ имеет вид\n",
    "$$\n",
    "\\left(\\begin{matrix}\\cos\\alpha&-\\sin\\alpha\\\\ \\sin\\alpha&\\cos\\alpha\\end{matrix}\\right)\n",
    "$$"
   ]
  },
  {
   "cell_type": "code",
   "execution_count": 2,
   "metadata": {},
   "outputs": [
    {
     "data": {
      "text/latex": [
       "$\\displaystyle \\left[\\begin{matrix}\\frac{\\sqrt{2}}{2}\\\\\\frac{\\sqrt{2}}{2}\\end{matrix}\\right]$"
      ],
      "text/plain": [
       "Matrix([\n",
       "[sqrt(2)/2],\n",
       "[sqrt(2)/2]])"
      ]
     },
     "metadata": {},
     "output_type": "display_data"
    },
    {
     "data": {
      "text/latex": [
       "$\\displaystyle \\left[\\begin{matrix}- \\frac{\\sqrt{2}}{2}\\\\\\frac{\\sqrt{2}}{2}\\end{matrix}\\right]$"
      ],
      "text/plain": [
       "Matrix([\n",
       "[-sqrt(2)/2],\n",
       "[ sqrt(2)/2]])"
      ]
     },
     "metadata": {},
     "output_type": "display_data"
    }
   ],
   "source": [
    "alpha=pi/4\n",
    "A=Matrix([[cos(alpha),-sin(alpha)],[sin(alpha),cos(alpha)]])\n",
    "e1=Matrix([1,0])\n",
    "e2=Matrix([0,1])\n",
    "display(A*e1,A*e2)"
   ]
  },
  {
   "cell_type": "code",
   "execution_count": 3,
   "metadata": {},
   "outputs": [
    {
     "data": {
      "text/plain": [
       "(-0.7924621202458749, 1.0853553390593274, -0.05, 1.05)"
      ]
     },
     "execution_count": 3,
     "metadata": {},
     "output_type": "execute_result"
    },
    {
     "data": {
      "image/png": "[encoded data removed]",
      "text/plain": [
       "<Figure size 432x288 with 1 Axes>"
      ]
     },
     "metadata": {
      "needs_background": "light"
     },
     "output_type": "display_data"
    }
   ],
   "source": [
    "def plotvec(vect,color='r'):\n",
    "    plt.plot([0,vect[0]],[0,vect[1]],color)\n",
    "    return None\n",
    "def plotvecs(*vecscolors):\n",
    "    for item in vecscolors:\n",
    "        plotvec(item[0],color=item[1])\n",
    "    return None\n",
    "y1=A*e1\n",
    "y2=A*e2\n",
    "plotvecs((e1,'r'),(e2,'g'),(A*e1,'m'),(A*e2,'y'))\n",
    "plt.annotate('',xy=(0.2*(y1[0]),0.2*(y1[1])), xycoords='data',xytext=(25, -25), textcoords='offset points', fontsize=16,arrowprops=dict(arrowstyle=\"->\", connectionstyle=\"arc3,rad=.2\"))\n",
    "plt.annotate(r'$'+latex(alpha)+'$',xy=(0.1*(y1[0]+e1[0]),0.1*(y1[1]+e1[1])), xycoords='data',xytext=(20, 5), textcoords='offset points', fontsize=16)\n",
    "plt.annotate('',xy=(0.2*(y2[0]),0.2*(y2[1])), xycoords='data',xytext=(25, 20), textcoords='offset points', fontsize=16,arrowprops=dict(arrowstyle=\"->\", connectionstyle=\"arc3,rad=.2\"))\n",
    "plt.annotate(r'$'+latex(alpha)+'$',xy=(0.1*(y2[0]+e2[0]),0.1*(y2[1]+e2[1])), xycoords='data',xytext=(-10, 20), textcoords='offset points', fontsize=16)\n",
    "plt.axis('equal')"
   ]
  },
  {
   "cell_type": "markdown",
   "metadata": {},
   "source": [
    "Проверим, что при умножении матрицы А на произвольный вектор плоскости получается вектор, образующий угол с исходным вектором. Возьмем вектор с координатами $(s,p)$ и умножим на А, потом найдем скалярное произведение полученного вектора и исходного и поделим на длины векторов."
   ]
  },
  {
   "cell_type": "code",
   "execution_count": 4,
   "metadata": {},
   "outputs": [
    {
     "data": {
      "text/latex": [
       "$\\displaystyle \\cos{\\left(\\alpha \\right)}$"
      ],
      "text/plain": [
       "cos(alpha)"
      ]
     },
     "execution_count": 4,
     "metadata": {},
     "output_type": "execute_result"
    }
   ],
   "source": [
    "s,p,alpha=symbols('s p alpha',real=True)\n",
    "A=Matrix([[cos(alpha),-sin(alpha)],[sin(alpha),cos(alpha)]])\n",
    "vect=Matrix([s,p])\n",
    "res=A*vect\n",
    "simplify(expand(res.dot(vect)))/sqrt(simplify(expand(res.transpose()*res)).dot(simplify(expand(vect.transpose()*vect))))"
   ]
  },
  {
   "cell_type": "markdown",
   "metadata": {},
   "source": [
    "Альтернативная проверка: воспользуемся возможностями модуля Geometry:"
   ]
  },
  {
   "cell_type": "code",
   "execution_count": 5,
   "metadata": {},
   "outputs": [
    {
     "data": {
      "text/latex": [
       "$\\displaystyle \\operatorname{acos}{\\left(\\cos{\\left(\\alpha \\right)} \\right)}$"
      ],
      "text/plain": [
       "acos(cos(alpha))"
      ]
     },
     "execution_count": 5,
     "metadata": {},
     "output_type": "execute_result"
    }
   ],
   "source": [
    "O=Point(0,0)\n",
    "A=Point(vect[0],vect[1])\n",
    "B=Point(res[0],res[1])\n",
    "OA=Line(O,A)\n",
    "OB=Line(O,B)\n",
    "simplify(expand(OA.angle_between(OB)))"
   ]
  },
  {
   "cell_type": "markdown",
   "metadata": {},
   "source": [
    "### Пример 2.\n",
    "\n",
    "Построить матрицу оператора, переводящего базисные векторы $i$, $j$ и $k$ трехмерного пространства в векторы\n",
    "$(1,2,3)$, $(-2,1,4)$ и $(2,0,5)$.\n",
    "Матрица такого оператора \n",
    "$$\n",
    "\\left(\\begin{matrix}\n",
    "1&-2&2\\\\\n",
    "2&1&0\\\\\n",
    "3&4&5\n",
    "\\end{matrix}\\right)\n",
    "$$"
   ]
  },
  {
   "cell_type": "code",
   "execution_count": 6,
   "metadata": {},
   "outputs": [
    {
     "data": {
      "text/latex": [
       "$\\displaystyle \\left[\\begin{matrix}1 & -2 & 2\\\\2 & 1 & 0\\\\3 & 4 & 5\\end{matrix}\\right]$"
      ],
      "text/plain": [
       "Matrix([\n",
       "[1, -2, 2],\n",
       "[2,  1, 0],\n",
       "[3,  4, 5]])"
      ]
     },
     "execution_count": 6,
     "metadata": {},
     "output_type": "execute_result"
    }
   ],
   "source": [
    "A=Matrix([[1,-2,2],[2,1,0],[3,4,5]])\n",
    "A"
   ]
  },
  {
   "cell_type": "markdown",
   "metadata": {},
   "source": [
    "Проверим, что при умножении базисных векторов на эту матрицу действительно получаются заданные векторы:"
   ]
  },
  {
   "cell_type": "code",
   "execution_count": 7,
   "metadata": {},
   "outputs": [
    {
     "data": {
      "text/latex": [
       "$\\displaystyle \\left[\\begin{matrix}1\\\\2\\\\3\\end{matrix}\\right]$"
      ],
      "text/plain": [
       "Matrix([\n",
       "[1],\n",
       "[2],\n",
       "[3]])"
      ]
     },
     "metadata": {},
     "output_type": "display_data"
    },
    {
     "data": {
      "text/latex": [
       "$\\displaystyle \\left[\\begin{matrix}-2\\\\1\\\\4\\end{matrix}\\right]$"
      ],
      "text/plain": [
       "Matrix([\n",
       "[-2],\n",
       "[ 1],\n",
       "[ 4]])"
      ]
     },
     "metadata": {},
     "output_type": "display_data"
    },
    {
     "data": {
      "text/latex": [
       "$\\displaystyle \\left[\\begin{matrix}2\\\\0\\\\5\\end{matrix}\\right]$"
      ],
      "text/plain": [
       "Matrix([\n",
       "[2],\n",
       "[0],\n",
       "[5]])"
      ]
     },
     "metadata": {},
     "output_type": "display_data"
    }
   ],
   "source": [
    "i=Matrix([[1],[0],[0]])\n",
    "j=Matrix([[0],[1],[0]])\n",
    "k=Matrix([[0],[0],[1]])\n",
    "display(A*i,A*j,A*k)"
   ]
  },
  {
   "cell_type": "markdown",
   "metadata": {},
   "source": [
    "Найдем вектор, в который оператор переводит вектор $$\n",
    "\\left(\\begin{matrix}\n",
    "3\\\\\n",
    "-7\\\\\n",
    "9\n",
    "\\end{matrix}\\right)\n",
    "$$"
   ]
  },
  {
   "cell_type": "code",
   "execution_count": 8,
   "metadata": {},
   "outputs": [
    {
     "data": {
      "text/latex": [
       "$\\displaystyle \\left[\\begin{matrix}35\\\\-1\\\\26\\end{matrix}\\right]$"
      ],
      "text/plain": [
       "Matrix([\n",
       "[35],\n",
       "[-1],\n",
       "[26]])"
      ]
     },
     "metadata": {},
     "output_type": "display_data"
    }
   ],
   "source": [
    "vec=Matrix([[3],[-7],[9]])\n",
    "display(A*vec)"
   ]
  },
  {
   "cell_type": "markdown",
   "metadata": {},
   "source": [
    "## Мартица линейного оператора в новом базисе\n",
    "Пусть в новом базисе у оператора А матрица $A_{new}$, тогда получить образ вектора $x$ можно так: зная координаты  $x$ в новом базисе, находим его координаты в старом базисе с помощью преобразования, определяемого матрицей $P$, потом к полученному вектору в старом базисе применяем оператор А, умножая вектор в старом базисе на матрицу А в старом же базисе, после чего переводим полученный образ из старого базиса в новый умножением на матрицу  $P^{-1}$.\n",
    "В итоге получается цепочка умножений $P^{-1}AP$, это произведение и есть матрица опреатора А в новом базисе, где $P$ - матрица перехода от нового базиса к старому.\n",
    "\n",
    "Тонкость такая: базисные векторы нового базиса в новом базисе будут иметь координаты $(1,0,0)$, $(0,1,0)$ и $(0,0,1)$, точно как базисные векторы срарого базиса в старом базисе, поэтому умножая вектор $v$ с координатами в новом базисе на матрицу  $P$ мы получим координаты вектора $v$ в старом базисе. Если требуется по координатам в старом базисе найти координаты в новом, нужно умножать на обратную матрицу, т.е. $P^{-1}$.\n",
    "\n",
    "#### Мартица линейного оператора в новом базисе\n",
    "$$\n",
    "A_{new}=P^{-1}AP\\qquad(1)\n",
    "$$\n",
    "\n",
    "### Пример 3.\n",
    "\n",
    "Найти матрицу оператора А примера 2 в базисе из векторов $(1,2,0)$, $(1,0,3)$ и $(0,1,5)$.\n",
    "\n",
    "Вначале составим матрицу перехода, она будет такой же, как матрица некоторого оператора, переводящего текущий базис $(1,0,0)$, $(0,1,0)$ и $(0,0,1)$ в новый:\n",
    "$$\n",
    "P=\\left(\\begin{matrix}\n",
    "1&1&0\\\\\n",
    "2&0&1\\\\\n",
    "0&3&5\n",
    "\\end{matrix}\\right)\n",
    "$$\n",
    "Затем найдем матрицу оператора в новом базисе по формуле (1)"
   ]
  },
  {
   "cell_type": "code",
   "execution_count": 9,
   "metadata": {},
   "outputs": [
    {
     "data": {
      "text/latex": [
       "$\\displaystyle \\left[\\begin{matrix}1 & 1 & 0\\\\2 & 0 & 1\\\\0 & 3 & 5\\end{matrix}\\right]$"
      ],
      "text/plain": [
       "Matrix([\n",
       "[1, 1, 0],\n",
       "[2, 0, 1],\n",
       "[0, 3, 5]])"
      ]
     },
     "metadata": {},
     "output_type": "display_data"
    },
    {
     "data": {
      "text/latex": [
       "$\\displaystyle \\left[\\begin{matrix}0 & 1 & 0\\\\-3 & 6 & 8\\\\4 & 0 & 1\\end{matrix}\\right]$"
      ],
      "text/plain": [
       "Matrix([\n",
       "[ 0, 1, 0],\n",
       "[-3, 6, 8],\n",
       "[ 4, 0, 1]])"
      ]
     },
     "metadata": {},
     "output_type": "display_data"
    }
   ],
   "source": [
    "P=Matrix([[1,1,0],[2,0,1],[0,3,5]])\n",
    "A_new=P**(-1)*A*P\n",
    "display(P,A_new)"
   ]
  },
  {
   "cell_type": "markdown",
   "metadata": {},
   "source": [
    "Проследим за трансформацией новых базисных векторов $f_1$, $f_2$, $f_3$. Вначале найдем их образы при операторе А, умножая их на матрицу А в старом базисе, поскольку мы знаем координаты новых базисных векторов в старом базисе:"
   ]
  },
  {
   "cell_type": "code",
   "execution_count": 10,
   "metadata": {},
   "outputs": [
    {
     "data": {
      "text/latex": [
       "$\\displaystyle \\left[\\begin{matrix}-3\\\\4\\\\11\\end{matrix}\\right]$"
      ],
      "text/plain": [
       "Matrix([\n",
       "[-3],\n",
       "[ 4],\n",
       "[11]])"
      ]
     },
     "metadata": {},
     "output_type": "display_data"
    },
    {
     "data": {
      "text/latex": [
       "$\\displaystyle \\left[\\begin{matrix}7\\\\2\\\\18\\end{matrix}\\right]$"
      ],
      "text/plain": [
       "Matrix([\n",
       "[ 7],\n",
       "[ 2],\n",
       "[18]])"
      ]
     },
     "metadata": {},
     "output_type": "display_data"
    },
    {
     "data": {
      "text/latex": [
       "$\\displaystyle \\left[\\begin{matrix}8\\\\1\\\\29\\end{matrix}\\right]$"
      ],
      "text/plain": [
       "Matrix([\n",
       "[ 8],\n",
       "[ 1],\n",
       "[29]])"
      ]
     },
     "metadata": {},
     "output_type": "display_data"
    }
   ],
   "source": [
    "f1=Matrix((1,2,0))\n",
    "f2=Matrix((1,0,3))\n",
    "f3=Matrix((0,1,5))\n",
    "display(A*f1,A*f2,A*f3)"
   ]
  },
  {
   "cell_type": "markdown",
   "metadata": {},
   "source": [
    "Мы получили координаты образов векторов нового базиса в старом базисе, теперь нужно найти координаты полученных векторов в новом базисе. Для этого нужно умножить векторы на матрицу, обратную к матрице $P$:"
   ]
  },
  {
   "cell_type": "code",
   "execution_count": 11,
   "metadata": {},
   "outputs": [
    {
     "data": {
      "text/latex": [
       "$\\displaystyle \\left[\\begin{matrix}0\\\\-3\\\\4\\end{matrix}\\right]$"
      ],
      "text/plain": [
       "Matrix([\n",
       "[ 0],\n",
       "[-3],\n",
       "[ 4]])"
      ]
     },
     "metadata": {},
     "output_type": "display_data"
    },
    {
     "data": {
      "text/latex": [
       "$\\displaystyle \\left[\\begin{matrix}1\\\\6\\\\0\\end{matrix}\\right]$"
      ],
      "text/plain": [
       "Matrix([\n",
       "[1],\n",
       "[6],\n",
       "[0]])"
      ]
     },
     "metadata": {},
     "output_type": "display_data"
    },
    {
     "data": {
      "text/latex": [
       "$\\displaystyle \\left[\\begin{matrix}0\\\\8\\\\1\\end{matrix}\\right]$"
      ],
      "text/plain": [
       "Matrix([\n",
       "[0],\n",
       "[8],\n",
       "[1]])"
      ]
     },
     "metadata": {},
     "output_type": "display_data"
    }
   ],
   "source": [
    "display(P**(-1)*A*f1,P**(-1)*A*f2,P**(-1)*A*f3)"
   ]
  },
  {
   "cell_type": "markdown",
   "metadata": {},
   "source": [
    "Собственные числа и собственные векторы линейного оператора.\n",
    "\n",
    "Пусть для некоторого ненулевого вектора $x$ и числа $\\lambda$ выполняется $$Ax=\\lambda x, \\quad x\\neq0,$$\n",
    "тогда $\\lambda$ - собственное число линейного оператора $A$, а $x$ - собственный вектор, соответствующий собственному числу $\\lambda$.\n",
    "\n",
    "Собственные числа и векторы не зависят от выбора базиса!\n",
    "\n",
    "Находить собственные числа можно, решая характеристическое уравнение $|A-\\lambda E|=0$, где $E$ - единичная матрица подходящей размерности. \n",
    "\n",
    "Собственные векторы получаются как решения СЛАУ $(A-\\lambda E)x=0$, где $\\lambda$ - соответствующее собственное число.\n",
    "\n",
    "В sympy есть средства вычисления собственных чисел и векторов\n",
    "\n",
    "eigenvals (словарь, ключи - собственные числа, значения - их кратности)\n",
    "\n",
    "eigenvect (список кортежей, первый элемент кортежа - собственное число, второй - его кратность, третий - список собственных векторов, соответствующих этому собственному числу)\n",
    "\n",
    "Если у оператора в трехмерном пространстве есть три собственных вектора, то в базисе из этих векторов матрица оператора диагональная, на диагонали - собственные числа оператора. \n",
    "\n",
    "### Пример 3.\n",
    "Дана матрица оператора В:\n",
    "$$\n",
    "\\left(\\begin{matrix}\n",
    "51&-8&-12\\\\\n",
    "9&33&-18\\\\\n",
    "-18&-6&66\n",
    "\\end{matrix}\\right)\n",
    "$$\n",
    "\n",
    "Найти матрицу оператора B в базисе из собственных векторов.\n",
    "\n",
    "Вначале найдем собственные векторы:"
   ]
  },
  {
   "cell_type": "code",
   "execution_count": 12,
   "metadata": {},
   "outputs": [
    {
     "data": {
      "text/latex": [
       "$\\left[ \\left( 30, \\  1, \\  \\left[ \\left[\\begin{matrix}\\frac{4}{3}\\\\2\\\\1\\end{matrix}\\right]\\right]\\right), \\  \\left( 45, \\  1, \\  \\left[ \\left[\\begin{matrix}\\frac{4}{3}\\\\- \\frac{1}{2}\\\\1\\end{matrix}\\right]\\right]\\right), \\  \\left( 75, \\  1, \\  \\left[ \\left[\\begin{matrix}- \\frac{1}{3}\\\\- \\frac{1}{2}\\\\1\\end{matrix}\\right]\\right]\\right)\\right]$"
      ],
      "text/plain": [
       "<IPython.core.display.Latex object>"
      ]
     },
     "metadata": {},
     "output_type": "display_data"
    }
   ],
   "source": [
    "B=Matrix([[51,-8,-12],[9,33,-18],[-18,-6,66]])\n",
    "res=B.eigenvects()\n",
    "display(Latex('$'+latex(res)+'$')) "
   ]
  },
  {
   "cell_type": "markdown",
   "metadata": {},
   "source": [
    "Составим матрицу перехода, она состоит из столбцов с координатами собственных векторов в старом базисе:"
   ]
  },
  {
   "cell_type": "code",
   "execution_count": 13,
   "metadata": {},
   "outputs": [
    {
     "data": {
      "text/latex": [
       "$\\displaystyle \\left[\\begin{matrix}\\frac{4}{3} & \\frac{4}{3} & - \\frac{1}{3}\\\\2 & - \\frac{1}{2} & - \\frac{1}{2}\\\\1 & 1 & 1\\end{matrix}\\right]$"
      ],
      "text/plain": [
       "Matrix([\n",
       "[4/3,  4/3, -1/3],\n",
       "[  2, -1/2, -1/2],\n",
       "[  1,    1,    1]])"
      ]
     },
     "metadata": {},
     "output_type": "display_data"
    },
    {
     "data": {
      "text/latex": [
       "$\\displaystyle - \\frac{25}{6}$"
      ],
      "text/plain": [
       "-25/6"
      ]
     },
     "metadata": {},
     "output_type": "display_data"
    }
   ],
   "source": [
    "P=res[0][2][0].row_join(res[1][2][0]).row_join(res[2][2][0])\n",
    "display(P,P.det())"
   ]
  },
  {
   "cell_type": "markdown",
   "metadata": {},
   "source": [
    "Найдем матрицу в базисе из собственных векторов по формуле (1) перед примером 3:"
   ]
  },
  {
   "cell_type": "code",
   "execution_count": 14,
   "metadata": {},
   "outputs": [
    {
     "data": {
      "text/latex": [
       "$\\displaystyle \\left[\\begin{matrix}30 & 0 & 0\\\\0 & 45 & 0\\\\0 & 0 & 75\\end{matrix}\\right]$"
      ],
      "text/plain": [
       "Matrix([\n",
       "[30,  0,  0],\n",
       "[ 0, 45,  0],\n",
       "[ 0,  0, 75]])"
      ]
     },
     "execution_count": 14,
     "metadata": {},
     "output_type": "execute_result"
    }
   ],
   "source": [
    "B_new=P**(-1)*B*P\n",
    "B_new"
   ]
  },
  {
   "cell_type": "markdown",
   "metadata": {},
   "source": [
    "Поменяем в матрице P последовательность векторов, поменяем местами второй и третий векторы:"
   ]
  },
  {
   "cell_type": "code",
   "execution_count": 15,
   "metadata": {},
   "outputs": [
    {
     "data": {
      "text/latex": [
       "$\\displaystyle \\left[\\begin{matrix}\\frac{4}{3} & - \\frac{1}{3} & \\frac{4}{3}\\\\2 & - \\frac{1}{2} & - \\frac{1}{2}\\\\1 & 1 & 1\\end{matrix}\\right]$"
      ],
      "text/plain": [
       "Matrix([\n",
       "[4/3, -1/3,  4/3],\n",
       "[  2, -1/2, -1/2],\n",
       "[  1,    1,    1]])"
      ]
     },
     "metadata": {},
     "output_type": "display_data"
    },
    {
     "data": {
      "text/latex": [
       "$\\displaystyle \\left[\\begin{matrix}30 & 0 & 0\\\\0 & 75 & 0\\\\0 & 0 & 45\\end{matrix}\\right]$"
      ],
      "text/plain": [
       "Matrix([\n",
       "[30,  0,  0],\n",
       "[ 0, 75,  0],\n",
       "[ 0,  0, 45]])"
      ]
     },
     "execution_count": 15,
     "metadata": {},
     "output_type": "execute_result"
    }
   ],
   "source": [
    "P_new=P[:,0].row_join(P[:,2]).row_join(P[:,1])\n",
    "display(P_new)\n",
    "B_new_1=P_new**(-1)*B*P_new\n",
    "B_new_1"
   ]
  },
  {
   "cell_type": "markdown",
   "metadata": {},
   "source": [
    "Заметим, что изменилась последовательность собственных чисел на главной диагонали, причем в соответствии с изменением порядка следования собственных векторов в матрице перехода."
   ]
  },
  {
   "cell_type": "markdown",
   "metadata": {},
   "source": [
    "### Пример 4\n",
    "\n",
    "Найдем собственные числа по определению, т.е. как корни характеристического многочлена $|B-\\lambda E|=0$"
   ]
  },
  {
   "cell_type": "code",
   "execution_count": 16,
   "metadata": {},
   "outputs": [
    {
     "data": {
      "text/plain": [
       "[30, 45, 75]"
      ]
     },
     "execution_count": 16,
     "metadata": {},
     "output_type": "execute_result"
    }
   ],
   "source": [
    "lam=symbols('lamda')\n",
    "lambdas=solve((B-lam*eye(3)).det())\n",
    "lambdas"
   ]
  },
  {
   "cell_type": "markdown",
   "metadata": {},
   "source": [
    "Для каждого собственного числа найдем собственный вектор, решив СЛАУ $(B-\\lambda E)x=0$:"
   ]
  },
  {
   "cell_type": "code",
   "execution_count": 17,
   "metadata": {},
   "outputs": [
    {
     "data": {
      "text/latex": [
       "$\\displaystyle \\left[\\begin{matrix}51 - \\lambda & -8 & -12 & 0\\\\9 & 33 - \\lambda & -18 & 0\\\\-18 & -6 & 66 - \\lambda & 0\\end{matrix}\\right]$"
      ],
      "text/plain": [
       "Matrix([\n",
       "[51 - lamda,         -8,        -12, 0],\n",
       "[         9, 33 - lamda,        -18, 0],\n",
       "[       -18,         -6, 66 - lamda, 0]])"
      ]
     },
     "metadata": {},
     "output_type": "display_data"
    },
    {
     "data": {
      "text/latex": [
       "$\\left[ \\left( \\frac{4 k_{3}}{3}, \\  2 k_{3}, \\  k_{3}\\right), \\  \\left( \\frac{4 k_{3}}{3}, \\  - \\frac{k_{3}}{2}, \\  k_{3}\\right), \\  \\left( - \\frac{k_{3}}{3}, \\  - \\frac{k_{3}}{2}, \\  k_{3}\\right)\\right]$"
      ],
      "text/plain": [
       "<IPython.core.display.Latex object>"
      ]
     },
     "metadata": {},
     "output_type": "display_data"
    },
    {
     "data": {
      "text/latex": [
       "$\\displaystyle \\left[\\begin{matrix}\\frac{4}{3} & \\frac{4}{3} & - \\frac{1}{3}\\\\2 & - \\frac{1}{2} & - \\frac{1}{2}\\\\1 & 1 & 1\\end{matrix}\\right]$"
      ],
      "text/plain": [
       "Matrix([\n",
       "[4/3,  4/3, -1/3],\n",
       "[  2, -1/2, -1/2],\n",
       "[  1,    1,    1]])"
      ]
     },
     "execution_count": 17,
     "metadata": {},
     "output_type": "execute_result"
    }
   ],
   "source": [
    "evects=[]\n",
    "zero_vect=Matrix((0,0,0))\n",
    "k1,k2,k3,k4=symbols('k1:5')\n",
    "display((B-lam*eye(3)).row_join(zero_vect))\n",
    "for lam in lambdas:\n",
    "    \n",
    "    evects+=list(linsolve((B-lam*eye(3)).row_join(zero_vect),k1,k2,k3))\n",
    "display(Latex('$'+latex(evects)+'$')) \n",
    "\n",
    "evects=[p.subs(list(evects[0][2].free_symbols)[0],1) for p in evects]\n",
    "Matrix(evects).transpose()"
   ]
  }
 ],
 "metadata": {
  "kernelspec": {
   "display_name": "Python 3",
   "language": "python",
   "name": "python3"
  },
  "language_info": {
   "codemirror_mode": {
    "name": "ipython",
    "version": 3
   },
   "file_extension": ".py",
   "mimetype": "text/x-python",
   "name": "python",
   "nbconvert_exporter": "python",
   "pygments_lexer": "ipython3",
   "version": "3.7.4"
  }
 },
 "nbformat": 4,
 "nbformat_minor": 2
}
