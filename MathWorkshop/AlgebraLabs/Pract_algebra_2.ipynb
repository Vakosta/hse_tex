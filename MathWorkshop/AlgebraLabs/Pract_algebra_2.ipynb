{
 "cells": [
  {
   "cell_type": "markdown",
   "metadata": {},
   "source": [
    "# Занятие 2\n",
    "# Алгебра"
   ]
  },
  {
   "cell_type": "markdown",
   "metadata": {},
   "source": [
    "## Матрицы. Подстановки, действия над строками, столбцами и элементами."
   ]
  },
  {
   "cell_type": "code",
   "execution_count": 1,
   "metadata": {},
   "outputs": [],
   "source": [
    "#https://www.sympy.org/en/index.html\n",
    "# sympy - модуль для символьных преобразований\n",
    "\n",
    "import sympy\n",
    "from sympy import symbols,Matrix"
   ]
  },
  {
   "cell_type": "code",
   "execution_count": 2,
   "metadata": {},
   "outputs": [
    {
     "data": {
      "text/latex": [
       "$\\displaystyle \\left[\\begin{matrix}b & 1\\\\0 & a^{2} - b\\end{matrix}\\right]$"
      ],
      "text/plain": [
       "Matrix([\n",
       "[b,        1],\n",
       "[0, a**2 - b]])"
      ]
     },
     "execution_count": 2,
     "metadata": {},
     "output_type": "execute_result"
    }
   ],
   "source": [
    "a,b,x1,x2,x3=symbols('a b x1:4')\n",
    "A=Matrix([[b,1],[0,a**2-b]])\n",
    "A"
   ]
  },
  {
   "cell_type": "code",
   "execution_count": 3,
   "metadata": {},
   "outputs": [
    {
     "data": {
      "text/latex": [
       "$\\displaystyle \\left[\\begin{matrix}x_{1}\\\\x_{2}\\end{matrix}\\right]$"
      ],
      "text/plain": [
       "Matrix([\n",
       "[x1],\n",
       "[x2]])"
      ]
     },
     "execution_count": 3,
     "metadata": {},
     "output_type": "execute_result"
    }
   ],
   "source": [
    "X=Matrix([[x1],[x2]])\n",
    "X"
   ]
  },
  {
   "cell_type": "code",
   "execution_count": 4,
   "metadata": {},
   "outputs": [
    {
     "data": {
      "text/latex": [
       "$\\displaystyle \\left[\\begin{matrix}b x_{1} + x_{2}\\\\x_{2} \\left(a^{2} - b\\right)\\end{matrix}\\right]$"
      ],
      "text/plain": [
       "Matrix([\n",
       "[    b*x1 + x2],\n",
       "[x2*(a**2 - b)]])"
      ]
     },
     "execution_count": 4,
     "metadata": {},
     "output_type": "execute_result"
    }
   ],
   "source": [
    "A*X"
   ]
  },
  {
   "cell_type": "code",
   "execution_count": 5,
   "metadata": {},
   "outputs": [
    {
     "data": {
      "text/latex": [
       "$\\displaystyle \\left[\\begin{matrix}a - 1 & 1\\\\0 & a^{2} - a + 1\\end{matrix}\\right]$"
      ],
      "text/plain": [
       "Matrix([\n",
       "[a - 1,            1],\n",
       "[    0, a**2 - a + 1]])"
      ]
     },
     "execution_count": 5,
     "metadata": {},
     "output_type": "execute_result"
    }
   ],
   "source": [
    "A1=A.subs(b,a-1)\n",
    "A1"
   ]
  },
  {
   "cell_type": "code",
   "execution_count": 6,
   "metadata": {},
   "outputs": [
    {
     "data": {
      "text/latex": [
       "$\\displaystyle \\left[\\begin{matrix}0 & 1\\\\0 & 1\\end{matrix}\\right]$"
      ],
      "text/plain": [
       "Matrix([\n",
       "[0, 1],\n",
       "[0, 1]])"
      ]
     },
     "execution_count": 6,
     "metadata": {},
     "output_type": "execute_result"
    }
   ],
   "source": [
    "A2=A1.subs(a,1)\n",
    "A2"
   ]
  },
  {
   "cell_type": "markdown",
   "metadata": {},
   "source": [
    "### Несколько подстановок одновременно"
   ]
  },
  {
   "cell_type": "code",
   "execution_count": 7,
   "metadata": {},
   "outputs": [
    {
     "data": {
      "text/latex": [
       "$\\displaystyle \\left[\\begin{matrix}a^{4} & 1\\\\0 & a^{24} - a^{4}\\end{matrix}\\right]$"
      ],
      "text/plain": [
       "Matrix([\n",
       "[a**4,            1],\n",
       "[   0, a**24 - a**4]])"
      ]
     },
     "execution_count": 7,
     "metadata": {},
     "output_type": "execute_result"
    }
   ],
   "source": [
    "A3=A.subs({a:b**3,b:a**4})\n",
    "A3"
   ]
  },
  {
   "cell_type": "code",
   "execution_count": 8,
   "metadata": {},
   "outputs": [
    {
     "data": {
      "text/latex": [
       "$\\displaystyle \\left[\\begin{matrix}a^{4} & 1\\\\0 & a^{24} - a^{4}\\end{matrix}\\right]$"
      ],
      "text/plain": [
       "Matrix([\n",
       "[a**4,            1],\n",
       "[   0, a**24 - a**4]])"
      ]
     },
     "execution_count": 8,
     "metadata": {},
     "output_type": "execute_result"
    }
   ],
   "source": [
    "#Проверим, что порядок перечисления подстановок не влияет на результат\n",
    "A3=A.subs({b:a**4,a:b**3})\n",
    "A3"
   ]
  },
  {
   "cell_type": "code",
   "execution_count": 9,
   "metadata": {},
   "outputs": [
    {
     "data": {
      "text/latex": [
       "$\\displaystyle \\left[\\begin{matrix}a^{4} & 1\\\\0 & - a^{4} + a^{2}\\end{matrix}\\right]$"
      ],
      "text/plain": [
       "Matrix([\n",
       "[a**4,            1],\n",
       "[   0, -a**4 + a**2]])"
      ]
     },
     "execution_count": 9,
     "metadata": {},
     "output_type": "execute_result"
    }
   ],
   "source": [
    "#Выполним подстановки последовательно\n",
    "A3=A.subs({b:a**4})\n",
    "A3"
   ]
  },
  {
   "cell_type": "code",
   "execution_count": 10,
   "metadata": {},
   "outputs": [
    {
     "data": {
      "text/latex": [
       "$\\displaystyle \\left[\\begin{matrix}b^{12} & 1\\\\0 & - b^{12} + b^{6}\\end{matrix}\\right]$"
      ],
      "text/plain": [
       "Matrix([\n",
       "[b**12,             1],\n",
       "[    0, -b**12 + b**6]])"
      ]
     },
     "execution_count": 10,
     "metadata": {},
     "output_type": "execute_result"
    }
   ],
   "source": [
    "A4=A3.subs({a:b**3})\n",
    "A4"
   ]
  },
  {
   "cell_type": "markdown",
   "metadata": {},
   "source": [
    "## Вставка и удаление строки и столбца"
   ]
  },
  {
   "cell_type": "code",
   "execution_count": 11,
   "metadata": {},
   "outputs": [
    {
     "data": {
      "text/latex": [
       "$\\displaystyle \\left[\\begin{matrix}b & 1 & x_{1}\\\\0 & a^{2} - b & x_{2}\\end{matrix}\\right]$"
      ],
      "text/plain": [
       "Matrix([\n",
       "[b,        1, x1],\n",
       "[0, a**2 - b, x2]])"
      ]
     },
     "execution_count": 11,
     "metadata": {},
     "output_type": "execute_result"
    }
   ],
   "source": [
    "A_with_X=A.row_join(X)\n",
    "A_with_X"
   ]
  },
  {
   "cell_type": "code",
   "execution_count": 12,
   "metadata": {},
   "outputs": [
    {
     "data": {
      "text/latex": [
       "$\\displaystyle \\left[\\begin{matrix}1\\\\a^{2} - b\\end{matrix}\\right]$"
      ],
      "text/plain": [
       "Matrix([\n",
       "[       1],\n",
       "[a**2 - b]])"
      ]
     },
     "execution_count": 12,
     "metadata": {},
     "output_type": "execute_result"
    }
   ],
   "source": [
    "#Выделим столбец с номером 1 в матрице А\n",
    "A[:,1]"
   ]
  },
  {
   "cell_type": "code",
   "execution_count": 13,
   "metadata": {},
   "outputs": [
    {
     "data": {
      "text/latex": [
       "$\\displaystyle \\left[\\begin{matrix}b & 1\\end{matrix}\\right]$"
      ],
      "text/plain": [
       "Matrix([[b, 1]])"
      ]
     },
     "execution_count": 13,
     "metadata": {},
     "output_type": "execute_result"
    }
   ],
   "source": [
    "#Выделим строку с номером 0 в матрице А\n",
    "A[0,:]"
   ]
  },
  {
   "cell_type": "code",
   "execution_count": 14,
   "metadata": {},
   "outputs": [
    {
     "data": {
      "text/latex": [
       "$\\displaystyle \\left[\\begin{matrix}b & 1\\\\0 & a^{2} - b\\\\0 & a^{2} - b\\end{matrix}\\right]$"
      ],
      "text/plain": [
       "Matrix([\n",
       "[b,        1],\n",
       "[0, a**2 - b],\n",
       "[0, a**2 - b]])"
      ]
     },
     "execution_count": 14,
     "metadata": {},
     "output_type": "execute_result"
    }
   ],
   "source": [
    "#Допишем снизу к матрице А ее строку номер 1\n",
    "A_with_A1=A.col_join(A[1,:])\n",
    "A_with_A1"
   ]
  },
  {
   "cell_type": "code",
   "execution_count": 15,
   "metadata": {},
   "outputs": [
    {
     "data": {
      "text/latex": [
       "$\\displaystyle \\left[\\begin{matrix}b & 1 & b\\\\0 & a^{2} - b & 0\\end{matrix}\\right]$"
      ],
      "text/plain": [
       "Matrix([\n",
       "[b,        1, b],\n",
       "[0, a**2 - b, 0]])"
      ]
     },
     "execution_count": 15,
     "metadata": {},
     "output_type": "execute_result"
    }
   ],
   "source": [
    "#Допишем справа к матрице А ее столбец номер 0\n",
    "A_with_A0=A.row_join(A[:,0])\n",
    "A_with_A0"
   ]
  },
  {
   "cell_type": "code",
   "execution_count": 16,
   "metadata": {},
   "outputs": [
    {
     "name": "stdout",
     "output_type": "stream",
     "text": [
      "Введите несколько символов\n",
      "ak3jdnfh\n",
      "Получился вектор-столбец\n"
     ]
    },
    {
     "data": {
      "text/latex": [
       "$\\displaystyle \\left[\\begin{matrix}a\\\\k\\\\3\\\\j\\\\d\\\\n\\\\f\\\\h\\end{matrix}\\right]$"
      ],
      "text/plain": [
       "Matrix([\n",
       "[a],\n",
       "[k],\n",
       "[3],\n",
       "[j],\n",
       "[d],\n",
       "[n],\n",
       "[f],\n",
       "[h]])"
      ]
     },
     "execution_count": 16,
     "metadata": {},
     "output_type": "execute_result"
    }
   ],
   "source": [
    "symbols_my=input('Введите несколько символов\\n')\n",
    "M=Matrix(list(symbols_my))\n",
    "print('Получился вектор-столбец')\n",
    "M"
   ]
  },
  {
   "cell_type": "code",
   "execution_count": 17,
   "metadata": {},
   "outputs": [
    {
     "data": {
      "text/latex": [
       "$\\displaystyle \\left[\\begin{matrix}a & k & 3 & j & d & n & f & h\\end{matrix}\\right]$"
      ],
      "text/plain": [
       "Matrix([[a, k, 3, j, d, n, f, h]])"
      ]
     },
     "execution_count": 17,
     "metadata": {},
     "output_type": "execute_result"
    }
   ],
   "source": [
    "#Транспонируем М\n",
    "M_T=M.transpose()\n",
    "M_T"
   ]
  },
  {
   "cell_type": "code",
   "execution_count": 18,
   "metadata": {},
   "outputs": [
    {
     "data": {
      "text/latex": [
       "$\\displaystyle \\left[\\begin{matrix}a^{2} & a k & 3 a & a j & a d & a n & a f & a h\\\\a k & k^{2} & 3 k & j k & d k & k n & f k & h k\\\\3 a & 3 k & 9 & 3 j & 3 d & 3 n & 3 f & 3 h\\\\a j & j k & 3 j & j^{2} & d j & j n & f j & h j\\\\a d & d k & 3 d & d j & d^{2} & d n & d f & d h\\\\a n & k n & 3 n & j n & d n & n^{2} & f n & h n\\\\a f & f k & 3 f & f j & d f & f n & f^{2} & f h\\\\a h & h k & 3 h & h j & d h & h n & f h & h^{2}\\end{matrix}\\right]$"
      ],
      "text/plain": [
       "Matrix([\n",
       "[a**2,  a*k, 3*a,  a*j,  a*d,  a*n,  a*f,  a*h],\n",
       "[ a*k, k**2, 3*k,  j*k,  d*k,  k*n,  f*k,  h*k],\n",
       "[ 3*a,  3*k,   9,  3*j,  3*d,  3*n,  3*f,  3*h],\n",
       "[ a*j,  j*k, 3*j, j**2,  d*j,  j*n,  f*j,  h*j],\n",
       "[ a*d,  d*k, 3*d,  d*j, d**2,  d*n,  d*f,  d*h],\n",
       "[ a*n,  k*n, 3*n,  j*n,  d*n, n**2,  f*n,  h*n],\n",
       "[ a*f,  f*k, 3*f,  f*j,  d*f,  f*n, f**2,  f*h],\n",
       "[ a*h,  h*k, 3*h,  h*j,  d*h,  h*n,  f*h, h**2]])"
      ]
     },
     "execution_count": 18,
     "metadata": {},
     "output_type": "execute_result"
    }
   ],
   "source": [
    "#Перемножим столбец и строку\n",
    "M2=M*M_T\n",
    "M2"
   ]
  },
  {
   "cell_type": "code",
   "execution_count": 19,
   "metadata": {},
   "outputs": [
    {
     "data": {
      "text/latex": [
       "$\\displaystyle \\left[\\begin{matrix}a^{2} & a k & 3 a\\\\a k & k^{2} & 3 k\\\\3 a & 3 k & 9\\end{matrix}\\right]$"
      ],
      "text/plain": [
       "Matrix([\n",
       "[a**2,  a*k, 3*a],\n",
       "[ a*k, k**2, 3*k],\n",
       "[ 3*a,  3*k,   9]])"
      ]
     },
     "execution_count": 19,
     "metadata": {},
     "output_type": "execute_result"
    }
   ],
   "source": [
    "#Выделим верхнюю левую подматрицу порядка 3\n",
    "M3=M2[:3,:3] \n",
    "M3"
   ]
  },
  {
   "cell_type": "code",
   "execution_count": 20,
   "metadata": {},
   "outputs": [
    {
     "data": {
      "text/latex": [
       "$\\displaystyle \\left[\\begin{matrix}j^{2} & d j & j n & f j & h j\\\\d j & d^{2} & d n & d f & d h\\\\j n & d n & n^{2} & f n & h n\\\\f j & d f & f n & f^{2} & f h\\\\h j & d h & h n & f h & h^{2}\\end{matrix}\\right]$"
      ],
      "text/plain": [
       "Matrix([\n",
       "[j**2,  d*j,  j*n,  f*j,  h*j],\n",
       "[ d*j, d**2,  d*n,  d*f,  d*h],\n",
       "[ j*n,  d*n, n**2,  f*n,  h*n],\n",
       "[ f*j,  d*f,  f*n, f**2,  f*h],\n",
       "[ h*j,  d*h,  h*n,  f*h, h**2]])"
      ]
     },
     "execution_count": 20,
     "metadata": {},
     "output_type": "execute_result"
    }
   ],
   "source": [
    "#Выделим нижнюю правую подматрицу порядка 3\n",
    "M3=M2[3:,3:] \n",
    "M3"
   ]
  },
  {
   "cell_type": "code",
   "execution_count": 21,
   "metadata": {},
   "outputs": [
    {
     "data": {
      "text/latex": [
       "$\\displaystyle \\left[\\begin{matrix}a k & k^{2} & 3 k & j k & d k & k n & f k & h k\\\\a j & j k & 3 j & j^{2} & d j & j n & f j & h j\\\\a n & k n & 3 n & j n & d n & n^{2} & f n & h n\\end{matrix}\\right]$"
      ],
      "text/plain": [
       "Matrix([\n",
       "[a*k, k**2, 3*k,  j*k, d*k,  k*n, f*k, h*k],\n",
       "[a*j,  j*k, 3*j, j**2, d*j,  j*n, f*j, h*j],\n",
       "[a*n,  k*n, 3*n,  j*n, d*n, n**2, f*n, h*n]])"
      ]
     },
     "execution_count": 21,
     "metadata": {},
     "output_type": "execute_result"
    }
   ],
   "source": [
    "#Составим матрицы из 1, 3 и 5-й строк матрицы М2\n",
    "M2_135=((M2[1,:]).col_join(M2[3,:])).col_join(M2[5,:])\n",
    "M2_135                                            "
   ]
  },
  {
   "cell_type": "code",
   "execution_count": 22,
   "metadata": {},
   "outputs": [
    {
     "data": {
      "text/latex": [
       "$\\displaystyle \\left[\\begin{matrix}a k & k^{2} & 3 k & j k & d k & k n & f k & h k\\\\a j & j k & 3 j & j^{2} & d j & j n & f j & h j\\\\a n & k n & 0 & j n & d n & n^{2} & f n & h n\\end{matrix}\\right]$"
      ],
      "text/plain": [
       "Matrix([\n",
       "[a*k, k**2, 3*k,  j*k, d*k,  k*n, f*k, h*k],\n",
       "[a*j,  j*k, 3*j, j**2, d*j,  j*n, f*j, h*j],\n",
       "[a*n,  k*n,   0,  j*n, d*n, n**2, f*n, h*n]])"
      ]
     },
     "execution_count": 22,
     "metadata": {},
     "output_type": "execute_result"
    }
   ],
   "source": [
    "M2_135[2,2]=0\n",
    "M2_135"
   ]
  },
  {
   "cell_type": "code",
   "execution_count": 23,
   "metadata": {},
   "outputs": [
    {
     "data": {
      "text/latex": [
       "$\\displaystyle \\left[\\begin{matrix}a n & k n & 0 & j n & d n & n^{2} & f n & h n\\end{matrix}\\right]$"
      ],
      "text/plain": [
       "Matrix([[a*n, k*n, 0, j*n, d*n, n**2, f*n, h*n]])"
      ]
     },
     "execution_count": 23,
     "metadata": {},
     "output_type": "execute_result"
    }
   ],
   "source": [
    "M2_135[2,:]"
   ]
  },
  {
   "cell_type": "code",
   "execution_count": 24,
   "metadata": {},
   "outputs": [
    {
     "data": {
      "text/latex": [
       "$\\displaystyle \\left[\\begin{matrix}1 & 2 & 3 & 4\\\\5 & 6 & 7 & 8\\\\9 & 10 & 0 & 0\\\\13 & 14 & 0 & 0\\end{matrix}\\right]$"
      ],
      "text/plain": [
       "Matrix([\n",
       "[ 1,  2, 3, 4],\n",
       "[ 5,  6, 7, 8],\n",
       "[ 9, 10, 0, 0],\n",
       "[13, 14, 0, 0]])"
      ]
     },
     "execution_count": 24,
     "metadata": {},
     "output_type": "execute_result"
    }
   ],
   "source": [
    "#Используем ананимную функцию (lambda-функцию)\n",
    "M = Matrix(([1,2,3,4],[5,6,7,8],[9,10,11,12],[13,14,15,16]))\n",
    "M[2:,2:] = Matrix(2,2,lambda i,j: 0)\n",
    "M"
   ]
  },
  {
   "cell_type": "code",
   "execution_count": 25,
   "metadata": {},
   "outputs": [
    {
     "data": {
      "text/latex": [
       "$\\displaystyle \\left[\\begin{matrix}a k & k^{2} & 3 k & j k & d k & k n & f k & h k\\\\a j & j k & 3 j & j^{2} & d j & j n & f j & h j\\\\0 & 0 & 0 & 0 & 0 & 0 & 0 & 0\\end{matrix}\\right]$"
      ],
      "text/plain": [
       "Matrix([\n",
       "[a*k, k**2, 3*k,  j*k, d*k, k*n, f*k, h*k],\n",
       "[a*j,  j*k, 3*j, j**2, d*j, j*n, f*j, h*j],\n",
       "[  0,    0,   0,    0,   0,   0,   0,   0]])"
      ]
     },
     "execution_count": 25,
     "metadata": {},
     "output_type": "execute_result"
    }
   ],
   "source": [
    "M2_135[2,:]=Matrix(1,len(M2_135[2,:]),lambda i,j:0)\n",
    "M2_135"
   ]
  },
  {
   "cell_type": "code",
   "execution_count": 26,
   "metadata": {},
   "outputs": [
    {
     "data": {
      "text/latex": [
       "$\\displaystyle \\left[\\begin{matrix}a k & k^{2} & 3 k & 0 & d k & k n & f k & h k\\\\a j & j k & 3 j & 1 & d j & j n & f j & h j\\\\0 & 0 & 0 & 2 & 0 & 0 & 0 & 0\\end{matrix}\\right]$"
      ],
      "text/plain": [
       "Matrix([\n",
       "[a*k, k**2, 3*k, 0, d*k, k*n, f*k, h*k],\n",
       "[a*j,  j*k, 3*j, 1, d*j, j*n, f*j, h*j],\n",
       "[  0,    0,   0, 2,   0,   0,   0,   0]])"
      ]
     },
     "execution_count": 26,
     "metadata": {},
     "output_type": "execute_result"
    }
   ],
   "source": [
    "M2_135[:,3]=Matrix(3,1,lambda i,j:i+j)\n",
    "M2_135"
   ]
  },
  {
   "cell_type": "markdown",
   "metadata": {},
   "source": [
    "### Создание матрицы на основе функции"
   ]
  },
  {
   "cell_type": "code",
   "execution_count": 27,
   "metadata": {},
   "outputs": [],
   "source": [
    "def matr(i,j):\n",
    "    if i>j:\n",
    "        return i-j\n",
    "    elif i==j:\n",
    "        return 2**i\n",
    "    return 0"
   ]
  },
  {
   "cell_type": "code",
   "execution_count": 28,
   "metadata": {},
   "outputs": [
    {
     "data": {
      "text/latex": [
       "$\\displaystyle \\left[\\begin{matrix}1 & 0 & 0 & 0 & 0\\\\1 & 2 & 0 & 0 & 0\\\\2 & 1 & 4 & 0 & 0\\end{matrix}\\right]$"
      ],
      "text/plain": [
       "Matrix([\n",
       "[1, 0, 0, 0, 0],\n",
       "[1, 2, 0, 0, 0],\n",
       "[2, 1, 4, 0, 0]])"
      ]
     },
     "execution_count": 28,
     "metadata": {},
     "output_type": "execute_result"
    }
   ],
   "source": [
    "NewM=Matrix(3,5,matr)\n",
    "NewM"
   ]
  },
  {
   "cell_type": "code",
   "execution_count": null,
   "metadata": {},
   "outputs": [],
   "source": []
  }
 ],
 "metadata": {
  "kernelspec": {
   "display_name": "Python 3",
   "language": "python",
   "name": "python3"
  },
  "language_info": {
   "codemirror_mode": {
    "name": "ipython",
    "version": 3
   },
   "file_extension": ".py",
   "mimetype": "text/x-python",
   "name": "python",
   "nbconvert_exporter": "python",
   "pygments_lexer": "ipython3",
   "version": "3.7.4"
  }
 },
 "nbformat": 4,
 "nbformat_minor": 2
}
