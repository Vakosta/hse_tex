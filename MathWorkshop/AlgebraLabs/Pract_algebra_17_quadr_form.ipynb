{
 "cells": [
  {
   "cell_type": "code",
   "execution_count": 2,
   "metadata": {},
   "outputs": [],
   "source": [
    "import matplotlib.pyplot as plt\n",
    "from sympy import *\n",
    "#from IPython.display import display,Latex"
   ]
  },
  {
   "cell_type": "markdown",
   "metadata": {},
   "source": [
    "# Занятие 17\n",
    "# Алгебра\n",
    "\n",
    "## Квадратичные формы\n",
    "\n",
    "Квадратичной формой нескольких переменных $x_1,x_2,...,x_n$ называют однородный многочлен второй степени\n",
    "$$\n",
    "\\sum_{i,j=1}^na_{ij}x_ix_j=\\sum_{i=1}^na_{ii}x_i^2+2\\sum_{i=1}^n\\sum_{j=i+1}^na_{ij}x_ix_j \n",
    "$$\n",
    "В частности, квадратичные формы двух и трех переменных можно записать в виде:\n",
    "$$\n",
    "a_{11}x^2+2a_{12}xy+a_{22}y^2,\\qquad a_{11}x^2+a_{22}y^2+a_{33}z^2+2a_{12}xy+2a_{13}xz+2a_{23}yz\n",
    "$$\n",
    "\n",
    "Удобнее записывать квадратичные формы в матричном виде:\n",
    "$$\n",
    "X^TAX,\\quad X=\\left(\\begin{matrix}x\\\\y\\end{matrix}\\right), A=\\left(\\begin{matrix}a_{11}&a_{12}\\\\a{12}&a_{22}\\end{matrix}\\right)\n",
    "$$\n",
    "\n",
    "####  Особенности матрицы квадратичной формы\n",
    "\n",
    "Матрица квадратичной формы всегда симметрична. Внедиагональные элементы матрицы квадратичной формы равны половине коэффициента произведения переменных $x_ix_j$, $i\\neq j$.\n",
    "\n",
    "При переходе к новому базису матрица квадратичной формы изменяется по формуле\n",
    "$$\n",
    "A'=P^{T}AP\n",
    "$$\n",
    "\n",
    "В базисе из НОРМИРОВАННЫХ собственных векторов, соответствующих матрице $A$, матрица квадратичной формы имеет диагональный вид,\n",
    "на диагонали собственные значения. Такой вид называется каноническим видом квадратичной формы. Приведение квадратичной формы к каноническому виду позволяет определить тип кривой или поверхности второго порядка. Канонический вид определен неоднозначно, т.е. у одной и той же квадратичной формы может быть несколько канонических видов, но выполняется \n",
    "\n",
    "### Закон инерции квадратичной формы\n",
    "\n",
    "Число слагаемых с положительными (отрицательными) каноническими коэффициентами в каноническом виде квадратичной формы не зависит от способа приведения квадратичной формы к каноническому виду.\n",
    "\n",
    "### Пример 1.\n",
    "\n",
    "Построить матрицу квадратичной формы $u=-x^2-y^2-z^2+2xy+4xz$ и привести ее к каноническому виду. Вначале построим матрицу: \n",
    "$$\n",
    "A\\left(\\begin{matrix}-1&1&2\\\\1&-1&0\\\\2&0&-1\\end{matrix}\\right)\n",
    "$$\n",
    "Проверим, что эта матрица задает нашу квадратичную форму, для этого вычислим\n",
    "$$\n",
    "X^TAX-u,\\quad X=\\left(\\begin{matrix}x\\\\y\\\\z\\end{matrix}\\right), \n",
    "$$"
   ]
  },
  {
   "cell_type": "code",
   "execution_count": 3,
   "metadata": {},
   "outputs": [
    {
     "data": {
      "text/latex": [
       "$\\displaystyle \\left[\\begin{matrix}x\\\\y\\\\z\\end{matrix}\\right]$"
      ],
      "text/plain": [
       "Matrix([\n",
       "[x],\n",
       "[y],\n",
       "[z]])"
      ]
     },
     "metadata": {},
     "output_type": "display_data"
    },
    {
     "data": {
      "text/latex": [
       "$\\displaystyle \\left[\\begin{matrix}- x^{2} + 2 x y + 4 x z - y^{2} - z^{2}\\end{matrix}\\right]$"
      ],
      "text/plain": [
       "Matrix([[-x**2 + 2*x*y + 4*x*z - y**2 - z**2]])"
      ]
     },
     "metadata": {},
     "output_type": "display_data"
    },
    {
     "data": {
      "text/latex": [
       "$\\displaystyle 0$"
      ],
      "text/plain": [
       "0"
      ]
     },
     "metadata": {},
     "output_type": "display_data"
    }
   ],
   "source": [
    "x, y, z = symbols('x y z')\n",
    "u = -x**2 - y**2 - z**2 + 2 * x * y + 4 * x * z\n",
    "A = Matrix([[-1, 1, 2], [1, -1, 0], [2, 0, -1]])\n",
    "X = Matrix((x, y, z))\n",
    "res = simplify(expand(X.transpose() * A * X))\n",
    "display(X, res, res[0] - u)"
   ]
  },
  {
   "cell_type": "markdown",
   "metadata": {},
   "source": [
    "Найдем собственные векторы матрицы $A$, нормируем их и составим из них матрицу перехода $P$:"
   ]
  },
  {
   "cell_type": "code",
   "execution_count": 4,
   "metadata": {},
   "outputs": [
    {
     "data": {
      "text/plain": [
       "[(-1, 1, [Matrix([\n",
       "   [ 0],\n",
       "   [-2],\n",
       "   [ 1]])]), (-1 + sqrt(5), 1, [Matrix([\n",
       "   [sqrt(5)/2],\n",
       "   [      1/2],\n",
       "   [        1]])]), (-sqrt(5) - 1, 1, [Matrix([\n",
       "   [-sqrt(5)/2],\n",
       "   [       1/2],\n",
       "   [         1]])])]"
      ]
     },
     "metadata": {},
     "output_type": "display_data"
    },
    {
     "data": {
      "text/plain": [
       "[Matrix([\n",
       " [           0],\n",
       " [-2*sqrt(5)/5],\n",
       " [   sqrt(5)/5]]), Matrix([\n",
       " [  sqrt(2)/2],\n",
       " [sqrt(10)/10],\n",
       " [ sqrt(10)/5]]), Matrix([\n",
       " [ -sqrt(2)/2],\n",
       " [sqrt(10)/10],\n",
       " [ sqrt(10)/5]])]"
      ]
     },
     "metadata": {},
     "output_type": "display_data"
    },
    {
     "data": {
      "text/latex": [
       "$\\displaystyle \\left[\\begin{matrix}0 & \\frac{\\sqrt{2}}{2} & - \\frac{\\sqrt{2}}{2}\\\\- \\frac{2 \\sqrt{5}}{5} & \\frac{\\sqrt{10}}{10} & \\frac{\\sqrt{10}}{10}\\\\\\frac{\\sqrt{5}}{5} & \\frac{\\sqrt{10}}{5} & \\frac{\\sqrt{10}}{5}\\end{matrix}\\right]$"
      ],
      "text/plain": [
       "Matrix([\n",
       "[           0,   sqrt(2)/2,  -sqrt(2)/2],\n",
       "[-2*sqrt(5)/5, sqrt(10)/10, sqrt(10)/10],\n",
       "[   sqrt(5)/5,  sqrt(10)/5,  sqrt(10)/5]])"
      ]
     },
     "execution_count": 4,
     "metadata": {},
     "output_type": "execute_result"
    }
   ],
   "source": [
    "ev = A.eigenvects()  #собственные векторы матрицы $A$\n",
    "display(ev)\n",
    "#P=[ev[0][2][0],ev[1][2][0],ev[2][2][0]]\n",
    "P_norm = [p[2][0].normalized()\n",
    "          for p in ev]  #нормируем собственные векторы матрицы $A$\n",
    "display(P_norm)\n",
    "P = P_norm[0].row_join(P_norm[1]).row_join(P_norm[2])\n",
    "P\n",
    "#P=ev[0][2][0].row_join(ev[1][2][0]).row_join(ev[2][2][0])составим из них матрицу перехода $P$"
   ]
  },
  {
   "cell_type": "markdown",
   "metadata": {},
   "source": [
    "Найдем матрицу квадратичной формы в новом базисе:"
   ]
  },
  {
   "cell_type": "code",
   "execution_count": 5,
   "metadata": {},
   "outputs": [
    {
     "data": {
      "text/latex": [
       "$\\displaystyle \\left[\\begin{matrix}-1 & 0 & 0\\\\0 & -1 + \\sqrt{5} & 0\\\\0 & 0 & - \\sqrt{5} - 1\\end{matrix}\\right]$"
      ],
      "text/plain": [
       "Matrix([\n",
       "[-1,            0,            0],\n",
       "[ 0, -1 + sqrt(5),            0],\n",
       "[ 0,            0, -sqrt(5) - 1]])"
      ]
     },
     "metadata": {},
     "output_type": "display_data"
    }
   ],
   "source": [
    "A_new = P.transpose() * A * P\n",
    "display(simplify(A_new))"
   ]
  },
  {
   "cell_type": "markdown",
   "metadata": {},
   "source": [
    "Получим квадратичную форму в виде многочлена:"
   ]
  },
  {
   "cell_type": "code",
   "execution_count": 6,
   "metadata": {},
   "outputs": [
    {
     "data": {
      "text/latex": [
       "$\\displaystyle - x^{2} - y^{2} + \\sqrt{5} y^{2} - \\sqrt{5} z^{2} - z^{2}$"
      ],
      "text/plain": [
       "-x**2 - y**2 + sqrt(5)*y**2 - sqrt(5)*z**2 - z**2"
      ]
     },
     "execution_count": 6,
     "metadata": {},
     "output_type": "execute_result"
    }
   ],
   "source": [
    "simplify(expand(X.transpose() * A_new * X))[0]"
   ]
  },
  {
   "cell_type": "markdown",
   "metadata": {},
   "source": [
    "Каноническая форма содержит квадраты переменных $x$ и $z$ с отрицательными коэффициентами, а квадрат $y$ - с положительным."
   ]
  },
  {
   "cell_type": "markdown",
   "metadata": {},
   "source": [
    "### Пример 2.\n",
    "\n",
    "Привести матрицу квадратичной формы $u=-x^2-y^2-z^2+2xy+4xz$ из Примера 1 к каноническому виду методом выделения полных квадратов. Проверить выполнение Закона инерции.\n",
    "\n",
    "План выделения полных квадратов:\n",
    "\n",
    "заметим, что $y$ входит только в одно произведение разных переменных, а именно, в $2xy$, поэтому будем выделять полный квадрат так, чтобы в него вошли все слагаемые с $y$, т.е. $2xy$ и $-y^2$. До полного квадрата эти слагаемые дополняются с помощью $-x^2$, получим $-(x-y)^2$ (или $-(y-x)^2$). Делаем замену переменных $Y=y-x$, что эквивалентно $y=Y+x$:"
   ]
  },
  {
   "cell_type": "code",
   "execution_count": 7,
   "metadata": {},
   "outputs": [
    {
     "data": {
      "text/latex": [
       "$\\displaystyle - x^{2} + 2 x y + 4 x z - y^{2} - z^{2}$"
      ],
      "text/plain": [
       "-x**2 + 2*x*y + 4*x*z - y**2 - z**2"
      ]
     },
     "metadata": {},
     "output_type": "display_data"
    },
    {
     "data": {
      "text/latex": [
       "$\\displaystyle - Y^{2} + 4 x z - z^{2}$"
      ],
      "text/plain": [
       "-Y**2 + 4*x*z - z**2"
      ]
     },
     "execution_count": 7,
     "metadata": {},
     "output_type": "execute_result"
    }
   ],
   "source": [
    "Y, Z = symbols('Y Z')\n",
    "display(u)\n",
    "u1 = simplify(expand(u.subs(y, Y + x)))\n",
    "u1"
   ]
  },
  {
   "cell_type": "markdown",
   "metadata": {},
   "source": [
    "Видим, что $z$ входит только в одно произведение разных переменных, а именно, в $4xz$, поэтому будем выделять полный квадрат так, чтобы в него вошли все слагаемые с $z$, т.е. $4xz$ и $-z^2$. До полного квадрата эти слагаемые дополняются с помощью $-4x^2$, получим $-(2x-z)^2$ (или $-(z-2x)^2$). Делаем замену переменных $Z=z-2x$, что эквивалентно $z=Z+2x$:"
   ]
  },
  {
   "cell_type": "code",
   "execution_count": 8,
   "metadata": {},
   "outputs": [
    {
     "data": {
      "text/latex": [
       "$\\displaystyle - Y^{2} - Z^{2} + 4 x^{2}$"
      ],
      "text/plain": [
       "-Y**2 - Z**2 + 4*x**2"
      ]
     },
     "execution_count": 8,
     "metadata": {},
     "output_type": "execute_result"
    }
   ],
   "source": [
    "u1 = simplify(expand(u1.subs(z, Z + 2 * x)))\n",
    "u1"
   ]
  },
  {
   "cell_type": "markdown",
   "metadata": {},
   "source": [
    "Как и в примере 1, в каноническом виде два отрицательных квадрата и один положительный, Закон инерции выполняется.\n",
    "\n",
    "## Классификация кривых второго порядка\n",
    "\n",
    "Все кривые второго порядка на плоскости описываются уравнением вида\n",
    "$$\n",
    "a_{11}x^2+2a_{12}xy+a_{22}y^2+2a_1x+2a_2y+a_0=0\\qquad(1)\n",
    "$$\n",
    "\n",
    "Невырожденные кривые второго порядка - эллипс, гипербола и парабола.\n",
    "\n",
    "Для классификации кривых нужно привести уравнение (1) к каноническому виду.\n",
    "\n",
    "Пусть $a_{12}\\neq0$.\n",
    "\n",
    "Вначале приведем к каноническому виду квадратичную форму из уравнения (1), в качестве матрицы перехода к новому базису можно использовать матрицу поворота на угол $\\alpha$:\n",
    "$$\n",
    "\\left(\\begin{matrix}\\cos\\alpha&-\\sin\\alpha\\\\ \\sin\\alpha&\\cos\\alpha\\end{matrix}\\right)\n",
    "$$\n",
    "угол $\\alpha$ находится из условия \n",
    "$$\n",
    "{\\rm ctg}(2\\alpha)=\\frac{a_{11}-a_{22}}{2a_{12}}\n",
    "$$\n",
    "\n",
    "В результате получаем уравнение вида (1), но с нулевым коэффициентом при $xy$.\n",
    "\n",
    "Рассмотрим разные случаи:\n",
    "\n",
    "1) если $a_{11}\\neq0$, $a_{22}\\neq0$, то от слагаемых $a_1x$ и $a_2y$ можно избавиться переносом начала координат, соответствующая замена переменных \n",
    "$$\n",
    "x=x'-\\frac{a_1}{a_{11}},\\quad y=y'-\\frac{a_2}{a_{22}}\\qquad(2)\n",
    "$$\n",
    "\n",
    "После такой замены уравнение кривой примет вид\n",
    "$$\n",
    "a_{11}x^2+a_{22}y^2+a_0=0\\qquad(3)\n",
    "$$\n",
    "\n",
    "Если $a_{11}a_{22}>0$, причем $a_{11} a_0<0$, то кривая - эллипс или окружность.\n",
    "\n",
    "Если $a_{11}a_{22}<0$, причем $a_0\\neq 0$, то кривая - гипербола.\n",
    "\n",
    "Остальные варианты случая 1)  вырожденные  (прямые, точки, пустое множество).\n",
    "\n",
    "2) если $a_{11}\\neq0$, $a_{22}=0$ ($a_{11}=0$, $a_{22}\\neq0$), тогда в уравнении (1) с нулевым коэффициентом при $xy$ можно избавиться от $a_1x$ ($a_2y$) переносом начала координат.\n",
    "\n",
    "После переноса получаем каноническое уравнение параболы или вырожденный случай.\n",
    "\n",
    "\n",
    "\n",
    "### Пример 3.\n",
    "Определить тип кривой второго порядка, заданной уравнением\n",
    "$$\n",
    "x^2-2xy-y^2+4x-2=0\n",
    "$$\n",
    "Вначале найдем угол поворота для избавления от слагаемого $-2xy$"
   ]
  },
  {
   "cell_type": "code",
   "execution_count": 9,
   "metadata": {},
   "outputs": [
    {
     "data": {
      "text/latex": [
       "$\\displaystyle - \\frac{\\pi}{8}$"
      ],
      "text/plain": [
       "-pi/8"
      ]
     },
     "metadata": {},
     "output_type": "display_data"
    }
   ],
   "source": [
    "x1, y1 = symbols('x1 y1')\n",
    "A = Matrix([[1, -1], [-1, -1]])\n",
    "alpha = acot((A[0, 0] - A[1, 1]) / (2 * A[0, 1])) / 2\n",
    "display(alpha)"
   ]
  },
  {
   "cell_type": "markdown",
   "metadata": {},
   "source": [
    "Составим матрицу перехода (поворота). Введем новые координаты $x1$ и $y1$, выразим через них старые координаты с помощью матрицы перехода."
   ]
  },
  {
   "cell_type": "code",
   "execution_count": 10,
   "metadata": {},
   "outputs": [
    {
     "data": {
      "text/latex": [
       "$\\displaystyle \\left[\\begin{matrix}\\sqrt{\\frac{\\sqrt{2}}{4} + \\frac{1}{2}} & \\sqrt{\\frac{1}{2} - \\frac{\\sqrt{2}}{4}}\\\\- \\sqrt{\\frac{1}{2} - \\frac{\\sqrt{2}}{4}} & \\sqrt{\\frac{\\sqrt{2}}{4} + \\frac{1}{2}}\\end{matrix}\\right]$"
      ],
      "text/plain": [
       "Matrix([\n",
       "[ sqrt(sqrt(2)/4 + 1/2), sqrt(1/2 - sqrt(2)/4)],\n",
       "[-sqrt(1/2 - sqrt(2)/4), sqrt(sqrt(2)/4 + 1/2)]])"
      ]
     },
     "metadata": {},
     "output_type": "display_data"
    },
    {
     "data": {
      "text/latex": [
       "$\\displaystyle \\left[\\begin{matrix}x_{1} \\sqrt{\\frac{\\sqrt{2}}{4} + \\frac{1}{2}} + y_{1} \\sqrt{\\frac{1}{2} - \\frac{\\sqrt{2}}{4}}\\\\- x_{1} \\sqrt{\\frac{1}{2} - \\frac{\\sqrt{2}}{4}} + y_{1} \\sqrt{\\frac{\\sqrt{2}}{4} + \\frac{1}{2}}\\end{matrix}\\right]$"
      ],
      "text/plain": [
       "Matrix([\n",
       "[ x1*sqrt(sqrt(2)/4 + 1/2) + y1*sqrt(1/2 - sqrt(2)/4)],\n",
       "[-x1*sqrt(1/2 - sqrt(2)/4) + y1*sqrt(sqrt(2)/4 + 1/2)]])"
      ]
     },
     "metadata": {},
     "output_type": "display_data"
    },
    {
     "data": {
      "text/latex": [
       "$\\displaystyle \\sqrt{2} x_{1}^{2} + 2 x_{1} \\sqrt{\\sqrt{2} + 2} - \\sqrt{2} y_{1}^{2} + 2 y_{1} \\sqrt{2 - \\sqrt{2}} - 2$"
      ],
      "text/plain": [
       "sqrt(2)*x1**2 + 2*x1*sqrt(sqrt(2) + 2) - sqrt(2)*y1**2 + 2*y1*sqrt(2 - sqrt(2)) - 2"
      ]
     },
     "execution_count": 10,
     "metadata": {},
     "output_type": "execute_result"
    }
   ],
   "source": [
    "P = Matrix([[cos(alpha), -sin(alpha)], [sin(alpha), cos(alpha)]])\n",
    "display(P)\n",
    "X1 = Matrix((x1, y1))\n",
    "X_new = P * X1\n",
    "display(X_new)\n",
    "eq = x**2 - 2 * x * y - y**2 + 4 * x - 2\n",
    "eq1 = simplify(expand(eq.subs({x: X_new[0], y: X_new[1]})))\n",
    "eq1"
   ]
  },
  {
   "cell_type": "markdown",
   "metadata": {},
   "source": [
    "Видим, что слагаемое $x_1y_1$ отсутствует.\n",
    "\n",
    "Можно обойтись без подстановок.\n",
    "\n",
    "Составляем матрицу коэффициентов уравнения $AA$ и вектор переменных, в нем последняя координата 1, она нужна для слагаемых первого и нулевого порядков:"
   ]
  },
  {
   "cell_type": "code",
   "execution_count": 11,
   "metadata": {},
   "outputs": [
    {
     "data": {
      "text/latex": [
       "$\\displaystyle \\left[\\begin{matrix}1 & -1 & 2\\\\-1 & -1 & 0\\\\2 & 0 & -2\\end{matrix}\\right]$"
      ],
      "text/plain": [
       "Matrix([\n",
       "[ 1, -1,  2],\n",
       "[-1, -1,  0],\n",
       "[ 2,  0, -2]])"
      ]
     },
     "metadata": {},
     "output_type": "display_data"
    },
    {
     "data": {
      "text/latex": [
       "$\\displaystyle \\left[\\begin{matrix}x\\\\y\\\\1\\end{matrix}\\right]$"
      ],
      "text/plain": [
       "Matrix([\n",
       "[x],\n",
       "[y],\n",
       "[1]])"
      ]
     },
     "metadata": {},
     "output_type": "display_data"
    }
   ],
   "source": [
    "AA = Matrix([[1, -1, 2], [-1, -1, 0], [2, 0, -2]])\n",
    "display(AA)\n",
    "XX = Matrix((x, y, 1))\n",
    "display(XX)"
   ]
  },
  {
   "cell_type": "markdown",
   "metadata": {},
   "source": [
    "Убедимся, что эта матрица действительно определяет наше уравнение:"
   ]
  },
  {
   "cell_type": "code",
   "execution_count": 12,
   "metadata": {},
   "outputs": [
    {
     "data": {
      "text/latex": [
       "$\\displaystyle \\left[\\begin{matrix}x^{2} - 2 x y + 4 x - y^{2} - 2\\end{matrix}\\right]$"
      ],
      "text/plain": [
       "Matrix([[x**2 - 2*x*y + 4*x - y**2 - 2]])"
      ]
     },
     "execution_count": 12,
     "metadata": {},
     "output_type": "execute_result"
    }
   ],
   "source": [
    "simplify(expand(XX.transpose() * AA * XX))"
   ]
  },
  {
   "cell_type": "markdown",
   "metadata": {},
   "source": [
    "Теперь составим матрицу поворота, она трехмерная, только правый нижний элемент равен 1. "
   ]
  },
  {
   "cell_type": "code",
   "execution_count": 13,
   "metadata": {},
   "outputs": [
    {
     "data": {
      "text/latex": [
       "$\\displaystyle \\left[\\begin{matrix}\\sqrt{\\frac{\\sqrt{2}}{4} + \\frac{1}{2}} & \\sqrt{\\frac{1}{2} - \\frac{\\sqrt{2}}{4}} & 0\\\\- \\sqrt{\\frac{1}{2} - \\frac{\\sqrt{2}}{4}} & \\sqrt{\\frac{\\sqrt{2}}{4} + \\frac{1}{2}} & 0\\\\0 & 0 & 1\\end{matrix}\\right]$"
      ],
      "text/plain": [
       "Matrix([\n",
       "[ sqrt(sqrt(2)/4 + 1/2), sqrt(1/2 - sqrt(2)/4), 0],\n",
       "[-sqrt(1/2 - sqrt(2)/4), sqrt(sqrt(2)/4 + 1/2), 0],\n",
       "[                     0,                     0, 1]])"
      ]
     },
     "metadata": {},
     "output_type": "display_data"
    }
   ],
   "source": [
    "P = Matrix([[cos(alpha), -sin(alpha), 0], [sin(alpha),\n",
    "                                           cos(alpha), 0], [0, 0, 1]])\n",
    "display(P)"
   ]
  },
  {
   "cell_type": "markdown",
   "metadata": {},
   "source": [
    "После поворота (уже в новых координатах $x_1$, $y_1$) наша матрица примет вид"
   ]
  },
  {
   "cell_type": "code",
   "execution_count": 14,
   "metadata": {},
   "outputs": [
    {
     "data": {
      "text/latex": [
       "$\\displaystyle \\left[\\begin{matrix}\\sqrt{2} & 0 & \\sqrt{\\sqrt{2} + 2}\\\\0 & - \\sqrt{2} & \\sqrt{2 - \\sqrt{2}}\\\\\\sqrt{\\sqrt{2} + 2} & \\sqrt{2 - \\sqrt{2}} & -2\\end{matrix}\\right]$"
      ],
      "text/plain": [
       "Matrix([\n",
       "[          sqrt(2),                 0, sqrt(sqrt(2) + 2)],\n",
       "[                0,          -sqrt(2), sqrt(2 - sqrt(2))],\n",
       "[sqrt(sqrt(2) + 2), sqrt(2 - sqrt(2)),                -2]])"
      ]
     },
     "metadata": {},
     "output_type": "display_data"
    }
   ],
   "source": [
    "AA1 = simplify(expand((P.transpose() * AA * P)))\n",
    "display(AA1)"
   ]
  },
  {
   "cell_type": "markdown",
   "metadata": {},
   "source": [
    "Запишем получившееся уравнение"
   ]
  },
  {
   "cell_type": "code",
   "execution_count": 15,
   "metadata": {},
   "outputs": [
    {
     "data": {
      "text/latex": [
       "$\\displaystyle \\sqrt{2} x_{1}^{2} + 2 x_{1} \\sqrt{\\sqrt{2} + 2} - \\sqrt{2} y_{1}^{2} + 2 y_{1} \\sqrt{2 - \\sqrt{2}} - 2$"
      ],
      "text/plain": [
       "sqrt(2)*x1**2 + 2*x1*sqrt(sqrt(2) + 2) - sqrt(2)*y1**2 + 2*y1*sqrt(2 - sqrt(2)) - 2"
      ]
     },
     "execution_count": 15,
     "metadata": {},
     "output_type": "execute_result"
    }
   ],
   "source": [
    "X1 = Matrix((x1, y1, 1))\n",
    "simplify(expand((X1.transpose() * AA1 * X1)[0]))"
   ]
  },
  {
   "cell_type": "markdown",
   "metadata": {},
   "source": [
    "Видим, что уравнение получилось точно такое же, как в результате подстановок, осуществляющих поворот.\n",
    "\n",
    "Осталось перенести начало координат так, чтобы исчезли слагаемые с $x$ и $y$. Соответствующая замена имеет вид (2):\n",
    "$$\n",
    "x=x'-\\frac{a_1}{a_{11}},\\quad y=y'-\\frac{a_2}{a_{22}}\n",
    "$$"
   ]
  },
  {
   "cell_type": "code",
   "execution_count": 16,
   "metadata": {},
   "outputs": [
    {
     "data": {
      "text/latex": [
       "$\\displaystyle \\left[\\begin{matrix}x_{1} - \\frac{\\sqrt{2} \\sqrt{\\sqrt{2} + 2}}{2}\\\\y_{1} + \\frac{\\sqrt{2} \\sqrt{2 - \\sqrt{2}}}{2}\\\\1\\end{matrix}\\right]$"
      ],
      "text/plain": [
       "Matrix([\n",
       "[x1 - sqrt(2)*sqrt(sqrt(2) + 2)/2],\n",
       "[y1 + sqrt(2)*sqrt(2 - sqrt(2))/2],\n",
       "[                               1]])"
      ]
     },
     "metadata": {},
     "output_type": "display_data"
    },
    {
     "data": {
      "text/latex": [
       "$\\displaystyle \\sqrt{2} x_{1}^{2} - \\sqrt{2} y_{1}^{2} - 4$"
      ],
      "text/plain": [
       "sqrt(2)*x1**2 - sqrt(2)*y1**2 - 4"
      ]
     },
     "metadata": {},
     "output_type": "display_data"
    }
   ],
   "source": [
    "X1_new = Matrix((x1, y1, 1))\n",
    "X1_new[0] -= AA1[0, 2] / AA1[0, 0]\n",
    "X1_new[1] -= AA1[1, 2] / AA1[1, 1]\n",
    "display(X1_new)\n",
    "eq_new = simplify(expand(X1_new.transpose() * AA1 * X1_new))[0]\n",
    "display(eq_new)"
   ]
  },
  {
   "cell_type": "markdown",
   "metadata": {},
   "source": [
    "Осталось поделить выражение на 4 и перенести свободный член в правую часть:"
   ]
  },
  {
   "cell_type": "code",
   "execution_count": 17,
   "metadata": {},
   "outputs": [
    {
     "data": {
      "text/latex": [
       "$\\displaystyle \\frac{\\sqrt{2} x_{1}^{2}}{4} - \\frac{\\sqrt{2} y_{1}^{2}}{4} = 1$"
      ],
      "text/plain": [
       "Eq(sqrt(2)*x1**2/4 - sqrt(2)*y1**2/4, 1)"
      ]
     },
     "execution_count": 17,
     "metadata": {},
     "output_type": "execute_result"
    }
   ],
   "source": [
    "free = eq_new.subs({x1: 0, y1: 0})\n",
    "eq_last = eq_new / (-free) + 1\n",
    "Eq(eq_last, 1)"
   ]
  },
  {
   "cell_type": "markdown",
   "metadata": {},
   "source": [
    "Изоразим на графике исходную кривую и получившуюся гиперболу."
   ]
  },
  {
   "cell_type": "code",
   "execution_count": 18,
   "metadata": {},
   "outputs": [
    {
     "data": {
      "image/png": "[encoded data removed]",
      "text/plain": [
       "<Figure size 432x288 with 1 Axes>"
      ]
     },
     "metadata": {
      "needs_background": "light"
     },
     "output_type": "display_data"
    },
    {
     "data": {
      "image/png": "[encoded data removed]",
      "text/plain": [
       "<Figure size 432x288 with 1 Axes>"
      ]
     },
     "metadata": {
      "needs_background": "light"
     },
     "output_type": "display_data"
    },
    {
     "data": {
      "text/plain": [
       "<sympy.plotting.plot.Plot at 0x1207ce1d0>"
      ]
     },
     "execution_count": 18,
     "metadata": {},
     "output_type": "execute_result"
    }
   ],
   "source": [
    "plot_implicit(eq)\n",
    "plot_implicit(eq_last - 1)"
   ]
  }
 ],
 "metadata": {
  "kernelspec": {
   "display_name": "Python 3",
   "language": "python",
   "name": "python3"
  },
  "language_info": {
   "codemirror_mode": {
    "name": "ipython",
    "version": 3
   },
   "file_extension": ".py",
   "mimetype": "text/x-python",
   "name": "python",
   "nbconvert_exporter": "python",
   "pygments_lexer": "ipython3",
   "version": "3.7.4"
  }
 },
 "nbformat": 4,
 "nbformat_minor": 2
}
