{
 "cells": [
  {
   "cell_type": "code",
   "execution_count": 1,
   "metadata": {},
   "outputs": [],
   "source": [
    "import sympy as sp\n",
    "#Для красивой печати:\n",
    "sp.init_printing(use_unicode=False, wrap_line=False, no_global=True)\n",
    "import matplotlib.pyplot as plt\n",
    "#from IPython.display import display #подключить, если не работает display"
   ]
  },
  {
   "cell_type": "markdown",
   "metadata": {},
   "source": [
    "# Занятие 12\n",
    "# Алгебра\n",
    " \n",
    "\n",
    "Для рисования пространственных изображений, состоящих из точек и отрезков,\n",
    "используем проектирование на плоскость $\\pi$ и введение на этой плоскости системы координат, состоящей из двух взаимно перпендикулярных прямых.\n",
    "\n",
    "Вертикальную прямую выберем так, что проекции всех точек и отрезков в пространстве на плоскость $\\pi$ будут расположены правее этой вертикальной оси.\n",
    "\n",
    "Изображаемые фигуры будем выбирать из первого координатного октанта, плоскость $\\pi$ проходит через точку $S(0,0,20)$, вектор нормали $n(1,1,1)$. Так обеспечим то, что проекции всех трехмерных объектов на плоскость $\\pi$  будут расположены выше горизонтальной оси.\n",
    "\n",
    "Вначале построим двумерную систему координат и изображения в ней трехмерных осей координат.\n",
    "\n",
    "View_Plane - плоскость $\\pi$,\n",
    "\n",
    "_x,_y,_z - точки пересечения осей ОХ OY,OZ с плоскостью View_Plane\n",
    "\n",
    "OX,OY,OZ - трехмерные оси координат, их будем изображать отрезками с концами в начале координат и в точках _x,_y,_z\n",
    "\n",
    "Xaxis - горизонтальная координатная ось в плоскости View_Plane,\n",
    "она проходит через точки _x и _y\n",
    "\n",
    "Yaxis - вертикальная координатная ось в плоскости View_Plane,\n",
    "ее проведем через точку _x перпендикулярно Xaxis в плоскости View_Plane,\n",
    "заметив, что точка _z+_x-_O лежит на этой прямой (_O - проекция _z на Xaxis)"
   ]
  },
  {
   "cell_type": "code",
   "execution_count": 2,
   "metadata": {},
   "outputs": [],
   "source": [
    "def _view(O1=sp.Point(0,0,10),normal_vector=(1,1,1)):\n",
    "    _O_3D=sp.Point(0,0,0)\n",
    "    View_Plane= sp.Plane(O1, normal_vector)\n",
    "    _x=View_Plane.intersection(sp.Line(_O_3D,sp.Point(1,0,0)))[0]\n",
    "    _y=View_Plane.intersection(sp.Line(_O_3D,sp.Point(0,1,0)))[0]\n",
    "    _z=View_Plane.intersection(sp.Line(_O_3D,sp.Point(0,0,1)))[0]\n",
    "    OX=sp.Segment(_O_3D,_x)\n",
    "    OY=sp.Segment(_O_3D,_y)\n",
    "    OZ=sp.Segment(_O_3D,_z)\n",
    "    Xaxis=sp.Line(_x,_y)\n",
    "    _O=Xaxis.projection(_z)\n",
    "    Yaxis=sp.Line(_x,_z+_x-_O)\n",
    "    return [[Xaxis,Yaxis],OX,OY,OZ,View_Plane]"
   ]
  },
  {
   "cell_type": "markdown",
   "metadata": {},
   "source": [
    "Служебная _view строит оси двумерной системы координат, а также отрезки осей трехмерной системы координат и плоскость View_Plane. Поскольку эта функция нужна только для внутреннего употребления, ее имя начинается с _\n",
    "\n",
    "Далее будем использовать такое именование для служебных переменных.\n",
    "\n",
    "Построив плоскость View_Plane, можем спроектировать на нее все нужные нам трехмерные объекты: точки, прямые, отрезки, лучи, многоугольники (заданные списками вершин).\n",
    "\n",
    "Проектирование разных типов объектов опишем разными функциями."
   ]
  },
  {
   "cell_type": "code",
   "execution_count": 3,
   "metadata": {},
   "outputs": [],
   "source": [
    "def point_to2D(point,axis_xy,View_Plane): #axis_xy - list из осей ОХ и ОУ, эти оси - Line3D на плоскости View_Plane\n",
    "    point_new=View_Plane.projection(point)\n",
    "    return sp.Point(axis_xy[1].distance(point_new),axis_xy[0].distance(point_new))\n",
    "def line_to2D(line,axis_xy,View_Plane):#line- Line3D\n",
    "    _A=line.p1\n",
    "    _B=line.p2\n",
    "    _A2D=point_to2D(_A,axis_xy,View_Plane)\n",
    "    _B2D=point_to2D(_B,axis_xy,View_Plane)\n",
    "    return sp.Line(_A2D,_B2D)\n",
    "def segment_to2D(segment,axis_xy,View_Plane):#line- Line3D\n",
    "    _A=segment.p1\n",
    "    _B=segment.p2\n",
    "    _A2D=point_to2D(_A,axis_xy,View_Plane)\n",
    "    _B2D=point_to2D(_B,axis_xy,View_Plane)\n",
    "    return sp.Segment(_A2D,_B2D)\n",
    "def ray_to2D(ray,axis_xy,View):#line- Line3D\n",
    "    _A,_B=ray.points\n",
    "    _A2D=point_to2D(_A,axis_xy,View_Plane)\n",
    "    _B2D=point_to2D(_B,axis_xy,View_Plane)\n",
    "    return sp.Ray(_A2D,_B2D)\n",
    "def poly_to2D(points,axis_xy,View_Plane): #points - list из вершин многоугольника 3D\n",
    "    points2D=[point_to2D(P,axis_xy,View_Plane) for P in points]\n",
    "    return sp.Polygon(*points2D)"
   ]
  },
  {
   "cell_type": "markdown",
   "metadata": {},
   "source": [
    "Теперь опишем функцию, проектирующую любой из упомянутых объектов: "
   ]
  },
  {
   "cell_type": "code",
   "execution_count": 4,
   "metadata": {},
   "outputs": [],
   "source": [
    "def to2D(obj,axis_xy,View):\n",
    "    if type(obj)==sp.geometry.point.Point3D:\n",
    "        return point_to2D(obj,axis_xy,View_Plane)\n",
    "    if type(obj)==sp.geometry.line.Line3D:\n",
    "        return line_to2D(obj,axis_xy,View_Plane)\n",
    "    if type(obj)==sp.geometry.line.Segment3D:\n",
    "        return segment_to2D(obj,axis_xy,View_Plane)\n",
    "    if type(obj)==sp.geometry.line.Ray3D:\n",
    "        return ray_to2D(obj,axis_xy,View_Plane)\n",
    "    if type(obj)==list:\n",
    "        if len(obj)>2:\n",
    "            return poly_to2D(obj,axis_xy,View_Plane)\n",
    "        else:\n",
    "            return \"error: less than 3 points\"\n",
    "    "
   ]
  },
  {
   "cell_type": "markdown",
   "metadata": {},
   "source": [
    "Опишем функцию, рисующую отдельные трехмерные объекты.\n",
    "\n",
    "Многоугольники можно рисовать с заливкой с помощью fill."
   ]
  },
  {
   "cell_type": "code",
   "execution_count": 5,
   "metadata": {},
   "outputs": [],
   "source": [
    "def draw3D_2D_obj(obj,axis_xy,View_Plane,color='blue'):\n",
    "    if type(obj)==sp.geometry.point.Point3D:\n",
    "        _P=point_to2D(obj,axis_xy,View_Plane)\n",
    "        plt.scatter(_P.x,_P.y,color=color)\n",
    "        return True\n",
    "    if type(obj)==sp.geometry.line.Line3D:\n",
    "        _L=line_to2D(obj,axis_xy,View_Plane)\n",
    "        plt.plot([_L.p1.x,_L.p2.x],[_L.p1.y,_L.p2.y],color=color) \n",
    "        return True\n",
    "    if type(obj)==sp.geometry.line.Segment3D:\n",
    "        _Seg=segment_to2D(obj,axis_xy,View_Plane)\n",
    "        plt.plot([_Seg.p1.x,_Seg.p2.x],[_Seg.p1.y,_Seg.p2.y],color=color)\n",
    "        return True\n",
    "    if type(obj)==sp.geometry.line.Ray3D:\n",
    "        _R=ray_to2D(obj,axis_xy,View_Plane)\n",
    "        plt.plot([_R.p1.x,_R.p2.x],[_R.p1.y,_R.p2.y],color=color)\n",
    "        return True \n",
    "    if type(obj)==list:\n",
    "        _Poly=[point_to2D(P,axis_xy,View_Plane) for P in obj]\n",
    "        _Poly+=[_Poly[0]]\n",
    "        _X=[V.x for V in _Poly]\n",
    "        _Y=[V.y for V in _Poly]\n",
    "        #plt.plot(_X,_Y,color=color)\n",
    "        plt.fill(_X,_Y,color=color)\n",
    "        plt.savefig(\"Pict.png\")\n",
    "    return True"
   ]
  },
  {
   "cell_type": "markdown",
   "metadata": {},
   "source": [
    "Теперь опишем функцию, рисующую всю сцену: координатные оси в трехмерном пространстве,\n",
    "все заданные пользователем фигуры, причем каждую фигуру можно рисовать своим цветом."
   ]
  },
  {
   "cell_type": "code",
   "execution_count": 6,
   "metadata": {},
   "outputs": [],
   "source": [
    "def draw3D(*objects,View='Common'):\n",
    "    if type(View)==str:\n",
    "        if View!='Common':\n",
    "            return 'error: view'\n",
    "        else:\n",
    "            axis_xy,OX,OY,OZ,View_Plane=_view(sp.Point(0,0,10),(1,1,1))\n",
    "            #print('axis_xy')\n",
    "            #display(axis_xy)\n",
    "    else:\n",
    "        pass\n",
    "    objects+=(tuple((OX,'k')),tuple((OY,'k')),tuple((OZ,'k'))) \n",
    "    #display(objects)\n",
    "    for obj in objects:\n",
    "        \n",
    "        draw3D_2D_obj(obj[0],axis_xy,View_Plane,color=obj[1])\n",
    "        plt.axis('equal')"
   ]
  },
  {
   "cell_type": "code",
   "execution_count": 7,
   "metadata": {},
   "outputs": [
    {
     "data": {
      "image/png": "[encoded data removed]",
      "text/plain": [
       "<Figure size 432x288 with 1 Axes>"
      ]
     },
     "metadata": {
      "needs_background": "light"
     },
     "output_type": "display_data"
    }
   ],
   "source": [
    "A=sp.Point(5,0,0)\n",
    "B=sp.Point(0,4,0)\n",
    "C=sp.Point(0,0,3)\n",
    "D=A+C-B\n",
    "F=sp.Point(10,10,10)\n",
    "TriangleABC=[A,B,C,D]\n",
    "draw3D((TriangleABC,'m'),(A,'r'),(B,'g'),(C,'b'),(F,'y'),View='Common')"
   ]
  }
 ],
 "metadata": {
  "kernelspec": {
   "display_name": "Python 3",
   "language": "python",
   "name": "python3"
  },
  "language_info": {
   "codemirror_mode": {
    "name": "ipython",
    "version": 3
   },
   "file_extension": ".py",
   "mimetype": "text/x-python",
   "name": "python",
   "nbconvert_exporter": "python",
   "pygments_lexer": "ipython3",
   "version": "3.7.4"
  }
 },
 "nbformat": 4,
 "nbformat_minor": 2
}
