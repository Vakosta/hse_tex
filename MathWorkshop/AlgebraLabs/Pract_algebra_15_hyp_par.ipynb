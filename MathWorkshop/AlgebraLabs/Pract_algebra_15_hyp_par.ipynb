{
 "cells": [
  {
   "cell_type": "code",
   "execution_count": 1,
   "metadata": {},
   "outputs": [],
   "source": [
    "import matplotlib.pyplot as plt\n",
    "from sympy import Ellipse, Point, S,pi,plot_implicit,Eq,tan"
   ]
  },
  {
   "cell_type": "markdown",
   "metadata": {},
   "source": [
    "# Занятие 15\n",
    "# Алгебра\n",
    "\n",
    "## Кривые второго порядка на плоскости: гипербола и парабола\n",
    "\n",
    "https://ru.wikipedia.org/wiki/%D0%9F%D0%B0%D1%80%D0%B0%D0%B1%D0%BE%D0%BB%D0%B0\n",
    "https://ru.wikipedia.org/wiki/%D0%93%D0%B8%D0%BF%D0%B5%D1%80%D0%B1%D0%BE%D0%BB%D0%B0_(%D0%BC%D0%B0%D1%82%D0%B5%D0%BC%D0%B0%D1%82%D0%B8%D0%BA%D0%B0)\n",
    "### Кривые: класс Curve в SymPy \n",
    "\n",
    "В SymPy пока нет классов Гипербола и Парабола, создадим их прототипы сами.\n",
    "Возьмем за образец класс эллипсов\n",
    "https://github.com/sympy/sympy/blob/70381f282f2d9d039da860e391fe51649df2779d/sympy/geometry/ellipse.py#L38-L1478\n",
    "https://docs.sympy.org/latest/modules/geometry/ellipses.html?highlight=ellipse#sympy.geometry.ellipse.Ellipse\n",
    "\n",
    "Реализуем следующие атрибуты:\n",
    "\n",
    "\n"
   ]
  },
  {
   "cell_type": "code",
   "execution_count": 2,
   "metadata": {},
   "outputs": [],
   "source": [
    "from sympy import Expr, Eq, latex,S,plot_implicit\n",
    "from sympy.core import S, pi, sympify\n",
    "from sympy.core.evaluate import global_evaluate\n",
    "from sympy.core.logic import fuzzy_bool\n",
    "from sympy.core.numbers import Rational, oo\n",
    "from sympy.core.compatibility import ordered\n",
    "from sympy.core.symbol import Dummy, _uniquely_named_symbol, _symbol\n",
    "from sympy.simplify import simplify, trigsimp\n",
    "from sympy.functions.elementary.miscellaneous import sqrt, Max\n",
    "from sympy.functions.elementary.trigonometric import cos, sin\n",
    "from sympy.functions.special.elliptic_integrals import elliptic_e\n",
    "from sympy.geometry.exceptions import GeometryError\n",
    "from sympy.geometry.line import Ray2D, Segment2D, Line2D, LinearEntity3D\n",
    "from sympy.polys import DomainError, Poly, PolynomialError\n",
    "from sympy.polys.polyutils import _not_a_coeff, _nsort\n",
    "from sympy.solvers import solve\n",
    "from sympy.solvers.solveset import linear_coeffs\n",
    "from sympy.utilities.misc import filldedent, func_name\n",
    "\n",
    "from sympy.geometry.entity import GeometryEntity, GeometrySet\n",
    "from sympy.geometry.point import Point, Point2D, Point3D\n",
    "from sympy.geometry.line import Line, Segment\n",
    "from sympy.geometry.util import idiff\n",
    "\n",
    "import random"
   ]
  },
  {
   "cell_type": "code",
   "execution_count": 3,
   "metadata": {},
   "outputs": [],
   "source": [
    "class Hyperbola(GeometrySet):\n",
    "    \"\"\"\n",
    "     Attributes\n",
    "    ==========\n",
    "    center\n",
    "    hradius\n",
    "    vradius\n",
    "    eccentricity\n",
    "    periapsis\n",
    "    focus_distance\n",
    "    foci\n",
    "    ==========\n",
    "    конструктор __new__\n",
    "    скопирован из Эллипса,\n",
    "    изменена формула для  hradius и vradius через эсцентриситет\n",
    "    \"\"\"\n",
    "    def __new__(\n",
    "        cls, center=None, hradius=None, vradius=None, eccentricity=None, **kwargs):\n",
    "        hradius = sympify(hradius)\n",
    "        vradius = sympify(vradius)\n",
    "\n",
    "        eccentricity = sympify(eccentricity)\n",
    "\n",
    "        if center is None:\n",
    "            center = Point(0, 0)\n",
    "        else:\n",
    "            center = Point(center, dim=2)\n",
    "\n",
    "        if len(center) != 2:\n",
    "            raise ValueError('The center of \"{0}\" must be a two dimensional point'.format(cls))\n",
    "\n",
    "        if len(list(filter(lambda x: x is not None, (hradius, vradius, eccentricity)))) != 2:\n",
    "            raise ValueError(filldedent('''\n",
    "                Exactly two arguments of \"hradius\", \"vradius\", and\n",
    "                \"eccentricity\" must not be None.'''))\n",
    "\n",
    "        if eccentricity is not None:\n",
    "            if hradius is None:\n",
    "                hradius = vradius / sqrt( eccentricity**2-1)\n",
    "            elif vradius is None:\n",
    "                vradius = hradius * sqrt( eccentricity**2-1)\n",
    "\n",
    "        if hradius == 0:\n",
    "            return \"Line\"\n",
    "        if vradius == 0:\n",
    "            return \"Rays\"\n",
    "        return GeometryEntity.__new__(cls, center, hradius, vradius, **kwargs)\n",
    "    @property\n",
    "    def ambient_dimension(self):\n",
    "        return 2\n",
    "    @property\n",
    "    def center(self):\n",
    "        return self.args[0]\n",
    "\n",
    "    @property\n",
    "    def hradius(self):\n",
    "        return self.args[1]\n",
    "    @property\n",
    "    def vradius(self):\n",
    "        return self.args[2]\n",
    "    @property\n",
    "    def focus_distance(self):\n",
    "        return sqrt(self.hradius**2+ self.vradius**2)\n",
    "    @property\n",
    "    def eccentricity(self):\n",
    "        \"\"\"The eccentricity of the ellipse.\"\"\"\n",
    "        return self.focus_distance / self.hradius\n",
    "    @property\n",
    "    def periapsis(self):\n",
    "        \"\"\"The apoapsis of the hyperbola.\n",
    "        The smallest distance between the focus and the contour.\"\"\"\n",
    "        return self.focus_distance-self.hradius\n",
    "    @property\n",
    "    def foci(self):\n",
    "        return (self.center + Point(0, -self.focus_distance), self.center + Point(0, self.focus_distance))\n",
    "    @property\n",
    "    def major(self):\n",
    "        return self.hradius\n",
    "    @property\n",
    "    def minor(self):\n",
    "        return self.vradius\n",
    "    \n",
    "    def equation(self, x='x', y='y', _slope=None,equation=False):\n",
    "        \"\"\"\n",
    "        Returns the equation of a hyperbola aligned with the x and y axes;\n",
    "        when slope is given, the equation returned corresponds to a hyperbola \n",
    "        with a major axis having that slope.\n",
    "        Parameters\n",
    "        ==========\n",
    "        x : str, optional\n",
    "            Label for the x-axis. Default value is 'x'.\n",
    "        y : str, optional\n",
    "            Label for the y-axis. Default value is 'y'.\n",
    "        _slope : Expr, optional\n",
    "                The slope of the major axis. Ignored when 'None'.\n",
    "        Returns\n",
    "        =======\n",
    "        equation : sympy expression   \"\"\"\n",
    "\n",
    "        x = _symbol(x, real=True)\n",
    "        y = _symbol(y, real=True)\n",
    "\n",
    "        dx = x - self.center.x\n",
    "        dy = y - self.center.y\n",
    "\n",
    "        if _slope is not None:\n",
    "            L = (dy - _slope*dx)**2\n",
    "            l = (_slope*dy + dx)**2\n",
    "            h = 1 + _slope**2\n",
    "            a = h*self.major**2\n",
    "            b = h*self.minor**2\n",
    "            res= l/a - L/b \n",
    "\n",
    "        else:\n",
    "            t1 = (dx/self.hradius)**2\n",
    "            t2 = (dy/self.vradius)**2\n",
    "            res= t1 - t2 \n",
    "        if equation==False:\n",
    "            return   res-1\n",
    "        else:\n",
    "            return Eq(res,1)\n",
    "        "
   ]
  },
  {
   "cell_type": "markdown",
   "metadata": {},
   "source": [
    "Построим нашу первую гиперболу, полуоси 2 и 3"
   ]
  },
  {
   "cell_type": "code",
   "execution_count": 4,
   "metadata": {},
   "outputs": [
    {
     "data": {
      "text/latex": [
       "$\\displaystyle Hyperbola\\left(Point2D\\left(0, 0\\right), 2, 3\\right)$"
      ],
      "text/plain": [
       "Hyperbola(Point2D(0, 0), 2, 3)"
      ]
     },
     "execution_count": 4,
     "metadata": {},
     "output_type": "execute_result"
    }
   ],
   "source": [
    "Hyp1 = Hyperbola(Point(0, 0), hradius=2, vradius=3)\n",
    "Hyp1"
   ]
  },
  {
   "cell_type": "markdown",
   "metadata": {},
   "source": [
    "Теперь построим гиперболу по горизонтальной полуоси и эксцентриситету"
   ]
  },
  {
   "cell_type": "code",
   "execution_count": 5,
   "metadata": {},
   "outputs": [
    {
     "data": {
      "text/latex": [
       "$\\displaystyle Hyperbola\\left(Point2D\\left(0, 1\\right), 8, 6\\right)$"
      ],
      "text/plain": [
       "Hyperbola(Point2D(0, 1), 8, 6)"
      ]
     },
     "execution_count": 5,
     "metadata": {},
     "output_type": "execute_result"
    }
   ],
   "source": [
    "Hyp2 = Hyperbola(Point(0, 1), hradius=8, eccentricity=S(5)/4)\n",
    "Hyp2"
   ]
  },
  {
   "cell_type": "markdown",
   "metadata": {},
   "source": [
    "Заметим, что vradius автоматически корректно вычислен при построении по формуле $b=a\\sqrt{\\varepsilon^2-1}$"
   ]
  },
  {
   "cell_type": "markdown",
   "metadata": {},
   "source": [
    "### Атрибуты класса Hyperbola\n",
    "\n",
    "#### center \n",
    "центр  точка пересечения асимптот гиперболы\n",
    "\t\n",
    "\n",
    "#### hradius\n",
    "горизонтальная полуось\n",
    "    \n",
    "#### vradius\n",
    "вертикальная полуось\t\n",
    "\n",
    "#### eccentricity\n",
    "эксцентриситет отношение фокусного расстояния к горизонтальной оси (той, на которой расположены фокусы)\t\n",
    "\n",
    "#### periapsis\n",
    "перифокусное расстояние (минимальное расстояние от фокуса до точки на эллипсе)\t\n",
    "\n",
    "\n",
    "#### focus_distance\n",
    "фокусное расстояние - половина расстояния между фокусами\t\n",
    "\n",
    "#### foci\n",
    "фокусы "
   ]
  },
  {
   "cell_type": "code",
   "execution_count": 6,
   "metadata": {},
   "outputs": [
    {
     "name": "stdout",
     "output_type": "stream",
     "text": [
      "('center', Point2D(0, 1))\n",
      "('hradius', 8)\n",
      "('vradius', 6)\n",
      "('eccentricity', 5/4)\n",
      "('periapsis', 2)\n",
      "('focus_distance', 10)\n",
      "('foci', (Point2D(0, -9), Point2D(0, 11)))\n"
     ]
    }
   ],
   "source": [
    "list_props=[Hyp2.center,Hyp2.hradius,Hyp2.vradius,Hyp2.eccentricity,Hyp2.periapsis,Hyp2.focus_distance,Hyp2.foci]\n",
    "list_props_names=['center','hradius','vradius','eccentricity','periapsis','focus_distance','foci']\n",
    "\n",
    "for i in range(len(list_props)):\n",
    "    print((list_props_names[i],list_props[i]))"
   ]
  },
  {
   "cell_type": "markdown",
   "metadata": {},
   "source": [
    "### Методы класса Hyperbola \n",
    "\n",
    "equation(x='x', y='y', _slope=None)- уравнение гиперболы\n",
    "\n",
    "необязательный аргумент _slope - наклон главной оси"
   ]
  },
  {
   "cell_type": "code",
   "execution_count": 7,
   "metadata": {},
   "outputs": [
    {
     "data": {
      "text/latex": [
       "$\\displaystyle \\frac{x^{2}}{64} - \\left(\\frac{y}{6} - \\frac{1}{6}\\right)^{2} - 1$"
      ],
      "text/plain": [
       "x**2/64 - (y/6 - 1/6)**2 - 1"
      ]
     },
     "execution_count": 7,
     "metadata": {},
     "output_type": "execute_result"
    }
   ],
   "source": [
    "Hyp2.equation()"
   ]
  },
  {
   "cell_type": "code",
   "execution_count": 8,
   "metadata": {},
   "outputs": [
    {
     "data": {
      "text/latex": [
       "$\\displaystyle \\frac{x^{2}}{64} - \\left(\\frac{y}{6} - \\frac{1}{6}\\right)^{2} = 1$"
      ],
      "text/plain": [
       "Eq(x**2/64 - (y/6 - 1/6)**2, 1)"
      ]
     },
     "execution_count": 8,
     "metadata": {},
     "output_type": "execute_result"
    }
   ],
   "source": [
    "Hyp2.equation(equation=True)"
   ]
  },
  {
   "cell_type": "code",
   "execution_count": 9,
   "metadata": {},
   "outputs": [
    {
     "data": {
      "text/latex": [
       "$\\displaystyle - \\frac{\\left(- 2 x + y - 1\\right)^{2}}{180} + \\frac{\\left(x + 2 y - 2\\right)^{2}}{320} = 1$"
      ],
      "text/plain": [
       "Eq(-(-2*x + y - 1)**2/180 + (x + 2*y - 2)**2/320, 1)"
      ]
     },
     "execution_count": 9,
     "metadata": {},
     "output_type": "execute_result"
    }
   ],
   "source": [
    "Hyp2.equation(_slope=2,equation=True)"
   ]
  },
  {
   "cell_type": "markdown",
   "metadata": {},
   "source": [
    "Изобразим графики обеих гипербол, исходной и повернутой:"
   ]
  },
  {
   "cell_type": "code",
   "execution_count": 10,
   "metadata": {},
   "outputs": [
    {
     "data": {
      "image/png": "[encoded data removed]",
      "text/plain": [
       "<Figure size 432x288 with 1 Axes>"
      ]
     },
     "metadata": {
      "needs_background": "light"
     },
     "output_type": "display_data"
    }
   ],
   "source": [
    "EQ0=Hyp2.equation()\n",
    "x,y=sorted(list(EQ0.free_symbols),key=str)\n",
    "p0=plot_implicit(EQ0,(x,-20,20),(y,-20,20),show=False)\n",
    "p0.append(plot_implicit( Hyp2.equation(_slope=2),(x,-20,20),(y,-20,20),show=False)[0])\n",
    "p0.show()"
   ]
  },
  {
   "cell_type": "code",
   "execution_count": 11,
   "metadata": {},
   "outputs": [
    {
     "name": "stdout",
     "output_type": "stream",
     "text": [
      "Введите натуральное нечетное число до 9\n",
      "5\n"
     ]
    },
    {
     "data": {
      "image/png": "[encoded data removed]",
      "text/plain": [
       "<Figure size 432x288 with 1 Axes>"
      ]
     },
     "metadata": {
      "needs_background": "light"
     },
     "output_type": "display_data"
    }
   ],
   "source": [
    "EQ0=Hyp2.equation()\n",
    "x,y=sorted(list(EQ0.free_symbols),key=str)\n",
    "p0=plot_implicit(EQ0,(x,-15,15),(y,-20,20),show=False)\n",
    "n=int(input('Введите натуральное нечетное число до 9\\n'))\n",
    "for i in range(1,n):\n",
    "    p0.append(plot_implicit(Hyp2.equation(_slope=tan(i*pi/n)),(x,-15,15),(y,-20,20),show=False)[0])\n",
    "p0.show()"
   ]
  },
  {
   "cell_type": "markdown",
   "metadata": {},
   "source": [
    "### Изобразим график гиперболы\n",
    "Используем в легенде возможность выводить по столбцам \n",
    "\n",
    "plt.legend(loc='upper left',ncol=2, mode=\"expand\")\n",
    "\n",
    "ncol - количество столбцов\n",
    "\n",
    "mode=\"expand\" - легенда растягивается по ширине графика\n",
    "\n",
    "Для автоматического формирования красивой подписи в легенде используем\n",
    "\n",
    "dir1='директриса x=$'+latex(S(a**2)/c)+'$'\n",
    "\n",
    "превращение $a**2$ в символ с помощью $S(a**2)$ предотвращает округление\n",
    "\n",
    "Избежать налезания легенды на график можно регулировкой пределов по осям:\n",
    "\n",
    "plt.ylim(-10,18)"
   ]
  },
  {
   "cell_type": "code",
   "execution_count": 12,
   "metadata": {},
   "outputs": [
    {
     "data": {
      "text/plain": [
       "<matplotlib.legend.Legend at 0xc4a29a5288>"
      ]
     },
     "execution_count": 12,
     "metadata": {},
     "output_type": "execute_result"
    },
    {
     "data": {
      "image/png": "[encoded data removed]",
      "text/plain": [
       "<Figure size 432x288 with 1 Axes>"
      ]
     },
     "metadata": {
      "needs_background": "light"
     },
     "output_type": "display_data"
    }
   ],
   "source": [
    "import matplotlib.pyplot as plt\n",
    "from sympy.abc import x,a,b\n",
    "%matplotlib inline\n",
    "a=3\n",
    "b=4\n",
    "c=S(sqrt(a**2+b**2))\n",
    "X1=[a+i/100 for i in range(400)]\n",
    "X2=[-a-i/100 for i in range(400)]\n",
    "Y11=[b/a*(x**2-a**2)**(1/2) for x in X1]\n",
    "Y12=[-y for y in Y11]\n",
    "Y21=[b/a*(x**2-a**2)**(1/2) for x in X1]\n",
    "Y22=[-y for y in Y11]\n",
    "ymax=max(Y11)\n",
    "ymin=-ymax\n",
    "plt.plot(X1,Y11,'k')\n",
    "plt.plot(X1,Y12,'k')\n",
    "plt.plot(X2,Y21,'k')\n",
    "plt.plot(X2,Y22,'k')\n",
    "asympt1='асимптота y=$'+latex(S(b)/a*x)+'$'\n",
    "asympt2='асимптота y=$'+latex(-S(b)/a*x)+'$'\n",
    "plt.plot([-7,7],[-7*b/a,7*b/a],'g--',label=asympt1)\n",
    "plt.plot([-7,7],[7*b/a,-7*b/a],'b--',label=asympt2)\n",
    "dir1='директриса x=$'+latex(S(a**2)/c)+'$'\n",
    "dir2='директриса x=$-'+latex(S(a**2)/c)+'$'\n",
    "plt.plot([-a**2/c,-a**2/c],[ymin,ymax],'r--',label=dir1)\n",
    "plt.plot([a**2/c,a**2/c],[ymin,ymax],'y--',label=dir2)\n",
    "plt.plot([-a,-a],[-b,b],'c--')\n",
    "plt.plot([a,a],[-b,b],'c--')\n",
    "plt.plot([-a,a],[-b,-b],'c--')\n",
    "plt.plot([-a,a],[b,b],'c--')\n",
    "plt.plot([-7,7],[0,0],'k--')\n",
    "plt.plot([0,0],[ymin,ymax],'k--')\n",
    "plt.scatter(-c,0,color='magenta')\n",
    "plt.scatter(c,0,color='magenta')\n",
    "plt.scatter(-a,0,color='blue')\n",
    "plt.scatter(a,0,color='blue')\n",
    "\n",
    "plt.annotate(r'$F_1$',xy=(-c,0), xycoords='data',xytext=(0, +5), textcoords='offset points', fontsize=16)\n",
    "plt.annotate(r'$F_2$',xy=(c,0), xycoords='data',xytext=(0, +5), textcoords='offset points', fontsize=16)\n",
    "plt.annotate(r'$A_1$',xy=(-a,0), xycoords='data',xytext=(+5, +5), textcoords='offset points', fontsize=16)\n",
    "plt.annotate(r'$A_2$',xy=(a,0), xycoords='data',xytext=(-20, +5), textcoords='offset points', fontsize=16)\n",
    "plt.annotate(r'$a$',xy=(a,0), xycoords='data',xytext=(-40, +5), textcoords='offset points', fontsize=16)\n",
    "#plt.axis('equal')\n",
    "plt.xlim(-7,7)\n",
    "plt.ylim(-10,18)\n",
    "plt.annotate(r'$b$',xy=(0,b), xycoords='data',xytext=(+1, -20), textcoords='offset points', fontsize=16)\n",
    "plt.legend(loc='upper left',ncol=2, mode=\"expand\")\n"
   ]
  },
  {
   "cell_type": "code",
   "execution_count": null,
   "metadata": {},
   "outputs": [],
   "source": []
  }
 ],
 "metadata": {
  "kernelspec": {
   "display_name": "Python 3",
   "language": "python",
   "name": "python3"
  },
  "language_info": {
   "codemirror_mode": {
    "name": "ipython",
    "version": 3
   },
   "file_extension": ".py",
   "mimetype": "text/x-python",
   "name": "python",
   "nbconvert_exporter": "python",
   "pygments_lexer": "ipython3",
   "version": "3.7.4"
  }
 },
 "nbformat": 4,
 "nbformat_minor": 2
}
