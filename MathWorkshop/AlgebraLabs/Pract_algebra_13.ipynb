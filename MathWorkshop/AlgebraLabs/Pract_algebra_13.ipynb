{
 "cells": [
  {
   "cell_type": "code",
   "execution_count": 1,
   "metadata": {},
   "outputs": [],
   "source": [
    "from sympy import Point\n",
    "import matplotlib.pyplot as plt"
   ]
  },
  {
   "cell_type": "markdown",
   "metadata": {},
   "source": [
    "### Аргументы функции: обязательные, необязательные, аргументы, количество которых заранее неизвестно.\n",
    "\n",
    "#### обязательные аргументы:\n",
    "в описании функции указывается имя переменной, при вызове передается ее значение; последовательность обязательных аргументов при вызове такая же, как при описании; обязательные аргументы при описании функции указываются первыми;\n",
    "#### необязательные, аргументы:\n",
    "в описании функции после имени аргумента и знака = указывается значение аргумента по умолчанию; необязательные аргументы при описании функции идут последними\n",
    "####  аргументы, количество которых заранее неизвестно:\n",
    "после знака * указывается имя tuple из таких аргументов"
   ]
  },
  {
   "cell_type": "code",
   "execution_count": 2,
   "metadata": {},
   "outputs": [
    {
     "name": "stdout",
     "output_type": "stream",
     "text": [
      "a=3.000000, b=('r', 'f', 'g'), c=4.000000\n"
     ]
    }
   ],
   "source": [
    "def func(a,*b,c=2):\n",
    "    print('a=%f, b=%s, c=%f'%(a,b,c))\n",
    "func(3,'r','f','g',c=4)"
   ]
  },
  {
   "cell_type": "markdown",
   "metadata": {},
   "source": [
    "Вот что получится, если для необязательного аргумента не передать его имя и ="
   ]
  },
  {
   "cell_type": "code",
   "execution_count": 3,
   "metadata": {},
   "outputs": [
    {
     "name": "stdout",
     "output_type": "stream",
     "text": [
      "a=3.000000, b=('r', 'f', 'g', 4), c=2.000000\n"
     ]
    }
   ],
   "source": [
    "func(3,'r','f','g',4)"
   ]
  },
  {
   "cell_type": "markdown",
   "metadata": {},
   "source": [
    "4 было воспринято как последний аргумент в списке аргументов, количество которых заранее неизвестно (key arguments)\n",
    "\n",
    "Если у функции есть только обязательные и необязательные аргументы, результат другой:"
   ]
  },
  {
   "cell_type": "code",
   "execution_count": 4,
   "metadata": {},
   "outputs": [
    {
     "name": "stdout",
     "output_type": "stream",
     "text": [
      "a=3.000000,  c=4.000000\n"
     ]
    }
   ],
   "source": [
    "def func_new(a,c=2):\n",
    "    print('a=%f,  c=%f'%(a,c))\n",
    "func_new(3,4)    "
   ]
  },
  {
   "cell_type": "code",
   "execution_count": 5,
   "metadata": {},
   "outputs": [],
   "source": [
    "# создаем класс Ломаная\n",
    "class Poly_chain:\n",
    "    \"\"\" Самостоятельный Poly_chain class \"\"\"\n",
    "    _Vertices={}\n",
    "    def __init__(self, *_Points,_Points_names=None):\n",
    "        _points_number=len(_Points)\n",
    "        if _points_number>0:\n",
    "            if type(_Points_names)!='tuple':\n",
    "                counter=1\n",
    "                for _P in _Points:\n",
    "                    self._Vertices['A_'+str(counter)]=_P\n",
    "                    counter+=1\n",
    "            else:\n",
    "                for counter in range(_points_number):\n",
    "                    self._Vertices[_Points_names[counter]]=_Points[counter]\n",
    "            \n",
    "        return None\n",
    "    def vertices(self):\n",
    "        return self._Vertices.values()\n",
    "    def vertices_names(self):\n",
    "        return self._Vertices.keys()\n",
    "    def named_vertices(self):\n",
    "        return self._Vertices\n",
    "    def plot(self,color='blue'):\n",
    "        plt.plot([P.x for P in list(self._Vertices.values())],[P.y for P in list(self._Vertices.values())], color)\n",
    "        return None\n",
    "    def plot_annotated(self,color='blue'):\n",
    "        self.plot(color)\n",
    "        for V_name in (self.named_vertices().keys()):\n",
    "            chain_point=self.named_vertices()[V_name]\n",
    "            plt.annotate('$'+V_name+'$',xy=(chain_point.x, chain_point.y),xytext=(0, 5), textcoords='offset points' )\n",
    "        return None"
   ]
  },
  {
   "cell_type": "markdown",
   "metadata": {},
   "source": [
    "Построим ломаную Chain1 и посмотрим, какое значение приняла переменная _Vertices класса Poly_chain, для этого воспользуемся методом vertices"
   ]
  },
  {
   "cell_type": "code",
   "execution_count": 6,
   "metadata": {},
   "outputs": [
    {
     "data": {
      "text/plain": [
       "dict_values([])"
      ]
     },
     "execution_count": 6,
     "metadata": {},
     "output_type": "execute_result"
    }
   ],
   "source": [
    "Chain1=Poly_chain()\n",
    "Chain1.vertices()"
   ]
  },
  {
   "cell_type": "markdown",
   "metadata": {},
   "source": [
    "При создании экземпляра класса мы не задали вершин ломаной, так что получилась пустая ломаная\n",
    "\n",
    "Введем точки А,В,С и построим ломаную Chain2."
   ]
  },
  {
   "cell_type": "code",
   "execution_count": 7,
   "metadata": {},
   "outputs": [
    {
     "data": {
      "text/plain": [
       "dict_values([Point2D(1, 2), Point2D(0, 1), Point2D(1, 0)])"
      ]
     },
     "metadata": {},
     "output_type": "display_data"
    },
    {
     "data": {
      "text/plain": [
       "dict_keys(['A_1', 'A_2', 'A_3'])"
      ]
     },
     "metadata": {},
     "output_type": "display_data"
    },
    {
     "data": {
      "text/plain": [
       "{'A_1': Point2D(1, 2), 'A_2': Point2D(0, 1), 'A_3': Point2D(1, 0)}"
      ]
     },
     "metadata": {},
     "output_type": "display_data"
    }
   ],
   "source": [
    "A=Point(1,2)\n",
    "B=Point(0,1)\n",
    "C=Point(1,0)\n",
    "Chain2=Poly_chain(A,B,C)\n",
    "display(Chain2.vertices())\n",
    "display(Chain2.vertices_names())\n",
    "display(Chain2.named_vertices())"
   ]
  },
  {
   "cell_type": "markdown",
   "metadata": {},
   "source": [
    "изобразим ломаную Chain2 на графике"
   ]
  },
  {
   "cell_type": "code",
   "execution_count": 8,
   "metadata": {},
   "outputs": [
    {
     "data": {
      "image/png": "[encoded data removed]",
      "text/plain": [
       "<Figure size 432x288 with 1 Axes>"
      ]
     },
     "metadata": {
      "needs_background": "light"
     },
     "output_type": "display_data"
    }
   ],
   "source": [
    "Chain2.plot(color='r')"
   ]
  },
  {
   "cell_type": "code",
   "execution_count": 9,
   "metadata": {},
   "outputs": [
    {
     "data": {
      "image/png": "[encoded data removed]",
      "text/plain": [
       "<Figure size 432x288 with 1 Axes>"
      ]
     },
     "metadata": {
      "needs_background": "light"
     },
     "output_type": "display_data"
    }
   ],
   "source": [
    "Chain2.plot_annotated(color='r')"
   ]
  },
  {
   "cell_type": "markdown",
   "metadata": {},
   "source": [
    "Построим теперь дочерний класс замкнутых ломаных,\n",
    "отличие - в работе метода plot, этот метод соединяет линией еще и первую вершину с последней."
   ]
  },
  {
   "cell_type": "code",
   "execution_count": 10,
   "metadata": {},
   "outputs": [],
   "source": [
    "    \n",
    "class Closed_Poly_chain(Poly_chain):\n",
    "    \"\"\" Потомок Poly_chain class \"\"\"\n",
    "    def __init__(self, *_Points,_Points_names=None):\n",
    "        # Необходимо вызвать метод инициализации родителя.\n",
    "        # В Python 3.x это делается при помощи функции super()\n",
    "        super().__init__(*_Points,_Points_names=_Points_names)\n",
    "        return None\n",
    "    def plot(self,_color='blue'):\n",
    "        _V=self.vertices+[self._Vertices[0]]\n",
    "        plt.plot([P.x for P in self._Vertices],[P.y for P in self._Vertices], _color)\n",
    "        return None\n",
    "    def display(self):\n",
    "        print('ломаная( %s на %s)' % (self.length,self.width))\n",
    "        return None"
   ]
  },
  {
   "cell_type": "code",
   "execution_count": 11,
   "metadata": {},
   "outputs": [
    {
     "data": {
      "text/plain": [
       "dict_values([Point2D(1, 2), Point2D(0, 1), Point2D(1, 0)])"
      ]
     },
     "execution_count": 11,
     "metadata": {},
     "output_type": "execute_result"
    }
   ],
   "source": [
    "Chain1=Poly_chain()\n",
    "Chain1.vertices()"
   ]
  },
  {
   "cell_type": "code",
   "execution_count": 12,
   "metadata": {},
   "outputs": [
    {
     "data": {
      "text/plain": [
       "dict_values([Point2D(1, 2), Point2D(0, 1), Point2D(1, 0)])"
      ]
     },
     "execution_count": 12,
     "metadata": {},
     "output_type": "execute_result"
    }
   ],
   "source": [
    "A=Point(1,2)\n",
    "B=Point(0,1)\n",
    "C=Point(1,0)\n",
    "Chain2=Closed_Poly_chain(A,B,C,_Points_names=['A','B','C'])\n",
    "Chain2.vertices()"
   ]
  },
  {
   "cell_type": "code",
   "execution_count": 13,
   "metadata": {},
   "outputs": [
    {
     "data": {
      "text/plain": [
       "dict_keys(['A_1', 'A_2', 'A_3'])"
      ]
     },
     "execution_count": 13,
     "metadata": {},
     "output_type": "execute_result"
    }
   ],
   "source": [
    "Chain2.vertices_names()"
   ]
  },
  {
   "cell_type": "code",
   "execution_count": null,
   "metadata": {},
   "outputs": [],
   "source": []
  }
 ],
 "metadata": {
  "kernelspec": {
   "display_name": "Python 3",
   "language": "python",
   "name": "python3"
  },
  "language_info": {
   "codemirror_mode": {
    "name": "ipython",
    "version": 3
   },
   "file_extension": ".py",
   "mimetype": "text/x-python",
   "name": "python",
   "nbconvert_exporter": "python",
   "pygments_lexer": "ipython3",
   "version": "3.7.4"
  }
 },
 "nbformat": 4,
 "nbformat_minor": 2
}
