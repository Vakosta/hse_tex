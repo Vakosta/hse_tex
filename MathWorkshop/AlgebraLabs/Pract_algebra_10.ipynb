{
 "cells": [
  {
   "cell_type": "markdown",
   "metadata": {},
   "source": [
    "# Занятие 10\n",
    "# Алгебра"
   ]
  },
  {
   "cell_type": "code",
   "execution_count": 1,
   "metadata": {},
   "outputs": [],
   "source": [
    "import sympy as sp\n",
    "#Для красивой печати:\n",
    "sp.init_printing(use_unicode=False, wrap_line=False, no_global=True)\n",
    "import matplotlib.pyplot as plt\n",
    "from IPython.display import display"
   ]
  },
  {
   "cell_type": "markdown",
   "metadata": {},
   "source": [
    "## Geometry: многоугольник на плоскости, принадлежность точки многоугольнику.\n",
    "\n",
    "Пусть на плоскости задан многоугольник ABCDEF. Введем систему координат и создадим точки A,B,C,D,E и F. Из этих точек создадим многоугольник."
   ]
  },
  {
   "cell_type": "code",
   "execution_count": 2,
   "metadata": {},
   "outputs": [
    {
     "data": {
      "image/png": "[encoded data removed]",
      "image/svg+xml": [
       "<svg xmlns=\"http://www.w3.org/2000/svg\"\n",
       "            xmlns:xlink=\"http://www.w3.org/1999/xlink\"\n",
       "            width=\"100.0\" height=\"100.0\" viewBox=\"-0.700000000000000 -0.700000000000000 6.40000000000000 8.40000000000000\"\n",
       "            preserveAspectRatio=\"xMinYMin meet\">\n",
       "            <defs>\n",
       "                <marker id=\"markerCircle\" markerWidth=\"8\" markerHeight=\"8\"\n",
       "                    refx=\"5\" refy=\"5\" markerUnits=\"strokeWidth\">\n",
       "                    <circle cx=\"5\" cy=\"5\" r=\"1.5\" style=\"stroke: none; fill:#000000;\"/>\n",
       "                </marker>\n",
       "                <marker id=\"markerArrow\" markerWidth=\"13\" markerHeight=\"13\" refx=\"2\" refy=\"4\"\n",
       "                       orient=\"auto\" markerUnits=\"strokeWidth\">\n",
       "                    <path d=\"M2,2 L2,6 L6,4\" style=\"fill: #000000;\" />\n",
       "                </marker>\n",
       "                <marker id=\"markerReverseArrow\" markerWidth=\"13\" markerHeight=\"13\" refx=\"6\" refy=\"4\"\n",
       "                       orient=\"auto\" markerUnits=\"strokeWidth\">\n",
       "                    <path d=\"M6,2 L6,6 L2,4\" style=\"fill: #000000;\" />\n",
       "                </marker>\n",
       "            </defs><g transform=\"matrix(1,0,0,-1,0,7.00000000000000)\"><path fill-rule=\"evenodd\" fill=\"#66cc99\" stroke=\"#555555\" stroke-width=\"0.168000000000000\" opacity=\"0.6\" d=\"M 0,0 L 4.00000000000000,0 L 5.00000000000000,3.00000000000000 L 3.00000000000000,7.00000000000000 L 1.00000000000000,4.00000000000000 z\" /></g></svg>"
      ],
      "text/latex": [
       "$\\displaystyle Polygon\\left(Point2D\\left(0, 0\\right), Point2D\\left(4, 0\\right), Point2D\\left(5, 3\\right), Point2D\\left(3, 7\\right), Point2D\\left(1, 4\\right)\\right)$"
      ],
      "text/plain": [
       "Polygon(Point2D(0, 0), Point2D(4, 0), Point2D(5, 3), Point2D(3, 7), Point2D(1, 4))"
      ]
     },
     "metadata": {},
     "output_type": "display_data"
    }
   ],
   "source": [
    "A = sp.Point(0, 0)\n",
    "B = sp.Point(4, 0)\n",
    "C = sp.Point(5, 3)\n",
    "D = sp.Point(4, 5)\n",
    "E = sp.Point(3, 7)\n",
    "F = sp.Point(1, 4)\n",
    "Points = [A, B, C, D, E, F]\n",
    "Poly = sp.Polygon(*Points)\n",
    "display(Poly)"
   ]
  },
  {
   "cell_type": "markdown",
   "metadata": {},
   "source": [
    "### Атрибуты многоугольника:\n",
    "\n",
    "area площадь\n",
    "\n",
    "angles углы\n",
    "\n",
    "perimeter периметр\n",
    "\n",
    "vertices вершины\n",
    "\n",
    "centroid центр\n",
    "\n",
    "sides стороны \n",
    "\n",
    "bounds это tuple вида (xmin, ymin, xmax, ymax), определяющий  прямоугольник, внутри которого помещается многоугольник"
   ]
  },
  {
   "cell_type": "code",
   "execution_count": 3,
   "metadata": {},
   "outputs": [
    {
     "data": {
      "image/png": "[encoded data removed]",
      "text/latex": [
       "$\\displaystyle \\frac{43}{2}$"
      ],
      "text/plain": [
       "43/2"
      ]
     },
     "metadata": {},
     "output_type": "display_data"
    },
    {
     "data": {
      "image/png": "[encoded data removed]",
      "text/latex": [
       "$\\displaystyle \\left\\{ Point2D\\left(0, 0\\right) : \\operatorname{acos}{\\left(\\frac{\\sqrt{17}}{17} \\right)}, \\  Point2D\\left(1, 4\\right) : \\operatorname{acos}{\\left(- \\frac{14 \\sqrt{221}}{221} \\right)}, \\  Point2D\\left(3, 7\\right) : \\operatorname{acos}{\\left(\\frac{4 \\sqrt{65}}{65} \\right)}, \\  Point2D\\left(4, 0\\right) : \\operatorname{acos}{\\left(- \\frac{\\sqrt{10}}{10} \\right)}, \\  Point2D\\left(5, 3\\right) : \\frac{3 \\pi}{4}\\right\\}$"
      ],
      "text/plain": [
       "                    /  ____\\                     /      _____ \\                     /    ____\\                     /   ____ \\                      \n",
       "                    |\\/ 17 |                     |-14*\\/ 221  |                     |4*\\/ 65 |                     |-\\/ 10  |                 3*pi \n",
       "{Point2D(0, 0): acos|------|, Point2D(1, 4): acos|------------|, Point2D(3, 7): acos|--------|, Point2D(4, 0): acos|--------|, Point2D(5, 3): ----}\n",
       "                    \\  17  /                     \\    221     /                     \\   65   /                     \\   10   /                  4   "
      ]
     },
     "metadata": {},
     "output_type": "display_data"
    },
    {
     "data": {
      "image/png": "[encoded data removed]",
      "text/latex": [
       "$\\displaystyle \\sqrt{10} + \\sqrt{13} + 4 + \\sqrt{17} + 2 \\sqrt{5}$"
      ],
      "text/plain": [
       "  ____     ____         ____       ___\n",
       "\\/ 10  + \\/ 13  + 4 + \\/ 17  + 2*\\/ 5 "
      ]
     },
     "metadata": {},
     "output_type": "display_data"
    },
    {
     "data": {
      "image/png": "[encoded data removed]",
      "text/latex": [
       "$\\displaystyle \\left[ Point2D\\left(0, 0\\right), \\  Point2D\\left(4, 0\\right), \\  Point2D\\left(5, 3\\right), \\  Point2D\\left(3, 7\\right), \\  Point2D\\left(1, 4\\right)\\right]$"
      ],
      "text/plain": [
       "[Point2D(0, 0), Point2D(4, 0), Point2D(5, 3), Point2D(3, 7), Point2D(1, 4)]"
      ]
     },
     "metadata": {},
     "output_type": "display_data"
    },
    {
     "data": {
      "image/png": "[encoded data removed]",
      "text/latex": [
       "$\\displaystyle Point2D\\left(\\frac{112}{43}, \\frac{117}{43}\\right)$"
      ],
      "text/plain": [
       "Point2D(112/43, 117/43)"
      ]
     },
     "metadata": {},
     "output_type": "display_data"
    },
    {
     "data": {
      "image/png": "[encoded data removed]",
      "text/latex": [
       "$\\displaystyle \\left[ Segment2D\\left(Point2D\\left(0, 0\\right), Point2D\\left(4, 0\\right)\\right), \\  Segment2D\\left(Point2D\\left(4, 0\\right), Point2D\\left(5, 3\\right)\\right), \\  Segment2D\\left(Point2D\\left(5, 3\\right), Point2D\\left(3, 7\\right)\\right), \\  Segment2D\\left(Point2D\\left(3, 7\\right), Point2D\\left(1, 4\\right)\\right), \\  Segment2D\\left(Point2D\\left(1, 4\\right), Point2D\\left(0, 0\\right)\\right)\\right]$"
      ],
      "text/plain": [
       "[Segment2D(Point2D(0, 0), Point2D(4, 0)), Segment2D(Point2D(4, 0), Point2D(5, 3)), Segment2D(Point2D(5, 3), Point2D(3, 7)), Segment2D(Point2D(3, 7), Point2D(1, 4)), Segment2D(Point2D(1, 4), Point2D(0, 0))]"
      ]
     },
     "metadata": {},
     "output_type": "display_data"
    },
    {
     "data": {
      "image/png": "[encoded data removed]",
      "text/latex": [
       "$\\displaystyle \\left( 0, \\  0, \\  5, \\  7\\right)$"
      ],
      "text/plain": [
       "(0, 0, 5, 7)"
      ]
     },
     "metadata": {},
     "output_type": "display_data"
    }
   ],
   "source": [
    "display(Poly.area)\n",
    "display(Poly.angles)\n",
    "display(Poly.perimeter)\n",
    "display(Poly.vertices)\n",
    "display(Poly.centroid)\n",
    "display(Poly.sides)\n",
    "display(Poly.bounds)"
   ]
  },
  {
   "cell_type": "markdown",
   "metadata": {},
   "source": [
    "### Методы многоугольников:\n",
    "\n",
    "cut_section(line) возвращает tuple из двух частей многоугольника, лежащих выше и ниже прямой line\n",
    "\n",
    "distance(o) возвращает расстояние между self и o (если o - точка, то self не обязан быть выпуклым, если o - многоугольник, то self и o  обязательно выпуклые)\n",
    "\n",
    "encloses_point(p) возвращает  True, если p - внутренняя точка многоугольника self, граничные точки дают False.\n",
    "\n",
    "intersection(o)  возвращает список из общих частей self и o\n",
    "\n",
    "is_convex() возвращает  True, если многоугольник выпуклый"
   ]
  },
  {
   "cell_type": "code",
   "execution_count": 4,
   "metadata": {},
   "outputs": [
    {
     "ename": "AttributeError",
     "evalue": "'Polygon' object has no attribute 'cut_section'",
     "output_type": "error",
     "traceback": [
      "\u001b[0;31m---------------------------------------------------------------------------\u001b[0m",
      "\u001b[0;31mAttributeError\u001b[0m                            Traceback (most recent call last)",
      "\u001b[0;32m<ipython-input-4-53996ec7a9f2>\u001b[0m in \u001b[0;36m<module>\u001b[0;34m\u001b[0m\n\u001b[1;32m      1\u001b[0m \u001b[0mAD\u001b[0m \u001b[0;34m=\u001b[0m \u001b[0msp\u001b[0m\u001b[0;34m.\u001b[0m\u001b[0mLine\u001b[0m\u001b[0;34m(\u001b[0m\u001b[0mA\u001b[0m\u001b[0;34m,\u001b[0m \u001b[0mD\u001b[0m\u001b[0;34m)\u001b[0m\u001b[0;34m\u001b[0m\u001b[0;34m\u001b[0m\u001b[0m\n\u001b[0;32m----> 2\u001b[0;31m \u001b[0mdisplay\u001b[0m\u001b[0;34m(\u001b[0m\u001b[0mPoly\u001b[0m\u001b[0;34m.\u001b[0m\u001b[0mcut_section\u001b[0m\u001b[0;34m(\u001b[0m\u001b[0mAD\u001b[0m\u001b[0;34m)\u001b[0m\u001b[0;34m)\u001b[0m\u001b[0;34m\u001b[0m\u001b[0;34m\u001b[0m\u001b[0m\n\u001b[0m\u001b[1;32m      3\u001b[0m \u001b[0mdisplay\u001b[0m\u001b[0;34m(\u001b[0m\u001b[0mPoly\u001b[0m\u001b[0;34m.\u001b[0m\u001b[0mdistance\u001b[0m\u001b[0;34m(\u001b[0m\u001b[0msp\u001b[0m\u001b[0;34m.\u001b[0m\u001b[0mPoint\u001b[0m\u001b[0;34m(\u001b[0m\u001b[0;36m10\u001b[0m\u001b[0;34m,\u001b[0m \u001b[0;36m10\u001b[0m\u001b[0;34m)\u001b[0m\u001b[0;34m)\u001b[0m\u001b[0;34m)\u001b[0m\u001b[0;34m\u001b[0m\u001b[0;34m\u001b[0m\u001b[0m\n\u001b[1;32m      4\u001b[0m \u001b[0mdisplay\u001b[0m\u001b[0;34m(\u001b[0m\u001b[0mPoly\u001b[0m\u001b[0;34m.\u001b[0m\u001b[0mdistance\u001b[0m\u001b[0;34m(\u001b[0m\u001b[0mA\u001b[0m\u001b[0;34m)\u001b[0m\u001b[0;34m)\u001b[0m\u001b[0;34m\u001b[0m\u001b[0;34m\u001b[0m\u001b[0m\n\u001b[1;32m      5\u001b[0m \u001b[0mdisplay\u001b[0m\u001b[0;34m(\u001b[0m\u001b[0mPoly\u001b[0m\u001b[0;34m.\u001b[0m\u001b[0mencloses_point\u001b[0m\u001b[0;34m(\u001b[0m\u001b[0;34m(\u001b[0m\u001b[0mA\u001b[0m \u001b[0;34m+\u001b[0m \u001b[0mD\u001b[0m\u001b[0;34m)\u001b[0m \u001b[0;34m/\u001b[0m \u001b[0;36m2\u001b[0m\u001b[0;34m)\u001b[0m\u001b[0;34m)\u001b[0m\u001b[0;34m\u001b[0m\u001b[0;34m\u001b[0m\u001b[0m\n",
      "\u001b[0;31mAttributeError\u001b[0m: 'Polygon' object has no attribute 'cut_section'"
     ]
    }
   ],
   "source": [
    "AD = sp.Line(A, D)\n",
    "display(Poly.cut_section(AD))\n",
    "display(Poly.distance(sp.Point(10, 10)))\n",
    "display(Poly.distance(A))\n",
    "display(Poly.encloses_point((A + D) / 2))\n",
    "display(Poly.encloses_point(D))\n",
    "display(Poly.intersection(AD))\n",
    "Poly.is_convex()"
   ]
  },
  {
   "cell_type": "markdown",
   "metadata": {},
   "source": [
    "### Правильные многоугольники RegularPolygon\n",
    "\n",
    "Правильный многоугольник --- равносторонний с равными внутренними углами\n",
    "\n",
    "Параметры правильного многоугольника:\n",
    "\n",
    "center центр\n",
    "\n",
    "radius радиус описанной окружности, равен расстоянию от центра до любой из вершин\n",
    "\n",
    "n число сторон (углов)"
   ]
  },
  {
   "cell_type": "code",
   "execution_count": null,
   "metadata": {},
   "outputs": [],
   "source": [
    "RPoly3 = sp.RegularPolygon(A, 5, 3)\n",
    "display(RPoly3)\n",
    "RPoly4 = sp.RegularPolygon(A, 5, 4)\n",
    "display(RPoly4)\n",
    "RPoly6 = sp.RegularPolygon(A, 5, 6)\n",
    "display(RPoly6)"
   ]
  },
  {
   "cell_type": "markdown",
   "metadata": {},
   "source": [
    "### Атрибуты правильного многоугольника:\n",
    "\n",
    "vertices вершины\n",
    "\n",
    "center центр\n",
    "\n",
    "radius радиус\n",
    "\n",
    "rotation поворот\n",
    "\n",
    "apothem радиус вписанной окружности\n",
    "\n",
    "interior_angle внутренний угол\n",
    "\n",
    "exterior_angle внешний угол\n",
    "\n",
    "circumcircle описанная окружность\n",
    "\n",
    "incircle вписанная окружность\n",
    "\n",
    "angles углы"
   ]
  },
  {
   "cell_type": "code",
   "execution_count": null,
   "metadata": {},
   "outputs": [],
   "source": [
    "RPoly = sp.RegularPolygon(A, 5, 8)\n",
    "display(RPoly.vertices)\n",
    "display(RPoly.center)\n",
    "display(RPoly.radius)\n",
    "display(RPoly.rotation)\n",
    "display(RPoly.apothem)\n",
    "display(RPoly.interior_angle)\n",
    "display(RPoly.exterior_angle)\n",
    "print(RPoly.circumcircle)\n",
    "display(RPoly.circumcircle)\n",
    "print(RPoly.incircle)\n",
    "display(RPoly.incircle)\n",
    "display(RPoly.angles)"
   ]
  },
  {
   "cell_type": "markdown",
   "metadata": {},
   "source": [
    "## Преобразования  могоугольников\n",
    "\n",
    "reflect(line) - отражение относительно прямой\n"
   ]
  },
  {
   "cell_type": "code",
   "execution_count": 5,
   "metadata": {},
   "outputs": [
    {
     "data": {
      "image/png": "[encoded data removed]",
      "text/latex": [
       "$\\displaystyle \\left( Polygon\\left(Point2D\\left(0, 0\\right), Point2D\\left(- \\frac{36}{41}, \\frac{160}{41}\\right), Point2D\\left(\\frac{75}{41}, \\frac{227}{41}\\right), Point2D\\left(\\frac{253}{41}, \\frac{183}{41}\\right), Point2D\\left(\\frac{151}{41}, \\frac{76}{41}\\right)\\right), \\  Polygon\\left(Point2D\\left(0, 0\\right), Point2D\\left(4, 0\\right), Point2D\\left(5, 3\\right), Point2D\\left(3, 7\\right), Point2D\\left(1, 4\\right)\\right)\\right)$"
      ],
      "text/plain": [
       "(Polygon(Point2D(0, 0), Point2D(-36/41, 160/41), Point2D(75/41, 227/41), Point2D(253/41, 183/41), Point2D(151/41, 76/41)), Polygon(Point2D(0, 0), Point2D(4, 0), Point2D(5, 3), Point2D(3, 7), Point2D(1, 4)))"
      ]
     },
     "execution_count": 5,
     "metadata": {},
     "output_type": "execute_result"
    }
   ],
   "source": [
    "Poly.reflect(AD), Poly"
   ]
  },
  {
   "cell_type": "code",
   "execution_count": null,
   "metadata": {},
   "outputs": [],
   "source": [
    "RPoly.reflect(AD), RPoly"
   ]
  },
  {
   "cell_type": "markdown",
   "metadata": {},
   "source": [
    "rotate(angle, pt=None) поворот на угол angle"
   ]
  },
  {
   "cell_type": "code",
   "execution_count": null,
   "metadata": {},
   "outputs": [],
   "source": [
    "display(Poly.rotate(sp.pi / 6), Poly)\n",
    "RPoly.rotate(sp.pi / 6), RPoly"
   ]
  },
  {
   "cell_type": "markdown",
   "metadata": {},
   "source": [
    "scale(x=1, y=1, pt=None) растяжение - сжатие"
   ]
  },
  {
   "cell_type": "code",
   "execution_count": null,
   "metadata": {},
   "outputs": [],
   "source": [
    "RPoly.scale(2, 2), RPoly.scale(2, 3), RPoly"
   ]
  },
  {
   "cell_type": "markdown",
   "metadata": {},
   "source": [
    "spin(angle) поворачивает сам многоугольник, а не копию"
   ]
  },
  {
   "cell_type": "code",
   "execution_count": null,
   "metadata": {},
   "outputs": [],
   "source": [
    "display(RPoly)\n",
    "RPoly.spin(sp.pi / 2)\n",
    "RPoly"
   ]
  },
  {
   "cell_type": "code",
   "execution_count": null,
   "metadata": {},
   "outputs": [],
   "source": [
    "def draw_polygon(polygon, color='g'):\n",
    "    points = polygon.vertices\n",
    "    X = [item.x for item in points]\n",
    "    X += [X[0]]\n",
    "    Y = [item.y for item in points]\n",
    "    Y += [Y[0]]\n",
    "    plt.plot(X, Y, color)"
   ]
  },
  {
   "cell_type": "code",
   "execution_count": null,
   "metadata": {},
   "outputs": [],
   "source": [
    "plt.plot([item.x for item in Poly.vertices] + [Poly.vertices[0].x],\n",
    "         [item.y for item in Poly.vertices] + [Poly.vertices[0].y], 'r')"
   ]
  },
  {
   "cell_type": "code",
   "execution_count": null,
   "metadata": {},
   "outputs": [],
   "source": [
    "import matplotlib.pyplot as plt\n",
    "plt.axis('equal')\n",
    "draw_polygon(Poly, 'c')\n",
    "draw_polygon(RPoly, 'm')"
   ]
  }
 ],
 "metadata": {
  "kernelspec": {
   "display_name": "Python 3",
   "language": "python",
   "name": "python3"
  },
  "language_info": {
   "codemirror_mode": {
    "name": "ipython",
    "version": 3
   },
   "file_extension": ".py",
   "mimetype": "text/x-python",
   "name": "python",
   "nbconvert_exporter": "python",
   "pygments_lexer": "ipython3",
   "version": "3.7.4"
  }
 },
 "nbformat": 4,
 "nbformat_minor": 2
}
