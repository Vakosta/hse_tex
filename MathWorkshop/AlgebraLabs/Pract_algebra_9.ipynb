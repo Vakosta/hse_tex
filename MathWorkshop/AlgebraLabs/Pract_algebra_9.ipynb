{
 "cells": [
  {
   "cell_type": "markdown",
   "metadata": {},
   "source": [
    "# Занятие 9\n",
    "# Алгебра"
   ]
  },
  {
   "cell_type": "code",
   "execution_count": 1,
   "metadata": {},
   "outputs": [],
   "source": [
    "import sympy as sp"
   ]
  },
  {
   "cell_type": "markdown",
   "metadata": {},
   "source": [
    "## Geometry: лучи, отрезки, прямые и плоскости.\n",
    "\n",
    "Угол обзора камеры видеонаболюдения.\n",
    "\n",
    "\n",
    "Пусть камера расположена в точке M трехмерного пространства и направлена на плоскость ABC так, что оптическая ось камеры перпендикулярна плоскости. Угол обзора камеры равен 90 градусам, это диагональный угол обзора. Отношение длины окна обзора камеры к ширине равно 4:3. Расстояние от камеры до плоскости 2.5 м.\n",
    "\n",
    "Найдем углы KML, QMS, горизонтальный и вертикальный углы обзора, длину и ширину видимой области на плоскости ABC."
   ]
  },
  {
   "cell_type": "code",
   "execution_count": 2,
   "metadata": {},
   "outputs": [
    {
     "data": {
      "text/plain": [
       "pi/2"
      ]
     },
     "execution_count": 2,
     "metadata": {},
     "output_type": "execute_result"
    }
   ],
   "source": [
    "M=sp.Point(2,1.5,2.5)\n",
    "O=sp.Point(0,0,0)\n",
    "A=sp.Point(4,0,0)\n",
    "B=sp.Point(4,3,0)\n",
    "C=sp.Point(0,3,0)\n",
    "MO=sp.Ray(M,O)\n",
    "MB=sp.Ray(M,B)\n",
    "MO.angle_between(MB)"
   ]
  },
  {
   "cell_type": "markdown",
   "metadata": {},
   "source": [
    "Вычислим угол KML, он равен углу между лучами ML и MK. Точки L и K находятся как середины отрезков AB и  OC"
   ]
  },
  {
   "cell_type": "code",
   "execution_count": 3,
   "metadata": {},
   "outputs": [
    {
     "data": {
      "text/plain": [
       "77"
      ]
     },
     "execution_count": 3,
     "metadata": {},
     "output_type": "execute_result"
    }
   ],
   "source": [
    "L=(A+B)/2\n",
    "K=(O+C)/2\n",
    "ML=sp.Ray(M,L)\n",
    "MK=sp.Ray(M,K)\n",
    "int(ML.angle_between(MK)*180/sp.pi)#это угол в градусах"
   ]
  },
  {
   "cell_type": "markdown",
   "metadata": {},
   "source": [
    "Вычислим угол QMS, он равен углу между лучами MS и MQ. Точки S и Q находятся как середины отрезков OA и  CB"
   ]
  },
  {
   "cell_type": "code",
   "execution_count": 4,
   "metadata": {},
   "outputs": [
    {
     "data": {
      "text/plain": [
       "61"
      ]
     },
     "execution_count": 4,
     "metadata": {},
     "output_type": "execute_result"
    }
   ],
   "source": [
    "S=(A+O)/2\n",
    "Q=(B+C)/2\n",
    "MS=sp.Ray(M,S)\n",
    "MQ=sp.Ray(M,Q)\n",
    "int(MS.angle_between(MQ)*180/sp.pi)#это угол в градусах"
   ]
  },
  {
   "cell_type": "markdown",
   "metadata": {},
   "source": [
    "Найдем горизонтальный угол обзора ОМА"
   ]
  },
  {
   "cell_type": "code",
   "execution_count": 5,
   "metadata": {},
   "outputs": [
    {
     "data": {
      "text/plain": [
       "68"
      ]
     },
     "execution_count": 5,
     "metadata": {},
     "output_type": "execute_result"
    }
   ],
   "source": [
    "MO=sp.Ray(M,O)\n",
    "MA=sp.Ray(M,A)\n",
    "int(MO.angle_between(MA)*180/sp.pi)#это угол в градусах"
   ]
  },
  {
   "cell_type": "markdown",
   "metadata": {},
   "source": [
    "Найдем вертикальный угол обзора ОМС"
   ]
  },
  {
   "cell_type": "code",
   "execution_count": 6,
   "metadata": {},
   "outputs": [
    {
     "data": {
      "text/plain": [
       "50"
      ]
     },
     "execution_count": 6,
     "metadata": {},
     "output_type": "execute_result"
    }
   ],
   "source": [
    "MC=sp.Ray(M,C)\n",
    "int(MC.angle_between(MO)*180/sp.pi)#это угол в градусах"
   ]
  },
  {
   "cell_type": "markdown",
   "metadata": {},
   "source": [
    "Пусть  через точки О,А и середину R высоты МР проходит непрозрачная плоскость, других препятствий в поле зрения камеры нет.\n",
    "Найдем координаты вершин четырехугольника в плоскости OAR, который виден в камеру, направленную как на рисунке."
   ]
  },
  {
   "cell_type": "code",
   "execution_count": 7,
   "metadata": {},
   "outputs": [
    {
     "data": {
      "text/plain": [
       "(Point3D(4, 0, 0),\n",
       " Point3D(8/3, 2, 5/3),\n",
       " Point3D(4/3, 2, 5/3),\n",
       " Point3D(0, 0, 0))"
      ]
     },
     "execution_count": 7,
     "metadata": {},
     "output_type": "execute_result"
    }
   ],
   "source": [
    "P=(O+B)/2\n",
    "R=(M+P)/2\n",
    "OAR=sp.Plane(O,A,R)\n",
    "MA=sp.Ray(M,A)\n",
    "MC=sp.Ray(M,C)\n",
    "A1=OAR.intersection(MA)[0]\n",
    "B1=OAR.intersection(MB)[0]\n",
    "C1=OAR.intersection(MC)[0]\n",
    "O1=OAR.intersection(MO)[0]\n",
    "A1,B1,C1,O1"
   ]
  },
  {
   "cell_type": "markdown",
   "metadata": {},
   "source": [
    "Проверим, что ОА и В1С1 параллельны, а ОС1 и АВ1 нет."
   ]
  },
  {
   "cell_type": "code",
   "execution_count": 8,
   "metadata": {},
   "outputs": [
    {
     "data": {
      "text/plain": [
       "(True, False)"
      ]
     },
     "execution_count": 8,
     "metadata": {},
     "output_type": "execute_result"
    }
   ],
   "source": [
    "OA=sp.Segment(O,A)\n",
    "B1C1=sp.Segment(B1,C1)\n",
    "OC1=sp.Segment(O,C1)\n",
    "AB1=sp.Segment(A,B1)\n",
    "OA.is_parallel(B1C1),OC1.is_parallel(AB1)"
   ]
  },
  {
   "cell_type": "markdown",
   "metadata": {},
   "source": [
    "Получилась трапеция, найдем ее высоту и площадь"
   ]
  },
  {
   "cell_type": "code",
   "execution_count": 9,
   "metadata": {},
   "outputs": [
    {
     "data": {
      "text/plain": [
       "sqrt(61)/3"
      ]
     },
     "metadata": {},
     "output_type": "display_data"
    },
    {
     "data": {
      "text/plain": [
       "8*sqrt(61)/9"
      ]
     },
     "execution_count": 9,
     "metadata": {},
     "output_type": "execute_result"
    }
   ],
   "source": [
    "h=OA.distance(C1)# высота - расстояние от точки С1 до отрезка ОА\n",
    "OA_dist=O.distance(A)\n",
    "C1B1_dist=C1.distance(B1)\n",
    "Square=h*(OA_dist+C1B1_dist)/2\n",
    "display(h)\n",
    "Square"
   ]
  },
  {
   "cell_type": "markdown",
   "metadata": {},
   "source": [
    "Найдем область видимости камеры на той же плоскости OAR при условии, что ось камеры перпендикулярна плоскости"
   ]
  },
  {
   "cell_type": "code",
   "execution_count": 10,
   "metadata": {},
   "outputs": [
    {
     "data": {
      "text/plain": [
       "0.3841106397986879"
      ]
     },
     "execution_count": 10,
     "metadata": {},
     "output_type": "execute_result"
    }
   ],
   "source": [
    "New_dist=OAR.distance(M)\n",
    "k=New_dist/M.distance(P)\n",
    "float(k)"
   ]
  },
  {
   "cell_type": "code",
   "execution_count": 11,
   "metadata": {},
   "outputs": [
    {
     "data": {
      "text/plain": [
       "(1.1523319193960637, 1.5364425591947517)"
      ]
     },
     "execution_count": 11,
     "metadata": {},
     "output_type": "execute_result"
    }
   ],
   "source": [
    "AB_new=k*A.distance(B)\n",
    "OA_new=k*A.distance(O)\n",
    "float(AB_new),float(OA_new)"
   ]
  },
  {
   "cell_type": "code",
   "execution_count": null,
   "metadata": {},
   "outputs": [],
   "source": []
  }
 ],
 "metadata": {
  "kernelspec": {
   "display_name": "Python 3",
   "language": "python",
   "name": "python3"
  },
  "language_info": {
   "codemirror_mode": {
    "name": "ipython",
    "version": 3
   },
   "file_extension": ".py",
   "mimetype": "text/x-python",
   "name": "python",
   "nbconvert_exporter": "python",
   "pygments_lexer": "ipython3",
   "version": "3.7.3"
  }
 },
 "nbformat": 4,
 "nbformat_minor": 2
}
