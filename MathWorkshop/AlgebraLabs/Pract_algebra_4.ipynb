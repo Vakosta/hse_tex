{
 "cells": [
  {
   "cell_type": "markdown",
   "metadata": {},
   "source": [
    "# Занятие 4\n",
    "# Алгебра\n",
    "\n",
    "## Решение систем линейных алгебраических уравнений (СЛАУ)"
   ]
  },
  {
   "cell_type": "code",
   "execution_count": 38,
   "metadata": {},
   "outputs": [],
   "source": [
    "#https://www.sympy.org/en/index.html\n",
    "# sympy - модуль для символьных преобразований\n",
    "\n",
    "import sympy\n",
    "from sympy import *\n",
    "init_printing(use_unicode=False, wrap_line=False, no_global=True)"
   ]
  },
  {
   "cell_type": "markdown",
   "metadata": {},
   "source": [
    "Пусть  задана в матрица А\n",
    "$$\n",
    "A=\\left(\n",
    "\\begin{matrix}\n",
    "a&2&-1\\\\\n",
    "3&b&0\\\\\n",
    "0&5&c\n",
    "\\end{matrix}\n",
    "\\right)\n",
    "$$"
   ]
  },
  {
   "cell_type": "code",
   "execution_count": 39,
   "metadata": {},
   "outputs": [
    {
     "data": {
      "text/latex": [
       "$\\displaystyle \\left[\\begin{matrix}a & 2 & -1\\\\3 & b & 0\\\\0 & 5 & c\\end{matrix}\\right]$"
      ],
      "text/plain": [
       "[a  2  -1]\n",
       "[        ]\n",
       "[3  b  0 ]\n",
       "[        ]\n",
       "[0  5  c ]"
      ]
     },
     "metadata": {},
     "output_type": "display_data"
    },
    {
     "data": {
      "image/png": "[encoded data removed]",
      "text/latex": [
       "$\\displaystyle a b c - 6 c - 15$"
      ],
      "text/plain": [
       "a*b*c - 6*c - 15"
      ]
     },
     "execution_count": 39,
     "metadata": {},
     "output_type": "execute_result"
    }
   ],
   "source": [
    "#Вычисление определителя\n",
    "a,b,c=symbols('a,b,c')\n",
    "A=Matrix([[a,2,-1],[3,b,0],[0,5,c]])\n",
    "display(A)\n",
    "A.det()"
   ]
  },
  {
   "cell_type": "code",
   "execution_count": 40,
   "metadata": {},
   "outputs": [
    {
     "data": {
      "text/latex": [
       "$\\displaystyle \\left[\\begin{matrix}1 & 1 & 1\\\\1 & 1 & 1\\\\1 & 1 & 1\\end{matrix}\\right]$"
      ],
      "text/plain": [
       "[1  1  1]\n",
       "[       ]\n",
       "[1  1  1]\n",
       "[       ]\n",
       "[1  1  1]"
      ]
     },
     "metadata": {},
     "output_type": "display_data"
    },
    {
     "data": {
      "text/latex": [
       "$\\displaystyle \\left[\\begin{matrix}1 & 1 & 1\\\\1 & 1 & 1\\\\1 & 1 & 1\\end{matrix}\\right]$"
      ],
      "text/plain": [
       "[1  1  1]\n",
       "[       ]\n",
       "[1  1  1]\n",
       "[       ]\n",
       "[1  1  1]"
      ]
     },
     "metadata": {},
     "output_type": "display_data"
    },
    {
     "data": {
      "text/latex": [
       "$\\displaystyle \\left[\\begin{matrix}1 & 1 & 1\\\\1 & -100 & 1\\\\1 & 1 & 1\\end{matrix}\\right]$"
      ],
      "text/plain": [
       "[1   1    1]\n",
       "[          ]\n",
       "[1  -100  1]\n",
       "[          ]\n",
       "[1   1    1]"
      ]
     },
     "metadata": {},
     "output_type": "display_data"
    },
    {
     "data": {
      "text/latex": [
       "$\\displaystyle \\left[\\begin{matrix}100 & 1 & 1\\\\1 & 1 & 1\\\\1 & 1 & 1\\end{matrix}\\right]$"
      ],
      "text/plain": [
       "[100  1  1]\n",
       "[         ]\n",
       "[ 1   1  1]\n",
       "[         ]\n",
       "[ 1   1  1]"
      ]
     },
     "metadata": {},
     "output_type": "display_data"
    }
   ],
   "source": [
    "#Копирование с помощью срезов:\n",
    "A=ones(3)\n",
    "A1=A[:,:]\n",
    "display(A)\n",
    "display(A1)\n",
    "#Проверим, что обе матрицы изменяются независимо:\n",
    "A1[0,0]=100\n",
    "A[1,1]=-100\n",
    "display(A)\n",
    "display(A1)"
   ]
  },
  {
   "cell_type": "code",
   "execution_count": 41,
   "metadata": {},
   "outputs": [
    {
     "data": {
      "text/latex": [
       "$\\displaystyle \\left[\\begin{matrix}1 & 1 & 1\\\\1 & 1 & 1\\\\1 & 1 & 1\\end{matrix}\\right]$"
      ],
      "text/plain": [
       "[1  1  1]\n",
       "[       ]\n",
       "[1  1  1]\n",
       "[       ]\n",
       "[1  1  1]"
      ]
     },
     "metadata": {},
     "output_type": "display_data"
    },
    {
     "data": {
      "text/latex": [
       "$\\displaystyle \\left[\\begin{matrix}1 & 1 & 1\\\\1 & 1 & 1\\\\1 & 1 & 1\\end{matrix}\\right]$"
      ],
      "text/plain": [
       "[1  1  1]\n",
       "[       ]\n",
       "[1  1  1]\n",
       "[       ]\n",
       "[1  1  1]"
      ]
     },
     "metadata": {},
     "output_type": "display_data"
    },
    {
     "data": {
      "text/latex": [
       "$\\displaystyle \\left[\\begin{matrix}2 & 1 & 1\\\\1 & -2 & 1\\\\1 & 1 & 1\\end{matrix}\\right]$"
      ],
      "text/plain": [
       "[2  1   1]\n",
       "[        ]\n",
       "[1  -2  1]\n",
       "[        ]\n",
       "[1  1   1]"
      ]
     },
     "metadata": {},
     "output_type": "display_data"
    },
    {
     "data": {
      "text/latex": [
       "$\\displaystyle \\left[\\begin{matrix}2 & 1 & 1\\\\1 & -2 & 1\\\\1 & 1 & 1\\end{matrix}\\right]$"
      ],
      "text/plain": [
       "[2  1   1]\n",
       "[        ]\n",
       "[1  -2  1]\n",
       "[        ]\n",
       "[1  1   1]"
      ]
     },
     "metadata": {},
     "output_type": "display_data"
    }
   ],
   "source": [
    "#Копирование матриц по имени:\n",
    "A=ones(3)\n",
    "Aa1=A\n",
    "display(A)\n",
    "display(Aa1)\n",
    "#Проверим, что обе матрицы изменяются синхронно:\n",
    "Aa1[0,0]=2\n",
    "A[1,1]=-2\n",
    "display(A)\n",
    "display(Aa1)"
   ]
  },
  {
   "cell_type": "code",
   "execution_count": 42,
   "metadata": {},
   "outputs": [
    {
     "data": {
      "text/latex": [
       "$\\displaystyle \\left[\\begin{matrix}3\\\\4\\\\6\\end{matrix}\\right]$"
      ],
      "text/plain": [
       "[3]\n",
       "[ ]\n",
       "[4]\n",
       "[ ]\n",
       "[6]"
      ]
     },
     "metadata": {},
     "output_type": "display_data"
    },
    {
     "data": {
      "text/latex": [
       "$\\displaystyle \\left[\\begin{matrix}2 & 1 & 1\\\\1 & -2 & 1\\\\1 & 1 & 1\\end{matrix}\\right]$"
      ],
      "text/plain": [
       "[2  1   1]\n",
       "[        ]\n",
       "[1  -2  1]\n",
       "[        ]\n",
       "[1  1   1]"
      ]
     },
     "metadata": {},
     "output_type": "display_data"
    },
    {
     "data": {
      "text/latex": [
       "$\\displaystyle \\left[\\begin{matrix}2 & 1 & 3\\\\1 & -2 & 4\\\\1 & 1 & 6\\end{matrix}\\right]$"
      ],
      "text/plain": [
       "[2  1   3]\n",
       "[        ]\n",
       "[1  -2  4]\n",
       "[        ]\n",
       "[1  1   6]"
      ]
     },
     "metadata": {},
     "output_type": "display_data"
    }
   ],
   "source": [
    "#Создадим вектор-столбец В:\n",
    "B=Matrix([3,4,6])\n",
    "display(B)\n",
    "display(A)\n",
    "#Заменим в матрице А второй (нумерация с нуля) столбец на столбец В\n",
    "A[:,2]=B\n",
    "display(A)"
   ]
  },
  {
   "cell_type": "code",
   "execution_count": 43,
   "metadata": {},
   "outputs": [
    {
     "data": {
      "text/latex": [
       "$\\displaystyle \\left[\\begin{matrix}3 - c & 0 & 0\\\\0 & 2 c - 1 & 0\\\\0 & 0 & 3 - c\\end{matrix}\\right]$"
      ],
      "text/plain": [
       "[3 - c     0       0  ]\n",
       "[                     ]\n",
       "[  0    2*c - 1    0  ]\n",
       "[                     ]\n",
       "[  0       0     3 - c]"
      ]
     },
     "metadata": {},
     "output_type": "display_data"
    }
   ],
   "source": [
    "#Создаем диагональную матрицу:\n",
    "D=diag(3-c,2*c-1,3-c)\n",
    "display(D)"
   ]
  },
  {
   "cell_type": "code",
   "execution_count": 44,
   "metadata": {},
   "outputs": [
    {
     "data": {
      "text/latex": [
       "$\\displaystyle \\left[\\begin{matrix}4 - c & 1 & 1\\\\1 & 2 c & 1\\\\1 & 1 & 4 - c\\end{matrix}\\right]$"
      ],
      "text/plain": [
       "[4 - c   1     1  ]\n",
       "[                 ]\n",
       "[  1    2*c    1  ]\n",
       "[                 ]\n",
       "[  1     1   4 - c]"
      ]
     },
     "metadata": {},
     "output_type": "display_data"
    }
   ],
   "source": [
    "#Прибавим матрицу D к матрице из единиц:\n",
    "D1=ones(3)+D\n",
    "display(D1)"
   ]
  },
  {
   "cell_type": "code",
   "execution_count": 45,
   "metadata": {},
   "outputs": [
    {
     "data": {
      "image/png": "[encoded data removed]",
      "text/latex": [
       "$\\displaystyle 2 c^{3} - 16 c^{2} + 32 c - 6$"
      ],
      "text/plain": [
       "   3       2           \n",
       "2*c  - 16*c  + 32*c - 6"
      ]
     },
     "execution_count": 45,
     "metadata": {},
     "output_type": "execute_result"
    }
   ],
   "source": [
    "#Вычислим определитель полученной матрицы:\n",
    "detD1=D1.det()\n",
    "simplify(expand(detD1))"
   ]
  },
  {
   "cell_type": "code",
   "execution_count": 46,
   "metadata": {},
   "outputs": [
    {
     "data": {
      "image/png": "[encoded data removed]",
      "text/latex": [
       "$\\displaystyle \\left\\{3, \\frac{5}{2} - \\frac{\\sqrt{21}}{2}, \\frac{\\sqrt{21}}{2} + \\frac{5}{2}\\right\\}$"
      ],
      "text/plain": [
       "          ____    ____     \n",
       "    5   \\/ 21   \\/ 21    5 \n",
       "{3, - - ------, ------ + -}\n",
       "    2     2       2      2 "
      ]
     },
     "execution_count": 46,
     "metadata": {},
     "output_type": "execute_result"
    }
   ],
   "source": [
    "#Найдем корни определителя с помощью solveset:\n",
    "cc=solveset(detD1,c,domain=S.Reals)\n",
    "cc"
   ]
  },
  {
   "cell_type": "code",
   "execution_count": 47,
   "metadata": {},
   "outputs": [
    {
     "data": {
      "image/png": "[encoded data removed]",
      "text/latex": [
       "$\\displaystyle \\left[ 3, \\  \\frac{5}{2} - \\frac{\\sqrt{21}}{2}, \\  \\frac{\\sqrt{21}}{2} + \\frac{5}{2}\\right]$"
      ],
      "text/plain": [
       "          ____    ____     \n",
       "    5   \\/ 21   \\/ 21    5 \n",
       "[3, - - ------, ------ + -]\n",
       "    2     2       2      2 "
      ]
     },
     "execution_count": 47,
     "metadata": {},
     "output_type": "execute_result"
    }
   ],
   "source": [
    "#Преобразуем множество в список:\n",
    "res=list(cc)\n",
    "res"
   ]
  },
  {
   "cell_type": "code",
   "execution_count": 48,
   "metadata": {},
   "outputs": [
    {
     "data": {
      "image/png": "[encoded data removed]",
      "text/latex": [
       "$\\displaystyle -6 + \\left(\\frac{3}{2} + \\frac{\\sqrt{21}}{2}\\right)^{2} \\left(5 - \\sqrt{21}\\right)$"
      ],
      "text/plain": [
       "                 2             \n",
       "     /      ____\\              \n",
       "     |3   \\/ 21 |  /      ____\\\n",
       "-6 + |- + ------| *\\5 - \\/ 21 /\n",
       "     \\2     2   /              "
      ]
     },
     "execution_count": 48,
     "metadata": {},
     "output_type": "execute_result"
    }
   ],
   "source": [
    "#Подставим одно из этих значений параметра в матрицу D1 и вычислим определитель:\n",
    "det1=(D1.subs(c,res[1])).det()\n",
    "det1"
   ]
  },
  {
   "cell_type": "code",
   "execution_count": 49,
   "metadata": {},
   "outputs": [
    {
     "data": {
      "image/png": "[encoded data removed]",
      "text/latex": [
       "$\\displaystyle 0$"
      ],
      "text/plain": [
       "0"
      ]
     },
     "execution_count": 49,
     "metadata": {},
     "output_type": "execute_result"
    }
   ],
   "source": [
    "simplify(expand(det1))"
   ]
  },
  {
   "cell_type": "code",
   "execution_count": 50,
   "metadata": {},
   "outputs": [
    {
     "data": {
      "image/png": "[encoded data removed]",
      "text/latex": [
       "$\\displaystyle 0$"
      ],
      "text/plain": [
       "0"
      ]
     },
     "execution_count": 50,
     "metadata": {},
     "output_type": "execute_result"
    }
   ],
   "source": [
    "#Подставим округленное значение параметра в матрицу D1 и вычислим определитель:\n",
    "det2=(D1.subs(c,float(res[1]))).det()\n",
    "det2"
   ]
  },
  {
   "cell_type": "code",
   "execution_count": 51,
   "metadata": {},
   "outputs": [
    {
     "data": {
      "text/latex": [
       "$\\displaystyle \\left[\\begin{matrix}\\frac{- 2 c \\left(- \\left(1 - 2 c\\right) \\left(c - 3\\right) + \\left(3 - c\\right) \\left(- 2 c \\left(4 - c\\right) + 1\\right)\\right) - \\left(2 c - 1\\right) \\left(- 2 c \\left(4 - c\\right) - 2 c \\left(c - 3\\right) + 1\\right)}{\\left(- 2 c \\left(4 - c\\right) + 1\\right) \\left(- \\left(1 - 2 c\\right) \\left(c - 3\\right) + \\left(3 - c\\right) \\left(- 2 c \\left(4 - c\\right) + 1\\right)\\right)} & \\frac{\\left(- \\left(1 - 2 c\\right) \\left(c - 3\\right) + \\left(3 - c\\right) \\left(- 2 c \\left(4 - c\\right) + 1\\right)\\right) \\left(- 2 c \\left(4 - c\\right) - 2 c \\left(c - 4\\right) + 1\\right) - \\left(- 2 c \\left(4 - c\\right) - 2 c \\left(c - 3\\right) + 1\\right) \\left(2 c \\left(4 - c\\right) - \\left(1 - 2 c\\right) \\left(c - 4\\right) - 1\\right)}{\\left(- 2 c \\left(4 - c\\right) + 1\\right) \\left(- \\left(1 - 2 c\\right) \\left(c - 3\\right) + \\left(3 - c\\right) \\left(- 2 c \\left(4 - c\\right) + 1\\right)\\right)} & - \\frac{- 2 c \\left(4 - c\\right) - 2 c \\left(c - 3\\right) + 1}{- \\left(1 - 2 c\\right) \\left(c - 3\\right) + \\left(3 - c\\right) \\left(- 2 c \\left(4 - c\\right) + 1\\right)}\\\\\\frac{- \\left(1 - 2 c\\right) \\left(c - 3\\right) + \\left(3 - c\\right) \\left(- 2 c \\left(4 - c\\right) + 1\\right) - \\left(c - 3\\right) \\left(2 c - 1\\right)}{\\left(- 2 c \\left(4 - c\\right) + 1\\right) \\left(- \\left(1 - 2 c\\right) \\left(c - 3\\right) + \\left(3 - c\\right) \\left(- 2 c \\left(4 - c\\right) + 1\\right)\\right)} & \\frac{\\left(c - 4\\right) \\left(- \\left(1 - 2 c\\right) \\left(c - 3\\right) + \\left(3 - c\\right) \\left(- 2 c \\left(4 - c\\right) + 1\\right)\\right) - \\left(c - 3\\right) \\left(2 c \\left(4 - c\\right) - \\left(1 - 2 c\\right) \\left(c - 4\\right) - 1\\right)}{\\left(- 2 c \\left(4 - c\\right) + 1\\right) \\left(- \\left(1 - 2 c\\right) \\left(c - 3\\right) + \\left(3 - c\\right) \\left(- 2 c \\left(4 - c\\right) + 1\\right)\\right)} & - \\frac{c - 3}{- \\left(1 - 2 c\\right) \\left(c - 3\\right) + \\left(3 - c\\right) \\left(- 2 c \\left(4 - c\\right) + 1\\right)}\\\\\\frac{2 c - 1}{- \\left(1 - 2 c\\right) \\left(c - 3\\right) + \\left(3 - c\\right) \\left(- 2 c \\left(4 - c\\right) + 1\\right)} & \\frac{2 c \\left(4 - c\\right) - \\left(1 - 2 c\\right) \\left(c - 4\\right) - 1}{- \\left(1 - 2 c\\right) \\left(c - 3\\right) + \\left(3 - c\\right) \\left(- 2 c \\left(4 - c\\right) + 1\\right)} & \\frac{- 2 c \\left(4 - c\\right) + 1}{- \\left(1 - 2 c\\right) \\left(c - 3\\right) + \\left(3 - c\\right) \\left(- 2 c \\left(4 - c\\right) + 1\\right)}\\end{matrix}\\right]$"
      ],
      "text/plain": [
       "[-2*c*(-(1 - 2*c)*(c - 3) + (3 - c)*(-2*c*(4 - c) + 1)) - (2*c - 1)*(-2*c*(4 - c) - 2*c*(c - 3) + 1)  (-(1 - 2*c)*(c - 3) + (3 - c)*(-2*c*(4 - c) + 1))*(-2*c*(4 - c) - 2*c*(c - 4) + 1) - (-2*c*(4 - c) - 2*c*(c - 3) + 1)*(2*c*(4 - c) - (1 - 2*c)*(c - 4) - 1)         -(-2*c*(4 - c) - 2*c*(c - 3) + 1)       ]\n",
       "[---------------------------------------------------------------------------------------------------  -----------------------------------------------------------------------------------------------------------------------------------------------------------  -----------------------------------------------]\n",
       "[                (-2*c*(4 - c) + 1)*(-(1 - 2*c)*(c - 3) + (3 - c)*(-2*c*(4 - c) + 1))                                                             (-2*c*(4 - c) + 1)*(-(1 - 2*c)*(c - 3) + (3 - c)*(-2*c*(4 - c) + 1))                                             -(1 - 2*c)*(c - 3) + (3 - c)*(-2*c*(4 - c) + 1)]\n",
       "[                                                                                                                                                                                                                                                                                                                 ]\n",
       "[               -(1 - 2*c)*(c - 3) + (3 - c)*(-2*c*(4 - c) + 1) - (c - 3)*(2*c - 1)                                            (c - 4)*(-(1 - 2*c)*(c - 3) + (3 - c)*(-2*c*(4 - c) + 1)) - (c - 3)*(2*c*(4 - c) - (1 - 2*c)*(c - 4) - 1)                                              -(c - 3)                    ]\n",
       "[               --------------------------------------------------------------------                                           ---------------------------------------------------------------------------------------------------------                           -----------------------------------------------]\n",
       "[               (-2*c*(4 - c) + 1)*(-(1 - 2*c)*(c - 3) + (3 - c)*(-2*c*(4 - c) + 1))                                                              (-2*c*(4 - c) + 1)*(-(1 - 2*c)*(c - 3) + (3 - c)*(-2*c*(4 - c) + 1))                                             -(1 - 2*c)*(c - 3) + (3 - c)*(-2*c*(4 - c) + 1)]\n",
       "[                                                                                                                                                                                                                                                                                                                 ]\n",
       "[                                              2*c - 1                                                                                                            2*c*(4 - c) - (1 - 2*c)*(c - 4) - 1                                                                              -2*c*(4 - c) + 1               ]\n",
       "[                          -----------------------------------------------                                                                                  -----------------------------------------------                                                        -----------------------------------------------]\n",
       "[                          -(1 - 2*c)*(c - 3) + (3 - c)*(-2*c*(4 - c) + 1)                                                                                  -(1 - 2*c)*(c - 3) + (3 - c)*(-2*c*(4 - c) + 1)                                                        -(1 - 2*c)*(c - 3) + (3 - c)*(-2*c*(4 - c) + 1)]"
      ]
     },
     "metadata": {},
     "output_type": "display_data"
    },
    {
     "data": {
      "text/latex": [
       "$\\displaystyle \\left[\\begin{matrix}\\frac{- c^{2} + 4 c - \\frac{1}{2}}{c^{3} - 8 c^{2} + 16 c - 3} & \\frac{1}{2 \\left(c^{2} - 5 c + 1\\right)} & \\frac{\\frac{1}{2} - c}{c^{3} - 8 c^{2} + 16 c - 3}\\\\\\frac{1}{2 \\left(c^{2} - 5 c + 1\\right)} & \\frac{c - 5}{2 \\left(c^{2} - 5 c + 1\\right)} & \\frac{1}{2 \\left(c^{2} - 5 c + 1\\right)}\\\\\\frac{\\frac{1}{2} - c}{\\left(c - 3\\right) \\left(- c \\left(4 - c\\right) - c + 1\\right)} & \\frac{1}{2 \\left(c^{2} - 5 c + 1\\right)} & \\frac{- c \\left(c - 4\\right) - \\frac{1}{2}}{\\left(c - 3\\right) \\left(- c \\left(4 - c\\right) - c + 1\\right)}\\end{matrix}\\right]$"
      ],
      "text/plain": [
       "[          2         1                                                       ]\n",
       "[       - c  + 4*c - -                                                       ]\n",
       "[                    2                1                    1/2 - c           ]\n",
       "[    --------------------      ----------------      --------------------    ]\n",
       "[     3      2                   / 2          \\       3      2               ]\n",
       "[    c  - 8*c  + 16*c - 3      2*\\c  - 5*c + 1/      c  - 8*c  + 16*c - 3    ]\n",
       "[                                                                            ]\n",
       "[             1                     c - 5                     1              ]\n",
       "[      ----------------        ----------------        ----------------      ]\n",
       "[        / 2          \\          / 2          \\          / 2          \\      ]\n",
       "[      2*\\c  - 5*c + 1/        2*\\c  - 5*c + 1/        2*\\c  - 5*c + 1/      ]\n",
       "[                                                                            ]\n",
       "[          1/2 - c                    1                -c*(c - 4) - 1/2      ]\n",
       "[----------------------------  ----------------  ----------------------------]\n",
       "[(c - 3)*(-c*(4 - c) - c + 1)    / 2          \\  (c - 3)*(-c*(4 - c) - c + 1)]\n",
       "[                              2*\\c  - 5*c + 1/                              ]"
      ]
     },
     "metadata": {},
     "output_type": "display_data"
    },
    {
     "data": {
      "text/latex": [
       "$\\displaystyle \\left[\\begin{matrix}\\frac{4 c^{4}}{- 4 c^{5} + 48 c^{4} - 194 c^{3} + 284 c^{2} - 80 c + 6} - \\frac{32 c^{3}}{- 4 c^{5} + 48 c^{4} - 194 c^{3} + 284 c^{2} - 80 c + 6} + \\frac{68 c^{2}}{- 4 c^{5} + 48 c^{4} - 194 c^{3} + 284 c^{2} - 80 c + 6} - \\frac{16 c}{- 4 c^{5} + 48 c^{4} - 194 c^{3} + 284 c^{2} - 80 c + 6} + \\frac{1}{- 4 c^{5} + 48 c^{4} - 194 c^{3} + 284 c^{2} - 80 c + 6} & - \\frac{2 c^{3}}{- 4 c^{5} + 48 c^{4} - 194 c^{3} + 284 c^{2} - 80 c + 6} + \\frac{14 c^{2}}{- 4 c^{5} + 48 c^{4} - 194 c^{3} + 284 c^{2} - 80 c + 6} - \\frac{25 c}{- 4 c^{5} + 48 c^{4} - 194 c^{3} + 284 c^{2} - 80 c + 6} + \\frac{3}{- 4 c^{5} + 48 c^{4} - 194 c^{3} + 284 c^{2} - 80 c + 6} & \\frac{2 c}{- 2 c^{3} + 16 c^{2} - 32 c + 6} - \\frac{1}{- 2 c^{3} + 16 c^{2} - 32 c + 6}\\\\- \\frac{2 c^{3}}{- 4 c^{5} + 48 c^{4} - 194 c^{3} + 284 c^{2} - 80 c + 6} + \\frac{14 c^{2}}{- 4 c^{5} + 48 c^{4} - 194 c^{3} + 284 c^{2} - 80 c + 6} - \\frac{25 c}{- 4 c^{5} + 48 c^{4} - 194 c^{3} + 284 c^{2} - 80 c + 6} + \\frac{3}{- 4 c^{5} + 48 c^{4} - 194 c^{3} + 284 c^{2} - 80 c + 6} & - \\frac{2 c^{4}}{- 4 c^{5} + 48 c^{4} - 194 c^{3} + 284 c^{2} - 80 c + 6} + \\frac{24 c^{3}}{- 4 c^{5} + 48 c^{4} - 194 c^{3} + 284 c^{2} - 80 c + 6} - \\frac{95 c^{2}}{- 4 c^{5} + 48 c^{4} - 194 c^{3} + 284 c^{2} - 80 c + 6} + \\frac{128 c}{- 4 c^{5} + 48 c^{4} - 194 c^{3} + 284 c^{2} - 80 c + 6} - \\frac{15}{- 4 c^{5} + 48 c^{4} - 194 c^{3} + 284 c^{2} - 80 c + 6} & - \\frac{c}{- 2 c^{3} + 16 c^{2} - 32 c + 6} + \\frac{3}{- 2 c^{3} + 16 c^{2} - 32 c + 6}\\\\\\frac{2 c}{- 2 c^{3} + 16 c^{2} - 32 c + 6} - \\frac{1}{- 2 c^{3} + 16 c^{2} - 32 c + 6} & - \\frac{c}{- 2 c^{3} + 16 c^{2} - 32 c + 6} + \\frac{3}{- 2 c^{3} + 16 c^{2} - 32 c + 6} & \\frac{2 c^{2}}{- 2 c^{3} + 16 c^{2} - 32 c + 6} - \\frac{8 c}{- 2 c^{3} + 16 c^{2} - 32 c + 6} + \\frac{1}{- 2 c^{3} + 16 c^{2} - 32 c + 6}\\end{matrix}\\right]$"
      ],
      "text/plain": [
       "[                       4                                             3                                             2                                                                                                                                                                 3                                             2                                                                                                                                                                                                                         ]\n",
       "[                    4*c                                          32*c                                          68*c                                           16*c                                           1                                                                    2*c                                          14*c                                           25*c                                           3                                                                       2*c                          1                          ]\n",
       "[------------------------------------------- - ------------------------------------------- + ------------------------------------------- - ------------------------------------------- + -------------------------------------------                         - ------------------------------------------- + ------------------------------------------- - ------------------------------------------- + -------------------------------------------                                       ------------------------- - -------------------------              ]\n",
       "[     5       4        3        2                   5       4        3        2                   5       4        3        2                   5       4        3        2                   5       4        3        2                                           5       4        3        2                   5       4        3        2                   5       4        3        2                   5       4        3        2                                                       3       2                   3       2                         ]\n",
       "[- 4*c  + 48*c  - 194*c  + 284*c  - 80*c + 6   - 4*c  + 48*c  - 194*c  + 284*c  - 80*c + 6   - 4*c  + 48*c  - 194*c  + 284*c  - 80*c + 6   - 4*c  + 48*c  - 194*c  + 284*c  - 80*c + 6   - 4*c  + 48*c  - 194*c  + 284*c  - 80*c + 6                           - 4*c  + 48*c  - 194*c  + 284*c  - 80*c + 6   - 4*c  + 48*c  - 194*c  + 284*c  - 80*c + 6   - 4*c  + 48*c  - 194*c  + 284*c  - 80*c + 6   - 4*c  + 48*c  - 194*c  + 284*c  - 80*c + 6                                       - 2*c  + 16*c  - 32*c + 6   - 2*c  + 16*c  - 32*c + 6              ]\n",
       "[                                                                                                                                                                                                                                                                                                                                                                                                                                                                                                                                                             ]\n",
       "[                                               3                                             2                                                                                                                                                                4                                             3                                             2                                                                                                                                                                                                  ]\n",
       "[                                            2*c                                          14*c                                           25*c                                           3                                                                   2*c                                          24*c                                          95*c                                          128*c                                           15                                                 c                           3                         ]\n",
       "[                      - ------------------------------------------- + ------------------------------------------- - ------------------------------------------- + -------------------------------------------                        - ------------------------------------------- + ------------------------------------------- - ------------------------------------------- + ------------------------------------------- - -------------------------------------------               - ------------------------- + -------------------------             ]\n",
       "[                             5       4        3        2                   5       4        3        2                   5       4        3        2                   5       4        3        2                                          5       4        3        2                   5       4        3        2                   5       4        3        2                   5       4        3        2                   5       4        3        2                                 3       2                   3       2                        ]\n",
       "[                        - 4*c  + 48*c  - 194*c  + 284*c  - 80*c + 6   - 4*c  + 48*c  - 194*c  + 284*c  - 80*c + 6   - 4*c  + 48*c  - 194*c  + 284*c  - 80*c + 6   - 4*c  + 48*c  - 194*c  + 284*c  - 80*c + 6                          - 4*c  + 48*c  - 194*c  + 284*c  - 80*c + 6   - 4*c  + 48*c  - 194*c  + 284*c  - 80*c + 6   - 4*c  + 48*c  - 194*c  + 284*c  - 80*c + 6   - 4*c  + 48*c  - 194*c  + 284*c  - 80*c + 6   - 4*c  + 48*c  - 194*c  + 284*c  - 80*c + 6                 - 2*c  + 16*c  - 32*c + 6   - 2*c  + 16*c  - 32*c + 6             ]\n",
       "[                                                                                                                                                                                                                                                                                                                                                                                                                                                                                                                                                             ]\n",
       "[                                                                                                                                                                                                                                                                                                                                                                                                                                                                                          2                                                                  ]\n",
       "[                                                                                                  2*c                          1                                                                                                                                                                                                          c                           3                                                                                                                2*c                         8*c                          1            ]\n",
       "[                                                                                       ------------------------- - -------------------------                                                                                                                                                                                - ------------------------- + -------------------------                                                                                         ------------------------- - ------------------------- + -------------------------]\n",
       "[                                                                                            3       2                   3       2                                                                                                                                                                                                  3       2                   3       2                                                                                                         3       2                   3       2                   3       2           ]\n",
       "[                                                                                       - 2*c  + 16*c  - 32*c + 6   - 2*c  + 16*c  - 32*c + 6                                                                                                                                                                                  - 2*c  + 16*c  - 32*c + 6   - 2*c  + 16*c  - 32*c + 6                                                                                         - 2*c  + 16*c  - 32*c + 6   - 2*c  + 16*c  - 32*c + 6   - 2*c  + 16*c  - 32*c + 6]"
      ]
     },
     "metadata": {},
     "output_type": "display_data"
    },
    {
     "data": {
      "text/latex": [
       "$\\displaystyle \\left[\\begin{matrix}\\frac{- c^{2} + 4 c - \\frac{1}{2}}{c^{3} - 8 c^{2} + 16 c - 3} & \\frac{1}{2 \\left(c^{2} - 5 c + 1\\right)} & \\frac{\\frac{1}{2} - c}{c^{3} - 8 c^{2} + 16 c - 3}\\\\\\frac{1}{2 \\left(c^{2} - 5 c + 1\\right)} & \\frac{c - 5}{2 \\left(c^{2} - 5 c + 1\\right)} & \\frac{1}{2 \\left(c^{2} - 5 c + 1\\right)}\\\\\\frac{\\frac{1}{2} - c}{c^{3} - 8 c^{2} + 16 c - 3} & \\frac{1}{2 \\left(c^{2} - 5 c + 1\\right)} & \\frac{- c^{2} + 4 c - \\frac{1}{2}}{c^{3} - 8 c^{2} + 16 c - 3}\\end{matrix}\\right]$"
      ],
      "text/plain": [
       "[      2         1                                           ]\n",
       "[   - c  + 4*c - -                                           ]\n",
       "[                2            1                1/2 - c       ]\n",
       "[--------------------  ----------------  --------------------]\n",
       "[ 3      2               / 2          \\   3      2           ]\n",
       "[c  - 8*c  + 16*c - 3  2*\\c  - 5*c + 1/  c  - 8*c  + 16*c - 3]\n",
       "[                                                            ]\n",
       "[         1                 c - 5                 1          ]\n",
       "[  ----------------    ----------------    ----------------  ]\n",
       "[    / 2          \\      / 2          \\      / 2          \\  ]\n",
       "[  2*\\c  - 5*c + 1/    2*\\c  - 5*c + 1/    2*\\c  - 5*c + 1/  ]\n",
       "[                                                            ]\n",
       "[                                              2         1   ]\n",
       "[                                           - c  + 4*c - -   ]\n",
       "[      1/2 - c                1                          2   ]\n",
       "[--------------------  ----------------  --------------------]\n",
       "[ 3      2               / 2          \\   3      2           ]\n",
       "[c  - 8*c  + 16*c - 3  2*\\c  - 5*c + 1/  c  - 8*c  + 16*c - 3]"
      ]
     },
     "metadata": {},
     "output_type": "display_data"
    }
   ],
   "source": [
    "#Вычисляем обратную матрицу: \n",
    "display(D1**(-1))\n",
    "#Упрощаем:\n",
    "display(simplify(D1**(-1)))\n",
    "#Раскрываем скобки\n",
    "display(expand(D1**(-1)))\n",
    "#Сначала раскрываем скобки, потом упрощаем:\n",
    "display(simplify(expand(D1**(-1))))"
   ]
  },
  {
   "cell_type": "code",
   "execution_count": 52,
   "metadata": {},
   "outputs": [
    {
     "data": {
      "image/png": "[encoded data removed]",
      "text/latex": [
       "$\\displaystyle c^{3} - 8 c^{2} + 16 c - 3$"
      ],
      "text/plain": [
       " 3      2           \n",
       "c  - 8*c  + 16*c - 3"
      ]
     },
     "metadata": {},
     "output_type": "display_data"
    },
    {
     "data": {
      "image/png": "[encoded data removed]",
      "text/latex": [
       "$\\displaystyle \\left\\{3, \\frac{5}{2} - \\frac{\\sqrt{21}}{2}, \\frac{\\sqrt{21}}{2} + \\frac{5}{2}\\right\\}$"
      ],
      "text/plain": [
       "          ____    ____     \n",
       "    5   \\/ 21   \\/ 21    5 \n",
       "{3, - - ------, ------ + -}\n",
       "    2     2       2      2 "
      ]
     },
     "metadata": {},
     "output_type": "display_data"
    },
    {
     "data": {
      "image/png": "[encoded data removed]",
      "text/latex": [
       "$\\displaystyle 2 c^{2} - 10 c + 2$"
      ],
      "text/plain": [
       "   2           \n",
       "2*c  - 10*c + 2"
      ]
     },
     "metadata": {},
     "output_type": "display_data"
    },
    {
     "data": {
      "image/png": "[encoded data removed]",
      "text/latex": [
       "$\\displaystyle \\left\\{\\frac{5}{2} - \\frac{\\sqrt{21}}{2}, \\frac{\\sqrt{21}}{2} + \\frac{5}{2}\\right\\}$"
      ],
      "text/plain": [
       "       ____    ____     \n",
       " 5   \\/ 21   \\/ 21    5 \n",
       "{- - ------, ------ + -}\n",
       " 2     2       2      2 "
      ]
     },
     "metadata": {},
     "output_type": "display_data"
    }
   ],
   "source": [
    "#Найдем проблемные значения параметра, для этого нужно выделить знаменатели элементов матрицы:\n",
    "D1_inv=simplify(expand(D1**(-1)))\n",
    "Xn,Xd=fraction(D1_inv[0,0])\n",
    "display(Xd)\n",
    "display(solveset(Xd,c,domain=S.Reals))\n",
    "Xn,Xd=fraction(D1_inv[0,1])\n",
    "display(Xd)\n",
    "display(solveset(Xd,c,domain=S.Reals))"
   ]
  },
  {
   "cell_type": "markdown",
   "metadata": {},
   "source": [
    "## Фундаментальная система решений СЛАУ\n",
    "\n",
    "Пусть СЛАУ задана в матричном виде АХ=0. ФСР состоит из максимального числа линейно независимых решений этой СЛАУ.\n",
    "$$\n",
    "A=\\left(\n",
    "\\begin{matrix}\n",
    "2&3&5&8\\\\\n",
    "3&-2&1&-1\\\\\n",
    "5&1&6&7\n",
    "\\end{matrix}\n",
    "\\right)\n",
    "$$"
   ]
  },
  {
   "cell_type": "code",
   "execution_count": 53,
   "metadata": {},
   "outputs": [],
   "source": [
    "A=Matrix([[2,3,5,8],\n",
    "[3,-2,1,-1],\n",
    "[5,1,6,7]])"
   ]
  },
  {
   "cell_type": "code",
   "execution_count": 54,
   "metadata": {},
   "outputs": [
    {
     "data": {
      "text/latex": [
       "$\\displaystyle \\left[ \\left[\\begin{matrix}-1\\\\-1\\\\1\\\\0\\end{matrix}\\right], \\  \\left[\\begin{matrix}-1\\\\-2\\\\0\\\\1\\end{matrix}\\right]\\right]$"
      ],
      "text/plain": [
       " [-1]  [-1] \n",
       " [  ]  [  ] \n",
       " [-1]  [-2] \n",
       "[[  ], [  ]]\n",
       " [1 ]  [0 ] \n",
       " [  ]  [  ] \n",
       " [0 ]  [1 ] "
      ]
     },
     "execution_count": 54,
     "metadata": {},
     "output_type": "execute_result"
    }
   ],
   "source": [
    "#Находим ФСР\n",
    "NS=A.nullspace()\n",
    "NS"
   ]
  },
  {
   "cell_type": "code",
   "execution_count": 55,
   "metadata": {},
   "outputs": [
    {
     "data": {
      "text/latex": [
       "$\\displaystyle \\left[\\begin{matrix}0\\\\0\\\\0\\end{matrix}\\right]$"
      ],
      "text/plain": [
       "[0]\n",
       "[ ]\n",
       "[0]\n",
       "[ ]\n",
       "[0]"
      ]
     },
     "metadata": {},
     "output_type": "display_data"
    },
    {
     "data": {
      "text/latex": [
       "$\\displaystyle \\left[\\begin{matrix}0\\\\0\\\\0\\end{matrix}\\right]$"
      ],
      "text/plain": [
       "[0]\n",
       "[ ]\n",
       "[0]\n",
       "[ ]\n",
       "[0]"
      ]
     },
     "metadata": {},
     "output_type": "display_data"
    }
   ],
   "source": [
    "#Проверяем, что это действительно решения АХ=0:\n",
    "for i in range( len(NS)):\n",
    "    display(A*NS[i])"
   ]
  },
  {
   "cell_type": "code",
   "execution_count": 56,
   "metadata": {},
   "outputs": [
    {
     "data": {
      "image/png": "[encoded data removed]",
      "text/latex": [
       "$\\displaystyle 2$"
      ],
      "text/plain": [
       "2"
      ]
     },
     "execution_count": 56,
     "metadata": {},
     "output_type": "execute_result"
    }
   ],
   "source": [
    "#Проверим соотношение ранга, числа векторов ФСР, числа переменных и уравнений:\n",
    "A.rank()"
   ]
  },
  {
   "cell_type": "code",
   "execution_count": 57,
   "metadata": {},
   "outputs": [
    {
     "data": {
      "text/latex": [
       "$\\displaystyle \\left( \\left[\\begin{matrix}1 & 0 & 1 & 1\\\\0 & 1 & 1 & 2\\\\0 & 0 & 0 & 0\\end{matrix}\\right], \\  \\left( 0, \\  1\\right)\\right)$"
      ],
      "text/plain": [
       " [1  0  1  1]         \n",
       " [          ]         \n",
       "([0  1  1  2], (0, 1))\n",
       " [          ]         \n",
       " [0  0  0  0]         "
      ]
     },
     "execution_count": 57,
     "metadata": {},
     "output_type": "execute_result"
    }
   ],
   "source": [
    "#Приведем матрицу к каноническому виду:\n",
    "A.rref()"
   ]
  },
  {
   "cell_type": "code",
   "execution_count": 58,
   "metadata": {},
   "outputs": [
    {
     "data": {
      "text/latex": [
       "$\\displaystyle \\left[ \\left[\\begin{matrix}2\\\\3\\\\5\\end{matrix}\\right], \\  \\left[\\begin{matrix}3\\\\-2\\\\1\\end{matrix}\\right]\\right]$"
      ],
      "text/plain": [
       " [2]  [3 ] \n",
       " [ ]  [  ] \n",
       "[[3], [-2]]\n",
       " [ ]  [  ] \n",
       " [5]  [1 ] "
      ]
     },
     "execution_count": 58,
     "metadata": {},
     "output_type": "execute_result"
    }
   ],
   "source": [
    "#Найдем линейно независимые столбцы матрицы А:\n",
    "CS=A.columnspace()\n",
    "CS"
   ]
  },
  {
   "cell_type": "code",
   "execution_count": 59,
   "metadata": {},
   "outputs": [
    {
     "data": {
      "text/latex": [
       "$\\displaystyle \\left( \\left[\\begin{matrix}1 & 0 & 1 & 1 & 0\\\\0 & 1 & 1 & \\frac{- 676 b_{1} - 676 b_{2} + 676 b_{3}}{- 338 b_{1} - 338 b_{2} + 338 b_{3}} & 0\\\\0 & 0 & 0 & 0 & 1\\end{matrix}\\right], \\  \\left( 0, \\  1, \\  4\\right)\\right)$"
      ],
      "text/plain": [
       " [1  0  1              1              0]            \n",
       " [                                     ]            \n",
       " [         -676*b1 - 676*b2 + 676*b3   ]            \n",
       "([0  1  1  -------------------------  0], (0, 1, 4))\n",
       " [         -338*b1 - 338*b2 + 338*b3   ]            \n",
       " [                                     ]            \n",
       " [0  0  0              0              1]            "
      ]
     },
     "execution_count": 59,
     "metadata": {},
     "output_type": "execute_result"
    }
   ],
   "source": [
    "# Составим вектор правой части СЛАУ АХ=b, $b=(b_1,b_2,b_3)$\n",
    "bb=symbols('b1:4')\n",
    "B1=Matrix([bb[0],bb[1],bb[2]])\n",
    "#Приведем к каноническому виду расширенную матрицу СЛАУ АХ=b:\n",
    "(A.row_join(B1)).rref()"
   ]
  },
  {
   "cell_type": "code",
   "execution_count": 60,
   "metadata": {},
   "outputs": [
    {
     "data": {
      "image/png": "[encoded data removed]",
      "text/latex": [
       "$\\displaystyle \\left( x_{1}, \\  x_{2}, \\  x_{3}, \\  x_{4}\\right)$"
      ],
      "text/plain": [
       "(x1, x2, x3, x4)"
      ]
     },
     "metadata": {},
     "output_type": "display_data"
    },
    {
     "data": {
      "text/latex": [
       "$\\displaystyle \\left( \\left[\\begin{matrix}1 & 0 & 1 & 1 & \\frac{2 b_{1}}{13} + \\frac{3 b_{2}}{13}\\\\0 & 1 & 1 & 2 & \\frac{3 b_{1}}{13} - \\frac{2 b_{2}}{13}\\\\0 & 0 & 0 & 0 & 0\\end{matrix}\\right], \\  \\left( 0, \\  1\\right)\\right)$"
      ],
      "text/plain": [
       " [            2*b1   3*b2]         \n",
       " [1  0  1  1  ---- + ----]         \n",
       " [             13     13 ]         \n",
       " [                       ]         \n",
       "([            3*b1   2*b2], (0, 1))\n",
       " [0  1  1  2  ---- - ----]         \n",
       " [             13     13 ]         \n",
       " [                       ]         \n",
       " [0  0  0  0       0     ]         "
      ]
     },
     "execution_count": 60,
     "metadata": {},
     "output_type": "execute_result"
    }
   ],
   "source": [
    "#Заметим, что при b3=b1+b2 знаменатель равен 0, поэтому отдельно исследуем этот случай\n",
    "xx=symbols('x1:5')\n",
    "display(xx)\n",
    "B2=Matrix([bb[0],bb[1],bb[0]+bb[1]])\n",
    "#Приведем к каноническому виду расширенную матрицу СЛАУ АХ=b:\n",
    "(A.row_join(B2)).rref()"
   ]
  },
  {
   "cell_type": "code",
   "execution_count": 61,
   "metadata": {},
   "outputs": [
    {
     "data": {
      "image/png": "[encoded data removed]",
      "text/latex": [
       "$\\displaystyle \\emptyset$"
      ],
      "text/plain": [
       "EmptySet()"
      ]
     },
     "execution_count": 61,
     "metadata": {},
     "output_type": "execute_result"
    }
   ],
   "source": [
    "X1=linsolve((A,B1),xx)\n",
    "X1"
   ]
  },
  {
   "cell_type": "code",
   "execution_count": 62,
   "metadata": {},
   "outputs": [
    {
     "data": {
      "image/png": "[encoded data removed]",
      "text/latex": [
       "$\\displaystyle \\left\\{\\left( \\frac{2 b_{1}}{13} + \\frac{3 b_{2}}{13} - x_{3} - x_{4}, \\  \\frac{3 b_{1}}{13} - \\frac{2 b_{2}}{13} - x_{3} - 2 x_{4}, \\  x_{3}, \\  x_{4}\\right)\\right\\}$"
      ],
      "text/plain": [
       "  2*b1   3*b2            3*b1   2*b2                      \n",
       "{(---- + ---- - x3 - x4, ---- - ---- - x3 - 2*x4, x3, x4)}\n",
       "   13     13              13     13                       "
      ]
     },
     "execution_count": 62,
     "metadata": {},
     "output_type": "execute_result"
    }
   ],
   "source": [
    "X2=linsolve((A,B2),xx)\n",
    "X2"
   ]
  },
  {
   "cell_type": "code",
   "execution_count": 63,
   "metadata": {},
   "outputs": [
    {
     "data": {
      "text/latex": [
       "$\\displaystyle \\left[\\begin{matrix}\\frac{2 b_{1}}{13} + \\frac{3 b_{2}}{13} - x_{3} - x_{4}\\\\\\frac{3 b_{1}}{13} - \\frac{2 b_{2}}{13} - x_{3} - 2 x_{4}\\\\x_{3}\\\\x_{4}\\end{matrix}\\right]$"
      ],
      "text/plain": [
       "[ 2*b1   3*b2           ]\n",
       "[ ---- + ---- - x3 - x4 ]\n",
       "[  13     13            ]\n",
       "[                       ]\n",
       "[3*b1   2*b2            ]\n",
       "[---- - ---- - x3 - 2*x4]\n",
       "[ 13     13             ]\n",
       "[                       ]\n",
       "[          x3           ]\n",
       "[                       ]\n",
       "[          x4           ]"
      ]
     },
     "metadata": {},
     "output_type": "display_data"
    },
    {
     "data": {
      "text/latex": [
       "$\\displaystyle \\left( \\left[\\begin{matrix}0\\\\0\\\\0\\end{matrix}\\right], \\  \\left[\\begin{matrix}0\\\\0\\\\b_{1} + b_{2} - b_{3}\\end{matrix}\\right]\\right)$"
      ],
      "text/plain": [
       " [0]  [     0      ] \n",
       " [ ]  [            ] \n",
       "([0], [     0      ])\n",
       " [ ]  [            ] \n",
       " [0]  [b1 + b2 - b3] "
      ]
     },
     "execution_count": 63,
     "metadata": {},
     "output_type": "execute_result"
    }
   ],
   "source": [
    "#Проверим подстановкой: AX-B\n",
    "#Вначале превратим множество в вектор-столбец:\n",
    "X=Matrix(list(X2)).transpose()\n",
    "display(X)\n",
    "#Подставим Х в АХ-В1 и в АХ-В2:\n",
    "A*X-B2,A*X-B1"
   ]
  },
  {
   "cell_type": "code",
   "execution_count": null,
   "metadata": {},
   "outputs": [],
   "source": []
  }
 ],
 "metadata": {
  "kernelspec": {
   "display_name": "Python 3",
   "language": "python",
   "name": "python3"
  },
  "language_info": {
   "codemirror_mode": {
    "name": "ipython",
    "version": 3
   },
   "file_extension": ".py",
   "mimetype": "text/x-python",
   "name": "python",
   "nbconvert_exporter": "python",
   "pygments_lexer": "ipython3",
   "version": "3.7.4"
  }
 },
 "nbformat": 4,
 "nbformat_minor": 2
}
