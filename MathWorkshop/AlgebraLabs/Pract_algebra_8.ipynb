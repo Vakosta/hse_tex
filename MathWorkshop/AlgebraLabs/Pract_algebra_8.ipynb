{
 "cells": [
  {
   "cell_type": "code",
   "execution_count": 1,
   "metadata": {},
   "outputs": [],
   "source": [
    "import sympy as sp\n",
    "sp.init_printing(use_unicode=False, wrap_line=False, no_global=True)"
   ]
  },
  {
   "cell_type": "markdown",
   "metadata": {},
   "source": [
    "# Занятие 8\n",
    "# Алгебра\n",
    "https://docs.sympy.org/latest/search.html?q=geometry\n",
    "\n",
    "## Проекции, сегменты, лучи в модуле Geometry\n",
    "\n",
    "### projection(other)\n",
    "\n",
    "Проекция точки или отрезка на прямую, а также точки на плоскость\n",
    "\n",
    "Параметры:\n",
    "\n",
    "        other : точка или отрезок\n",
    "\n",
    "возвращает объект, соответствующий типу other\n",
    "        \n",
    "Проекция отрезка находится так: для каждой из двух точек, определяющих отрезок находится ближайшая точка на прямой, на которую стоится проекция, потом по найденным точкам строится отрезок.\n",
    "\n",
    "Проекция прямой на плоскость строится с помощью \n",
    "\n",
    "projection_line\n",
    "\n",
    "### contains(other)\n",
    "\n",
    "возвращает True, если  other - прямая, иначе возвращает False.\n",
    "\n",
    "### plot_interval(parameter='t')\n",
    "\n",
    "возвращает список (list) из трех элементов, первый - имя параметра, остальные - минимальное и максимальное значения параметра, определяющего отрезок прямой длины +/-5 расстояний между двумя точками, определяющими прямую.\n",
    "\n",
    "\n",
    "### Segment \n",
    "\n",
    "отрезок\n",
    "параметры -  p1 и p2 - точки\n",
    "\n",
    "Свойства:\n",
    "\n",
    "length - длина (число или выражение)\n",
    "\n",
    "midpoint - середина отрезка - точка\n",
    "\t\n",
    "\n",
    "contains(other) - содержится ли other в сегменте\n",
    "\n",
    "perpendicular_bisector(p=None) серединный перпендикуляр отрезка,\n",
    "если точка p не задана, или не лежит на серединном перпендикуляре, то возвращается прямая, иначе возвращается отрезок,\n",
    "соединяющий точку p и середину отрезка\n",
    "\n",
    "\n",
    "### Ray\n",
    "\n",
    "луч - полупрямая, имеющая начальную точку и направление,\n",
    "\n",
    "параметры - р1 - начальная точка, р2 - точка или угол в радианах, р2 определяет направление луча.\n",
    "\n",
    "свойства: \n",
    "\n",
    "source точка, из которой луч выходит \n",
    "\n",
    "xdirection направление по оси ОХ, положительная (отрицалеотная) бесконечность, если луч направлен в положительную (отрицательную) сторону оси ОХ; 0 - если перпендикулярен оси ОХ. \n",
    "\n",
    "ydirection - аналогично \n",
    "\n",
    "zdirection - аналогично\n",
    "\n",
    "### Линейные объекты 2D\n",
    "\n",
    "Базовый класс всех линейных объектов (прямых, лучей, отрезков) в двумерном евклидовом пространстве\n",
    "\n",
    "Свойства:\n",
    "\n",
    "p1, p2 - точки\n",
    "\t\n",
    "\n",
    "coefficients - коэффициенты уравнения линейного объекта\n",
    "\t\n",
    "\n",
    "slope - угол наклона (для вертикальных - бесконечность), число или выражение\n",
    "\t\n",
    "\n",
    "bounds - tuple (xmin, ymin, xmax, ymax) - границы прямоугольника, содержащего данный геометрический объект\n",
    "\n",
    "perpendicular_line(p) - прямая, перпендикулярная данному геомерическому объекту, проходящая через точку p\n",
    " \n",
    "### Пример 1.\n",
    "\n",
    "Даны точки: A(1,2,3),  B(-5,1,7), С(-2, 3, 5), K(8,7,3).\n",
    "\n",
    "Найти проекцию точки К на прямую АВ и на плоскость АВС.\n",
    "\n",
    "Построить проекцию прямой КМ на плоскость АВС."
   ]
  },
  {
   "cell_type": "code",
   "execution_count": 2,
   "metadata": {},
   "outputs": [
    {
     "data": {
      "image/png": "[encoded data removed]",
      "text/latex": [
       "$\\displaystyle Point3D\\left(\\frac{335}{53}, \\frac{153}{53}, - \\frac{29}{53}\\right)$"
      ],
      "text/plain": [
       "Point3D(335/53, 153/53, -29/53)"
      ]
     },
     "metadata": {},
     "output_type": "display_data"
    },
    {
     "data": {
      "image/png": "[encoded data removed]",
      "text/latex": [
       "$\\displaystyle Point3D\\left(6, \\frac{37}{5}, \\frac{29}{5}\\right)$"
      ],
      "text/plain": [
       "Point3D(6, 37/5, 29/5)"
      ]
     },
     "metadata": {},
     "output_type": "display_data"
    },
    {
     "data": {
      "image/png": "[encoded data removed]",
      "text/latex": [
       "$\\displaystyle Line3D\\left(Point3D\\left(6, \\frac{37}{5}, \\frac{29}{5}\\right), Point3D\\left(2, - \\frac{7}{5}, \\frac{21}{5}\\right)\\right)$"
      ],
      "text/plain": [
       "Line3D(Point3D(6, 37/5, 29/5), Point3D(2, -7/5, 21/5))"
      ]
     },
     "metadata": {},
     "output_type": "display_data"
    }
   ],
   "source": [
    "A=sp.Point(1,2,3)\n",
    "B=sp.Point(-5,1,7)\n",
    "C=sp.Point(-2, 3, 5)\n",
    "K=sp.Point(8,7,3) \n",
    "M=sp.Point(5,-2,0) \n",
    "AB=sp.Line(A,B)\n",
    "KM=sp.Line(K,M)\n",
    "ABC=sp.Plane(A,B)\n",
    "K_to_AB=AB.projection(K)\n",
    "K_to_ABC=ABC.projection(K)\n",
    "KM_to_ABC=ABC.projection_line(KM)\n",
    "display(K_to_AB)\n",
    "display(K_to_ABC)\n",
    "display(KM_to_ABC)"
   ]
  },
  {
   "cell_type": "markdown",
   "metadata": {},
   "source": [
    "проверим, что точка K_to_AB лежит на прямой АВ:"
   ]
  },
  {
   "cell_type": "code",
   "execution_count": 3,
   "metadata": {},
   "outputs": [
    {
     "data": {
      "text/plain": [
       "True"
      ]
     },
     "execution_count": 3,
     "metadata": {},
     "output_type": "execute_result"
    }
   ],
   "source": [
    "AB.contains(K_to_AB)"
   ]
  },
  {
   "cell_type": "markdown",
   "metadata": {},
   "source": [
    "### Пример 2\n",
    "\n",
    "Создадим отрезок КМ_seg и найдем его проекцию на прямую АВ "
   ]
  },
  {
   "cell_type": "code",
   "execution_count": 4,
   "metadata": {},
   "outputs": [
    {
     "data": {
      "image/png": "[encoded data removed]",
      "text/latex": [
       "$\\displaystyle Segment3D\\left(Point3D\\left(\\frac{335}{53}, \\frac{153}{53}, - \\frac{29}{53}\\right), Point3D\\left(\\frac{245}{53}, \\frac{138}{53}, \\frac{31}{53}\\right)\\right)$"
      ],
      "text/plain": [
       "Segment3D(Point3D(335/53, 153/53, -29/53), Point3D(245/53, 138/53, 31/53))"
      ]
     },
     "metadata": {},
     "output_type": "display_data"
    }
   ],
   "source": [
    "KM_seg=sp.Segment(K,M)\n",
    "display(AB.projection(KM_seg))"
   ]
  },
  {
   "cell_type": "markdown",
   "metadata": {},
   "source": [
    "### Пример 3\n",
    "\n",
    "Найдем середину отрезка KM_seg и построим серединный перпендикуляр от точки с координатами (x,y,z)"
   ]
  },
  {
   "cell_type": "code",
   "execution_count": 5,
   "metadata": {},
   "outputs": [
    {
     "data": {
      "image/png": "[encoded data removed]",
      "text/latex": [
       "$\\displaystyle Point3D\\left(\\frac{13}{2}, \\frac{5}{2}, \\frac{3}{2}\\right)$"
      ],
      "text/plain": [
       "Point3D(13/2, 5/2, 3/2)"
      ]
     },
     "metadata": {},
     "output_type": "display_data"
    },
    {
     "data": {
      "image/png": "[encoded data removed]",
      "text/latex": [
       "$\\displaystyle Line3D\\left(Point3D\\left(\\frac{31}{2}, - \\frac{1}{2}, \\frac{3}{2}\\right), Point3D\\left(\\frac{13}{2}, \\frac{5}{2}, \\frac{3}{2}\\right)\\right)$"
      ],
      "text/plain": [
       "Line3D(Point3D(31/2, -1/2, 3/2), Point3D(13/2, 5/2, 3/2))"
      ]
     },
     "execution_count": 5,
     "metadata": {},
     "output_type": "execute_result"
    }
   ],
   "source": [
    "display(KM_seg.midpoint)\n",
    "from sympy.abc import x, y, z\n",
    "P=sp.Point(x,y,z)\n",
    "KM_seg.perpendicular_bisector(P)"
   ]
  },
  {
   "cell_type": "code",
   "execution_count": 6,
   "metadata": {},
   "outputs": [
    {
     "data": {
      "image/png": "[encoded data removed]",
      "text/latex": [
       "$\\displaystyle Line3D\\left(Point3D\\left(\\frac{31}{2}, - \\frac{1}{2}, \\frac{3}{2}\\right), Point3D\\left(\\frac{13}{2}, \\frac{5}{2}, \\frac{3}{2}\\right)\\right)$"
      ],
      "text/plain": [
       "Line3D(Point3D(31/2, -1/2, 3/2), Point3D(13/2, 5/2, 3/2))"
      ]
     },
     "execution_count": 6,
     "metadata": {},
     "output_type": "execute_result"
    }
   ],
   "source": [
    "P1=sp.Point(-10,sp.S(47)/2,16)\n",
    "KM_seg.perpendicular_bisector(P)"
   ]
  },
  {
   "cell_type": "markdown",
   "metadata": {},
   "source": [
    "### Пример 4\n",
    "\n",
    "Пример использования plot_interval:"
   ]
  },
  {
   "cell_type": "code",
   "execution_count": 7,
   "metadata": {},
   "outputs": [
    {
     "data": {
      "image/png": "[encoded data removed]",
      "text/latex": [
       "$\\displaystyle \\left[ s, \\  -5, \\  5\\right]$"
      ],
      "text/plain": [
       "[s, -5, 5]"
      ]
     },
     "execution_count": 7,
     "metadata": {},
     "output_type": "execute_result"
    }
   ],
   "source": [
    "AB.plot_interval(parameter='s')"
   ]
  },
  {
   "cell_type": "markdown",
   "metadata": {},
   "source": [
    "### Пример 5\n",
    "Угол между лучами AB_ray и KM_ray"
   ]
  },
  {
   "cell_type": "code",
   "execution_count": 8,
   "metadata": {},
   "outputs": [
    {
     "data": {
      "image/png": "[encoded data removed]",
      "text/latex": [
       "$\\displaystyle \\operatorname{acos}{\\left(\\frac{5 \\sqrt{583}}{583} \\right)}$"
      ],
      "text/plain": [
       "    /    _____\\\n",
       "    |5*\\/ 583 |\n",
       "acos|---------|\n",
       "    \\   583   /"
      ]
     },
     "execution_count": 8,
     "metadata": {},
     "output_type": "execute_result"
    }
   ],
   "source": [
    "AB_ray=sp.Ray(A,B)\n",
    "KM_ray=sp.Ray(K,M)\n",
    "AB_ray.angle_between(KM_ray)"
   ]
  },
  {
   "cell_type": "markdown",
   "metadata": {},
   "source": [
    "### Пример 6\n",
    "\n",
    "#### 2D объекты\n",
    "\n",
    "Создадим точки на плоскости:\n",
    "\n",
    "R(-2,3),S(4,0),Q(1,-2) \n",
    "\n",
    "Построим отрезок RS_seg, луч SQ_ray и узнаем, какие у них точки, коэффициенты наклона, границы. \n",
    "\n",
    "Построим перпендикулярные к RS_seg и QS_ray линии, проходящие через начало координат.\n",
    "\n",
    "Составим уравнения этих прямых, найдем коэффициент наклона каждой из них.\n",
    "\n",
    "p1, p2 - точки\n",
    "\t\n",
    "\n",
    "coefficients - коэффициенты уравнения прямой\n",
    "\t\n",
    "\n",
    "slope - коэффициент наклона (для вертикальных - бесконечность), число или выражение\n",
    "\t\n",
    "\n",
    "bounds - tuple (xmin, ymin, xmax, ymax) - границы прямоугольника, содержащего данный геометрический объект\n",
    "\n",
    "perpendicular_line(p) - прямая, перпендикулярная данному геомерическому объекту, проходящая через точку p\n"
   ]
  },
  {
   "cell_type": "code",
   "execution_count": 9,
   "metadata": {},
   "outputs": [
    {
     "data": {
      "image/png": "[encoded data removed]",
      "text/latex": [
       "$\\displaystyle \\left( \\left( Point2D\\left(-2, 3\\right), \\  Point2D\\left(4, 0\\right)\\right), \\  - \\frac{1}{2}, \\  \\left( -2, \\  0, \\  4, \\  3\\right)\\right)$"
      ],
      "text/plain": [
       "((Point2D(-2, 3), Point2D(4, 0)), -1/2, (-2, 0, 4, 3))"
      ]
     },
     "metadata": {},
     "output_type": "display_data"
    },
    {
     "data": {
      "image/png": "[encoded data removed]",
      "text/latex": [
       "$\\displaystyle \\left( Point2D\\left(1, -2\\right), \\  \\frac{2}{3}, \\  \\left( 1, \\  -2, \\  4, \\  0\\right)\\right)$"
      ],
      "text/plain": [
       "(Point2D(1, -2), 2/3, (1, -2, 4, 0))"
      ]
     },
     "metadata": {},
     "output_type": "display_data"
    },
    {
     "data": {
      "image/png": "[encoded data removed]",
      "text/latex": [
       "$\\displaystyle \\left( Line2D\\left(Point2D\\left(0, 0\\right), Point2D\\left(3, 6\\right)\\right), \\  - 6 x + 3 y, \\  2\\right)$"
      ],
      "text/plain": [
       "(Line2D(Point2D(0, 0), Point2D(3, 6)), -6*x + 3*y, 2)"
      ]
     },
     "metadata": {},
     "output_type": "display_data"
    },
    {
     "data": {
      "image/png": "[encoded data removed]",
      "text/latex": [
       "$\\displaystyle \\left( Line2D\\left(Point2D\\left(0, 0\\right), Point2D\\left(-2, 3\\right)\\right), \\  - 3 x - 2 y, \\  - \\frac{3}{2}\\right)$"
      ],
      "text/plain": [
       "(Line2D(Point2D(0, 0), Point2D(-2, 3)), -3*x - 2*y, -3/2)"
      ]
     },
     "metadata": {},
     "output_type": "display_data"
    }
   ],
   "source": [
    "R=sp.Point(-2,3)\n",
    "S=sp.Point(4,0)\n",
    "Q=sp.Point(1,-2) \n",
    "O=sp.Point(0,0)\n",
    "RS_seg=sp.Segment(R,S)\n",
    "QS_ray=sp.Ray(Q,S)\n",
    "display(((RS_seg.p1,RS_seg.p2),RS_seg.slope,RS_seg.bounds))\n",
    "display((QS_ray.source,QS_ray.slope,QS_ray.bounds))\n",
    "RS_perp=RS_seg.perpendicular_line(O)\n",
    "display((RS_perp,RS_perp.equation(x='x',y='y'),RS_perp.slope))\n",
    "QS_perp=QS_ray.perpendicular_line(O)\n",
    "display((QS_perp,QS_perp.equation(x='x',y='y'),QS_perp.slope))\n"
   ]
  },
  {
   "cell_type": "code",
   "execution_count": null,
   "metadata": {},
   "outputs": [],
   "source": []
  }
 ],
 "metadata": {
  "kernelspec": {
   "display_name": "Python 3",
   "language": "python",
   "name": "python3"
  },
  "language_info": {
   "codemirror_mode": {
    "name": "ipython",
    "version": 3
   },
   "file_extension": ".py",
   "mimetype": "text/x-python",
   "name": "python",
   "nbconvert_exporter": "python",
   "pygments_lexer": "ipython3",
   "version": "3.7.4"
  }
 },
 "nbformat": 4,
 "nbformat_minor": 2
}
