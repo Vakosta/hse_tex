{
 "cells": [
  {
   "cell_type": "code",
   "execution_count": 1,
   "metadata": {},
   "outputs": [],
   "source": [
    "import matplotlib.pyplot as plt\n",
    "from sympy import Ellipse, Point, S,pi,plot_implicit,Eq,tan"
   ]
  },
  {
   "cell_type": "markdown",
   "metadata": {},
   "source": [
    "# Занятие 14\n",
    "# Алгебра\n",
    "\n",
    "## Кривые второго порядка на плоскости: эллипс\n",
    "\n",
    "https://ru.wikipedia.org/wiki/%D0%AD%D0%BB%D0%BB%D0%B8%D0%BF%D1%81\n",
    "\n",
    "В Geometry есть класс эллипсов Ellipse, \n",
    "экземпляры класса задаются точкой - центром эллипса и горизонтальной и вертикальной полуосями\n",
    "\n",
    "Эллипс Ellipse0: центр в начале координат, полуоси 13 и 5"
   ]
  },
  {
   "cell_type": "code",
   "execution_count": 2,
   "metadata": {},
   "outputs": [
    {
     "data": {
      "image/svg+xml": [
       "<svg xmlns=\"http://www.w3.org/2000/svg\"\n",
       "            xmlns:xlink=\"http://www.w3.org/1999/xlink\"\n",
       "            width=\"100.0\" height=\"100.0\" viewBox=\"-15.6000000000000 -7.60000000000000 31.2000000000000 15.2000000000000\"\n",
       "            preserveAspectRatio=\"xMinYMin meet\">\n",
       "            <defs>\n",
       "                <marker id=\"markerCircle\" markerWidth=\"8\" markerHeight=\"8\"\n",
       "                    refx=\"5\" refy=\"5\" markerUnits=\"strokeWidth\">\n",
       "                    <circle cx=\"5\" cy=\"5\" r=\"1.5\" style=\"stroke: none; fill:#000000;\"/>\n",
       "                </marker>\n",
       "                <marker id=\"markerArrow\" markerWidth=\"13\" markerHeight=\"13\" refx=\"2\" refy=\"4\"\n",
       "                       orient=\"auto\" markerUnits=\"strokeWidth\">\n",
       "                    <path d=\"M2,2 L2,6 L6,4\" style=\"fill: #000000;\" />\n",
       "                </marker>\n",
       "                <marker id=\"markerReverseArrow\" markerWidth=\"13\" markerHeight=\"13\" refx=\"6\" refy=\"4\"\n",
       "                       orient=\"auto\" markerUnits=\"strokeWidth\">\n",
       "                    <path d=\"M6,2 L6,6 L2,4\" style=\"fill: #000000;\" />\n",
       "                </marker>\n",
       "            </defs><g transform=\"matrix(1,0,0,-1,0,0)\"><ellipse fill=\"#66cc99\" stroke=\"#555555\" stroke-width=\"0.624000000000000\" opacity=\"0.6\" cx=\"0\" cy=\"0\" rx=\"13.0000000000000\" ry=\"5.00000000000000\"/></g></svg>"
      ],
      "text/latex": [
       "$\\displaystyle Ellipse\\left(Point2D\\left(0, 0\\right), 13, 5\\right)$"
      ],
      "text/plain": [
       "Ellipse(Point2D(0, 0), 13, 5)"
      ]
     },
     "execution_count": 2,
     "metadata": {},
     "output_type": "execute_result"
    }
   ],
   "source": [
    "Ellipse0 = Ellipse(Point(0, 0), 13, 5)\n",
    "Ellipse0"
   ]
  },
  {
   "cell_type": "markdown",
   "metadata": {},
   "source": [
    "Эллипс можно задать центром, горизонтальной полуосью и эксцентриситетом"
   ]
  },
  {
   "cell_type": "code",
   "execution_count": 3,
   "metadata": {},
   "outputs": [
    {
     "data": {
      "image/svg+xml": [
       "<svg xmlns=\"http://www.w3.org/2000/svg\"\n",
       "            xmlns:xlink=\"http://www.w3.org/1999/xlink\"\n",
       "            width=\"100.0\" height=\"100.0\" viewBox=\"-12.6000000000000 -6.60000000000000 31.2000000000000 15.2000000000000\"\n",
       "            preserveAspectRatio=\"xMinYMin meet\">\n",
       "            <defs>\n",
       "                <marker id=\"markerCircle\" markerWidth=\"8\" markerHeight=\"8\"\n",
       "                    refx=\"5\" refy=\"5\" markerUnits=\"strokeWidth\">\n",
       "                    <circle cx=\"5\" cy=\"5\" r=\"1.5\" style=\"stroke: none; fill:#000000;\"/>\n",
       "                </marker>\n",
       "                <marker id=\"markerArrow\" markerWidth=\"13\" markerHeight=\"13\" refx=\"2\" refy=\"4\"\n",
       "                       orient=\"auto\" markerUnits=\"strokeWidth\">\n",
       "                    <path d=\"M2,2 L2,6 L6,4\" style=\"fill: #000000;\" />\n",
       "                </marker>\n",
       "                <marker id=\"markerReverseArrow\" markerWidth=\"13\" markerHeight=\"13\" refx=\"6\" refy=\"4\"\n",
       "                       orient=\"auto\" markerUnits=\"strokeWidth\">\n",
       "                    <path d=\"M6,2 L6,6 L2,4\" style=\"fill: #000000;\" />\n",
       "                </marker>\n",
       "            </defs><g transform=\"matrix(1,0,0,-1,0,2.00000000000000)\"><ellipse fill=\"#66cc99\" stroke=\"#555555\" stroke-width=\"0.624000000000000\" opacity=\"0.6\" cx=\"3.00000000000000\" cy=\"1.00000000000000\" rx=\"13.0000000000000\" ry=\"5.00000000000000\"/></g></svg>"
      ],
      "text/latex": [
       "$\\displaystyle Ellipse\\left(Point2D\\left(3, 1\\right), 13, 5\\right)$"
      ],
      "text/plain": [
       "Ellipse(Point2D(3, 1), 13, 5)"
      ]
     },
     "execution_count": 3,
     "metadata": {},
     "output_type": "execute_result"
    }
   ],
   "source": [
    "Ellipse2 = Ellipse(Point(3, 1), hradius=13, eccentricity=S(12)/13)\n",
    "Ellipse2"
   ]
  },
  {
   "cell_type": "markdown",
   "metadata": {},
   "source": [
    "### Атрибуты класса Ellipse\n",
    "\n",
    "#### center \n",
    "центр эллипса, точка пересечения его осей\n",
    "\t\n",
    "\n",
    "#### hradius\n",
    "горизонтальная полуось\n",
    "    \n",
    "#### vradius\n",
    "вертикальная полуось\t\n",
    "\n",
    "#### area\n",
    "площадь\t\n",
    "\n",
    "#### circumference\n",
    "длина (дуги) эллипса (аналог длины окружности)\t\n",
    "\n",
    "#### eccentricity\n",
    "эксцентриситет отношение фокусного расстояния к горизонтальной оси (той, на которой расположены фокусы)\t\n",
    "\n",
    "#### periapsis\n",
    "перифокусное расстояние (минимальное расстояние от фокуса до точки на эллипсе)\t\n",
    "\n",
    "#### apoapsis\n",
    "апофокусное расстояние (максимальное расстояние от фокуса до точки на эллипсе)\t\n",
    "\n",
    "#### focus_distance\n",
    "фокусное расстояние - половина расстояния между фокусами\t\n",
    "\n",
    "#### foci\n",
    "фокусы "
   ]
  },
  {
   "cell_type": "code",
   "execution_count": 4,
   "metadata": {},
   "outputs": [
    {
     "name": "stdout",
     "output_type": "stream",
     "text": [
      "('center', Point2D(3, 1))\n",
      "('hradius', 13)\n",
      "('vradius', 5)\n",
      "('area', 65*pi)\n",
      "('circumference', 52*elliptic_e(144/169))\n",
      "('eccentricity', 12/13)\n",
      "('periapsis', 1)\n",
      "('apoapsis', 25)\n",
      "('focus_distance', 12)\n",
      "('foci', (Point2D(-9, 1), Point2D(15, 1)))\n"
     ]
    }
   ],
   "source": [
    "list_props=[Ellipse2.center,Ellipse2.hradius,Ellipse2.vradius,Ellipse2.area,Ellipse2.circumference,Ellipse2.eccentricity,Ellipse2.periapsis,Ellipse2.apoapsis,Ellipse2.focus_distance,Ellipse2.foci]\n",
    "list_props_names=['center','hradius','vradius','area','circumference','eccentricity','periapsis','apoapsis','focus_distance','foci']\n",
    "\n",
    "for i in range(len(list_props)):\n",
    "    print((list_props_names[i],list_props[i]))"
   ]
  },
  {
   "cell_type": "markdown",
   "metadata": {},
   "source": [
    "### Методы класса Ellipse \n",
    "\n",
    "encloses_point(p) - является ли внутренней точкой эллипса точка p?\n",
    "\n",
    "equation(x='x', y='y', _slope=None)- уравнение эллипса\n",
    "\n",
    "необязательный аргумент _slope - наклон главной оси"
   ]
  },
  {
   "cell_type": "code",
   "execution_count": 5,
   "metadata": {},
   "outputs": [
    {
     "data": {
      "text/plain": [
       "(True, False, False)"
      ]
     },
     "execution_count": 5,
     "metadata": {},
     "output_type": "execute_result"
    }
   ],
   "source": [
    "Ellipse2.encloses_point(Point(0,0)),Ellipse2.encloses_point(Point(3,6)),Ellipse2.encloses_point(Point(20,20))"
   ]
  },
  {
   "cell_type": "markdown",
   "metadata": {},
   "source": [
    "Заметим, что граничные точки, т.е. точки на самом эллипсе, не являются внутренними!"
   ]
  },
  {
   "cell_type": "code",
   "execution_count": 6,
   "metadata": {},
   "outputs": [
    {
     "data": {
      "text/latex": [
       "$\\displaystyle \\left(\\frac{x}{13} - \\frac{3}{13}\\right)^{2} + \\left(\\frac{y}{5} - \\frac{1}{5}\\right)^{2} - 1$"
      ],
      "text/plain": [
       "(x/13 - 3/13)**2 + (y/5 - 1/5)**2 - 1"
      ]
     },
     "execution_count": 6,
     "metadata": {},
     "output_type": "execute_result"
    }
   ],
   "source": [
    "from sympy.abc import x,y\n",
    "Ellipse2.equation(x='x', y='y')"
   ]
  },
  {
   "cell_type": "markdown",
   "metadata": {},
   "source": [
    "Посмотрим, как изменится уравнение эллипса при повороте,\n",
    "для этого изменим наклон главной оси с 0 на 2:"
   ]
  },
  {
   "cell_type": "code",
   "execution_count": 7,
   "metadata": {},
   "outputs": [
    {
     "data": {
      "text/latex": [
       "$\\displaystyle \\frac{\\left(- 2 x + y + 5\\right)^{2}}{125} + \\frac{\\left(x + 2 y - 5\\right)^{2}}{845} - 1$"
      ],
      "text/plain": [
       "(-2*x + y + 5)**2/125 + (x + 2*y - 5)**2/845 - 1"
      ]
     },
     "execution_count": 7,
     "metadata": {},
     "output_type": "execute_result"
    }
   ],
   "source": [
    "EQ=Ellipse2.equation(_slope=2)\n",
    "EQ"
   ]
  },
  {
   "cell_type": "markdown",
   "metadata": {},
   "source": [
    "Для того, чтобы изобразить эллипс на графике, нужны его переменные, извлечем их с помощью .free_symbols"
   ]
  },
  {
   "cell_type": "code",
   "execution_count": 8,
   "metadata": {},
   "outputs": [],
   "source": [
    "set_free=EQ.free_symbols"
   ]
  },
  {
   "cell_type": "markdown",
   "metadata": {},
   "source": [
    "Обеспечим доступ к символам по имени, составив словарь dict_free по множеству set_free переменных уравнения эллипса:"
   ]
  },
  {
   "cell_type": "code",
   "execution_count": 9,
   "metadata": {},
   "outputs": [
    {
     "data": {
      "text/plain": [
       "{'x': x, 'y': y}"
      ]
     },
     "execution_count": 9,
     "metadata": {},
     "output_type": "execute_result"
    }
   ],
   "source": [
    "dict_free = {str(a): a for a in set_free}\n",
    "dict_free"
   ]
  },
  {
   "cell_type": "markdown",
   "metadata": {},
   "source": [
    "Посмотрим, как работает подстановка в уравнение эллипса: "
   ]
  },
  {
   "cell_type": "code",
   "execution_count": 10,
   "metadata": {},
   "outputs": [
    {
     "data": {
      "text/latex": [
       "$\\displaystyle \\frac{\\left(6 - 2 x\\right)^{2}}{125} + \\frac{\\left(x - 3\\right)^{2}}{845} - 1$"
      ],
      "text/plain": [
       "(6 - 2*x)**2/125 + (x - 3)**2/845 - 1"
      ]
     },
     "execution_count": 10,
     "metadata": {},
     "output_type": "execute_result"
    }
   ],
   "source": [
    "EQ.subs(dict_free['y'],1)"
   ]
  },
  {
   "cell_type": "markdown",
   "metadata": {},
   "source": [
    "Альтернативный подход:\n",
    "\n",
    "Обеспечим доступ к символам, превратив их в список list, а потом отсортируем их в алфавитном порядке имен (для этого используется необязательный параметр сортировки key, в нашем случае это функция str, превращающая в строковый тип свой аргумент)"
   ]
  },
  {
   "cell_type": "code",
   "execution_count": 11,
   "metadata": {},
   "outputs": [],
   "source": [
    "x,y=sorted(list(EQ.free_symbols),key=str)"
   ]
  },
  {
   "cell_type": "code",
   "execution_count": 12,
   "metadata": {},
   "outputs": [
    {
     "data": {
      "image/png": "[encoded data removed]",
      "text/plain": [
       "<Figure size 432x288 with 1 Axes>"
      ]
     },
     "metadata": {
      "needs_background": "light"
     },
     "output_type": "display_data"
    },
    {
     "data": {
      "text/plain": [
       "sympy.plotting.plot.Plot"
      ]
     },
     "execution_count": 12,
     "metadata": {},
     "output_type": "execute_result"
    }
   ],
   "source": [
    "p=plot_implicit(EQ,(x,-5,12),(y,-15,15))\n",
    "type(p)"
   ]
  },
  {
   "cell_type": "markdown",
   "metadata": {},
   "source": [
    "### Немного о plot_implicit\n",
    "plot_implicit позволяет изобразить график одной кривой, заданной неявно с помощью уравнения.\n",
    "\n",
    "Если нужно построить на одной плоскости два и более графика неявно заданных функций, можно поступить так:\n",
    "\n",
    "вначале создаем все графики, указываем необязательный параметр show=False и запоминаем созданные с помощью plot_implicit объекты в переменные\n",
    "\n",
    "затем объединяем объекты в один с помощью метода append\n",
    "\n",
    "обратите внимание, что присоединяется только первый элемент созданных с помощью plot_implicit объектов, т.е. p1[0] и p2[0] (p1 и p2 - списки из одного элемента, к ним можно добавлять другие элементы типа график):"
   ]
  },
  {
   "cell_type": "code",
   "execution_count": 13,
   "metadata": {},
   "outputs": [
    {
     "name": "stdout",
     "output_type": "stream",
     "text": [
      "Введите натуральное нечетное число до 9\n",
      "5\n"
     ]
    },
    {
     "data": {
      "image/png": "[encoded data removed]",
      "text/plain": [
       "<Figure size 432x288 with 1 Axes>"
      ]
     },
     "metadata": {
      "needs_background": "light"
     },
     "output_type": "display_data"
    }
   ],
   "source": [
    "EQ0=Ellipse0.equation()\n",
    "x,y=sorted(list(EQ0.free_symbols),key=str)\n",
    "p0=plot_implicit(EQ0,(x,-15,15),(y,-15,15),show=False)\n",
    "n=int(input('Введите натуральное нечетное число до 9\\n'))\n",
    "for i in range(1,n):\n",
    "    p0.append(plot_implicit(Ellipse0.equation(_slope=tan(i*pi/n)),(x,-15,15),(y,-15,15),show=False)[0])\n",
    "p0.show()"
   ]
  }
 ],
 "metadata": {
  "kernelspec": {
   "display_name": "Python 3",
   "language": "python",
   "name": "python3"
  },
  "language_info": {
   "codemirror_mode": {
    "name": "ipython",
    "version": 3
   },
   "file_extension": ".py",
   "mimetype": "text/x-python",
   "name": "python",
   "nbconvert_exporter": "python",
   "pygments_lexer": "ipython3",
   "version": "3.7.4"
  }
 },
 "nbformat": 4,
 "nbformat_minor": 2
}
