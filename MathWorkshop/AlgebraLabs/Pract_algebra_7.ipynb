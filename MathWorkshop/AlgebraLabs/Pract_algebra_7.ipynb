{
 "cells": [
  {
   "cell_type": "markdown",
   "metadata": {},
   "source": [
    "# Занятие 7\n",
    "# Алгебра\n",
    "https://docs.sympy.org/latest/search.html?q=geometry\n",
    "\n",
    "## Прямые и плоскости в пространстве. Модуль Geometry\n",
    "\n",
    "Методы для изучения:\n",
    "\n",
    " are_concurrent(*planes) определяет, пересекаются ли все плоскоси по одной прямой, число плоскостей произвольное\n",
    "\n",
    "are_concurrent(*lines) определяет, пересекаются ли все прямые в одной точке, число прямых произвольное\n",
    "\n",
    " distance(o)   расстояние между плоскостью и другим геометрическим объектом\n",
    "\n",
    " equals(o)   возвращает True, если self и o одинаковые математические объекты\n",
    "\n",
    " intersection(o)  пересечение с геометрическим объектом o  \n",
    " \n",
    " \n",
    "### Пример 1.\n",
    "\n",
    "Даны точки: A(1,2,3),  B(-5,1,7), \n",
    "C(3,-2,6), \n",
    "D(-1,2,4), \n",
    "F(5,1,7), \n",
    "K(8,27,33), \n",
    "M(16,24,32)\n",
    "P(14,28,29).\n",
    "\n",
    "Определить, пересекаются ли по общей прямой плоскости \n",
    "\n",
    "а) ABC, ABK и ABF\n",
    "\n",
    "б) ABC и AFK\n",
    "\n",
    "Определить, пересекаются ли в одной точке прямые \n",
    "\n",
    "а) AB и СD\n",
    "\n",
    "б) AB и FK"
   ]
  },
  {
   "cell_type": "code",
   "execution_count": 1,
   "metadata": {},
   "outputs": [],
   "source": [
    "import sympy as sp\n",
    "sp.init_printing(use_unicode=False, wrap_line=False, no_global=True)"
   ]
  },
  {
   "cell_type": "code",
   "execution_count": 2,
   "metadata": {},
   "outputs": [
    {
     "name": "stdout",
     "output_type": "stream",
     "text": [
      "пересекаются ли по общей прямой ABC, ABK и ABF: True\n",
      "пересекаются ли по общей прямой ABC и PKM: False\n",
      "пересекаются ли в одной точке прямые  AB и СD: True\n",
      "пересекаются ли в одной точке прямые  AB и FK: False\n"
     ]
    }
   ],
   "source": [
    "A=sp.Point(1,2,3)\n",
    "B=sp.Point(-5,1,7)\n",
    "C=sp.Point(3,-2,6)\n",
    "ABC=sp.Plane(A,B,C)\n",
    "D=sp.Point(-1,2,4)\n",
    "F=sp.Point(5,1,7)\n",
    "K=sp.Point(8,27,33) \n",
    "M=sp.Point(16,24,32)\n",
    "P=sp.Point(14,28,29)\n",
    "ABD=sp.Plane(A,B,D)\n",
    "ABF=sp.Plane(A,B,F)\n",
    "ABK=sp.Plane(A,B,K)\n",
    "AFK=sp.Plane(A,F,K)\n",
    "PKM=sp.Plane(P,K,M)\n",
    "AB=sp.Line(A,B)\n",
    "CD=sp.Line(C,D)\n",
    "FK=sp.Line(F,K)\n",
    "print('пересекаются ли по общей прямой ABC, ABK и ABF: '+str(sp.Plane.are_concurrent(ABC,ABK,ABF)))\n",
    "print('пересекаются ли по общей прямой ABC и PKM: '+str(sp.Plane.are_concurrent(ABC,PKM)))\n",
    "print('пересекаются ли в одной точке прямые  AB и СD: '+str(sp.Line.are_concurrent(AB,CD)))\n",
    "print('пересекаются ли в одной точке прямые  AB и FK: '+str(sp.Line.are_concurrent(AB,FK)))"
   ]
  },
  {
   "cell_type": "markdown",
   "metadata": {},
   "source": [
    "### Пример 2\n",
    "Найти расстояние до плоскости ABC:\n",
    "\n",
    "а) от точки F\n",
    "\n",
    "б) от прямой KM\n",
    "\n",
    "в) от плоскости PKM "
   ]
  },
  {
   "cell_type": "code",
   "execution_count": 3,
   "metadata": {},
   "outputs": [
    {
     "name": "stdout",
     "output_type": "stream",
     "text": [
      "расстояние от  F до  ABC: 10/3\n",
      "расстояние от  KM до  ABC: 39\n",
      "расстояние от  PKM до  ABC: 39\n"
     ]
    }
   ],
   "source": [
    "print('расстояние от  F до  ABC: '+str(ABC.distance(F)))\n",
    "KM=sp.Line(K,M)\n",
    "\n",
    "print('расстояние от  KM до  ABC: '+str(ABC.distance(KM)))\n",
    "\n",
    "\n",
    "print('расстояние от  PKM до  ABC: '+str(ABC.distance(PKM)))"
   ]
  },
  {
   "cell_type": "markdown",
   "metadata": {},
   "source": [
    "### Пример 3\n",
    "Определить, совпадают ли плоскости \n",
    "\n",
    "a) ABD и ABC\n",
    "\n",
    "б) ABD и ABF"
   ]
  },
  {
   "cell_type": "code",
   "execution_count": 4,
   "metadata": {},
   "outputs": [
    {
     "data": {
      "text/plain": [
       "(True, False)"
      ]
     },
     "execution_count": 4,
     "metadata": {},
     "output_type": "execute_result"
    }
   ],
   "source": [
    "ABD.equals(ABC), ABD.equals(ABF)"
   ]
  },
  {
   "cell_type": "markdown",
   "metadata": {},
   "source": [
    "### Пример 4\n",
    "\n",
    "Найти пересечение плоскостей ABD и СКМ"
   ]
  },
  {
   "cell_type": "code",
   "execution_count": 5,
   "metadata": {},
   "outputs": [
    {
     "data": {
      "image/png": "[encoded data removed]",
      "text/latex": [
       "$\\displaystyle \\left[ Line3D\\left(Point3D\\left(51, -20, 0\\right), Point3D\\left(987, -371, -117\\right)\\right)\\right]$"
      ],
      "text/plain": [
       "[Line3D(Point3D(51, -20, 0), Point3D(987, -371, -117))]"
      ]
     },
     "metadata": {},
     "output_type": "display_data"
    },
    {
     "data": {
      "image/png": "[encoded data removed]",
      "text/latex": [
       "$\\displaystyle \\left[ \\right]$"
      ],
      "text/plain": [
       "[]"
      ]
     },
     "metadata": {},
     "output_type": "display_data"
    },
    {
     "data": {
      "image/png": "[encoded data removed]",
      "text/latex": [
       "$\\displaystyle \\left[ Point3D\\left(-1, 2, 4\\right)\\right]$"
      ],
      "text/plain": [
       "[Point3D(-1, 2, 4)]"
      ]
     },
     "metadata": {},
     "output_type": "display_data"
    },
    {
     "data": {
      "image/png": "[encoded data removed]",
      "text/latex": [
       "$\\displaystyle \\left[ \\right]$"
      ],
      "text/plain": [
       "[]"
      ]
     },
     "metadata": {},
     "output_type": "display_data"
    }
   ],
   "source": [
    "CKM=sp.Plane(C,K,M)\n",
    "display(ABD.intersection(CKM))\n",
    "display(ABD.intersection(KM))\n",
    "DF=sp.Line(D,F)\n",
    "display(ABD.intersection(DF))\n",
    "display(KM.intersection(DF))"
   ]
  },
  {
   "cell_type": "markdown",
   "metadata": {},
   "source": [
    "### Пример 5\n",
    "\n",
    "Выбор случайной точки на плоскости ABC:"
   ]
  },
  {
   "cell_type": "code",
   "execution_count": 6,
   "metadata": {},
   "outputs": [
    {
     "data": {
      "image/png": "[encoded data removed]",
      "text/latex": [
       "$\\displaystyle Point3D\\left(- \\frac{32887251726082575}{70368744177664}, - \\frac{2055151184176693275}{2251799813685248}, \\frac{2593732110769283339}{2251799813685248}\\right)$"
      ],
      "text/plain": [
       "Point3D(-32887251726082575/70368744177664, -2055151184176693275/2251799813685248, 2593732110769283339/2251799813685248)"
      ]
     },
     "execution_count": 6,
     "metadata": {},
     "output_type": "execute_result"
    }
   ],
   "source": [
    "R=ABC.random_point()\n",
    "R"
   ]
  },
  {
   "cell_type": "markdown",
   "metadata": {},
   "source": [
    "### Пример 6\n",
    "Выбор произвольной точки на плоскости ABC:"
   ]
  },
  {
   "cell_type": "code",
   "execution_count": 7,
   "metadata": {},
   "outputs": [
    {
     "data": {
      "image/png": "[encoded data removed]",
      "text/latex": [
       "$\\displaystyle Point3D\\left(- 26 u - 338 v + 1, 13 u - 676 v + 2, 845 v + 3\\right)$"
      ],
      "text/plain": [
       "Point3D(-26*u - 338*v + 1, 13*u - 676*v + 2, 845*v + 3)"
      ]
     },
     "metadata": {},
     "output_type": "display_data"
    },
    {
     "data": {
      "image/png": "[encoded data removed]",
      "text/latex": [
       "$\\displaystyle Point3D\\left(- \\frac{2 \\sqrt{5} \\sin{\\left(s \\right)}}{15} - \\frac{2 \\sqrt{5} \\cos{\\left(s \\right)}}{5} + 1, - \\frac{4 \\sqrt{5} \\sin{\\left(s \\right)}}{15} + \\frac{\\sqrt{5} \\cos{\\left(s \\right)}}{5} + 2, \\frac{\\sqrt{5} \\sin{\\left(s \\right)}}{3} + 3\\right)$"
      ],
      "text/plain": [
       "Point3D(-2*sqrt(5)*sin(s)/15 - 2*sqrt(5)*cos(s)/5 + 1, -4*sqrt(5)*sin(s)/15 + sqrt(5)*cos(s)/5 + 2, sqrt(5)*sin(s)/3 + 3)"
      ]
     },
     "metadata": {},
     "output_type": "display_data"
    },
    {
     "data": {
      "image/png": "[encoded data removed]",
      "text/latex": [
       "$\\displaystyle Point3D\\left(- \\frac{2 \\sqrt{5} \\sin{\\left(t \\right)}}{15} - \\frac{2 \\sqrt{5} \\cos{\\left(t \\right)}}{5} + 1, - \\frac{4 \\sqrt{5} \\sin{\\left(t \\right)}}{15} + \\frac{\\sqrt{5} \\cos{\\left(t \\right)}}{5} + 2, \\frac{\\sqrt{5} \\sin{\\left(t \\right)}}{3} + 3\\right)$"
      ],
      "text/plain": [
       "Point3D(-2*sqrt(5)*sin(t)/15 - 2*sqrt(5)*cos(t)/5 + 1, -4*sqrt(5)*sin(t)/15 + sqrt(5)*cos(t)/5 + 2, sqrt(5)*sin(t)/3 + 3)"
      ]
     },
     "metadata": {},
     "output_type": "display_data"
    }
   ],
   "source": [
    "Q1=ABC.arbitrary_point('u','v')\n",
    "display(Q1)\n",
    "Q2=ABC.arbitrary_point('s')\n",
    "display(Q2)\n",
    "Q3=ABC.arbitrary_point()\n",
    "display(Q3)"
   ]
  },
  {
   "cell_type": "markdown",
   "metadata": {},
   "source": [
    "### Пример 7\n",
    "\n",
    "Использование произвольной точки на плоскости ABC:\n",
    "\n",
    "Q1 - произвольная точка плоскости ABC\n",
    "\n",
    "проверим, пересекает ли прямая AQ1 плоскость CKM и \n",
    "проходит ли прямая AQ1 через точку D"
   ]
  },
  {
   "cell_type": "code",
   "execution_count": 8,
   "metadata": {},
   "outputs": [
    {
     "data": {
      "image/png": "[encoded data removed]",
      "text/latex": [
       "$\\displaystyle \\left[ Point3D\\left(1 + \\frac{26 \\left(u + 13 v\\right)}{u - 247 v}, 2 - \\frac{13 \\left(u - 52 v\\right)}{u - 247 v}, - \\frac{845 v}{u - 247 v} + 3\\right)\\right]$"
      ],
      "text/plain": [
       "[Point3D(1 + 26*(u + 13*v)/(u - 247*v), 2 - 13*(u - 52*v)/(u - 247*v), -845*v/(u - 247*v) + 3)]"
      ]
     },
     "metadata": {},
     "output_type": "display_data"
    },
    {
     "data": {
      "image/png": "[encoded data removed]",
      "text/latex": [
       "$\\displaystyle \\left[ \\right]$"
      ],
      "text/plain": [
       "[]"
      ]
     },
     "metadata": {},
     "output_type": "display_data"
    }
   ],
   "source": [
    "AQ1=sp.Line(A,Q1)\n",
    "display(CKM.intersection(AQ1))\n",
    "display(AQ1.intersection(D))"
   ]
  },
  {
   "cell_type": "markdown",
   "metadata": {},
   "source": [
    "### Пример 8\n",
    "\n",
    "### Работа со словарями\n",
    "https://docs.python.org/3/c-api/dict.html?highlight=dictionary\n",
    "\n",
    "Пример словаря:\n",
    "\n",
    "создадим словари\n",
    "\n",
    "а) всех точек\n",
    "\n",
    "б) прямых, проходящих через эти точки"
   ]
  },
  {
   "cell_type": "code",
   "execution_count": 9,
   "metadata": {},
   "outputs": [
    {
     "data": {
      "text/plain": [
       "{'A': Point3D(1, 2, 3),\n",
       " 'B': Point3D(-5, 1, 7),\n",
       " 'C': Point3D(3, -2, 6),\n",
       " 'D': Point3D(-1, 2, 4),\n",
       " 'F': Point3D(5, 1, 7),\n",
       " 'K': Point3D(8, 27, 33),\n",
       " 'M': Point3D(16, 24, 32)}"
      ]
     },
     "execution_count": 9,
     "metadata": {},
     "output_type": "execute_result"
    }
   ],
   "source": [
    "Points_list=[A,B,C,D,F,K,M]\n",
    "Point_names=['A','B','C','D','F','K','M']\n",
    "points_numbers=range(len(Point_names))\n",
    "Points=dict([(Point_names[i],Points_list[i]) for i in points_numbers])\n",
    "Points"
   ]
  },
  {
   "cell_type": "markdown",
   "metadata": {},
   "source": [
    "Вызовем точку А по ее имени:"
   ]
  },
  {
   "cell_type": "code",
   "execution_count": 10,
   "metadata": {},
   "outputs": [
    {
     "data": {
      "image/png": "[encoded data removed]",
      "text/latex": [
       "$\\displaystyle Point3D\\left(1, 2, 3\\right)$"
      ],
      "text/plain": [
       "Point3D(1, 2, 3)"
      ]
     },
     "execution_count": 10,
     "metadata": {},
     "output_type": "execute_result"
    }
   ],
   "source": [
    "Points.get('A')"
   ]
  },
  {
   "cell_type": "markdown",
   "metadata": {},
   "source": [
    "Построим словарь прямых, проходящих через точки, используя присвоение по ключу.\n",
    "\n",
    "(Присвоение по существующему ключу перезаписывает значение элемента словаря, \n",
    "\n",
    "присвоение по несуществующему ключу добавляет новую запись в словарь)"
   ]
  },
  {
   "cell_type": "code",
   "execution_count": 11,
   "metadata": {},
   "outputs": [
    {
     "data": {
      "text/plain": [
       "dict_keys(['A', 'B', 'C', 'D', 'F', 'K', 'M'])"
      ]
     },
     "execution_count": 11,
     "metadata": {},
     "output_type": "execute_result"
    }
   ],
   "source": [
    "Points.keys()"
   ]
  },
  {
   "cell_type": "code",
   "execution_count": 12,
   "metadata": {},
   "outputs": [
    {
     "data": {
      "text/plain": [
       "{'AB': Line3D(Point3D(1, 2, 3), Point3D(-5, 1, 7)),\n",
       " 'AC': Line3D(Point3D(1, 2, 3), Point3D(3, -2, 6)),\n",
       " 'AD': Line3D(Point3D(1, 2, 3), Point3D(-1, 2, 4)),\n",
       " 'AF': Line3D(Point3D(1, 2, 3), Point3D(5, 1, 7)),\n",
       " 'AK': Line3D(Point3D(1, 2, 3), Point3D(8, 27, 33)),\n",
       " 'AM': Line3D(Point3D(1, 2, 3), Point3D(16, 24, 32)),\n",
       " 'BA': Line3D(Point3D(-5, 1, 7), Point3D(1, 2, 3)),\n",
       " 'BC': Line3D(Point3D(-5, 1, 7), Point3D(3, -2, 6)),\n",
       " 'BD': Line3D(Point3D(-5, 1, 7), Point3D(-1, 2, 4)),\n",
       " 'BF': Line3D(Point3D(-5, 1, 7), Point3D(5, 1, 7)),\n",
       " 'BK': Line3D(Point3D(-5, 1, 7), Point3D(8, 27, 33)),\n",
       " 'BM': Line3D(Point3D(-5, 1, 7), Point3D(16, 24, 32)),\n",
       " 'CA': Line3D(Point3D(3, -2, 6), Point3D(1, 2, 3)),\n",
       " 'CB': Line3D(Point3D(3, -2, 6), Point3D(-5, 1, 7)),\n",
       " 'CD': Line3D(Point3D(3, -2, 6), Point3D(-1, 2, 4)),\n",
       " 'CF': Line3D(Point3D(3, -2, 6), Point3D(5, 1, 7)),\n",
       " 'CK': Line3D(Point3D(3, -2, 6), Point3D(8, 27, 33)),\n",
       " 'CM': Line3D(Point3D(3, -2, 6), Point3D(16, 24, 32)),\n",
       " 'DA': Line3D(Point3D(-1, 2, 4), Point3D(1, 2, 3)),\n",
       " 'DB': Line3D(Point3D(-1, 2, 4), Point3D(-5, 1, 7)),\n",
       " 'DC': Line3D(Point3D(-1, 2, 4), Point3D(3, -2, 6)),\n",
       " 'DF': Line3D(Point3D(-1, 2, 4), Point3D(5, 1, 7)),\n",
       " 'DK': Line3D(Point3D(-1, 2, 4), Point3D(8, 27, 33)),\n",
       " 'DM': Line3D(Point3D(-1, 2, 4), Point3D(16, 24, 32)),\n",
       " 'FA': Line3D(Point3D(5, 1, 7), Point3D(1, 2, 3)),\n",
       " 'FB': Line3D(Point3D(5, 1, 7), Point3D(-5, 1, 7)),\n",
       " 'FC': Line3D(Point3D(5, 1, 7), Point3D(3, -2, 6)),\n",
       " 'FD': Line3D(Point3D(5, 1, 7), Point3D(-1, 2, 4)),\n",
       " 'FK': Line3D(Point3D(5, 1, 7), Point3D(8, 27, 33)),\n",
       " 'FM': Line3D(Point3D(5, 1, 7), Point3D(16, 24, 32)),\n",
       " 'KA': Line3D(Point3D(8, 27, 33), Point3D(1, 2, 3)),\n",
       " 'KB': Line3D(Point3D(8, 27, 33), Point3D(-5, 1, 7)),\n",
       " 'KC': Line3D(Point3D(8, 27, 33), Point3D(3, -2, 6)),\n",
       " 'KD': Line3D(Point3D(8, 27, 33), Point3D(-1, 2, 4)),\n",
       " 'KF': Line3D(Point3D(8, 27, 33), Point3D(5, 1, 7)),\n",
       " 'KM': Line3D(Point3D(8, 27, 33), Point3D(16, 24, 32)),\n",
       " 'MA': Line3D(Point3D(16, 24, 32), Point3D(1, 2, 3)),\n",
       " 'MB': Line3D(Point3D(16, 24, 32), Point3D(-5, 1, 7)),\n",
       " 'MC': Line3D(Point3D(16, 24, 32), Point3D(3, -2, 6)),\n",
       " 'MD': Line3D(Point3D(16, 24, 32), Point3D(-1, 2, 4)),\n",
       " 'MF': Line3D(Point3D(16, 24, 32), Point3D(5, 1, 7)),\n",
       " 'MK': Line3D(Point3D(16, 24, 32), Point3D(8, 27, 33))}"
      ]
     },
     "execution_count": 12,
     "metadata": {},
     "output_type": "execute_result"
    }
   ],
   "source": [
    "lines={}\n",
    "for P1 in Points.keys():\n",
    "    for P2 in Points.keys():\n",
    "        if P1!=P2:\n",
    "            lines[P1+P2]=sp.Line(Points[P1],Points[P2])\n",
    "lines            "
   ]
  },
  {
   "cell_type": "markdown",
   "metadata": {},
   "source": [
    "Проверим, что прямые АВ и ВА совпадают:"
   ]
  },
  {
   "cell_type": "code",
   "execution_count": 13,
   "metadata": {},
   "outputs": [
    {
     "data": {
      "text/plain": [
       "True"
      ]
     },
     "execution_count": 13,
     "metadata": {},
     "output_type": "execute_result"
    }
   ],
   "source": [
    "lines['AB'].equals(lines['BA'])"
   ]
  },
  {
   "cell_type": "code",
   "execution_count": 14,
   "metadata": {},
   "outputs": [
    {
     "name": "stdout",
     "output_type": "stream",
     "text": [
      "AK\n"
     ]
    },
    {
     "data": {
      "image/png": "[encoded data removed]",
      "text/latex": [
       "$\\displaystyle Line3D\\left(Point3D\\left(1, 2, 3\\right), Point3D\\left(8, 27, 33\\right)\\right)$"
      ],
      "text/plain": [
       "Line3D(Point3D(1, 2, 3), Point3D(8, 27, 33))"
      ]
     },
     "execution_count": 14,
     "metadata": {},
     "output_type": "execute_result"
    }
   ],
   "source": [
    "lines[input()]"
   ]
  },
  {
   "cell_type": "code",
   "execution_count": null,
   "metadata": {},
   "outputs": [],
   "source": []
  }
 ],
 "metadata": {
  "kernelspec": {
   "display_name": "Python 3",
   "language": "python",
   "name": "python3"
  },
  "language_info": {
   "codemirror_mode": {
    "name": "ipython",
    "version": 3
   },
   "file_extension": ".py",
   "mimetype": "text/x-python",
   "name": "python",
   "nbconvert_exporter": "python",
   "pygments_lexer": "ipython3",
   "version": "3.7.4"
  }
 },
 "nbformat": 4,
 "nbformat_minor": 2
}
