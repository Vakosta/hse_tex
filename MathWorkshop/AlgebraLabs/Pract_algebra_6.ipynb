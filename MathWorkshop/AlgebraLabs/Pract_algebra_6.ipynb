{
 "cells": [
  {
   "cell_type": "markdown",
   "metadata": {},
   "source": [
    "# Занятие 6\n",
    "# Алгебра\n",
    "https://docs.sympy.org/latest/search.html?q=geometry\n",
    "\n",
    "## Прямые и плоскости в пространстве. Модуль Geometry\n",
    "Угол $\\varphi$ между векторами $a(x_1,y_1,z_1)$ и $b(x_2,y_2,z_2)$:\n",
    "$$\n",
    "\\cos \\varphi=\\frac{(a,b)}{|a|\\cdot|b|},\n",
    "$$\n",
    "где $(a,b)=x_1x_2+y_1y_2+z_1z_2$ --- скалярное произведение, $|a|=\\sqrt{(x_1^2+y_1^2+z_1^2)}=\\sqrt{(a,a)}$.\n",
    "### Пример 1.\n",
    "Найти угол между векторами $a(-1,3,7)$ и $b(9,-2,2)$:"
   ]
  },
  {
   "cell_type": "code",
   "execution_count": 1,
   "metadata": {},
   "outputs": [],
   "source": [
    "import sympy as sp\n",
    "sp.init_printing(use_unicode=False, wrap_line=False, no_global=True)"
   ]
  },
  {
   "cell_type": "code",
   "execution_count": 2,
   "metadata": {},
   "outputs": [],
   "source": [
    "#Делаем вручную:\n",
    "#Задаем векторы\n",
    "a_vec=sp.Matrix([-3,2,-6])\n",
    "b_vec=sp.Matrix([7,-4,4])"
   ]
  },
  {
   "cell_type": "markdown",
   "metadata": {},
   "source": [
    "Для вычисления скалярного произведения воспользуемся методом \n",
    "### .dot()\n",
    "Скалярное произведение векторов X и Y:\n",
    "\n",
    "X.dot(Y) "
   ]
  },
  {
   "cell_type": "code",
   "execution_count": 3,
   "metadata": {},
   "outputs": [
    {
     "data": {
      "image/png": "[encoded data removed]",
      "text/latex": [
       "$\\displaystyle -53$"
      ],
      "text/plain": [
       "-53"
      ]
     },
     "execution_count": 3,
     "metadata": {},
     "output_type": "execute_result"
    }
   ],
   "source": [
    "#вычислим скалярное произведение векторов a_vec и b_vec\n",
    "a_vec.dot(b_vec)"
   ]
  },
  {
   "cell_type": "code",
   "execution_count": 4,
   "metadata": {},
   "outputs": [
    {
     "data": {
      "image/png": "[encoded data removed]",
      "text/latex": [
       "$\\displaystyle \\operatorname{acos}{\\left(- \\frac{53}{63} \\right)}$"
      ],
      "text/plain": [
       "    /-53 \\\n",
       "acos|----|\n",
       "    \\ 63 /"
      ]
     },
     "execution_count": 4,
     "metadata": {},
     "output_type": "execute_result"
    }
   ],
   "source": [
    "sp.acos(a_vec.dot(b_vec)/sp.sqrt((a_vec.dot(a_vec))*(b_vec.dot(b_vec))))"
   ]
  },
  {
   "cell_type": "markdown",
   "metadata": {},
   "source": [
    "## Geometry \n",
    "### Point\n",
    "class sympy.geometry.point.Point\n",
    "\n",
    "https://docs.sympy.org/latest/modules/geometry/points.html#sympy.geometry.point.Point\n",
    "\n",
    "Point - точка в n-мерном Евклидовом пространстве.\n",
    "\n",
    "Параметры:\n",
    "\n",
    "coords : последовательность из n координат. При n=2 или 3 используется соответственно Point2D или Point3D.\n",
    "\n",
    "evaluate : если True (значение по умолчанию), все вещественные числа (float) приводятся к типу, соответствующему значению.\n",
    "\n",
    "dim : число координат точки.\n",
    "\n",
    "### Пример 2\n",
    "Найти угол между прямыми AB и CD, A(-1,2,-4), B(2,-2,1), C(5,3,-6), D(0,3,-6)\n",
    "\n",
    "Вначале зададим точки:"
   ]
  },
  {
   "cell_type": "code",
   "execution_count": 5,
   "metadata": {},
   "outputs": [
    {
     "data": {
      "image/png": "[encoded data removed]",
      "text/latex": [
       "$\\displaystyle \\left( Point3D\\left(-1, 2, -4\\right), \\  Point3D\\left(2, -2, 1\\right), \\  Point3D\\left(5, 3, -6\\right), \\  Point3D\\left(0, 3, -6\\right)\\right)$"
      ],
      "text/plain": [
       "(Point3D(-1, 2, -4), Point3D(2, -2, 1), Point3D(5, 3, -6), Point3D(0, 3, -6))"
      ]
     },
     "execution_count": 5,
     "metadata": {},
     "output_type": "execute_result"
    }
   ],
   "source": [
    "A=sp.Point(-1,2,-4)\n",
    "B=sp.Point(2,-2,1)\n",
    "C=sp.Point(5,3,-6)\n",
    "D=sp.Point(0,3,-6)\n",
    "A,B,C,D"
   ]
  },
  {
   "cell_type": "markdown",
   "metadata": {},
   "source": [
    "Проверим, лежал ли точки в одной плоскости:"
   ]
  },
  {
   "cell_type": "code",
   "execution_count": 6,
   "metadata": {},
   "outputs": [
    {
     "data": {
      "text/plain": [
       "False"
      ]
     },
     "execution_count": 6,
     "metadata": {},
     "output_type": "execute_result"
    }
   ],
   "source": [
    "sp.Point3D.are_coplanar(A,B,C,D)"
   ]
  },
  {
   "cell_type": "markdown",
   "metadata": {},
   "source": [
    "Вывод: не лежат, прямые скрещиваются\n",
    "\n",
    "Зададим линии, проходящие через точки:"
   ]
  },
  {
   "cell_type": "code",
   "execution_count": 7,
   "metadata": {},
   "outputs": [
    {
     "data": {
      "image/png": "[encoded data removed]",
      "text/latex": [
       "$\\displaystyle \\left( Line3D\\left(Point3D\\left(-1, 2, -4\\right), Point3D\\left(2, -2, 1\\right)\\right), \\  Line3D\\left(Point3D\\left(5, 3, -6\\right), Point3D\\left(0, 3, -6\\right)\\right)\\right)$"
      ],
      "text/plain": [
       "(Line3D(Point3D(-1, 2, -4), Point3D(2, -2, 1)), Line3D(Point3D(5, 3, -6), Point3D(0, 3, -6)))"
      ]
     },
     "execution_count": 7,
     "metadata": {},
     "output_type": "execute_result"
    }
   ],
   "source": [
    "AB=sp.Line(A,B)\n",
    "CD=sp.Line(C,D)\n",
    "AB,CD"
   ]
  },
  {
   "cell_type": "markdown",
   "metadata": {},
   "source": [
    "Угол между прямыми и минимальный из углов, образующихся при пересечении прямой и пересекающей ее прямой, параллельной второй из скрещивающихся прямых:"
   ]
  },
  {
   "cell_type": "code",
   "execution_count": 8,
   "metadata": {},
   "outputs": [
    {
     "data": {
      "image/png": "[encoded data removed]",
      "text/latex": [
       "$\\displaystyle \\left( \\operatorname{acos}{\\left(- \\frac{3 \\sqrt{2}}{10} \\right)}, \\  \\operatorname{acos}{\\left(\\frac{3 \\sqrt{2}}{10} \\right)}\\right)$"
      ],
      "text/plain": [
       "     /     ___ \\      /    ___\\ \n",
       "     |-3*\\/ 2  |      |3*\\/ 2 | \n",
       "(acos|---------|, acos|-------|)\n",
       "     \\    10   /      \\   10  / "
      ]
     },
     "execution_count": 8,
     "metadata": {},
     "output_type": "execute_result"
    }
   ],
   "source": [
    "AB.angle_between(CD),AB.smallest_angle_between(CD)"
   ]
  },
  {
   "cell_type": "markdown",
   "metadata": {},
   "source": [
    "### Пример 3\n",
    "Найти угол между плоскостями ABC и ACD\n",
    "\n",
    "Вначале зададим плоскости, затем вычислим угол:"
   ]
  },
  {
   "cell_type": "code",
   "execution_count": 9,
   "metadata": {},
   "outputs": [
    {
     "data": {
      "image/png": "[encoded data removed]",
      "text/latex": [
       "$\\displaystyle \\operatorname{acos}{\\left(\\frac{33 \\sqrt{1130}}{1130} \\right)}$"
      ],
      "text/plain": [
       "    /     ______\\\n",
       "    |33*\\/ 1130 |\n",
       "acos|-----------|\n",
       "    \\    1130   /"
      ]
     },
     "execution_count": 9,
     "metadata": {},
     "output_type": "execute_result"
    }
   ],
   "source": [
    "ABC=sp.Plane(A,B,C)\n",
    "ACD=sp.Plane(A,C,D)\n",
    "ABC.angle_between(ACD)"
   ]
  },
  {
   "cell_type": "markdown",
   "metadata": {},
   "source": [
    "### Пример 4\n",
    "Уравнение плоскости:"
   ]
  },
  {
   "cell_type": "code",
   "execution_count": 10,
   "metadata": {},
   "outputs": [
    {
     "data": {
      "image/png": "[encoded data removed]",
      "text/latex": [
       "$\\displaystyle 3 x + 36 y + 27 z + 39$"
      ],
      "text/plain": [
       "3*x + 36*y + 27*z + 39"
      ]
     },
     "execution_count": 10,
     "metadata": {},
     "output_type": "execute_result"
    }
   ],
   "source": [
    "ABC.equation()"
   ]
  },
  {
   "cell_type": "markdown",
   "metadata": {},
   "source": [
    "### Пример 5\n",
    "Вектор нормали к плоскости:"
   ]
  },
  {
   "cell_type": "code",
   "execution_count": 11,
   "metadata": {},
   "outputs": [
    {
     "data": {
      "image/png": "[encoded data removed]",
      "text/latex": [
       "$\\displaystyle \\left( 3, \\  36, \\  27\\right)$"
      ],
      "text/plain": [
       "(3, 36, 27)"
      ]
     },
     "execution_count": 11,
     "metadata": {},
     "output_type": "execute_result"
    }
   ],
   "source": [
    "ABC.normal_vector"
   ]
  },
  {
   "cell_type": "markdown",
   "metadata": {},
   "source": [
    "### Пример 6\n",
    "Уравнение плоскости, параллельной ABC, проходящей через D:\n",
    "\n",
    "Вначале зададим плоскость, проходящую через D и имеющую такой же вектор нормали, как ABC:    "
   ]
  },
  {
   "cell_type": "code",
   "execution_count": 12,
   "metadata": {},
   "outputs": [
    {
     "data": {
      "image/png": "[encoded data removed]",
      "text/latex": [
       "$\\displaystyle 3 x + 36 y + 27 z + 54$"
      ],
      "text/plain": [
       "3*x + 36*y + 27*z + 54"
      ]
     },
     "execution_count": 12,
     "metadata": {},
     "output_type": "execute_result"
    }
   ],
   "source": [
    "A1B1D=sp.Plane(D,ABC.normal_vector)\n",
    "A1B1D.equation()"
   ]
  },
  {
   "cell_type": "markdown",
   "metadata": {},
   "source": [
    "### Пример 7\n",
    "Проверка параллельности и перпендикулярности плоскостей: "
   ]
  },
  {
   "cell_type": "code",
   "execution_count": 13,
   "metadata": {},
   "outputs": [
    {
     "name": "stdout",
     "output_type": "stream",
     "text": [
      "Параллельны ли ABD и A1B1D?\n",
      "True\n",
      "Перпендикулярны ли ABD и A1B1D?\n"
     ]
    },
    {
     "data": {
      "text/plain": [
       "False"
      ]
     },
     "execution_count": 13,
     "metadata": {},
     "output_type": "execute_result"
    }
   ],
   "source": [
    "print('Параллельны ли ABD и A1B1D?')\n",
    "print(A1B1D.is_parallel(ABC))\n",
    "print('Перпендикулярны ли ABD и A1B1D?')\n",
    "A1B1D.is_perpendicular(ABC)"
   ]
  },
  {
   "cell_type": "markdown",
   "metadata": {},
   "source": [
    "### Пример 8\n",
    "Построение плоскости, параллельной плоскости ABC и проходящей через точку D:"
   ]
  },
  {
   "cell_type": "code",
   "execution_count": 14,
   "metadata": {},
   "outputs": [
    {
     "data": {
      "image/png": "[encoded data removed]",
      "text/latex": [
       "$\\displaystyle Plane\\left(Point3D\\left(0, 3, -6\\right), \\left( 3, \\  36, \\  27\\right)\\right)$"
      ],
      "text/plain": [
       "Plane(Point3D(0, 3, -6), (3, 36, 27))"
      ]
     },
     "execution_count": 14,
     "metadata": {},
     "output_type": "execute_result"
    }
   ],
   "source": [
    "Plane1=ABC.parallel_plane(D)\n",
    "Plane1"
   ]
  },
  {
   "cell_type": "markdown",
   "metadata": {},
   "source": [
    "Построение плоскости, перпендикулярной плоскости ABC и проходящей через точки A и B:"
   ]
  },
  {
   "cell_type": "code",
   "execution_count": 15,
   "metadata": {},
   "outputs": [
    {
     "data": {
      "image/png": "[encoded data removed]",
      "text/latex": [
       "$\\displaystyle Plane\\left(Point3D\\left(-1, 2, -4\\right), \\left( -288, \\  -66, \\  120\\right)\\right)$"
      ],
      "text/plain": [
       "Plane(Point3D(-1, 2, -4), (-288, -66, 120))"
      ]
     },
     "execution_count": 15,
     "metadata": {},
     "output_type": "execute_result"
    }
   ],
   "source": [
    "Plane2=ABC.perpendicular_plane(A,B)\n",
    "Plane2"
   ]
  },
  {
   "cell_type": "markdown",
   "metadata": {},
   "source": [
    "Проверим перпендикулярность плоскостей:"
   ]
  },
  {
   "cell_type": "code",
   "execution_count": 16,
   "metadata": {},
   "outputs": [
    {
     "data": {
      "text/plain": [
       "True"
      ]
     },
     "execution_count": 16,
     "metadata": {},
     "output_type": "execute_result"
    }
   ],
   "source": [
    "Plane2.is_perpendicular(Plane1)"
   ]
  },
  {
   "cell_type": "markdown",
   "metadata": {},
   "source": [
    "### Пример 9\n",
    "Построение прямой, перпендикулярной плоскости ABC и проходящей через точку D:"
   ]
  },
  {
   "cell_type": "code",
   "execution_count": 17,
   "metadata": {},
   "outputs": [
    {
     "data": {
      "image/png": "[encoded data removed]",
      "text/latex": [
       "$\\displaystyle Line3D\\left(Point3D\\left(0, 3, -6\\right), Point3D\\left(3, 39, 21\\right)\\right)$"
      ],
      "text/plain": [
       "Line3D(Point3D(0, 3, -6), Point3D(3, 39, 21))"
      ]
     },
     "execution_count": 17,
     "metadata": {},
     "output_type": "execute_result"
    }
   ],
   "source": [
    "line1=ABC.perpendicular_line(D)\n",
    "line1"
   ]
  },
  {
   "cell_type": "markdown",
   "metadata": {},
   "source": [
    "Проверим, что line1 перпендикулярна  ABC "
   ]
  },
  {
   "cell_type": "code",
   "execution_count": 18,
   "metadata": {},
   "outputs": [
    {
     "data": {
      "text/plain": [
       "True"
      ]
     },
     "execution_count": 18,
     "metadata": {},
     "output_type": "execute_result"
    }
   ],
   "source": [
    "ABC.is_perpendicular(line1)"
   ]
  },
  {
   "cell_type": "markdown",
   "metadata": {},
   "source": [
    "### Пример 10\n",
    "Угол между прямой и плоскостью"
   ]
  },
  {
   "cell_type": "code",
   "execution_count": 19,
   "metadata": {},
   "outputs": [
    {
     "data": {
      "image/png": "[encoded data removed]",
      "text/latex": [
       "$\\displaystyle \\operatorname{asin}{\\left(\\frac{33 \\sqrt{1130}}{1130} \\right)}$"
      ],
      "text/plain": [
       "    /     ______\\\n",
       "    |33*\\/ 1130 |\n",
       "asin|-----------|\n",
       "    \\    1130   /"
      ]
     },
     "execution_count": 19,
     "metadata": {},
     "output_type": "execute_result"
    }
   ],
   "source": [
    "ACD.angle_between(line1)"
   ]
  },
  {
   "cell_type": "code",
   "execution_count": null,
   "metadata": {},
   "outputs": [],
   "source": []
  }
 ],
 "metadata": {
  "kernelspec": {
   "display_name": "Python 3",
   "language": "python",
   "name": "python3"
  },
  "language_info": {
   "codemirror_mode": {
    "name": "ipython",
    "version": 3
   },
   "file_extension": ".py",
   "mimetype": "text/x-python",
   "name": "python",
   "nbconvert_exporter": "python",
   "pygments_lexer": "ipython3",
   "version": "3.7.4"
  }
 },
 "nbformat": 4,
 "nbformat_minor": 2
}
