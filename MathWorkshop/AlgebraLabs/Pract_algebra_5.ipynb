{
 "cells": [
  {
   "cell_type": "markdown",
   "metadata": {},
   "source": [
    "# Занятие 5\n",
    "# Алгебра\n",
    "\n",
    "## Прямые и плоскости в пространстве. Уравнения прямых и  плоскостей.\n",
    "1. Общее уравнение плоскости:\n",
    "$$\n",
    "Ax+By+Cz+D=0,\n",
    "$$\n",
    "коэффициенты $A$, $B$ и $C$ являются координатами вектора нормали (он по определению перпендикулярен плоскости).\n",
    "\n",
    "2. Пусть $A(x_0,y_0,z_0)$ - фиксированная точка на плоскости $\\alpha$, вектор $\\bar{n}(n_x,n_y,n_z)$ - нормаль к плоскости $\\alpha$, тогда в векторнй форме уравнение плоскости $\\alpha$ запишется в виде:\n",
    "$$\n",
    "\\bar{n}\\cdot{\\overline{MA}}=0,\n",
    "$$\n",
    "где $M(x,y,z)$ - произвольная точка на плоскости $\\alpha$, ${\\overline{MA}}$ - вектор в плоскости $\\alpha$.\n",
    "\n",
    "3. Пусть $A(x_1,y_1,z_1)$, $B(x_2,y_2,z_2)$ и $С(x_3,y_3,z_3)$ - три точки, определяющие плоскость, тогда уравнение плоскости можно записать в виде:\n",
    "$$\n",
    "\\left|\\begin{matrix}\n",
    "x-x_1,y-y_1,z-z_1\\\\\n",
    "x_2-x_1,y_2-y_1,z_2-z_1\\\\\n",
    "x_3-x_1,y_3-y_1,z_3-z_1\n",
    "\\end{matrix}\\right|=0\n",
    "$$\n",
    "\n",
    "### Уравнение прямой в пространстве:\n",
    "Параметрические уравнения прямой:\n",
    "$$\n",
    "\\left\\{\\begin{matrix}\n",
    "x=x_0+ta_1\\\\\n",
    "y=y_0+ta_2\\\\\n",
    "z=z_0+ta_3\n",
    "\\end{matrix}\\right.\n",
    "$$\n",
    "в векторной форме:\n",
    "$$\n",
    "X=A+t\\bar{a}\n",
    "$$\n",
    "$X$ и $A$ - радиус-векторы произвольной точки $X$ и заданной точки $A$, лежащих на прямой с направляющим вектором $\\bar{a}$.\n",
    "\n",
    "Прямую в пространстве можно задать как линию пересечения двух плоскостей:\n",
    "$$\n",
    "\\left\\{\\begin{matrix}\n",
    "A_1x+B_1y+C_1z+D_1=0\\\\\n",
    "A_2x+B_2y+C_2z+D_2=0\n",
    "\\end{matrix}\\right.\n",
    "$$\n"
   ]
  },
  {
   "cell_type": "code",
   "execution_count": 1,
   "metadata": {},
   "outputs": [],
   "source": [
    "#https://www.sympy.org/en/index.html\n",
    "# sympy - модуль для символьных преобразований\n",
    "\n",
    "import sympy as sp\n",
    "sp.init_printing(use_unicode=False, wrap_line=False, no_global=True)"
   ]
  },
  {
   "cell_type": "markdown",
   "metadata": {},
   "source": [
    "## Пример 1.\n",
    "Пусть плоскость $\\alpha$ задана общим уравнением\n",
    "$$\n",
    "3x+5y-2z+5=0.\n",
    "$$\n",
    "Найти точку на плоскости, через которую проходит прямая, заданная уравнениями:\n",
    "$$\n",
    "\\left\\{\\begin{matrix}\n",
    "x=1+3t\\\\\n",
    "y=-2+2t\\\\\n",
    "z=-t\n",
    "\\end{matrix}\\right.\n",
    "$$\n",
    "Решим СЛАУ:\n",
    "$$\n",
    "\\left\\{\\begin{matrix}\n",
    "3x+5y-2z+5=0\\\\\n",
    "x=1+3t\\\\\n",
    "y=-2+2t\\\\\n",
    "z=-t\n",
    "\\end{matrix}\\right.,\n",
    "$$\n",
    "Введем ее в виде списка уравнений, и решим с помощью linsolve()"
   ]
  },
  {
   "cell_type": "code",
   "execution_count": 2,
   "metadata": {},
   "outputs": [
    {
     "data": {
      "image/png": "[encoded data removed]",
      "text/latex": [
       "$\\displaystyle \\left\\{\\left( \\frac{9}{7}, \\  - \\frac{38}{21}, \\  - \\frac{2}{21}, \\  \\frac{2}{21}\\right)\\right\\}$"
      ],
      "text/plain": [
       "       -38                \n",
       "{(9/7, ----, -2/21, 2/21)}\n",
       "        21                "
      ]
     },
     "execution_count": 2,
     "metadata": {},
     "output_type": "execute_result"
    }
   ],
   "source": [
    "x, y, z, t = sp.symbols('x,y,z,t')\n",
    "SLAE = [\n",
    "    sp.Eq(3 * x + 5 * y - 2 * z + 5, 0),\n",
    "    sp.Eq(x, 1 + 3 * t),\n",
    "    sp.Eq(y, -2 + 2 * t),\n",
    "    sp.Eq(z, -t)\n",
    "]\n",
    "res = sp.linsolve(SLAE, x, y, z, t)\n",
    "res"
   ]
  },
  {
   "cell_type": "markdown",
   "metadata": {},
   "source": [
    "Выделим координаты $x,y,z$ точки пересечения:"
   ]
  },
  {
   "cell_type": "code",
   "execution_count": 3,
   "metadata": {},
   "outputs": [
    {
     "data": {
      "text/latex": [
       "$\\displaystyle \\left[\\begin{matrix}\\frac{9}{7}\\\\- \\frac{38}{21}\\\\- \\frac{2}{21}\\\\\\frac{2}{21}\\end{matrix}\\right]$"
      ],
      "text/plain": [
       "[ 9/7 ]\n",
       "[     ]\n",
       "[-38  ]\n",
       "[---- ]\n",
       "[ 21  ]\n",
       "[     ]\n",
       "[-2/21]\n",
       "[     ]\n",
       "[2/21 ]"
      ]
     },
     "metadata": {},
     "output_type": "display_data"
    },
    {
     "data": {
      "text/latex": [
       "$\\displaystyle \\left[\\begin{matrix}\\frac{9}{7}\\\\- \\frac{38}{21}\\\\- \\frac{2}{21}\\end{matrix}\\right]$"
      ],
      "text/plain": [
       "[ 9/7 ]\n",
       "[     ]\n",
       "[-38  ]\n",
       "[---- ]\n",
       "[ 21  ]\n",
       "[     ]\n",
       "[-2/21]"
      ]
     },
     "execution_count": 3,
     "metadata": {},
     "output_type": "execute_result"
    }
   ],
   "source": [
    "A=sp.Matrix([item for item in (list(res)[0])])\n",
    "display(A)\n",
    "#Удалим лишнюю строку, равную значению параметра $t$:\n",
    "A.row_del(3)\n",
    "A"
   ]
  },
  {
   "cell_type": "markdown",
   "metadata": {},
   "source": [
    "## Пример 2.\n",
    "Определить, пересекаются ли прямые в пространстве, если одна из них проходит через точки $A(1,2,3)$ и $B(-3,5,0)$, а вторая прямая проходит через начало координат перпендикулярно плоскости $5x-2y+3z-1=0$.\n",
    "\n",
    "Вначале найдем координаты направляющего вектора для прямой $AB$, для этого составим матрицы (векторы-столбцы) из координат точек  $A$ и $B$, затем вычтем один вектор-столбец из другого:"
   ]
  },
  {
   "cell_type": "code",
   "execution_count": 4,
   "metadata": {},
   "outputs": [
    {
     "data": {
      "text/latex": [
       "$\\displaystyle \\left[\\begin{matrix}-4\\\\3\\\\-3\\end{matrix}\\right]$"
      ],
      "text/plain": [
       "[-4]\n",
       "[  ]\n",
       "[3 ]\n",
       "[  ]\n",
       "[-3]"
      ]
     },
     "execution_count": 4,
     "metadata": {},
     "output_type": "execute_result"
    }
   ],
   "source": [
    "A=sp.Matrix([1,2,3])\n",
    "B=sp.Matrix([-3,5,0])\n",
    "a1=B-A\n",
    "a1"
   ]
  },
  {
   "cell_type": "markdown",
   "metadata": {},
   "source": [
    "Запишем уравнение прямой $AB$ в векторной форме:"
   ]
  },
  {
   "cell_type": "code",
   "execution_count": 5,
   "metadata": {},
   "outputs": [
    {
     "data": {
      "text/latex": [
       "$\\displaystyle \\left[\\begin{matrix}1 - 4 t_{1}\\\\3 t_{1} + 2\\\\3 - 3 t_{1}\\end{matrix}\\right]$"
      ],
      "text/plain": [
       "[1 - 4*t1]\n",
       "[        ]\n",
       "[3*t1 + 2]\n",
       "[        ]\n",
       "[3 - 3*t1]"
      ]
     },
     "execution_count": 5,
     "metadata": {},
     "output_type": "execute_result"
    }
   ],
   "source": [
    "t1=sp.Symbol('t1')\n",
    "AB=A+t1*a1\n",
    "AB"
   ]
  },
  {
   "cell_type": "markdown",
   "metadata": {},
   "source": [
    "Составим уравнение второй прямой, она проходит через точку $O(0,0,0)$, ее направляющим вектором является \n",
    "вектор нормали к плоскости $5x-2y+3z-1=0$, т.е. $(5,-2,3)$."
   ]
  },
  {
   "cell_type": "code",
   "execution_count": 6,
   "metadata": {},
   "outputs": [
    {
     "data": {
      "text/latex": [
       "$\\displaystyle \\left[\\begin{matrix}5 t_{2}\\\\- 2 t_{2}\\\\3 t_{2}\\end{matrix}\\right]$"
      ],
      "text/plain": [
       "[5*t2 ]\n",
       "[     ]\n",
       "[-2*t2]\n",
       "[     ]\n",
       "[3*t2 ]"
      ]
     },
     "execution_count": 6,
     "metadata": {},
     "output_type": "execute_result"
    }
   ],
   "source": [
    "t2=sp.Symbol('t2')\n",
    "a2=sp.Matrix([5,-2,3])\n",
    "OC=t2*a2\n",
    "OC"
   ]
  },
  {
   "cell_type": "markdown",
   "metadata": {},
   "source": [
    "Определим, совместна ли система из уравнений двух этих прямых:"
   ]
  },
  {
   "cell_type": "code",
   "execution_count": 7,
   "metadata": {},
   "outputs": [
    {
     "data": {
      "image/png": "[encoded data removed]",
      "text/latex": [
       "$\\displaystyle \\left[ - 4 t_{1} - 5 t_{2} + 1 = 0, \\  3 t_{1} + 2 t_{2} + 2 = 0, \\  - 3 t_{1} - 3 t_{2} + 3 = 0\\right]$"
      ],
      "text/plain": [
       "[-4*t1 - 5*t2 + 1 = 0, 3*t1 + 2*t2 + 2 = 0, -3*t1 - 3*t2 + 3 = 0]"
      ]
     },
     "metadata": {},
     "output_type": "display_data"
    },
    {
     "data": {
      "text/latex": [
       "$\\displaystyle \\left[\\begin{matrix}-4 & -5 & -1\\\\3 & 2 & -2\\\\-3 & -3 & -3\\end{matrix}\\right]$"
      ],
      "text/plain": [
       "[-4  -5  -1]\n",
       "[          ]\n",
       "[3   2   -2]\n",
       "[          ]\n",
       "[-3  -3  -3]"
      ]
     },
     "metadata": {},
     "output_type": "display_data"
    },
    {
     "data": {
      "text/latex": [
       "$\\displaystyle \\left( \\left[\\begin{matrix}1 & 0 & 0\\\\0 & 1 & 0\\\\0 & 0 & 1\\end{matrix}\\right], \\  \\left( 0, \\  1, \\  2\\right)\\right)$"
      ],
      "text/plain": [
       " [1  0  0]            \n",
       " [       ]            \n",
       "([0  1  0], (0, 1, 2))\n",
       " [       ]            \n",
       " [0  0  1]            "
      ]
     },
     "execution_count": 7,
     "metadata": {},
     "output_type": "execute_result"
    }
   ],
   "source": [
    "SLAE1=[sp.Eq(AB[i]-OC[i]) for i in range(3)]\n",
    "display(SLAE1)\n",
    "#Решим систему:\n",
    "M_A,M_b=sp.linear_eq_to_matrix(SLAE1, [t1,t2])\n",
    "#Составим расширенную матрицу СЛАУ\n",
    "M_Ab=M_A.row_join(M_b)\n",
    "display(M_Ab)\n",
    "#Приведем расширенную матрицу к диагональному виду\n",
    "M_Ab.rref()"
   ]
  },
  {
   "cell_type": "markdown",
   "metadata": {},
   "source": [
    "Вывод: СЛАУ не совместна, следовательно, прямые не пересекаются."
   ]
  },
  {
   "cell_type": "markdown",
   "metadata": {},
   "source": [
    "## Пример 3.\n",
    "Найти точку пересечения прямых в пространстве, если одна из них проходит через точки $A(-1,2,1)$ и $B(3,5,2)$, а вторая прямая проходит через точки $C(1,3,7)$ и $D(-3,5,-2)$."
   ]
  },
  {
   "cell_type": "code",
   "execution_count": 8,
   "metadata": {},
   "outputs": [
    {
     "data": {
      "text/latex": [
       "$\\displaystyle \\left[\\begin{matrix}4 t_{1} - 1\\\\3 t_{1} + 2\\\\t_{1} + 1\\end{matrix}\\right]$"
      ],
      "text/plain": [
       "[4*t1 - 1]\n",
       "[        ]\n",
       "[3*t1 + 2]\n",
       "[        ]\n",
       "[ t1 + 1 ]"
      ]
     },
     "execution_count": 8,
     "metadata": {},
     "output_type": "execute_result"
    }
   ],
   "source": [
    "A=sp.Matrix([-1,2,1])\n",
    "B=sp.Matrix([3,5,2])\n",
    "a1=B-A\n",
    "\n",
    "AB=A+t1*a1\n",
    "AB"
   ]
  },
  {
   "cell_type": "code",
   "execution_count": 9,
   "metadata": {},
   "outputs": [
    {
     "data": {
      "text/latex": [
       "$\\displaystyle \\left[\\begin{matrix}1 - 4 t_{2}\\\\3 - \\frac{5 t_{2}}{2}\\\\7 - \\frac{13 t_{2}}{2}\\end{matrix}\\right]$"
      ],
      "text/plain": [
       "[1 - 4*t2 ]\n",
       "[         ]\n",
       "[    5*t2 ]\n",
       "[3 - ---- ]\n",
       "[     2   ]\n",
       "[         ]\n",
       "[    13*t2]\n",
       "[7 - -----]\n",
       "[      2  ]"
      ]
     },
     "execution_count": 9,
     "metadata": {},
     "output_type": "execute_result"
    }
   ],
   "source": [
    "C=sp.Matrix([1,3,7])\n",
    "D=sp.Matrix([-3,sp.S(1)/2,sp.S(1)/2])\n",
    "\n",
    "a2=D-C\n",
    "CD=C+t2*a2\n",
    "CD"
   ]
  },
  {
   "cell_type": "code",
   "execution_count": 10,
   "metadata": {},
   "outputs": [
    {
     "data": {
      "image/png": "[encoded data removed]",
      "text/latex": [
       "$\\displaystyle \\left[ 4 t_{1} - 1 = 1 - 4 t_{2}, \\  3 t_{1} + 2 = 3 - \\frac{5 t_{2}}{2}, \\  t_{1} + 1 = 7 - \\frac{13 t_{2}}{2}\\right]$"
      ],
      "text/plain": [
       "                                     5*t2               13*t2 \n",
       "[4*t1 - 1 = 1 - 4*t2, 3*t1 + 2 = 3 - ----, t1 + 1 = 7 - -----]\n",
       "                                      2                   2   "
      ]
     },
     "metadata": {},
     "output_type": "display_data"
    },
    {
     "data": {
      "text/latex": [
       "$\\displaystyle \\left[\\begin{matrix}4 & 4 & 2\\\\3 & \\frac{5}{2} & 1\\\\1 & \\frac{13}{2} & 6\\end{matrix}\\right]$"
      ],
      "text/plain": [
       "[4   4    2]\n",
       "[          ]\n",
       "[3  5/2   1]\n",
       "[          ]\n",
       "[1  13/2  6]"
      ]
     },
     "metadata": {},
     "output_type": "display_data"
    },
    {
     "data": {
      "text/latex": [
       "$\\displaystyle \\left( \\left[\\begin{matrix}1 & 0 & - \\frac{1}{2}\\\\0 & 1 & 1\\\\0 & 0 & 0\\end{matrix}\\right], \\  \\left( 0, \\  1\\right)\\right)$"
      ],
      "text/plain": [
       " [1  0  -1/2]         \n",
       " [          ]         \n",
       "([0  1   1  ], (0, 1))\n",
       " [          ]         \n",
       " [0  0   0  ]         "
      ]
     },
     "execution_count": 10,
     "metadata": {},
     "output_type": "execute_result"
    }
   ],
   "source": [
    "SLAE2=[sp.Eq(AB[i],CD[i]) for i in range(3)]\n",
    "display(SLAE2)\n",
    "#Решим систему:\n",
    "M_A,M_b=sp.linear_eq_to_matrix(SLAE2, [t1,t2])\n",
    "M_A,M_b\n",
    "M_Ab=M_A.row_join(M_b)\n",
    "display(M_Ab)\n",
    "M_Ab.rref()"
   ]
  },
  {
   "cell_type": "markdown",
   "metadata": {},
   "source": [
    "Вывод: СЛАУ совместна, найдем, при каких значениях параметров прямые пересекаются:"
   ]
  },
  {
   "cell_type": "code",
   "execution_count": 11,
   "metadata": {},
   "outputs": [],
   "source": [
    "Set_t1_t2=sp.linsolve(SLAE2,t1,t2)"
   ]
  },
  {
   "cell_type": "markdown",
   "metadata": {},
   "source": [
    "Выделим значения параметров и подставим их в уравнения прямых в векторной форме, убедимся, что получается одна и та же точка"
   ]
  },
  {
   "cell_type": "code",
   "execution_count": 12,
   "metadata": {},
   "outputs": [
    {
     "data": {
      "text/latex": [
       "$\\displaystyle \\left( \\left[\\begin{matrix}-3\\\\\\frac{1}{2}\\\\\\frac{1}{2}\\end{matrix}\\right], \\  \\left[\\begin{matrix}-3\\\\\\frac{1}{2}\\\\\\frac{1}{2}\\end{matrix}\\right]\\right)$"
      ],
      "text/plain": [
       " [-3 ]  [-3 ] \n",
       " [   ]  [   ] \n",
       "([1/2], [1/2])\n",
       " [   ]  [   ] \n",
       " [1/2]  [1/2] "
      ]
     },
     "execution_count": 12,
     "metadata": {},
     "output_type": "execute_result"
    }
   ],
   "source": [
    "T1,T2=list(Set_t1_t2)[0]\n",
    "K1=A+T1*a1\n",
    "K2=C+T2*a2\n",
    "K1,K2"
   ]
  },
  {
   "cell_type": "markdown",
   "metadata": {},
   "source": [
    "## Пример 4.\n",
    "Составить уравнение плоскости, проходящей через начало координат, в которой лежит прямая, заданная уравнениями:\n",
    "$$\n",
    "\\left\\{\\begin{matrix}\n",
    "x=3+2t\\\\\n",
    "y=2-3t\\\\\n",
    "z=5+2t\n",
    "\\end{matrix}\\right.\n",
    "$$\n",
    "\n",
    "Найдем две различные точки на прямой, придавая разные значения параметру $t$, например, 0 и 1. Затем составим уравнение плоскости, проходящей через 3 точки.   "
   ]
  },
  {
   "cell_type": "code",
   "execution_count": 18,
   "metadata": {},
   "outputs": [
    {
     "data": {
      "image/png": "[encoded data removed]",
      "text/latex": [
       "$\\displaystyle 19 x + 4 y - 13 z = 0$"
      ],
      "text/plain": [
       "19*x + 4*y - 13*z = 0"
      ]
     },
     "execution_count": 18,
     "metadata": {},
     "output_type": "execute_result"
    }
   ],
   "source": [
    "O=sp.Matrix([0,0,0])\n",
    "A=sp.Matrix([3,2,5])\n",
    "a3=sp.Matrix([2,-3,2])\n",
    "t1=sp.Symbol('t1')\n",
    "AB=A+t1*a3\n",
    "M1=AB.subs(t1,0)\n",
    "M2=AB.subs(t1,1)\n",
    "P=sp.Matrix([x,y,z])\n",
    "res=(((P-M1).row_join(M2-M1)).row_join(O-M1)).T\n",
    "EQ_plane=sp.Eq(res.det())\n",
    "EQ_plane"
   ]
  },
  {
   "cell_type": "code",
   "execution_count": null,
   "metadata": {},
   "outputs": [],
   "source": []
  }
 ],
 "metadata": {
  "kernelspec": {
   "display_name": "Python 3",
   "language": "python",
   "name": "python3"
  },
  "language_info": {
   "codemirror_mode": {
    "name": "ipython",
    "version": 3
   },
   "file_extension": ".py",
   "mimetype": "text/x-python",
   "name": "python",
   "nbconvert_exporter": "python",
   "pygments_lexer": "ipython3",
   "version": "3.7.4"
  }
 },
 "nbformat": 4,
 "nbformat_minor": 2
}
