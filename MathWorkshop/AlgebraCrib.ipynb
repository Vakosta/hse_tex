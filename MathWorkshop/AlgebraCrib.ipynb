{
 "cells": [
  {
   "cell_type": "code",
   "execution_count": 53,
   "metadata": {},
   "outputs": [],
   "source": [
    "import sympy as sp\n",
    "sp.init_printing(use_unicode=False, wrap_line=False, no_global=True)"
   ]
  },
  {
   "cell_type": "markdown",
   "metadata": {},
   "source": [
    "# Шпаргалка по алгебре (матпрак)"
   ]
  },
  {
   "cell_type": "markdown",
   "metadata": {},
   "source": [
    "## Первая часть вопросов"
   ]
  },
  {
   "cell_type": "markdown",
   "metadata": {},
   "source": [
    "### Вопросы №1, №2\n",
    "1. Списки list: создание списка, многомерные списки, действия с элементом списка (индексы).\n",
    "2. Списки: действия со списками (добавление элемента, присоединение списка), минимальный, максимальный элемент списка, длина списка."
   ]
  },
  {
   "cell_type": "code",
   "execution_count": 56,
   "metadata": {},
   "outputs": [],
   "source": [
    "# Три способа задания списка:\n",
    "a1 = []\n",
    "a2 = list()\n",
    "a3 = list('word')\n",
    "\n",
    "# Способы задания многомерных списков\n",
    "b1 = [\n",
    "    [1, 2, 3],\n",
    "    [3, 2, 1]\n",
    "]\n",
    "b2 = [[0] for i in range(4)]\n",
    "\n",
    "# Действия с элементами\n",
    "a3[0] # Получение элемента\n",
    "\n",
    "a = 0 # Чтобы не было вывода"
   ]
  },
  {
   "cell_type": "code",
   "execution_count": 57,
   "metadata": {},
   "outputs": [],
   "source": [
    "# Действия с элементами\n",
    "a1.append(1) # Добавление элемента\n",
    "a1 + a2 # Объединение списков\n",
    "a1 += a3 # Добавление списка a3 к списку a1\n",
    "\n",
    "min(b1[0]) # Минимальный элемент списка\n",
    "max(b1[0]) # Максимальный элемент списка\n",
    "len(b1[0]) # Длина списка\n",
    "\n",
    "a = 0 # Чтобы не было вывода"
   ]
  },
  {
   "cell_type": "markdown",
   "metadata": {},
   "source": [
    "---\n",
    "### Вопросы №3, №4, №5\n",
    "3. Символы – создание символов (одного или нескольких одновременно). Создание нескольких символов вида x1...x10.\n",
    "4. Положительные и вещественные символы: как создать и для чего использовать.\n",
    "5. Символьные выражения: создание выражения, получение доступа к символам выражения, являющегося результатом функции."
   ]
  },
  {
   "cell_type": "code",
   "execution_count": 58,
   "metadata": {},
   "outputs": [],
   "source": [
    "# Создание символов\n",
    "x = sp.Symbol('x') # Один символ\n",
    "y, z = sp.symbols('y z') # Несколько символов\n",
    "x1, x2 = (sp.Indexed('x', i) for i in (1, 2)) # Символы вида x1...x10"
   ]
  },
  {
   "cell_type": "code",
   "execution_count": 59,
   "metadata": {},
   "outputs": [
    {
     "data": {
      "image/png": "[encoded data removed]",
      "text/latex": [
       "$\\displaystyle \\log{\\left(x \\right)} + \\log{\\left(y \\right)}$"
      ],
      "text/plain": [
       "log(x) + log(y)"
      ]
     },
     "metadata": {},
     "output_type": "display_data"
    },
    {
     "data": {
      "image/png": "[encoded data removed]",
      "text/latex": [
       "$\\displaystyle \\log{\\left(x y \\right)}$"
      ],
      "text/plain": [
       "log(x*y)"
      ]
     },
     "metadata": {},
     "output_type": "display_data"
    }
   ],
   "source": [
    "# Список параметров для символов\n",
    "# На месте True — какое-то bool выражение\n",
    "{\n",
    "    'commutative': True,\n",
    "    'complex': True,\n",
    "    'hermitian': True,\n",
    "    'imaginary': True,\n",
    "    'negative': True,\n",
    "    'nonnegative': True,\n",
    "    'nonpositive': True,\n",
    "    'nonzero': True,\n",
    "    'positive': True,\n",
    "    'real': True,\n",
    "    'zero': True\n",
    "}\n",
    "\n",
    "# Формула log(x * y) = log x + log y справедлива для вещественных положительных x и y\n",
    "# Разница в выводе при positive True и False\n",
    "x, y = sp.symbols('x y', positive=True)\n",
    "display(sp.expand(sp.log(x * y)))\n",
    "\n",
    "x, y = sp.symbols('x y', positive=False)\n",
    "display(sp.expand(sp.log(x * y)))"
   ]
  },
  {
   "cell_type": "code",
   "execution_count": 60,
   "metadata": {},
   "outputs": [
    {
     "data": {
      "image/png": "[encoded data removed]",
      "text/latex": [
       "$\\displaystyle x^{2} + y^{2}$"
      ],
      "text/plain": [
       " 2    2\n",
       "x  + y "
      ]
     },
     "metadata": {},
     "output_type": "display_data"
    }
   ],
   "source": [
    "# Создание выражения\n",
    "f = x**2 + y**2\n",
    "display(f)"
   ]
  },
  {
   "cell_type": "markdown",
   "metadata": {},
   "source": [
    "---\n",
    "### Вопросы №6, №7, №8\n",
    "6. Абстрактные функции (функции-символы). Как создать и где применить.\n",
    "7. Функции (def): как задать функцию, вызов функции, аргументы - обязательные\n",
    "8. Функции (def): необязательные аргументы и аргументы, количество которых заранее не известно."
   ]
  },
  {
   "cell_type": "code",
   "execution_count": 61,
   "metadata": {},
   "outputs": [],
   "source": [
    "# TODO: Разобраться с вопросом №6"
   ]
  },
  {
   "cell_type": "code",
   "execution_count": 62,
   "metadata": {},
   "outputs": [
    {
     "data": {
      "image/png": "[encoded data removed]",
      "text/latex": [
       "$\\displaystyle 3$"
      ],
      "text/plain": [
       "3"
      ]
     },
     "execution_count": 62,
     "metadata": {},
     "output_type": "execute_result"
    }
   ],
   "source": [
    "# Задание функции\n",
    "# Параметры без значений по-умолчанию — обязательные\n",
    "def f_name(p1, p2):\n",
    "    return p1 + p2\n",
    "\n",
    "\n",
    "f_name(1, 2)  # Вызов функции"
   ]
  },
  {
   "cell_type": "code",
   "execution_count": 63,
   "metadata": {},
   "outputs": [
    {
     "data": {
      "text/plain": [
       "(1, 1, (2, 3, 4), {'a': 2, 'b': 3})"
      ]
     },
     "metadata": {},
     "output_type": "display_data"
    },
    {
     "data": {
      "image/png": "[encoded data removed]",
      "text/latex": [
       "$\\displaystyle \\left( 1, \\  123, \\  \\left( \\right), \\  \\left\\{ \\right\\}\\right)$"
      ],
      "text/plain": [
       "(1, 123, (), {})"
      ]
     },
     "metadata": {},
     "output_type": "display_data"
    },
    {
     "data": {
      "text/plain": [
       "(1, 123, (), {'a': 2, 'b': 3})"
      ]
     },
     "metadata": {},
     "output_type": "display_data"
    }
   ],
   "source": [
    "# Параметры без значений по-умолчанию — обязательные\n",
    "# Параметры с значениями по-умолчанию — необязательные\n",
    "# args помечен звёздочкой, туда попадают оставшиеся неименованные параметры\n",
    "# kwargs помечен двумя звёздочками, туда попадают оставшиеся именованные параметры\n",
    "def f_name(p1, p2=123, *args, **kwargs):\n",
    "    return p1, p2, args, kwargs\n",
    "\n",
    "\n",
    "display(f_name(1, 1, 2, 3, 4, a=2, b=3))\n",
    "display(f_name(1))\n",
    "display(f_name(1, a=2, b=3))"
   ]
  },
  {
   "cell_type": "markdown",
   "metadata": {},
   "source": [
    "---\n",
    "### Вопросы №9, №10, №11, №12, №13\n",
    "9. Объектно-ориентированное программирование в Python: создание класса, создание экземпляра\n",
    "10. Объектно-ориентированное программирование в Python: вызов метода, доступ к атрибутам\n",
    "11. Объектно-ориентированное программирование в Python: передача параметров при создании экземпляра, при вызове метода.\n",
    "12. Объектно-ориентированное программирование в Python: наследование\n",
    "13. Объектно-ориентированное программирование в Python: полиморфизм методов."
   ]
  },
  {
   "cell_type": "code",
   "execution_count": 64,
   "metadata": {},
   "outputs": [
    {
     "name": "stdout",
     "output_type": "stream",
     "text": [
      "Meow\n",
      "Meeeoooww\n",
      "Meow, Petya!\n",
      "Meeeoooww, Nikita!\n"
     ]
    },
    {
     "data": {
      "text/plain": [
       "'Meow'"
      ]
     },
     "execution_count": 64,
     "metadata": {},
     "output_type": "execute_result"
    }
   ],
   "source": [
    "# Создаём класс\n",
    "class Cat:\n",
    "    def __init__(self, meow_sound='Meow'):\n",
    "        self.meow_sound = meow_sound\n",
    "\n",
    "    def meow(self):\n",
    "        print(self.meow_sound)\n",
    "\n",
    "    def greet(self, name):\n",
    "        print('{}, {}!'.format(self.meow_sound, name))\n",
    "\n",
    "\n",
    "# Создаём экземпляр класса\n",
    "c1 = Cat()  # С параметром конструктора\n",
    "c2 = Cat('Meeeoooww')  # Без параметра\n",
    "\n",
    "# Вызываем методы\n",
    "c1.meow()\n",
    "c2.meow()\n",
    "\n",
    "# Вызываем методы с параметром\n",
    "c1.greet('Petya')\n",
    "c2.greet('Nikita')\n",
    "\n",
    "c1.meow_sound  # Получаем атрибут"
   ]
  },
  {
   "cell_type": "code",
   "execution_count": 65,
   "metadata": {},
   "outputs": [
    {
     "name": "stdout",
     "output_type": "stream",
     "text": [
      "Meow\n",
      "Rrrrr\n"
     ]
    }
   ],
   "source": [
    "# Создаём класс, наследуясь от Cat\n",
    "class Pantera(Cat):\n",
    "    def __init__(self, meow_sound='Meow', rrr_sound='Rrrrr'):\n",
    "        super().__init__(\n",
    "            meow_sound)  # Вызываем базовый конструктор, чтобы не копипастить\n",
    "        self.rrr_sound = rrr_sound  # Задаём звук рычания\n",
    "\n",
    "    def rrr(self):\n",
    "        print(self.rrr_sound)\n",
    "\n",
    "    # Это приватный метод\n",
    "    def __eat_human(self):\n",
    "        print('Om-nom-nom')\n",
    "\n",
    "\n",
    "p1 = Pantera()\n",
    "p1.meow()\n",
    "p1.rrr()"
   ]
  },
  {
   "cell_type": "markdown",
   "metadata": {},
   "source": [
    "---\n",
    "### Вопросы №14, №15, №16, №17, №18, №19\n",
    "14. Выражения: числовые и символьные, примеры.\n",
    "15. Действия с символьными выражениями: арифметические операции, сравнение, логические операции\n",
    "16. Действия с символьными выражениями: подстановки (одна и несколько подстановок одновременно).\n",
    "17. Упрощение выражения: раскрытие скобок, группировка по степеням переменной или по степеням выражения\n",
    "18. Разложение выражения на множители. Выделение числителя и знаменателя из дробного выражения.\n",
    "19. Подстановки: несколько подстановок одновременно (в виде списка и в виде словаря)"
   ]
  },
  {
   "cell_type": "code",
   "execution_count": 66,
   "metadata": {},
   "outputs": [
    {
     "data": {
      "image/png": "[encoded data removed]",
      "text/latex": [
       "$\\displaystyle x^{2} + 2$"
      ],
      "text/plain": [
       " 2    \n",
       "x  + 2"
      ]
     },
     "execution_count": 66,
     "metadata": {},
     "output_type": "execute_result"
    }
   ],
   "source": [
    "x = sp.symbols('x')\n",
    "\n",
    "# Задали выражение и вывели его\n",
    "f = x**2 + sp.S(2)\n",
    "f"
   ]
  },
  {
   "cell_type": "code",
   "execution_count": 67,
   "metadata": {},
   "outputs": [
    {
     "data": {
      "image/png": "[encoded data removed]",
      "text/latex": [
       "$\\displaystyle x^{3} + 124$"
      ],
      "text/plain": [
       " 3      \n",
       "x  + 124"
      ]
     },
     "metadata": {},
     "output_type": "display_data"
    },
    {
     "name": "stdout",
     "output_type": "stream",
     "text": [
      "Операции с выражениями:\n"
     ]
    },
    {
     "data": {
      "image/png": "[encoded data removed]",
      "text/latex": [
       "$\\displaystyle x^{3} + x^{2} + 126$"
      ],
      "text/plain": [
       " 3    2      \n",
       "x  + x  + 126"
      ]
     },
     "metadata": {},
     "output_type": "display_data"
    },
    {
     "data": {
      "image/png": "[encoded data removed]",
      "text/latex": [
       "$\\displaystyle - x^{3} + x^{2} - 122$"
      ],
      "text/plain": [
       "   3    2      \n",
       "- x  + x  - 122"
      ]
     },
     "metadata": {},
     "output_type": "display_data"
    },
    {
     "data": {
      "image/png": "[encoded data removed]",
      "text/latex": [
       "$\\displaystyle \\left(x^{2} + 2\\right) \\left(x^{3} + 124\\right)$"
      ],
      "text/plain": [
       "/ 2    \\ / 3      \\\n",
       "\\x  + 2/*\\x  + 124/"
      ]
     },
     "metadata": {},
     "output_type": "display_data"
    },
    {
     "data": {
      "image/png": "[encoded data removed]",
      "text/latex": [
       "$\\displaystyle \\frac{x^{2} + 2}{x^{3} + 124}$"
      ],
      "text/plain": [
       "  2     \n",
       " x  + 2 \n",
       "--------\n",
       " 3      \n",
       "x  + 124"
      ]
     },
     "metadata": {},
     "output_type": "display_data"
    },
    {
     "data": {
      "text/plain": [
       "False"
      ]
     },
     "metadata": {},
     "output_type": "display_data"
    }
   ],
   "source": [
    "g = x**3 + sp.S(124)\n",
    "display(g)\n",
    "\n",
    "print('Операции с выражениями:')\n",
    "display(f + g)\n",
    "display(f - g)\n",
    "display(f * g)\n",
    "display(f / g)\n",
    "\n",
    "display(f == g)"
   ]
  },
  {
   "cell_type": "code",
   "execution_count": 68,
   "metadata": {},
   "outputs": [
    {
     "data": {
      "image/png": "[encoded data removed]",
      "text/latex": [
       "$\\displaystyle t^{4} + 123$"
      ],
      "text/plain": [
       " 4      \n",
       "t  + 123"
      ]
     },
     "execution_count": 68,
     "metadata": {},
     "output_type": "execute_result"
    }
   ],
   "source": [
    "y, t = sp.symbols('y t')\n",
    "\n",
    "# Одиночная подстановка\n",
    "f.subs(x, t**2)\n",
    "\n",
    "# Множественная подстановка\n",
    "f.subs(x, t**2).subs(2, 123)"
   ]
  },
  {
   "cell_type": "code",
   "execution_count": 69,
   "metadata": {},
   "outputs": [
    {
     "data": {
      "image/png": "[encoded data removed]",
      "text/latex": [
       "$\\displaystyle \\left(x^{3} + 3\\right) \\left(x^{5} + 12 x\\right)$"
      ],
      "text/plain": [
       "/ 3    \\ / 5       \\\n",
       "\\x  + 3/*\\x  + 12*x/"
      ]
     },
     "metadata": {},
     "output_type": "display_data"
    },
    {
     "data": {
      "image/png": "[encoded data removed]",
      "text/latex": [
       "$\\displaystyle x \\left(x^{3} + 3\\right) \\left(x^{4} + 12\\right)$"
      ],
      "text/plain": [
       "  / 3    \\ / 4     \\\n",
       "x*\\x  + 3/*\\x  + 12/"
      ]
     },
     "metadata": {},
     "output_type": "display_data"
    },
    {
     "data": {
      "image/png": "[encoded data removed]",
      "text/latex": [
       "$\\displaystyle x^{8} + 3 x^{5} + 12 x^{4} + 36 x$"
      ],
      "text/plain": [
       " 8      5       4       \n",
       "x  + 3*x  + 12*x  + 36*x"
      ]
     },
     "metadata": {},
     "output_type": "display_data"
    }
   ],
   "source": [
    "f = (x**3 + 3) * (x**5 + 12 * x)\n",
    "\n",
    "display(f)\n",
    "display(sp.simplify(f))  # Разбить на скобки\n",
    "display(sp.expand(f))  # Сгруппировать по степеням"
   ]
  },
  {
   "cell_type": "code",
   "execution_count": 70,
   "metadata": {},
   "outputs": [
    {
     "data": {
      "image/png": "[encoded data removed]",
      "text/latex": [
       "$\\displaystyle \\frac{x^{4}}{2} + \\frac{5 x^{3}}{12} - \\frac{x^{2}}{3}$"
      ],
      "text/plain": [
       " 4      3    2\n",
       "x    5*x    x \n",
       "-- + ---- - --\n",
       "2     12    3 "
      ]
     },
     "metadata": {},
     "output_type": "display_data"
    },
    {
     "data": {
      "image/png": "[encoded data removed]",
      "text/latex": [
       "$\\displaystyle \\frac{x^{2} \\left(2 x - 1\\right) \\left(3 x + 4\\right)}{12}$"
      ],
      "text/plain": [
       " 2                    \n",
       "x *(2*x - 1)*(3*x + 4)\n",
       "----------------------\n",
       "          12          "
      ]
     },
     "metadata": {},
     "output_type": "display_data"
    },
    {
     "data": {
      "image/png": "[encoded data removed]",
      "text/latex": [
       "$\\displaystyle x^{2} \\left(2 x - 1\\right) \\left(3 x + 4\\right)$"
      ],
      "text/plain": [
       " 2                    \n",
       "x *(2*x - 1)*(3*x + 4)"
      ]
     },
     "metadata": {},
     "output_type": "display_data"
    },
    {
     "data": {
      "image/png": "[encoded data removed]",
      "text/latex": [
       "$\\displaystyle 12$"
      ],
      "text/plain": [
       "12"
      ]
     },
     "metadata": {},
     "output_type": "display_data"
    }
   ],
   "source": [
    "f = x**4 / 2 + 5 * x**3 / 12 - x**2 / 3\n",
    "factor = sp.factor(f)\n",
    "\n",
    "display(f)\n",
    "display(factor)  # Разложение на множители\n",
    "display(sp.fraction(factor)[0])  # Выделение числителя\n",
    "display(sp.fraction(factor)[1])  # Выделение знаменателя"
   ]
  },
  {
   "cell_type": "code",
   "execution_count": 71,
   "metadata": {},
   "outputs": [
    {
     "data": {
      "image/png": "[encoded data removed]",
      "text/latex": [
       "$\\displaystyle \\frac{t^{8}}{2} + \\frac{5 t^{6}}{12} - \\frac{t^{4}}{3}$"
      ],
      "text/plain": [
       " 8      6    4\n",
       "t    5*t    t \n",
       "-- + ---- - --\n",
       "2     12    3 "
      ]
     },
     "execution_count": 71,
     "metadata": {},
     "output_type": "execute_result"
    }
   ],
   "source": [
    "f.subs([(x, t**2), (5, 10)])  # Множественная подстановка в виде списка\n",
    "f.subs({x: t**2, 5: 10})  # Множественная подстановка в виде словаря"
   ]
  },
  {
   "cell_type": "markdown",
   "metadata": {},
   "source": [
    "---\n",
    "### Вопросы №20, №21\n",
    "20. Словари: создание, пополнение, изменение записи\n",
    "21. Словари: удаление и добавление записи, получение ключей."
   ]
  },
  {
   "cell_type": "code",
   "execution_count": 72,
   "metadata": {},
   "outputs": [
    {
     "data": {
      "image/png": "[encoded data removed]",
      "text/latex": [
       "$\\displaystyle \\left\\{ \\right\\}$"
      ],
      "text/plain": [
       "{}"
      ]
     },
     "metadata": {},
     "output_type": "display_data"
    },
    {
     "data": {
      "image/png": "[encoded data removed]",
      "text/latex": [
       "$\\displaystyle \\left\\{ \\right\\}$"
      ],
      "text/plain": [
       "{}"
      ]
     },
     "metadata": {},
     "output_type": "display_data"
    },
    {
     "data": {
      "text/plain": [
       "{'age': 19, 'address': 'Russia, Moscow'}"
      ]
     },
     "metadata": {},
     "output_type": "display_data"
    },
    {
     "data": {
      "text/plain": [
       "{'first_name': 'Mark', 'last_name': 'Zavatski'}"
      ]
     },
     "metadata": {},
     "output_type": "display_data"
    }
   ],
   "source": [
    "# Создание словаря\n",
    "d1 = {}\n",
    "d2 = dict()\n",
    "d3 = {'age': 19, 'address': 'Russia, Moscow'}\n",
    "d4 = dict(first_name='Mark', last_name='Zavatski')\n",
    "display(d1, d2, d3, d4)"
   ]
  },
  {
   "cell_type": "code",
   "execution_count": 73,
   "metadata": {},
   "outputs": [
    {
     "data": {
      "text/plain": [
       "{'length': 11}"
      ]
     },
     "metadata": {},
     "output_type": "display_data"
    },
    {
     "data": {
      "image/png": "[encoded data removed]",
      "text/latex": [
       "$\\displaystyle \\left\\{ \\right\\}$"
      ],
      "text/plain": [
       "{}"
      ]
     },
     "metadata": {},
     "output_type": "display_data"
    },
    {
     "data": {
      "text/plain": [
       "dict_items([('age', 19), ('address', 'Russia, Moscow')])"
      ]
     },
     "metadata": {},
     "output_type": "display_data"
    },
    {
     "data": {
      "text/plain": [
       "dict_keys(['age', 'address'])"
      ]
     },
     "metadata": {},
     "output_type": "display_data"
    }
   ],
   "source": [
    "# Пополнение словаря\n",
    "d1['length'] = 10\n",
    "\n",
    "# Изменение записи\n",
    "d1['length'] = 11\n",
    "display(d1)\n",
    "\n",
    "# Удаление записи\n",
    "d1.pop('length')\n",
    "display(d1)\n",
    "\n",
    "# Получение элементов и ключей\n",
    "# Для преобразования dict_items в список нужно обернуть в list(...)\n",
    "display(d3.items())\n",
    "display(d3.keys())"
   ]
  },
  {
   "cell_type": "markdown",
   "metadata": {},
   "source": [
    "---\n",
    "### Вопросы №22, №23, №24, №25, №26, №27\n",
    "22. Матрицы: создание числовой матрицы, создание матрицы с элементами - символами, матрицы-строки, матрицы-столбца, действия с элементами матрицы.\n",
    "23. Действия с матрицами: добавление строки или столбца, удаление, соединение матриц в строку и в столбик\n",
    "24. Действия с матрицами: подстановки. Транспонирование матрицы, определитель\n",
    "25. Создание матриц определенного вида (матрица из нулей, единиц, единичная, диагональная). Выделение из матрицы определенной строки или столбца\n",
    "26. Выделение из матрицы подматрицы. Создание матрицы с помощью функции.\n",
    "27. Лямбда-функции: использование при создании матрицы (на примере)."
   ]
  },
  {
   "cell_type": "code",
   "execution_count": 74,
   "metadata": {},
   "outputs": [],
   "source": [
    "# Создадим двумерный массив\n",
    "a = [[1, 2, 3], [3, t, 2], [1, 8, 2]]\n",
    "m = sp.Matrix(a)  # Создадим матрицу на основе массива\n",
    "\n",
    "m[0, :]  # Первая строка\n",
    "m[:, 0]  # Первый столбец\n",
    "m[:3, :3]  # Выделение подматрицы\n",
    "\n",
    "m.row_join(sp.Matrix([1, 2, 3]))  # Добавить столбец в конец (увеличить строку)\n",
    "m.col_join(sp.Matrix(\n",
    "    [1, 2, 3]).transpose())  # Добавить строку в конец (увеличить столбец)\n",
    "\n",
    "m.row_join(m)  # Соединить в строку с другой матрицей\n",
    "m.col_join(m)  # Соединить в столбик с другой матрицей\n",
    "\n",
    "m.row_del(1)  # Удалить вторую строку\n",
    "m.col_del(1)  # Удалить второй столбец"
   ]
  },
  {
   "cell_type": "code",
   "execution_count": 75,
   "metadata": {},
   "outputs": [
    {
     "data": {
      "image/png": "[encoded data removed]",
      "text/latex": [
       "$\\displaystyle -1$"
      ],
      "text/plain": [
       "-1"
      ]
     },
     "execution_count": 75,
     "metadata": {},
     "output_type": "execute_result"
    }
   ],
   "source": [
    "m.transpose()  # Транспонирование матрицы\n",
    "m.det()  # Определитель матрицы"
   ]
  },
  {
   "cell_type": "code",
   "execution_count": 76,
   "metadata": {
    "scrolled": true
   },
   "outputs": [
    {
     "data": {
      "image/png": "[encoded data removed]",
      "text/latex": [
       "$\\displaystyle \\left[\\begin{matrix}1 & -1 & 100\\\\2 & 3 & -5\\\\3 & 4 & 3\\end{matrix}\\right]$"
      ],
      "text/plain": [
       "[1  -1  100]\n",
       "[          ]\n",
       "[2  3   -5 ]\n",
       "[          ]\n",
       "[3  4    3 ]"
      ]
     },
     "execution_count": 76,
     "metadata": {},
     "output_type": "execute_result"
    }
   ],
   "source": [
    "# Виды матриц\n",
    "sp.zeros(2)  # Из нулей\n",
    "sp.ones(2)  # Из единиц\n",
    "sp.eye(2)  # Единичная\n",
    "sp.diag([[1, -1, 100], [2, 3, -5], [3, 4, 3]])  # Диагональная"
   ]
  },
  {
   "cell_type": "code",
   "execution_count": 77,
   "metadata": {},
   "outputs": [
    {
     "data": {
      "image/png": "[encoded data removed]",
      "text/latex": [
       "$\\displaystyle \\left[\\begin{matrix}1 & 0 & 0 & 0 & 0\\\\1 & 2 & 0 & 0 & 0\\\\2 & 1 & 4 & 0 & 0\\end{matrix}\\right]$"
      ],
      "text/plain": [
       "[1  0  0  0  0]\n",
       "[             ]\n",
       "[1  2  0  0  0]\n",
       "[             ]\n",
       "[2  1  4  0  0]"
      ]
     },
     "execution_count": 77,
     "metadata": {},
     "output_type": "execute_result"
    }
   ],
   "source": [
    "def matr(i, j):\n",
    "    if i > j:\n",
    "        return i - j\n",
    "    elif i == j:\n",
    "        return 2**i\n",
    "    return 0\n",
    "\n",
    "\n",
    "m = sp.Matrix(3, 5, matr)  # Задание матрицы с помощью функции\n",
    "m"
   ]
  },
  {
   "cell_type": "code",
   "execution_count": 78,
   "metadata": {},
   "outputs": [
    {
     "data": {
      "image/png": "[encoded data removed]",
      "text/latex": [
       "$\\displaystyle \\left[\\begin{matrix}1 & 0 & 1 & 0 & 1\\\\0 & 1 & 0 & 1 & 0\\\\1 & 0 & 1 & 0 & 1\\end{matrix}\\right]$"
      ],
      "text/plain": [
       "[1  0  1  0  1]\n",
       "[             ]\n",
       "[0  1  0  1  0]\n",
       "[             ]\n",
       "[1  0  1  0  1]"
      ]
     },
     "execution_count": 78,
     "metadata": {},
     "output_type": "execute_result"
    }
   ],
   "source": [
    "m = sp.Matrix(3, 5, lambda i, j: 1 -\n",
    "              (i + j) % 2)  # Задание матрицы с помощью лямбда-функции\n",
    "m"
   ]
  },
  {
   "cell_type": "markdown",
   "metadata": {},
   "source": [
    "---\n",
    "### Вопросы №28, №29, №30, №31, №32\n",
    "28. СЛАУ, linsolve() (три способа представления данных: расширенная матрица, матрица левой части и вектор правой части, список уравнений)\n",
    "29. Формат результата linsolve(), возможные варианты решения СЛАУ (нет решений, есть одно решение, есть бесконечное множество решений).\n",
    "30. Способы выделения отдельного решения из результата linsolve().\n",
    "31. Приведение СЛАУ, заданной в виде уравнений, к матричному виду (linear_eq_to_matrix - аргументы и возвращаемый результат)\n",
    "32. Фундаментальная система решений СЛАУ (ФСР), nullspace - как применить, формат результата."
   ]
  },
  {
   "cell_type": "code",
   "execution_count": 79,
   "metadata": {},
   "outputs": [
    {
     "data": {
      "image/png": "[encoded data removed]",
      "text/latex": [
       "$\\displaystyle \\left\\{\\left( 1, \\  2, \\  3\\right)\\right\\}$"
      ],
      "text/plain": [
       "{(1, 2, 3)}"
      ]
     },
     "execution_count": 79,
     "metadata": {},
     "output_type": "execute_result"
    }
   ],
   "source": [
    "# Первый способ\n",
    "# Расширенная матрица\n",
    "Ab = sp.Matrix([[2, 3, -1, 5], [3, -2, 1, 2], [1, 1, -1, 0]])\n",
    "sp.linsolve(Ab)\n",
    "\n",
    "# Второй способ\n",
    "# Список уравнений\n",
    "x, y, z = sp.symbols('x y z')\n",
    "eq = [2 * x + 3 * y - z - 5, 3 * x - 2 * y + z - 2, x + y - z]\n",
    "sp.linsolve(eq, x, y, z)\n",
    "\n",
    "# Третий способ\n",
    "# Матрица левой части и вектор правой\n",
    "A = sp.Matrix([[2, 3, -1], [3, -2, 1], [1, 1, -1]])\n",
    "b = sp.Matrix([[5], [2], [0]])\n",
    "sp.linsolve((A, b))"
   ]
  },
  {
   "cell_type": "code",
   "execution_count": 80,
   "metadata": {},
   "outputs": [
    {
     "data": {
      "image/png": "[encoded data removed]",
      "text/latex": [
       "$\\displaystyle \\emptyset$"
      ],
      "text/plain": [
       "EmptySet()"
      ]
     },
     "execution_count": 80,
     "metadata": {},
     "output_type": "execute_result"
    }
   ],
   "source": [
    "# Несовместная СЛАУ\n",
    "A = sp.Matrix([[2, 3, -1], [3, -2, 1], [5, 1, 0]])\n",
    "b = sp.Matrix([[5], [2], [0]])\n",
    "sp.linsolve((A, b))"
   ]
  },
  {
   "cell_type": "code",
   "execution_count": 81,
   "metadata": {},
   "outputs": [
    {
     "data": {
      "image/png": "[encoded data removed]",
      "text/latex": [
       "$\\displaystyle \\left\\{\\left( \\frac{16}{13} - \\frac{z}{13}, \\  \\frac{5 z}{13} + \\frac{11}{13}, \\  z\\right)\\right\\}$"
      ],
      "text/plain": [
       "  16   z   5*z   11     \n",
       "{(-- - --, --- + --, z)}\n",
       "  13   13   13   13     "
      ]
     },
     "execution_count": 81,
     "metadata": {},
     "output_type": "execute_result"
    }
   ],
   "source": [
    "# Недоопределённая СЛАУ\n",
    "A = sp.Matrix([[2, 3, -1], [3, -2, 1], [5, 1, 0]])\n",
    "b = sp.Matrix([[5], [2], [7]])\n",
    "sp.linsolve((A, b), x, y, z)"
   ]
  },
  {
   "cell_type": "code",
   "execution_count": 82,
   "metadata": {},
   "outputs": [
    {
     "data": {
      "image/png": "[encoded data removed]",
      "text/latex": [
       "$\\displaystyle \\left\\{\\left( \\frac{15}{13}, \\  \\frac{16}{13}, \\  1\\right)\\right\\}$"
      ],
      "text/plain": [
       "  15  16     \n",
       "{(--, --, 1)}\n",
       "  13  13     "
      ]
     },
     "execution_count": 82,
     "metadata": {},
     "output_type": "execute_result"
    }
   ],
   "source": [
    "# Выделение отдельного решения из результата\n",
    "sp.linsolve((A, b), x, y, z).subs(z, 1)"
   ]
  },
  {
   "cell_type": "code",
   "execution_count": 83,
   "metadata": {},
   "outputs": [
    {
     "data": {
      "image/png": "[encoded data removed]",
      "text/latex": [
       "$\\displaystyle \\left( \\left[\\begin{matrix}2 & 3 & -1\\\\3 & -2 & 1\\\\1 & 1 & -1\\end{matrix}\\right], \\  \\left[\\begin{matrix}5\\\\2\\\\0\\end{matrix}\\right]\\right)$"
      ],
      "text/plain": [
       " [2  3   -1]  [5] \n",
       " [         ]  [ ] \n",
       "([3  -2  1 ], [2])\n",
       " [         ]  [ ] \n",
       " [1  1   -1]  [0] "
      ]
     },
     "execution_count": 83,
     "metadata": {},
     "output_type": "execute_result"
    }
   ],
   "source": [
    "# Приведение СЛАУ, заданной в виде уравнений, к матричному виду\n",
    "# Аргументы — массив уравнений, массив переменных\n",
    "# Возвращаемый результат: кортеж с двумя матрицами (вторая матрица — вектор правой части)\n",
    "sp.linear_eq_to_matrix(eq, (x, y, z))"
   ]
  },
  {
   "cell_type": "code",
   "execution_count": 84,
   "metadata": {},
   "outputs": [
    {
     "data": {
      "image/png": "[encoded data removed]",
      "text/latex": [
       "$\\displaystyle \\left[\\begin{matrix}-1\\\\-2\\\\-3\\\\1\\end{matrix}\\right]$"
      ],
      "text/plain": [
       "[-1]\n",
       "[  ]\n",
       "[-2]\n",
       "[  ]\n",
       "[-3]\n",
       "[  ]\n",
       "[1 ]"
      ]
     },
     "execution_count": 84,
     "metadata": {},
     "output_type": "execute_result"
    }
   ],
   "source": [
    "# ФСР\n",
    "# Применяем к любому объекту матрицы, получаем массив вектор-столбцов\n",
    "Ab.nullspace()[0]"
   ]
  },
  {
   "cell_type": "markdown",
   "metadata": {},
   "source": [
    "---\n",
    "### Вопросы №33, №34\n",
    "33. Ранг матрицы, линейно независимые столбцы матрицы (columnspace)\n",
    "34. Приведение матрицы к ступенчатому виду (rref)"
   ]
  },
  {
   "cell_type": "code",
   "execution_count": 85,
   "metadata": {},
   "outputs": [
    {
     "data": {
      "image/png": "[encoded data removed]",
      "text/latex": [
       "$\\displaystyle 3$"
      ],
      "text/plain": [
       "3"
      ]
     },
     "execution_count": 85,
     "metadata": {},
     "output_type": "execute_result"
    }
   ],
   "source": [
    "Ab = sp.Matrix([[2, 3, -1, 5], [3, -2, 1, 2], [1, 1, -1, 0], [2, 2, -2, 0]])\n",
    "Ab.rank()  # Ранг матрицы"
   ]
  },
  {
   "cell_type": "code",
   "execution_count": 86,
   "metadata": {},
   "outputs": [
    {
     "data": {
      "image/png": "[encoded data removed]",
      "text/latex": [
       "$\\displaystyle \\left[ \\left[\\begin{matrix}2\\\\3\\\\1\\\\2\\end{matrix}\\right], \\  \\left[\\begin{matrix}3\\\\-2\\\\1\\\\2\\end{matrix}\\right], \\  \\left[\\begin{matrix}-1\\\\1\\\\-1\\\\-2\\end{matrix}\\right]\\right]$"
      ],
      "text/plain": [
       " [2]  [3 ]  [-1] \n",
       " [ ]  [  ]  [  ] \n",
       " [3]  [-2]  [1 ] \n",
       "[[ ], [  ], [  ]]\n",
       " [1]  [1 ]  [-1] \n",
       " [ ]  [  ]  [  ] \n",
       " [2]  [2 ]  [-2] "
      ]
     },
     "execution_count": 86,
     "metadata": {},
     "output_type": "execute_result"
    }
   ],
   "source": [
    "Ab.columnspace()  # Л.Н.З. столбцы"
   ]
  },
  {
   "cell_type": "code",
   "execution_count": 87,
   "metadata": {},
   "outputs": [
    {
     "data": {
      "image/png": "[encoded data removed]",
      "text/latex": [
       "$\\displaystyle \\left( \\left[\\begin{matrix}1 & 0 & 0 & 1\\\\0 & 1 & 0 & 2\\\\0 & 0 & 1 & 3\\\\0 & 0 & 0 & 0\\end{matrix}\\right], \\  \\left( 0, \\  1, \\  2\\right)\\right)$"
      ],
      "text/plain": [
       " [1  0  0  1]            \n",
       " [          ]            \n",
       " [0  1  0  2]            \n",
       "([          ], (0, 1, 2))\n",
       " [0  0  1  3]            \n",
       " [          ]            \n",
       " [0  0  0  0]            "
      ]
     },
     "execution_count": 87,
     "metadata": {},
     "output_type": "execute_result"
    }
   ],
   "source": [
    "Ab.rref()  # Приведение матрицы к каноническому виду"
   ]
  },
  {
   "cell_type": "markdown",
   "metadata": {},
   "source": [
    "---\n",
    "### Вопросы №35, 36, 37\n",
    "35. Уравнение плоскости, матричный вариант, выражение expression, уравнение equation\n",
    "36. Параметрические уравнения прямой в пространстве, варианты записи в Python.\n",
    "37. Поиск точки пересечения прямой и плоскости (двух прямых, плоскостей) с помощью решения СЛАУ."
   ]
  },
  {
   "cell_type": "code",
   "execution_count": 88,
   "metadata": {},
   "outputs": [
    {
     "data": {
      "image/png": "[encoded data removed]",
      "text/latex": [
       "$\\displaystyle 3 x + 5 y - 2 z + 5 = 0$"
      ],
      "text/plain": [
       "3*x + 5*y - 2*z + 5 = 0"
      ]
     },
     "execution_count": 88,
     "metadata": {},
     "output_type": "execute_result"
    }
   ],
   "source": [
    "# Плоскость имеет уравнение вида Ax + By + Cz + D = 0.\n",
    "# Уравнение плоскости можно задать так:\n",
    "sp.Eq(3 * x + 5 * y - 2 * z + 5, 0)"
   ]
  },
  {
   "cell_type": "code",
   "execution_count": 89,
   "metadata": {},
   "outputs": [
    {
     "data": {
      "image/png": "[encoded data removed]",
      "text/latex": [
       "$\\displaystyle \\left[\\begin{matrix}x = 3 t + 1\\\\y = 2 t - 2\\\\z = - t\\end{matrix}\\right]$"
      ],
      "text/plain": [
       "[x = 3*t + 1]\n",
       "[           ]\n",
       "[y = 2*t - 2]\n",
       "[           ]\n",
       "[  z = -t   ]"
      ]
     },
     "execution_count": 89,
     "metadata": {},
     "output_type": "execute_result"
    }
   ],
   "source": [
    "# Параметрическое уравнение прямой можно задать так:\n",
    "sp.Matrix([sp.Eq(x, 1 + 3 * t), sp.Eq(y, -2 + 2 * t), sp.Eq(z, -t)])"
   ]
  },
  {
   "cell_type": "code",
   "execution_count": 90,
   "metadata": {},
   "outputs": [
    {
     "data": {
      "image/png": "[encoded data removed]",
      "text/latex": [
       "$\\displaystyle \\left\\{\\left( \\frac{9}{7}, \\  - \\frac{38}{21}, \\  - \\frac{2}{21}, \\  \\frac{2}{21}\\right)\\right\\}$"
      ],
      "text/plain": [
       "       -38                \n",
       "{(9/7, ----, -2/21, 2/21)}\n",
       "        21                "
      ]
     },
     "execution_count": 90,
     "metadata": {},
     "output_type": "execute_result"
    }
   ],
   "source": [
    "x, y, z, t = sp.symbols('x y z t')\n",
    "SLAE = [\n",
    "    sp.Eq(3 * x + 5 * y - 2 * z + 5, 0),  # Это уравнение плоскости\n",
    "    sp.Eq(x, 1 + 3 * t),  # Далее три уравнения — система прямой\n",
    "    sp.Eq(y, -2 + 2 * t),\n",
    "    sp.Eq(z, -t)\n",
    "]\n",
    "res = sp.linsolve(\n",
    "    SLAE, x, y, z,\n",
    "    t)  # Решаем систему уравнений для плоскости и прямой — получаем точку\n",
    "res"
   ]
  },
  {
   "cell_type": "markdown",
   "metadata": {},
   "source": [
    "---\n",
    "### Вопросы №38, 39\n",
    "38. Скалярное произведение векторов. Угол между векторами.\n",
    "39. Угол между прямыми, плоскостями, прямой и плоскостью."
   ]
  },
  {
   "cell_type": "code",
   "execution_count": 91,
   "metadata": {},
   "outputs": [],
   "source": [
    "# Задание векторов:\n",
    "v1 = sp.Matrix([-1, 2, 5])\n",
    "v2 = sp.Matrix([-5, -4, 2])"
   ]
  },
  {
   "cell_type": "code",
   "execution_count": 92,
   "metadata": {},
   "outputs": [
    {
     "data": {
      "image/png": "[encoded data removed]",
      "text/latex": [
       "$\\displaystyle 7$"
      ],
      "text/plain": [
       "7"
      ]
     },
     "execution_count": 92,
     "metadata": {},
     "output_type": "execute_result"
    }
   ],
   "source": [
    "# Скалярное произведение:\n",
    "v1.dot(v2)"
   ]
  },
  {
   "cell_type": "code",
   "execution_count": 93,
   "metadata": {},
   "outputs": [
    {
     "data": {
      "image/png": "[encoded data removed]",
      "text/latex": [
       "$\\displaystyle \\operatorname{acos}{\\left(\\frac{7 \\sqrt{6}}{90} \\right)}$"
      ],
      "text/plain": [
       "    /    ___\\\n",
       "    |7*\\/ 6 |\n",
       "acos|-------|\n",
       "    \\   90  /"
      ]
     },
     "execution_count": 93,
     "metadata": {},
     "output_type": "execute_result"
    }
   ],
   "source": [
    "# Угол между векторами:\n",
    "sp.acos(v1.dot(v2) / sp.sqrt((v1.dot(v1)) * (v2.dot(v2))))"
   ]
  },
  {
   "cell_type": "code",
   "execution_count": 95,
   "metadata": {},
   "outputs": [
    {
     "data": {
      "image/png": "[encoded data removed]",
      "text/latex": [
       "$\\displaystyle \\left( \\operatorname{acos}{\\left(- \\frac{3 \\sqrt{2}}{10} \\right)}, \\  \\operatorname{acos}{\\left(\\frac{3 \\sqrt{2}}{10} \\right)}\\right)$"
      ],
      "text/plain": [
       "     /     ___ \\      /    ___\\ \n",
       "     |-3*\\/ 2  |      |3*\\/ 2 | \n",
       "(acos|---------|, acos|-------|)\n",
       "     \\    10   /      \\   10  / "
      ]
     },
     "execution_count": 95,
     "metadata": {},
     "output_type": "execute_result"
    }
   ],
   "source": [
    "# Задание точек:\n",
    "A = sp.Point(-1, 2, -4)\n",
    "B = sp.Point(2, -2, 1)\n",
    "C = sp.Point(5, 3, -6)\n",
    "D = sp.Point(0, 3, -6)\n",
    "\n",
    "# Звдание прямых по точкам:\n",
    "AB = sp.Line(A, B)\n",
    "CD = sp.Line(C, D)\n",
    "\n",
    "# Между другими объектами угол ищется с помощью такого же метода.\n",
    "# Угол между прямыми:\n",
    "AB.angle_between(CD), AB.smallest_angle_between(CD)"
   ]
  },
  {
   "cell_type": "markdown",
   "metadata": {},
   "source": [
    "---\n",
    "40. Модуль Geometry: точки, прямые, лучи и сегменты. Проверка принадлежности точек одной и той же прямой (или плоскости)\n",
    "41. Модуль Geometry: плоскость, атрибуты и методы плоскости (уравнение, вектор нормали)\n",
    "42. Модуль Geometry: плоскость, перпендикулярная (параллельная) заданной прямой, заданной плоскости.\n",
    "43. Модуль Geometry: прямая, ее атрибуты и методы.\n",
    "44. Модуль Geometry: прямая, перпендикулярная (параллельная) заданной плоскости.\n",
    "45. Модуль Geometry: многоугольники (кроме правильных) на плоскости, их атрибуты и методы\n",
    "46. Модуль Geometry: правильные многоугольники на плоскости, их атрибуты и методы\n",
    "47. Модуль Geometry: преобразования многоугольников (поворот, сжатие).\n",
    "48. Особенности пересечения многоугольников.\n",
    "49. Использование проектирования и пересечения для построения тени от многоугольника.\n",
    "50. Изображение линейных геометрических объектов на графике. Изображение плоских многоугольников в виде контура и с заливкой.\n",
    "51. Модуль Geometry: эллипс, его атрибуты и методы\n",
    "52. Модуль Geometry: построение параллельных и перпендикулярных плоскостей.\n",
    "53. Модуль Geometry: определение, пересекаются ли несколько плоскостей по общей прямой, проходят ли несколько прямых через общую точку. Определение эквивалентности геометрических объектов (equals)\n",
    "54. Модуль Geometry: пересечение геометрических объектов\n",
    "55. Модуль Geometry: проекции точек, отрезков и прямых на плоскость.\n",
    "56. Модуль Geometry: расстояние от точки до плоскости, от прямой до плоскости, расстояние между плоскостями.\n",
    "57. Модуль Geometry: проекции точек на прямую в пространстве и на плоскости\n",
    "58. Модуль Geometry: выбор произвольной точки на прямой и на плоскости, выбор случайной точки на прямой и на плоскости\n",
    "59. Модуль Geometry: эллипс, атрибуты и методы.\n",
    "60. Линейные операторы: матрица оператора поворота. Матрица оператора в новом базисе.\n",
    "61. Собственные числа и собственные векторы линейного оператора, как их найти средствами Sympy, формат результата eigenvects, выделение отдельных векторов.\n",
    "62. Матрица линейного оператора в базисе из собственных векторов ( и формула перехода к новому базису).\n",
    "63. Квадратичная форма, матрица квадратичной формы, канонический вид квадратичной формы\n",
    "64. Два способа приведения квадратичной формы к каноническому виду. Закон инерции.\n",
    "65. Квадратичная форма в базисе из нормированных собственных векторов, формула перехода.\n",
    "66. Кривые второго порядка (КВП), уравнение КВП в обычном и матричном видею\n",
    "67. Приведение уравнения КВП к каноническом виду. Классификация КВП.\n",
    "68. Каноническое уравнение эллипса, гиперболы, параболы, геометрический смысл параметров канонического уравнения.\n",
    "69. Поверхности второго порядка (ПВП), уравнение ПВП в обычном и матричном виде (два вида матричных уравнений ПВП)\n",
    "70. Приведение уравнения ПВП к каноническом виду.\n",
    "71. Классификация ПВП (15 видов перечислить по группам). Пример канонического уравнения одной ПВП.\n",
    "72. Каноническое уравнение эллипсоида, гиперболоидов (одно- и двуполостного), конуса, параболоидов, цилиндров.\n",
    "73. Изображение ПВП на графике."
   ]
  },
  {
   "cell_type": "markdown",
   "metadata": {},
   "source": [
    "## Вторая часть вопросов"
   ]
  },
  {
   "cell_type": "markdown",
   "metadata": {},
   "source": [
    "..."
   ]
  }
 ],
 "metadata": {
  "kernelspec": {
   "display_name": "Python 3",
   "language": "python",
   "name": "python3"
  },
  "language_info": {
   "codemirror_mode": {
    "name": "ipython",
    "version": 3
   },
   "file_extension": ".py",
   "mimetype": "text/x-python",
   "name": "python",
   "nbconvert_exporter": "python",
   "pygments_lexer": "ipython3",
   "version": "3.7.4"
  }
 },
 "nbformat": 4,
 "nbformat_minor": 2
}
